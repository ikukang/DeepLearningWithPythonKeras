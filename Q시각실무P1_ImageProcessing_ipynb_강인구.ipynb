{
  "nbformat": 4,
  "nbformat_minor": 0,
  "metadata": {
    "colab": {
      "name": "Q시각실무P1_ImageProcessing.ipynb_강인구",
      "provenance": [],
      "private_outputs": true,
      "collapsed_sections": [],
      "toc_visible": true,
      "include_colab_link": true
    },
    "kernelspec": {
      "name": "python3",
      "display_name": "Python 3"
    }
  },
  "cells": [
    {
      "cell_type": "markdown",
      "metadata": {
        "id": "view-in-github",
        "colab_type": "text"
      },
      "source": [
        "<a href=\"https://colab.research.google.com/github/ikukang/DeepLearningWithPythonKeras/blob/master/Q%EC%8B%9C%EA%B0%81%EC%8B%A4%EB%AC%B4P1_ImageProcessing_ipynb_%EA%B0%95%EC%9D%B8%EA%B5%AC.ipynb\" target=\"_parent\"><img src=\"https://colab.research.google.com/assets/colab-badge.svg\" alt=\"Open In Colab\"/></a>"
      ]
    },
    {
      "cell_type": "markdown",
      "metadata": {
        "id": "C3QQ-Bx_MMOQ",
        "colab_type": "text"
      },
      "source": [
        "# Computer Vision"
      ]
    },
    {
      "cell_type": "markdown",
      "metadata": {
        "id": "3D-Zghb4L2__",
        "colab_type": "text"
      },
      "source": [
        "[OpenCV-Python Tutorials](https://opencv-python-tutroals.readthedocs.io/en/latest/py_tutorials/py_tutorials.html)\n",
        "\n",
        "[OpenCV-Python Tutorials(한글)](https://opencv-python.readthedocs.io/en/latest/doc/08.imageProcessing/imageProcessing.html)"
      ]
    },
    {
      "cell_type": "markdown",
      "metadata": {
        "id": "fS2SfqtW2pli",
        "colab_type": "text"
      },
      "source": [
        "## Computer Vision의 방법?\n",
        "\n",
        "\n",
        "\n",
        "```\n",
        ">>> print(computer_vision == conv_nets)\n",
        "False\n",
        "```\n",
        "전통적인 Computer Vision과 딥 러닝 기반의 Vision문제 해결 방식은 접근방식부터 큰 차이가 있어 보입니다.\n",
        "\n",
        "그렇다고 해서 많은 매체에서 이야기되는 것처럼 요술방망이같은 알고리즘이 아니라는 것 또한 딥러닝 실무 과정을 통해 확인하셨을 겁니다.\n",
        "<br>\n",
        "<br>\n",
        "\n",
        "블랙박스 알고리즘을 다루는 것 같은 시각**지능** 실무 수업에서 Computer Vision을 돌아보는 이유는 무엇일까요?\n",
        "<br>\n",
        "이는 역설적으로 블랙박스 알고리즘을 다루기 때문입니다.\n",
        "\n",
        "우리가 배웠던 것처럼 딥 러닝 모델은 과적합되기 정말 쉬운 구조입니다.\n",
        "XAI가 가열차게 연구되고 있지만, 이 분야가 연구되고 있는 이유 또한 딥 러닝 모델이 무엇을 기준으로 학습하고 있는지 대부분의 경우 알 길이 없기 때문입니다.\n",
        "\n",
        "따라서 딥 러닝 모델이 우리가 원하는 task를 잘 수행할 수 있도록 input 데이터를 잘 만져주고 아키텍처를 잘 핸들링 해주어야 합니다.\n",
        "\n",
        "이를 위해 이번 실습에서는 Python 기반의 이미지 변형, 특징추출 방식 몇 가지를 간략하게 실습을 통해 소개 드리려 합니다."
      ]
    },
    {
      "cell_type": "markdown",
      "metadata": {
        "id": "JOdGrvu22uzN",
        "colab_type": "text"
      },
      "source": [
        "## Numpy 튜토리얼과 안내\n",
        "\n",
        "이미지는 **2D 행렬**(grayscale) 또는 **3D 텐서**(RGB 채널)로 표현됩니다. [OpenCV](https://opencv.org/)라는 가장 유명한 Computer Vision 라이브러리는 이미지에 대한 강력한 편집 기능을 제공하는데, 파이썬의 OpenCV는 사실 C/C++ 라이브러리 구현의 **Wrapper**이기에 매우 빠르게 동작합니다.\n",
        "\n",
        "추가적으로 OpenCV에서 다루는 모든 이미지는 [Numpy](http://www.numpy.org/) 배열이며, 이는 행렬이나 텐서와 같은 다차원 객체를 다루기에 굉장히 좋은 방법입니다.\n",
        "\n",
        "OpenCV처럼 Numpy 라이브러리는 Python 명령을 통해 C 언어를 구동시키므로 매우 빠릅니다.\n",
        "\n",
        "Computer Vision과 관련된 작업을 할 때 이러한 툴들을 통해 할 수 있는 것과 할 수 없는 것을 파악하는 것은 매우 중요합니다."
      ]
    },
    {
      "cell_type": "code",
      "metadata": {
        "id": "c8XixvF71d7w",
        "colab_type": "code",
        "colab": {}
      },
      "source": [
        "%matplotlib inline\n",
        "import cv2\n",
        "import numpy as np\n",
        "from matplotlib import pyplot as plt"
      ],
      "execution_count": 0,
      "outputs": []
    },
    {
      "cell_type": "code",
      "metadata": {
        "id": "Glm7XfHAdRKt",
        "colab_type": "code",
        "colab": {}
      },
      "source": [
        "!df -h"
      ],
      "execution_count": 0,
      "outputs": []
    },
    {
      "cell_type": "code",
      "metadata": {
        "id": "UnHyfX1wcy3t",
        "colab_type": "code",
        "colab": {}
      },
      "source": [
        "!cat /proc/meminfo"
      ],
      "execution_count": 0,
      "outputs": []
    },
    {
      "cell_type": "code",
      "metadata": {
        "id": "3J5dLgPKdL1x",
        "colab_type": "code",
        "colab": {}
      },
      "source": [
        "!cat /proc/cpuinfo"
      ],
      "execution_count": 0,
      "outputs": []
    },
    {
      "cell_type": "code",
      "metadata": {
        "id": "GdUiOzSX1rsI",
        "colab_type": "code",
        "colab": {}
      },
      "source": [
        "# np는 numpy의 일반적인 약자\n",
        "import numpy as np\n",
        "\n",
        "# 리스트로부터 numpy array를 생성\n",
        "\n",
        "boring_list = [1, 2, 3]\n",
        "fun_array = np.array(boring_list) # np.array(a_list)는 리스트를 numpy array로 캐스팅합니다.\n",
        "\n",
        "# Array의 추가를 위한 다양한 함수들이 존재합니다.\n",
        "ones = np.ones(3)\n",
        "result = fun_array + ones + np.zeros(3)\n",
        "\n",
        "print(result)\n"
      ],
      "execution_count": 0,
      "outputs": []
    },
    {
      "cell_type": "code",
      "metadata": {
        "id": "pccajCGM6Mqz",
        "colab_type": "code",
        "colab": {}
      },
      "source": [
        "# 행렬은 어떻게 변환할 수 있을까요?\n",
        "boring_mtx = [[1, 2], [3, 4]]\n",
        "ones = np.ones((2, 2)) # (2, 2) 가 원하는 행렬의 모양을 나타냅니다.\n",
        "identity = np.eye(2) # 단위 행렬 만들기\n",
        "\n",
        "# Numpy will cast your lists into arrays if need be\n",
        "try:\n",
        "    result = boring_mtx + identity\n",
        "    print(result)\n",
        "except:\n",
        "    print(\"Can I do this?\")\n"
      ],
      "execution_count": 0,
      "outputs": []
    },
    {
      "cell_type": "code",
      "metadata": {
        "id": "20xQSxmd6eY9",
        "colab_type": "code",
        "colab": {}
      },
      "source": [
        "# 랜덤 샘플링도 가능합니다.\n",
        "rando_mtx = np.random.random((100, 100))\n",
        "\n",
        "# 빌트인 된 다양한 함수 사용\n",
        "print(np.linalg.norm(rando_mtx))"
      ],
      "execution_count": 0,
      "outputs": []
    },
    {
      "cell_type": "code",
      "metadata": {
        "id": "J-A9EROl6mt0",
        "colab_type": "code",
        "colab": {}
      },
      "source": [
        "# 파라미터로 다양한 조건을 부여할 수 있습니다.\n",
        "print(np.linalg.norm(rando_mtx, axis=0))\n",
        "print(np.linalg.norm(rando_mtx, ord=2))\n"
      ],
      "execution_count": 0,
      "outputs": []
    },
    {
      "cell_type": "code",
      "metadata": {
        "id": "H3WO3ok060_Q",
        "colab_type": "code",
        "colab": {}
      },
      "source": [
        "# 생각한 그대로 행렬 연산이 가능하게 합니다.\n",
        "rando_mtx = np.eye(rando_mtx.shape[0]) * rando_mtx\n",
        "\n",
        "\n",
        "# Broadcasting이라는 강력한 특징이 있습니다.\n",
        "rando_mtx += 1 # 스칼라 합 연산이 가능하며, 이는 매우 강력합니다.\n",
        "\n",
        "mtx1 = np.random.random((8, 1, 7, 1))\n",
        "mtx2 = np.random.random((8, 2, 1, 9))\n",
        "\n",
        "# 에러가 없고.\n",
        "res = mtx1 * mtx2 \n",
        "\n",
        "# 위와 마찬가지의 연산을 합니다.\n",
        "res2 = mtx1.dot(mtx2)\n",
        "\n",
        "print(np.array_equal(res, res2), res.shape, res2.shape)\n",
        "\n",
        "# Numpy Documentary를 꼭 읽어보시길 추천드립니다."
      ],
      "execution_count": 0,
      "outputs": []
    },
    {
      "cell_type": "markdown",
      "metadata": {
        "id": "gOi0NQr-3yKO",
        "colab_type": "text"
      },
      "source": [
        "## OpenCV"
      ]
    },
    {
      "cell_type": "code",
      "metadata": {
        "id": "R0PzwVD05Pbx",
        "colab_type": "code",
        "colab": {}
      },
      "source": [
        "# 예제 이미지 다운로드\n",
        "!wget https://upload.wikimedia.org/wikipedia/ko/2/24/Lenna.png -O 'lena.jpg'"
      ],
      "execution_count": 0,
      "outputs": []
    },
    {
      "cell_type": "code",
      "metadata": {
        "id": "0tOO1Kmg3ywV",
        "colab_type": "code",
        "colab": {}
      },
      "source": [
        "%matplotlib inline\n",
        "from matplotlib import pyplot as plt\n",
        "import cv2\n",
        "\n",
        "# Load in Grayscale\n",
        "img = cv2.imread('./lena.jpg', 0)\n",
        "\n",
        "# The underlying representation is a numpy array!\n",
        "print(type(img))\n",
        "\n",
        "plt.imshow(img)\n",
        "plt.show()\n",
        "\n",
        "img = cv2.imread('./lena.jpg')\n",
        "\n",
        "plt.imshow(img)\n",
        "plt.show()\n",
        "\n",
        "# This would work normally, but it will crash the colab kernel, so don't.\n",
        "# cv2.imshow('Image', img)\n"
      ],
      "execution_count": 0,
      "outputs": []
    },
    {
      "cell_type": "markdown",
      "metadata": {
        "id": "elJGqSbR33lX",
        "colab_type": "text"
      },
      "source": [
        "위 이미지의 색이 이상한 것을 알 수 있는데요,\n",
        "\n",
        "이는 OpenCV는 RGB가 아니라 BGR을 사용하기 때문입니다.\n",
        "Colab과 Jupyter Notebook 등에서는 OpenCV의 imshow를 사용할 수 없기에 matplotlib를 사용합니다."
      ]
    },
    {
      "cell_type": "code",
      "metadata": {
        "id": "6mpRLnu436hq",
        "colab_type": "code",
        "colab": {}
      },
      "source": [
        "imgrgb = cv2.cvtColor(img, cv2.COLOR_BGR2RGB)\n",
        "\n",
        "plt.imshow(imgrgb)\n",
        "plt.show()\n",
        "\n",
        "# Or, use fun numpy functions / indexing!\n",
        "imgrgb = img[:,:,::-1]\n",
        "plt.imshow(imgrgb)\n",
        "plt.show()\n"
      ],
      "execution_count": 0,
      "outputs": []
    },
    {
      "cell_type": "markdown",
      "metadata": {
        "id": "4R0m7lZKLJRO",
        "colab_type": "text"
      },
      "source": [
        "### 이미지 다루기"
      ]
    },
    {
      "cell_type": "markdown",
      "metadata": {
        "id": "v2xuGYGbPpL4",
        "colab_type": "text"
      },
      "source": [
        "#### 이미지 열기"
      ]
    },
    {
      "cell_type": "code",
      "metadata": {
        "id": "5NA3tsOl7_MR",
        "colab_type": "code",
        "colab": {}
      },
      "source": [
        "# 직접 lena.jpg 이미지를 열어보세요.\n",
        "\n",
        "img = cv2.imread('./lena.jpg')"
      ],
      "execution_count": 0,
      "outputs": []
    },
    {
      "cell_type": "markdown",
      "metadata": {
        "id": "xvTmzIUqPpBv",
        "colab_type": "text"
      },
      "source": [
        "#### 이미지 표시하기"
      ]
    },
    {
      "cell_type": "code",
      "metadata": {
        "id": "qvp6ptnc8B_b",
        "colab_type": "code",
        "colab": {}
      },
      "source": [
        "# 직접 lena.jpg를 BGR에서 RGB로 변환하여 matplotlib를 통해 노트북에 표시해보세요.\n",
        "imgrgb = img[:,:,::-1]\n",
        "plt.imshow(imgrgb)\n",
        "plt.show()"
      ],
      "execution_count": 0,
      "outputs": []
    },
    {
      "cell_type": "markdown",
      "metadata": {
        "id": "kgSQ9QOSPo2F",
        "colab_type": "text"
      },
      "source": [
        "#### 이미지 저장하기"
      ]
    },
    {
      "cell_type": "code",
      "metadata": {
        "id": "GP1E--sA8LZp",
        "colab_type": "code",
        "colab": {}
      },
      "source": [
        "# cv2.imwrite를 사용하여 이미지를 lena_saved.jpg로 저장해보세요.\n",
        "# 아래 셀을 수행하여 잘 저장되었는지 확인합니다.\n",
        "cv2.imwrite('lena_saved.jpg', imgrgb)"
      ],
      "execution_count": 0,
      "outputs": []
    },
    {
      "cell_type": "code",
      "metadata": {
        "id": "G8Z8aUX08glU",
        "colab_type": "code",
        "colab": {}
      },
      "source": [
        "!ls"
      ],
      "execution_count": 0,
      "outputs": []
    },
    {
      "cell_type": "markdown",
      "metadata": {
        "id": "KmcvXIzoLCYo",
        "colab_type": "text"
      },
      "source": [
        "### 도형 그리기"
      ]
    },
    {
      "cell_type": "markdown",
      "metadata": {
        "id": "Ko3BHiZfT3Eg",
        "colab_type": "text"
      },
      "source": [
        "#### 라인 그리기"
      ]
    },
    {
      "cell_type": "code",
      "metadata": {
        "id": "_qepu1fdIUkU",
        "colab_type": "code",
        "colab": {}
      },
      "source": [
        "#모두 0으로 되어 있는 빈 Canvas(검정색)\n",
        "canvas = np.zeros((512, 512, 3), np.uint8)\n",
        "canvas = cv2.line(canvas, (0, 0), (511, 511), (255, 0, 0), 5)\n",
        "\n",
        "plt.imshow(canvas)"
      ],
      "execution_count": 0,
      "outputs": []
    },
    {
      "cell_type": "code",
      "metadata": {
        "id": "Ma4Su5dfJa8Z",
        "colab_type": "code",
        "colab": {}
      },
      "source": [
        "# 초록색으로 \"Z\"를 그려보세요.\n",
        "canvas = np.zeros((512, 512, 3), np.uint8)\n",
        "canvas = cv2.line(canvas, (0, 0), (511, 0), (0, 255, 0), 10)\n",
        "canvas = cv2.line(canvas, (511, 0), (0, 511), (0, 255, 0), 10)\n",
        "canvas = cv2.line(canvas, (0, 511), (511, 511), (0, 255, 0), 10)\n",
        "plt.imshow(canvas)"
      ],
      "execution_count": 0,
      "outputs": []
    },
    {
      "cell_type": "markdown",
      "metadata": {
        "id": "XkayhIyVT27_",
        "colab_type": "text"
      },
      "source": [
        "#### 원 그리기"
      ]
    },
    {
      "cell_type": "code",
      "metadata": {
        "id": "6K8xD5qZIU5j",
        "colab_type": "code",
        "colab": {}
      },
      "source": [
        "# 모두 0으로 되어 있는 빈 Canvas(검정색)\n",
        "canvas = np.zeros((512, 512, 3), np.uint8)\n",
        "canvas = cv2.circle(canvas, (447,63), 63, (0,0,255), -1)\n",
        "canvas = cv2.ellipse(canvas, (256,256), (100,50), 0, 0, 180, 255, -1)\n",
        "\n",
        "plt.imshow(canvas)"
      ],
      "execution_count": 0,
      "outputs": []
    },
    {
      "cell_type": "code",
      "metadata": {
        "id": "z-xAkadTKBUc",
        "colab_type": "code",
        "colab": {}
      },
      "source": [
        "# 곰돌이의 얼굴, 귀, 코를 그려보세요."
      ],
      "execution_count": 0,
      "outputs": []
    },
    {
      "cell_type": "markdown",
      "metadata": {
        "id": "0staQbYET2us",
        "colab_type": "text"
      },
      "source": [
        "#### 직사각형 그리기"
      ]
    },
    {
      "cell_type": "code",
      "metadata": {
        "id": "ah5VAmqnIVYB",
        "colab_type": "code",
        "colab": {}
      },
      "source": [
        "#모두 0으로 되어 있는 빈 Canvas(검정색)\n",
        "canvas = np.zeros((512, 512, 3), np.uint8)\n",
        "canvas = cv2.rectangle(canvas, (384, 0), (510, 128), (0,255,0), 3)\n",
        "\n",
        "plt.imshow(canvas)"
      ],
      "execution_count": 0,
      "outputs": []
    },
    {
      "cell_type": "markdown",
      "metadata": {
        "id": "pPMhGr0-T2ml",
        "colab_type": "text"
      },
      "source": [
        "#### 글 쓰기"
      ]
    },
    {
      "cell_type": "code",
      "metadata": {
        "id": "LOE3E9kPIWFy",
        "colab_type": "code",
        "colab": {}
      },
      "source": [
        "#모두 0으로 되어 있는 빈 Canvas(검정색)\n",
        "canvas = np.zeros((512, 512, 3), np.uint8)\n",
        "canvas = cv2.putText(canvas, 'OpenCV', (10,500), cv2.FONT_HERSHEY_SIMPLEX, 4, (255,255,255), 2)\n",
        "\n",
        "plt.imshow(canvas)"
      ],
      "execution_count": 0,
      "outputs": []
    },
    {
      "cell_type": "code",
      "metadata": {
        "id": "e41FErYSHT71",
        "colab_type": "code",
        "colab": {}
      },
      "source": [
        "# 인터넷에서 아무 인물 사진을 받아,\n",
        "# 안경을 씌우고,\n",
        "# 밑에 이름을 적어주세요.\n",
        "\n",
        "img = cv2.imread('./shin.jpg')\n",
        "# imgrgb = img[:,:,::-1]\n",
        "\n",
        "imgrgb = cv2.cvtColor(img, cv2.COLOR_BGR2RGB)\n",
        "imgrgb = cv2.circle(imgrgb,(447,63), 63, (0,0,255), 3)\n",
        "imgrgb = cv2.putText(imgrgb, 'OpenCV', (10,500), cv2.FONT_HERSHEY_SIMPLEX, 4, (0,0,0), 2)\n",
        "\n",
        "plt.imshow(imgrgb)"
      ],
      "execution_count": 0,
      "outputs": []
    },
    {
      "cell_type": "markdown",
      "metadata": {
        "id": "euVTsL2oLOLG",
        "colab_type": "text"
      },
      "source": [
        "### 이미지 연산"
      ]
    },
    {
      "cell_type": "code",
      "metadata": {
        "id": "5FNXdlA-Ogy2",
        "colab_type": "code",
        "colab": {}
      },
      "source": [
        "!wget https://opencv-python.readthedocs.io/en/latest/_images/flower1.jpg -O flower1.jpg\n",
        "!wget https://opencv-python.readthedocs.io/en/latest/_images/flower2.jpg -O flower2.jpg"
      ],
      "execution_count": 0,
      "outputs": []
    },
    {
      "cell_type": "code",
      "metadata": {
        "id": "Hbn_sODgPAa3",
        "colab_type": "code",
        "colab": {}
      },
      "source": [
        "img1 = cv2.imread('flower1.jpg')\n",
        "img1 = cv2.cvtColor(img1, cv2.COLOR_BGR2RGB)\n",
        "img2 = cv2.imread('flower2.jpg')\n",
        "img2 = cv2.cvtColor(img2, cv2.COLOR_BGR2RGB)"
      ],
      "execution_count": 0,
      "outputs": []
    },
    {
      "cell_type": "markdown",
      "metadata": {
        "id": "ibQzZxoqULfL",
        "colab_type": "text"
      },
      "source": [
        "#### 이미지 더하기"
      ]
    },
    {
      "cell_type": "markdown",
      "metadata": {
        "id": "vy7LvzF6O1qU",
        "colab_type": "text"
      },
      "source": [
        "Saturation연산은 한계값을 정하고 그 값을 벗어나는 경우는 모두 특정 값으로 계산하는 방식 입니다.\n",
        "\n",
        "이미지에서는 0이하는 모두 0, 255이상은 모두 255로 표현하는 것입니다.\n",
        "\n",
        "modulo연산은 a와 b는 n으로 나눈 나머지 값이 같다라는 의미입니다.\n",
        "\n",
        "시계를 예로 들면 2와 14는 12로 나눈 나머지가 2로 동일합니다.\n",
        "\n",
        "이미지에서는 연산의 결과가 256보다 큰 경우는 256으로 나눈 나머지 값으로 결정을 합니다."
      ]
    },
    {
      "cell_type": "code",
      "metadata": {
        "id": "x9VkcNr5OcBE",
        "colab_type": "code",
        "colab": {}
      },
      "source": [
        "#OpenCV 합\n",
        "plt.imshow(cv2.add(img1,img2))"
      ],
      "execution_count": 0,
      "outputs": []
    },
    {
      "cell_type": "code",
      "metadata": {
        "id": "b8mUgGbkPPVQ",
        "colab_type": "code",
        "colab": {}
      },
      "source": [
        "#Numpy 합\n",
        "plt.imshow(img1+img2)"
      ],
      "execution_count": 0,
      "outputs": []
    },
    {
      "cell_type": "markdown",
      "metadata": {
        "id": "Dzf8dwddUHTb",
        "colab_type": "text"
      },
      "source": [
        "#### 이미지 블랜딩하기"
      ]
    },
    {
      "cell_type": "code",
      "metadata": {
        "id": "B-Z555DgObkV",
        "colab_type": "code",
        "colab": {}
      },
      "source": [
        "#@title Blending Parameters { run: \"auto\" }\n",
        "\n",
        "w = 0 #@param {type:\"slider\", min:0, max:100, step:2}\n",
        "\n",
        "###########################################################\n",
        "\n",
        "dst = cv2.addWeighted(img1, float(100-w) * 0.01, img2, float(w) * 0.01, 0)\n",
        "\n",
        "plt.imshow(dst)"
      ],
      "execution_count": 0,
      "outputs": []
    },
    {
      "cell_type": "markdown",
      "metadata": {
        "id": "ng8sZFNof-sm",
        "colab_type": "text"
      },
      "source": [
        "### 이미지 Smoothing"
      ]
    },
    {
      "cell_type": "code",
      "metadata": {
        "id": "VkYvhwLWgD9o",
        "colab_type": "code",
        "colab": {}
      },
      "source": [
        "blur = cv2.blur(imgrgb,(10, 10))\n",
        "gblur = cv2.GaussianBlur(imgrgb,(5,5),0)\n",
        "\n",
        "plt.imshow(imgrgb), plt.title('Original')\n",
        "plt.show()\n",
        "plt.imshow(blur), plt.title('Blurred')\n",
        "plt.show()\n",
        "plt.imshow(gblur),plt.title('Gaussian Blur')\n",
        "plt.show()"
      ],
      "execution_count": 0,
      "outputs": []
    },
    {
      "cell_type": "markdown",
      "metadata": {
        "id": "1BntTuG-LMEk",
        "colab_type": "text"
      },
      "source": [
        "### 이미지 Transformation"
      ]
    },
    {
      "cell_type": "markdown",
      "metadata": {
        "id": "w0UabTdkHYxg",
        "colab_type": "text"
      },
      "source": [
        "#### Resizing"
      ]
    },
    {
      "cell_type": "code",
      "metadata": {
        "id": "ZPGPVlcQ3-AB",
        "colab_type": "code",
        "colab": {}
      },
      "source": [
        "# 두 배로 확장\n",
        "res = cv2.resize(imgrgb, None,fx=2, fy=2, interpolation = cv2.INTER_CUBIC)\n",
        "plt.imshow(res)\n",
        "plt.show()\n",
        "\n",
        "# 10분의 1로 축소\n",
        "res = cv2.resize(imgrgb, None,fx=.1, fy=.1, interpolation = cv2.INTER_CUBIC)\n",
        "plt.imshow(res)\n",
        "plt.show()"
      ],
      "execution_count": 0,
      "outputs": []
    },
    {
      "cell_type": "markdown",
      "metadata": {
        "id": "6izzTBHsHYns",
        "colab_type": "text"
      },
      "source": [
        "#### Rotating"
      ]
    },
    {
      "cell_type": "code",
      "metadata": {
        "id": "W5KoSekCcYqm",
        "colab_type": "code",
        "colab": {}
      },
      "source": [
        "#@title Transformation Parameters { run: \"auto\" }\n",
        "\n",
        "theta_degrees = 240 #@param {type:\"slider\", min:0, max:360, step:10}\n",
        "scale = 1.1 #@param {type:\"slider\", min:0, max:2, step:0.1}\n",
        "shift_x = -60 #@param {type:\"slider\", min:-100, max:100, step:2}\n",
        "shift_y = -100 #@param {type:\"slider\", min:-100, max:100, step:2}\n",
        "\n",
        "rows, cols, _ = imgrgb.shape\n",
        "irows = rows\n",
        "icols = cols\n",
        "\n",
        "# rows += int(shift_x)\n",
        "# cols += int(shift_y)\n",
        "\n",
        "# 이미지의 중심점을 기준으로 90도 회전 하면서 0.5배 Scale\n",
        "M= cv2.getRotationMatrix2D((icols/2+shift_x, irows/2+shift_y), theta_degrees, scale)\n",
        "\n",
        "\n",
        "res = cv2.warpAffine(imgrgb, M,(icols, irows))\n",
        "\n",
        "titles = ['Original Image','Transformed']\n",
        "images = [imgrgb, res]\n",
        "\n",
        "for i in range(2):\n",
        "    plt.subplot(1,2,i+1),plt.imshow(images[i],'gray')\n",
        "    plt.title(titles[i])\n",
        "    plt.xticks([]),plt.yticks([])\n",
        "\n",
        "plt.show()"
      ],
      "execution_count": 0,
      "outputs": []
    },
    {
      "cell_type": "markdown",
      "metadata": {
        "id": "2etnExgCHvzY",
        "colab_type": "text"
      },
      "source": [
        "#### Seamless Cloning"
      ]
    },
    {
      "cell_type": "code",
      "metadata": {
        "id": "wDTL9WlQS_hP",
        "colab_type": "code",
        "colab": {}
      },
      "source": [
        "!wget https://www.learnopencv.com/wp-content/uploads/2015/02/iloveyouticket.jpg -O iloveyouticket.jpg\n",
        "!wget https://www.learnopencv.com/wp-content/uploads/2015/02/wood-texture.jpg -O wood-texture.jpg"
      ],
      "execution_count": 0,
      "outputs": []
    },
    {
      "cell_type": "code",
      "metadata": {
        "id": "OIq1z1NUULE5",
        "colab_type": "code",
        "colab": {}
      },
      "source": [
        "# Read images : src image will be cloned into dst\n",
        "im = cv2.imread(\"wood-texture.jpg\")\n",
        "im = cv2.cvtColor(im, cv2.COLOR_BGR2RGB)\n",
        "obj= cv2.imread(\"iloveyouticket.jpg\")\n",
        "obj = cv2.cvtColor(obj, cv2.COLOR_BGR2RGB)\n",
        "plt.imshow(im)\n",
        "plt.show()\n",
        "plt.imshow(obj)\n",
        "plt.show()"
      ],
      "execution_count": 0,
      "outputs": []
    },
    {
      "cell_type": "code",
      "metadata": {
        "id": "-gOefPQjS-Sz",
        "colab_type": "code",
        "colab": {}
      },
      "source": [
        "# Create an all white mask\n",
        "mask = 255 * np.ones(obj.shape, obj.dtype)\n",
        "\n",
        "# The location of the center of the src in the dst\n",
        "width, height, channels = im.shape\n",
        "center = (int(height/2), int(width/2))\n",
        "\n",
        "# Seamlessly clone src into dst and put the results in output\n",
        "normal_clone = cv2.seamlessClone(obj, im, mask, center, cv2.NORMAL_CLONE)\n",
        "mixed_clone = cv2.seamlessClone(obj, im, mask, center, cv2.MIXED_CLONE)\n",
        "\n",
        "# Write results\n",
        "plt.imshow(normal_clone)\n",
        "plt.show()\n",
        "plt.imshow(mixed_clone)\n",
        "plt.show()"
      ],
      "execution_count": 0,
      "outputs": []
    },
    {
      "cell_type": "code",
      "metadata": {
        "id": "zge0-qpZU-qf",
        "colab_type": "code",
        "colab": {}
      },
      "source": [
        "!wget https://upload.wikimedia.org/wikipedia/commons/thumb/2/23/Big_Tree_with_Red_Sky_in_the_Winter_Night.jpg/800px-Big_Tree_with_Red_Sky_in_the_Winter_Night.jpg -O sky_origin.jpg\n",
        "!wget https://upload.wikimedia.org/wikipedia/commons/thumb/9/91/Japan.airlines.b777-300.ja733j.arp.jpg/320px-Japan.airlines.b777-300.ja733j.arp.jpg -O airplane.jpg"
      ],
      "execution_count": 0,
      "outputs": []
    },
    {
      "cell_type": "code",
      "metadata": {
        "id": "rlS8xKYwVRpJ",
        "colab_type": "code",
        "colab": {}
      },
      "source": [
        "src = cv2.imread('airplane.jpg')\n",
        "src = cv2.cvtColor(src, cv2.COLOR_BGR2RGB)\n",
        "dst = cv2.imread('sky_origin.jpg')\n",
        "dst = cv2.cvtColor(dst, cv2.COLOR_BGR2RGB)\n",
        "\n",
        "plt.imshow(src)\n",
        "plt.show()\n",
        "plt.imshow(dst)\n",
        "plt.show()"
      ],
      "execution_count": 0,
      "outputs": []
    },
    {
      "cell_type": "code",
      "metadata": {
        "id": "HnUHOApHVvcy",
        "colab_type": "code",
        "colab": {}
      },
      "source": [
        "src_mask = np.zeros(src.shape, src.dtype)\n",
        "\n",
        "poly = np.array([ [4,80], [30,54], [151,63], [274,37],\n",
        "[315,90], [282,154], [43,132] ], np.int32)\n",
        "\n",
        "cv2.fillPoly(src_mask, [poly], (255, 255, 255))\n",
        "\n",
        "plt.imshow(cv2.cvtColor(src_mask, cv2.COLOR_BGR2RGB))"
      ],
      "execution_count": 0,
      "outputs": []
    },
    {
      "cell_type": "code",
      "metadata": {
        "id": "bo5dDcrtV6bW",
        "colab_type": "code",
        "colab": {}
      },
      "source": [
        "print(src.shape, dst.shape, src_mask.shape)"
      ],
      "execution_count": 0,
      "outputs": []
    },
    {
      "cell_type": "code",
      "metadata": {
        "id": "XwUFKQLtWC5u",
        "colab_type": "code",
        "colab": {}
      },
      "source": [
        "# This is where the CENTER of the airplane will be placed\n",
        "center = (600,100)\n",
        "# Clone seamlessly.\n",
        "output = cv2.seamlessClone(src, dst, src_mask, center, cv2.NORMAL_CLONE)\n",
        "# Show result\n",
        "plt.imshow(output)"
      ],
      "execution_count": 0,
      "outputs": []
    },
    {
      "cell_type": "markdown",
      "metadata": {
        "id": "VmjmqBxZM3rU",
        "colab_type": "text"
      },
      "source": [
        "### Object Detection"
      ]
    },
    {
      "cell_type": "markdown",
      "metadata": {
        "id": "-J8cbjxhUr_7",
        "colab_type": "text"
      },
      "source": [
        "#### Face Detection"
      ]
    },
    {
      "cell_type": "code",
      "metadata": {
        "id": "DfL8MqarUxxz",
        "colab_type": "code",
        "colab": {}
      },
      "source": [
        "import numpy as np\n",
        "import cv2\n",
        "\n",
        "face_cascade = cv2.CascadeClassifier(cv2.data.haarcascades + 'haarcascade_frontalface_default.xml')\n",
        "eye_cascade = cv2.CascadeClassifier(cv2.data.haarcascades + 'haarcascade_eye.xml')\n",
        "\n",
        "img = cv2.imread('shin.jpg')\n",
        "img = cv2.cvtColor(img, cv2.COLOR_BGR2RGB)\n",
        "gray = cv2.cvtColor(img, cv2.COLOR_BGR2GRAY)"
      ],
      "execution_count": 0,
      "outputs": []
    },
    {
      "cell_type": "code",
      "metadata": {
        "id": "iFXixNa9VPj7",
        "colab_type": "code",
        "colab": {}
      },
      "source": [
        "faces = face_cascade.detectMultiScale(gray, 1.3, 5)\n",
        "for (x,y,w,h) in faces:\n",
        "    img = cv2.rectangle(img,(x,y),(x+w,y+h),(255,0,0),2)\n",
        "    roi_gray = gray[y:y+h, x:x+w]\n",
        "    roi_color = img[y:y+h, x:x+w]\n",
        "    eyes = eye_cascade.detectMultiScale(roi_gray)\n",
        "    for (ex,ey,ew,eh) in eyes:\n",
        "        cv2.rectangle(roi_color,(ex,ey),(ex+ew,ey+eh),(0,255,0),2)\n",
        "\n",
        "plt.imshow(img)"
      ],
      "execution_count": 0,
      "outputs": []
    },
    {
      "cell_type": "code",
      "metadata": {
        "id": "14UisS96HpeM",
        "colab_type": "code",
        "colab": {}
      },
      "source": [
        "# 위 실습에서 받았던 인물 사진에도 적용해보고, 잘 수행되는지 확인해보세요."
      ],
      "execution_count": 0,
      "outputs": []
    }
  ]
}