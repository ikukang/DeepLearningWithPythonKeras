{
 "cells": [
  {
   "cell_type": "markdown",
   "metadata": {},
   "source": [
    "## 5.3 Using a pretrained Convnet\n",
    "\n",
    "(1) 케라스 창시자에게 배우는 딥러닝 도서의 실습 코드 입니다. <br><br>\n",
    "(2) 코드를 이해한 후, 각 입력창 마다 주석을 추가해 보았습니다. <br><br>\n",
    "(3) 필요 시 입력 창을 Add 하여 내용을 추가하였습니다.  <br><br>\n",
    "(4) 번역자의 원 코드가 있는 Github URL은 아래와 같습니다. <br><br>\n",
    "https://github.com/rickiepark/deep-learning-with-python-notebooks"
   ]
  },
  {
   "cell_type": "code",
   "execution_count": 7,
   "metadata": {
    "scrolled": true
   },
   "outputs": [
    {
     "data": {
      "text/plain": [
       "'2.3.1'"
      ]
     },
     "execution_count": 7,
     "metadata": {},
     "output_type": "execute_result"
    }
   ],
   "source": [
    "import keras\n",
    "keras.__version__"
   ]
  },
  {
   "cell_type": "code",
   "execution_count": 8,
   "metadata": {},
   "outputs": [
    {
     "name": "stdout",
     "output_type": "stream",
     "text": [
      "WARNING:tensorflow:From /usr/local/lib/python3.6/dist-packages/keras/backend/tensorflow_backend.py:4070: The name tf.nn.max_pool is deprecated. Please use tf.nn.max_pool2d instead.\n",
      "\n"
     ]
    }
   ],
   "source": [
    "# 기존처럼 직접 생성한 Convnet을 사용하지 않고, 기 구현되어 있는 사전에 훈련된 CNN을 이용\n",
    "# VGG16 (2014년 ILSVRC 2위) Model을 이용하고, 다음과 같이 parameter setup\n",
    "#  (1) weight : Model을 초기화 할 가중치 Checkpoint\n",
    "#  (2) include_type : Network를 하위(CNN) 계층과 상위(Fully Connected Network) 계층으로 구분 시, 상위 계층도 Network에 포함시킬지 선택 (True : 포함, False : 미포함)\n",
    "# (3) input_shape : Network에 주입할 Image 텐서의 크기 (150 * 150 * 3 dog or cat image를 사용하고 있으므로, (150, 150, 3) 으로 지정)\n",
    "\n",
    "from keras.applications import VGG16\n",
    "conv_base = VGG16(weights='imagenet', include_top=False, input_shape=(150, 150, 3))"
   ]
  },
  {
   "cell_type": "code",
   "execution_count": 9,
   "metadata": {},
   "outputs": [
    {
     "name": "stdout",
     "output_type": "stream",
     "text": [
      "Model: \"vgg16\"\n",
      "_________________________________________________________________\n",
      "Layer (type)                 Output Shape              Param #   \n",
      "=================================================================\n",
      "input_1 (InputLayer)         (None, 150, 150, 3)       0         \n",
      "_________________________________________________________________\n",
      "block1_conv1 (Conv2D)        (None, 150, 150, 64)      1792      \n",
      "_________________________________________________________________\n",
      "block1_conv2 (Conv2D)        (None, 150, 150, 64)      36928     \n",
      "_________________________________________________________________\n",
      "block1_pool (MaxPooling2D)   (None, 75, 75, 64)        0         \n",
      "_________________________________________________________________\n",
      "block2_conv1 (Conv2D)        (None, 75, 75, 128)       73856     \n",
      "_________________________________________________________________\n",
      "block2_conv2 (Conv2D)        (None, 75, 75, 128)       147584    \n",
      "_________________________________________________________________\n",
      "block2_pool (MaxPooling2D)   (None, 37, 37, 128)       0         \n",
      "_________________________________________________________________\n",
      "block3_conv1 (Conv2D)        (None, 37, 37, 256)       295168    \n",
      "_________________________________________________________________\n",
      "block3_conv2 (Conv2D)        (None, 37, 37, 256)       590080    \n",
      "_________________________________________________________________\n",
      "block3_conv3 (Conv2D)        (None, 37, 37, 256)       590080    \n",
      "_________________________________________________________________\n",
      "block3_pool (MaxPooling2D)   (None, 18, 18, 256)       0         \n",
      "_________________________________________________________________\n",
      "block4_conv1 (Conv2D)        (None, 18, 18, 512)       1180160   \n",
      "_________________________________________________________________\n",
      "block4_conv2 (Conv2D)        (None, 18, 18, 512)       2359808   \n",
      "_________________________________________________________________\n",
      "block4_conv3 (Conv2D)        (None, 18, 18, 512)       2359808   \n",
      "_________________________________________________________________\n",
      "block4_pool (MaxPooling2D)   (None, 9, 9, 512)         0         \n",
      "_________________________________________________________________\n",
      "block5_conv1 (Conv2D)        (None, 9, 9, 512)         2359808   \n",
      "_________________________________________________________________\n",
      "block5_conv2 (Conv2D)        (None, 9, 9, 512)         2359808   \n",
      "_________________________________________________________________\n",
      "block5_conv3 (Conv2D)        (None, 9, 9, 512)         2359808   \n",
      "_________________________________________________________________\n",
      "block5_pool (MaxPooling2D)   (None, 4, 4, 512)         0         \n",
      "=================================================================\n",
      "Total params: 14,714,688\n",
      "Trainable params: 14,714,688\n",
      "Non-trainable params: 0\n",
      "_________________________________________________________________\n"
     ]
    }
   ],
   "source": [
    "# VGG16 Convnet\n",
    "conv_base.summary()"
   ]
  },
  {
   "cell_type": "markdown",
   "metadata": {},
   "source": [
    "### ※ VGG16 image (Original Image인 224 * 224 * 3 의 경우)\n",
    "![title](./image/VGG16.jpg)"
   ]
  },
  {
   "cell_type": "markdown",
   "metadata": {},
   "source": [
    "(1) CNN Layer의 최종 Feature Map의 크기는 `(4 * 4 * 512)` 이고 Fully Connected Layer를 추가로 연결해야 함\n",
    "\n",
    "(2) 이때, 다음과 같은 두 가지 방식이 가능\n",
    "\n",
    "ⓐ 방법 1\n",
    "- 새로운 Dataset 에서 CNN Layer를 실행하고, 해당 출력을 Numpy 배열로 저장하여, Fully Connected Layer에 입력으로 사용\n",
    "- 모든 입력 이미지에 CNN Layer를 한 번만 실행하면 되므로 속도가 빠르나, Data Augmentation을 사용할 수 없음\n",
    "\n",
    "ⓑ 방법2\n",
    " - CNN Layer에 Fully Connected Layer를 쌓아 먼저 확장하고, 모든 입력 image에 전체 Model을 실행\n",
    " - 모든 입력 image가 CNN Layer를 통하게 되므로, Data Augmentation을 사용할 수 있으나 방법1에 비해 시간과 비용이 많이 소요 됨"
   ]
  },
  {
   "cell_type": "markdown",
   "metadata": {},
   "source": [
    "## 방법 1\n",
    "### 새로운 Dataset 에서 CNN Layer를 실행하고, 해당 출력을 Numpy 배열로 저장하여, Fully Connected Layer에 입력으로 사용\n",
    "### 모든 입력 이미지에 CNN Layer를 한 번만 실행하면 되므로 속도가 빠르나, Data Augmentation을 사용할 수 없음"
   ]
  },
  {
   "cell_type": "code",
   "execution_count": 10,
   "metadata": {},
   "outputs": [
    {
     "name": "stdout",
     "output_type": "stream",
     "text": [
      "Found 2000 images belonging to 2 classes.\n",
      "WARNING:tensorflow:From /usr/local/lib/python3.6/dist-packages/keras/backend/tensorflow_backend.py:422: The name tf.global_variables is deprecated. Please use tf.compat.v1.global_variables instead.\n",
      "\n",
      "Found 1000 images belonging to 2 classes.\n",
      "Found 1000 images belonging to 2 classes.\n"
     ]
    }
   ],
   "source": [
    "# conv_base의 predict method를 호출하여 image에서 특성을 추출\n",
    "# 즉, 2000개의 train image에 대하여 VGG16 model을 통해 특성을 추출\n",
    "#        1000개의 validation image에 대하여 VGG16 model을 통해 특성을 추출\n",
    "#        1000개의 test image에 대하여 VGG16 model을 통해 특성을 추출\n",
    "\n",
    "import os\n",
    "import numpy as np\n",
    "from keras.preprocessing.image import ImageDataGenerator\n",
    "\n",
    "base_dir = './image/datasets/cats_and_dogs_small'\n",
    "\n",
    "train_dir = os.path.join(base_dir, 'train')\n",
    "validation_dir = os.path.join(base_dir, 'validation')\n",
    "test_dir = os.path.join(base_dir, 'test')\n",
    "\n",
    "datagen = ImageDataGenerator(rescale=1./255)\n",
    "batch_size = 20\n",
    "\n",
    "def extract_features(directory, sample_count):\n",
    "    features = np.zeros(shape=(sample_count, 4, 4, 512))\n",
    "    labels = np.zeros(shape=(sample_count))\n",
    "    generator = datagen.flow_from_directory(directory, target_size=(150, 150), batch_size=batch_size, class_mode='binary')\n",
    "    i = 0\n",
    "    for inputs_batch, labels_batch in generator:\n",
    "        features_batch = conv_base.predict(inputs_batch)\n",
    "        features[i * batch_size : (i + 1) * batch_size] = features_batch\n",
    "        labels[i * batch_size : (i + 1) * batch_size] = labels_batch\n",
    "        i += 1\n",
    "        if i * batch_size >= sample_count:\n",
    "            # loop 안에서 무한하게 data를 생성하므로, 기준을 정해 중지 시킴\n",
    "            break\n",
    "    return features, labels\n",
    "\n",
    "train_features, train_labels = extract_features(train_dir, 2000)\n",
    "validation_features, validation_labels = extract_features(validation_dir, 1000)\n",
    "test_features, test_labels = extract_features(test_dir, 1000)"
   ]
  },
  {
   "cell_type": "code",
   "execution_count": 5,
   "metadata": {},
   "outputs": [],
   "source": [
    "# 추출된 Feature를 Fully Connected Network에 주입하기 위해 Flatten 작업 진행 (sample 갯수, 4 * 4 * 512 = 8192)\n",
    "\n",
    "train_features = np.reshape(train_features, (2000, 4 * 4 * 512))\n",
    "validation_features = np.reshape(validation_features, (1000, 4 * 4 * 512))\n",
    "test_features = np.reshape(test_features, (1000, 4 * 4 * 512))"
   ]
  },
  {
   "cell_type": "code",
   "execution_count": 6,
   "metadata": {},
   "outputs": [
    {
     "name": "stdout",
     "output_type": "stream",
     "text": [
      "WARNING:tensorflow:From /usr/local/lib/python3.6/dist-packages/tensorflow/python/ops/nn_impl.py:180: add_dispatch_support.<locals>.wrapper (from tensorflow.python.ops.array_ops) is deprecated and will be removed in a future version.\n",
      "Instructions for updating:\n",
      "Use tf.where in 2.0, which has the same broadcast rule as np.where\n",
      "Train on 2000 samples, validate on 1000 samples\n",
      "Epoch 1/30\n",
      "2000/2000 [==============================] - 1s 391us/step - loss: 0.6087 - acc: 0.6615 - val_loss: 0.4414 - val_acc: 0.8170\n",
      "Epoch 2/30\n",
      "2000/2000 [==============================] - 1s 321us/step - loss: 0.4372 - acc: 0.7990 - val_loss: 0.3574 - val_acc: 0.8680\n",
      "Epoch 3/30\n",
      "2000/2000 [==============================] - 1s 319us/step - loss: 0.3506 - acc: 0.8530 - val_loss: 0.3180 - val_acc: 0.8890\n",
      "Epoch 4/30\n",
      "2000/2000 [==============================] - 1s 320us/step - loss: 0.3105 - acc: 0.8730 - val_loss: 0.2963 - val_acc: 0.8920\n",
      "Epoch 5/30\n",
      "2000/2000 [==============================] - 1s 317us/step - loss: 0.2805 - acc: 0.8865 - val_loss: 0.2794 - val_acc: 0.8990\n",
      "Epoch 6/30\n",
      "2000/2000 [==============================] - 1s 318us/step - loss: 0.2638 - acc: 0.8960 - val_loss: 0.2688 - val_acc: 0.9010\n",
      "Epoch 7/30\n",
      "2000/2000 [==============================] - 1s 320us/step - loss: 0.2444 - acc: 0.9055 - val_loss: 0.2725 - val_acc: 0.8860\n",
      "Epoch 8/30\n",
      "2000/2000 [==============================] - 1s 317us/step - loss: 0.2311 - acc: 0.9115 - val_loss: 0.2550 - val_acc: 0.9060\n",
      "Epoch 9/30\n",
      "2000/2000 [==============================] - 1s 318us/step - loss: 0.2212 - acc: 0.9200 - val_loss: 0.2504 - val_acc: 0.9080\n",
      "Epoch 10/30\n",
      "2000/2000 [==============================] - 1s 319us/step - loss: 0.2071 - acc: 0.9225 - val_loss: 0.2454 - val_acc: 0.9050\n",
      "Epoch 11/30\n",
      "2000/2000 [==============================] - 1s 317us/step - loss: 0.1942 - acc: 0.9290 - val_loss: 0.2415 - val_acc: 0.9080\n",
      "Epoch 12/30\n",
      "2000/2000 [==============================] - 1s 317us/step - loss: 0.1855 - acc: 0.9345 - val_loss: 0.2424 - val_acc: 0.9040\n",
      "Epoch 13/30\n",
      "2000/2000 [==============================] - 1s 319us/step - loss: 0.1846 - acc: 0.9340 - val_loss: 0.2382 - val_acc: 0.9120\n",
      "Epoch 14/30\n",
      "2000/2000 [==============================] - 1s 318us/step - loss: 0.1697 - acc: 0.9395 - val_loss: 0.2365 - val_acc: 0.9150\n",
      "Epoch 15/30\n",
      "2000/2000 [==============================] - 1s 318us/step - loss: 0.1638 - acc: 0.9385 - val_loss: 0.2470 - val_acc: 0.9000\n",
      "Epoch 16/30\n",
      "2000/2000 [==============================] - 1s 323us/step - loss: 0.1550 - acc: 0.9460 - val_loss: 0.2389 - val_acc: 0.9080\n",
      "Epoch 17/30\n",
      "2000/2000 [==============================] - 1s 320us/step - loss: 0.1534 - acc: 0.9485 - val_loss: 0.2366 - val_acc: 0.9080\n",
      "Epoch 18/30\n",
      "2000/2000 [==============================] - 1s 315us/step - loss: 0.1429 - acc: 0.9495 - val_loss: 0.2336 - val_acc: 0.9080\n",
      "Epoch 19/30\n",
      "2000/2000 [==============================] - 1s 318us/step - loss: 0.1364 - acc: 0.9555 - val_loss: 0.2331 - val_acc: 0.9140\n",
      "Epoch 20/30\n",
      "2000/2000 [==============================] - 1s 324us/step - loss: 0.1339 - acc: 0.9530 - val_loss: 0.2332 - val_acc: 0.9080\n",
      "Epoch 21/30\n",
      "2000/2000 [==============================] - 1s 319us/step - loss: 0.1283 - acc: 0.9540 - val_loss: 0.2321 - val_acc: 0.9070\n",
      "Epoch 22/30\n",
      "2000/2000 [==============================] - 1s 320us/step - loss: 0.1211 - acc: 0.9600 - val_loss: 0.2427 - val_acc: 0.8990\n",
      "Epoch 23/30\n",
      "2000/2000 [==============================] - 1s 322us/step - loss: 0.1202 - acc: 0.9590 - val_loss: 0.2460 - val_acc: 0.8980\n",
      "Epoch 24/30\n",
      "2000/2000 [==============================] - 1s 322us/step - loss: 0.1104 - acc: 0.9660 - val_loss: 0.2357 - val_acc: 0.9090\n",
      "Epoch 25/30\n",
      "2000/2000 [==============================] - 1s 315us/step - loss: 0.1127 - acc: 0.9650 - val_loss: 0.2336 - val_acc: 0.9110\n",
      "Epoch 26/30\n",
      "2000/2000 [==============================] - 1s 313us/step - loss: 0.1064 - acc: 0.9695 - val_loss: 0.2405 - val_acc: 0.9030\n",
      "Epoch 27/30\n",
      "2000/2000 [==============================] - 1s 317us/step - loss: 0.1036 - acc: 0.9685 - val_loss: 0.2388 - val_acc: 0.9060\n",
      "Epoch 28/30\n",
      "2000/2000 [==============================] - 1s 319us/step - loss: 0.0999 - acc: 0.9735 - val_loss: 0.2324 - val_acc: 0.9070\n",
      "Epoch 29/30\n",
      "2000/2000 [==============================] - 1s 319us/step - loss: 0.0952 - acc: 0.9700 - val_loss: 0.2399 - val_acc: 0.9060\n",
      "Epoch 30/30\n",
      "2000/2000 [==============================] - 1s 319us/step - loss: 0.0911 - acc: 0.9735 - val_loss: 0.2332 - val_acc: 0.9050\n"
     ]
    }
   ],
   "source": [
    "# Fully Connected Network를 정의 하고, overfitting을 최소화 하기 위해 dropout을 사용\n",
    "# feature와 label을 이용하여 training을 진행\n",
    "# 해당 training은 2개의 Fully Connected Network만 처리하므로, CPU 만으로도 빠른 속도를 기대 할 수 있음\n",
    "\n",
    "from keras import models\n",
    "from keras import layers\n",
    "from keras import optimizers\n",
    "\n",
    "model = models.Sequential()\n",
    "model.add(layers.Dense(256, activation='relu', input_dim=4 * 4 * 512))\n",
    "model.add(layers.Dropout(0.5))\n",
    "model.add(layers.Dense(1, activation='sigmoid'))\n",
    "\n",
    "model.compile(optimizer=optimizers.RMSprop(lr=2e-5), loss='binary_crossentropy', metrics=['acc'])\n",
    "\n",
    "history = model.fit(train_features, train_labels, epochs=30, batch_size=20, validation_data=(validation_features, validation_labels))"
   ]
  },
  {
   "cell_type": "code",
   "execution_count": 8,
   "metadata": {},
   "outputs": [
    {
     "data": {
      "image/png": "[encoded data removed]",
      "text/plain": [
       "<Figure size 432x288 with 1 Axes>"
      ]
     },
     "metadata": {
      "needs_background": "light"
     },
     "output_type": "display_data"
    },
    {
     "data": {
      "image/png": "[encoded data removed]",
      "text/plain": [
       "<Figure size 432x288 with 1 Axes>"
      ]
     },
     "metadata": {
      "needs_background": "light"
     },
     "output_type": "display_data"
    }
   ],
   "source": [
    "# Validation Accuracy가 약 90%로, 앞에서 직접 훈련시킨 Model에 비하여 상당히 높은 Accuracy를 보이고 있음\n",
    "# 다만 Dataset의 갯수가 적은 관계로, dropout을 수행하였음에도 Training Accuracy를 따라가지 못하고 정체됨\n",
    "# 즉, 비교적 빨리 overfitting이 일어나는 것을 볼 수 있음\n",
    "\n",
    "import matplotlib.pyplot as plt\n",
    "\n",
    "acc = history.history['acc']\n",
    "val_acc = history.history['val_acc']\n",
    "loss = history.history['loss']\n",
    "val_loss = history.history['val_loss']\n",
    "\n",
    "epochs = range(len(acc))\n",
    "\n",
    "plt.plot(epochs, acc, 'r', label='Training acc')\n",
    "plt.plot(epochs, val_acc, 'b', label='Validation acc')\n",
    "plt.title('Training and validation accuracy')\n",
    "plt.legend()\n",
    "\n",
    "plt.figure()\n",
    "\n",
    "plt.plot(epochs, loss, 'r', label='Training loss')\n",
    "plt.plot(epochs, val_loss, 'b', label='Validation loss')\n",
    "plt.title('Training and validation loss')\n",
    "plt.legend()\n",
    "\n",
    "plt.show()"
   ]
  },
  {
   "cell_type": "markdown",
   "metadata": {},
   "source": [
    "## 방법 2\n",
    " ### CNN Layer에 Fully Connected Layer를 쌓아 먼저 확장하고, 모든 입력 image에 전체 Model을 실행\n",
    " ### 모든 입력 image가 CNN Layer를 통하게 되므로, Data Augmentation을 사용할 수 있으나 방법1에 비해 시간과 비용이 많이 소요 됨"
   ]
  },
  {
   "cell_type": "code",
   "execution_count": 9,
   "metadata": {},
   "outputs": [],
   "source": [
    "from keras import models\n",
    "from keras import layers\n",
    "\n",
    "# VGG model에 Flatten, Fully Connected Layer를 먼저 쌓음\n",
    "model = models.Sequential()\n",
    "model.add(conv_base)\n",
    "model.add(layers.Flatten())\n",
    "model.add(layers.Dense(256, activation='relu'))\n",
    "model.add(layers.Dense(1, activation='sigmoid'))"
   ]
  },
  {
   "cell_type": "code",
   "execution_count": 10,
   "metadata": {},
   "outputs": [
    {
     "name": "stdout",
     "output_type": "stream",
     "text": [
      "Model: \"sequential_2\"\n",
      "_________________________________________________________________\n",
      "Layer (type)                 Output Shape              Param #   \n",
      "=================================================================\n",
      "vgg16 (Model)                (None, 4, 4, 512)         14714688  \n",
      "_________________________________________________________________\n",
      "flatten_1 (Flatten)          (None, 8192)              0         \n",
      "_________________________________________________________________\n",
      "dense_3 (Dense)              (None, 256)               2097408   \n",
      "_________________________________________________________________\n",
      "dense_4 (Dense)              (None, 1)                 257       \n",
      "=================================================================\n",
      "Total params: 16,812,353\n",
      "Trainable params: 16,812,353\n",
      "Non-trainable params: 0\n",
      "_________________________________________________________________\n"
     ]
    }
   ],
   "source": [
    "model.summary()"
   ]
  },
  {
   "cell_type": "code",
   "execution_count": 11,
   "metadata": {},
   "outputs": [
    {
     "name": "stdout",
     "output_type": "stream",
     "text": [
      "conv_base를 동결하기 전 훈련되는 가중치의 수: 30\n"
     ]
    }
   ],
   "source": [
    "# Model을 training, compile 하기 전에 conv_base를 동결하여 가중치가 update 되지 않도록 막아야 함\n",
    "# 그래야 conv_base에서 사전에 학습한 표현(representation)의 임의 수정을 막을 수 있음\n",
    "\n",
    "print('conv_base를 동결하기 전 훈련되는 가중치의 수:', \n",
    "      len(model.trainable_weights))"
   ]
  },
  {
   "cell_type": "code",
   "execution_count": 12,
   "metadata": {},
   "outputs": [],
   "source": [
    "# conv_base를 동결하여 가중치가 update 되지 않도록 함\n",
    "conv_base.trainable = False"
   ]
  },
  {
   "cell_type": "code",
   "execution_count": 13,
   "metadata": {},
   "outputs": [
    {
     "name": "stdout",
     "output_type": "stream",
     "text": [
      "conv_base를 동결한 후 훈련되는 가중치의 수: 4\n"
     ]
    }
   ],
   "source": [
    "# Fully Connected Network의 가중치만 훈련됨 (2개 층의 가중치 행렬과 Bias가 각각 훈련되므로, 총 4개의 가중치가 훈련 됨)\n",
    "print('conv_base를 동결한 후 훈련되는 가중치의 수:', \n",
    "      len(model.trainable_weights))"
   ]
  },
  {
   "cell_type": "code",
   "execution_count": 14,
   "metadata": {},
   "outputs": [
    {
     "name": "stdout",
     "output_type": "stream",
     "text": [
      "Found 2000 images belonging to 2 classes.\n",
      "Found 1000 images belonging to 2 classes.\n",
      "Epoch 1/30\n",
      " - 46s - loss: 0.5586 - acc: 0.7360 - val_loss: 0.3442 - val_acc: 0.8340\n",
      "Epoch 2/30\n",
      " - 47s - loss: 0.4158 - acc: 0.8275 - val_loss: 0.3335 - val_acc: 0.8570\n",
      "Epoch 3/30\n",
      " - 47s - loss: 0.3588 - acc: 0.8540 - val_loss: 0.2708 - val_acc: 0.8790\n",
      "Epoch 4/30\n",
      " - 47s - loss: 0.3251 - acc: 0.8680 - val_loss: 0.1967 - val_acc: 0.8840\n",
      "Epoch 5/30\n",
      " - 47s - loss: 0.3066 - acc: 0.8740 - val_loss: 0.1960 - val_acc: 0.8900\n",
      "Epoch 6/30\n",
      " - 47s - loss: 0.2845 - acc: 0.8910 - val_loss: 0.2698 - val_acc: 0.8940\n",
      "Epoch 7/30\n",
      " - 47s - loss: 0.2797 - acc: 0.8790 - val_loss: 0.2673 - val_acc: 0.8940\n",
      "Epoch 8/30\n",
      " - 47s - loss: 0.2640 - acc: 0.8935 - val_loss: 0.2383 - val_acc: 0.8930\n",
      "Epoch 9/30\n",
      " - 47s - loss: 0.2548 - acc: 0.8980 - val_loss: 0.2228 - val_acc: 0.9050\n",
      "Epoch 10/30\n",
      " - 47s - loss: 0.2488 - acc: 0.8960 - val_loss: 0.1688 - val_acc: 0.8970\n",
      "Epoch 11/30\n",
      " - 47s - loss: 0.2433 - acc: 0.8990 - val_loss: 0.2175 - val_acc: 0.8990\n",
      "Epoch 12/30\n",
      " - 47s - loss: 0.2355 - acc: 0.9030 - val_loss: 0.1266 - val_acc: 0.9000\n",
      "Epoch 13/30\n",
      " - 47s - loss: 0.2372 - acc: 0.9050 - val_loss: 0.1501 - val_acc: 0.9000\n",
      "Epoch 14/30\n",
      " - 47s - loss: 0.2346 - acc: 0.9075 - val_loss: 0.1596 - val_acc: 0.9050\n",
      "Epoch 15/30\n",
      " - 47s - loss: 0.2215 - acc: 0.9100 - val_loss: 0.4298 - val_acc: 0.9070\n",
      "Epoch 16/30\n",
      " - 47s - loss: 0.2122 - acc: 0.9165 - val_loss: 0.7189 - val_acc: 0.8990\n",
      "Epoch 17/30\n",
      " - 47s - loss: 0.2136 - acc: 0.9205 - val_loss: 0.2884 - val_acc: 0.8990\n",
      "Epoch 18/30\n",
      " - 47s - loss: 0.2133 - acc: 0.9140 - val_loss: 0.3699 - val_acc: 0.9080\n",
      "Epoch 19/30\n",
      " - 47s - loss: 0.2162 - acc: 0.9115 - val_loss: 0.1235 - val_acc: 0.9070\n",
      "Epoch 20/30\n",
      " - 47s - loss: 0.2056 - acc: 0.9205 - val_loss: 0.1118 - val_acc: 0.9060\n",
      "Epoch 21/30\n",
      " - 47s - loss: 0.2041 - acc: 0.9235 - val_loss: 0.2384 - val_acc: 0.8970\n",
      "Epoch 22/30\n",
      " - 47s - loss: 0.2061 - acc: 0.9195 - val_loss: 0.3441 - val_acc: 0.9070\n",
      "Epoch 23/30\n",
      " - 47s - loss: 0.1970 - acc: 0.9210 - val_loss: 0.0217 - val_acc: 0.9070\n",
      "Epoch 24/30\n",
      " - 47s - loss: 0.1920 - acc: 0.9265 - val_loss: 0.1867 - val_acc: 0.9030\n",
      "Epoch 25/30\n",
      " - 47s - loss: 0.1939 - acc: 0.9225 - val_loss: 0.6918 - val_acc: 0.9080\n",
      "Epoch 26/30\n",
      " - 47s - loss: 0.1886 - acc: 0.9235 - val_loss: 0.4245 - val_acc: 0.9070\n",
      "Epoch 27/30\n",
      " - 47s - loss: 0.1902 - acc: 0.9220 - val_loss: 0.2281 - val_acc: 0.9090\n",
      "Epoch 28/30\n",
      " - 47s - loss: 0.1873 - acc: 0.9275 - val_loss: 0.2436 - val_acc: 0.9010\n",
      "Epoch 29/30\n",
      " - 47s - loss: 0.1773 - acc: 0.9275 - val_loss: 0.0612 - val_acc: 0.8960\n",
      "Epoch 30/30\n",
      " - 47s - loss: 0.1817 - acc: 0.9315 - val_loss: 0.0678 - val_acc: 0.9090\n"
     ]
    }
   ],
   "source": [
    "from keras.preprocessing.image import ImageDataGenerator\n",
    "\n",
    "# Data 증식을 수행 \n",
    "# rotation_range : image를 random하게 회전시키는 각도 (0 ~ 180)\n",
    "# width_shift_range : image를 수평으로 ramdom 하게 평행이동 시키는 범위 (전체 넓이와 폭에 대한 비율)\n",
    "# height_shift_range : image를 수직으로 ramdom 하게 평행이동 시키는 범위 (전체 넓이와 높이에 대한 비율)\n",
    "# shear_range : image를 ramdom하게 전단(shear) 변환을 적용할 각도 범위\n",
    "# zoom_range : image를 ramdom 하게 확대할 범위\n",
    "# horizontal_flip : image를 ramdom 하게 수평으로 뒤집기\n",
    "# fill_mode : rotation, shift 등으로 새롭게 생성해야 할 fixel을 어떻게 생성할 것인지 명시  (\"constant\", \"nearest\", \"reflect\" or \"wrap\")\n",
    "train_datagen = ImageDataGenerator(rescale=1./255, rotation_range=20, width_shift_range=0.1, height_shift_range=0.1, shear_range=0.1, zoom_range=0.1, horizontal_flip=True, fill_mode='nearest')\n",
    "\n",
    "# 검증 데이터는 증식하지 않음\n",
    "test_datagen = ImageDataGenerator(rescale=1./255)\n",
    "\n",
    "# Training Data에 대하여 150*150 행렬로 변환하고, class_mode는 이진분류를 사용한 generator 생성\n",
    "train_generator = train_datagen.flow_from_directory(train_dir, target_size=(150, 150), batch_size=20, class_mode='binary')\n",
    "\n",
    "# Validation Data에 대하여 150*150 행렬로 변환하고, class_mode는 이진분류를 사용한 generator 생성\n",
    "validation_generator = test_datagen.flow_from_directory(validation_dir, target_size=(150, 150), batch_size=20, class_mode='binary')\n",
    "\n",
    "# compile method를 이용하여 학습 과정을 구성\n",
    "# 옵티마이저는 rmsprop를 사용하고, 이진 분류 문제이므로 손실함수는 binary_crossentropy를 이용\n",
    "model.compile(loss='binary_crossentropy', optimizer=optimizers.RMSprop(lr=2e-5), metrics=['acc'])\n",
    "\n",
    "# fit method를 이용해서 정해진 epoch 만큼  Training을 수행\n",
    "# 이때 위에서 재 정의한 image, label을 주입하고, batch size를 지정\n",
    "# 기존에는 fit method를 이용하여 정해진 epoch 만큼 Training을 수행하였으나, 금번에는 fit_generator method를 이용\n",
    "# 해당 method는 python의  generator를 이용하므로, steps_per_epoch에서 추출할 sample 갯수를 지정해야 함 (100개)\n",
    "# 30번의 epoch 동안 반복하여 training을 수행하고, validation_data parameter도 함께 전달하여 loss와 accuracy를 평가\n",
    "history = model.fit_generator(train_generator, steps_per_epoch=100, epochs=30, validation_data=validation_generator, validation_steps=50, verbose=2)"
   ]
  },
  {
   "cell_type": "code",
   "execution_count": 15,
   "metadata": {},
   "outputs": [],
   "source": [
    "# Training이 끝난 모델을 저장하여 필요 시 재 사용\n",
    "model.save('cats_and_dogs_small_3.h5')"
   ]
  },
  {
   "cell_type": "code",
   "execution_count": 16,
   "metadata": {},
   "outputs": [
    {
     "data": {
      "image/png": "[encoded data removed]",
      "text/plain": [
       "<Figure size 432x288 with 1 Axes>"
      ]
     },
     "metadata": {
      "needs_background": "light"
     },
     "output_type": "display_data"
    },
    {
     "data": {
      "image/png": "[encoded data removed]",
      "text/plain": [
       "<Figure size 432x288 with 1 Axes>"
      ]
     },
     "metadata": {
      "needs_background": "light"
     },
     "output_type": "display_data"
    }
   ],
   "source": [
    "# Training Data와 Validation Data에 대한 Model의 Loss와 Accuracy를 그래프로 확인\n",
    "\n",
    "# (1) Accuracy\n",
    "# Data 증식 이전과 Accuracy는 거의 비슷하나, Validation Data의 기울기가 좀 더  큰 것으로 보아\n",
    "# overfitting이 완화되었음을 확인\n",
    "\n",
    "# (2) Loss\n",
    "# Training Loss의 경우, 우 하향 추세로 작아지고 있고, Validation Loss의 경우, epoch가\n",
    "# 진행되면서 진폭이 커지고 있으나 발산하지 않고, 우 하향 추세로 진행되고 있음\n",
    "# 결과적으로 Overfitting이 심하게 발생하지 않는 것으로 보임\n",
    "\n",
    "acc = history.history['acc']\n",
    "val_acc = history.history['val_acc']\n",
    "loss = history.history['loss']\n",
    "val_loss = history.history['val_loss']\n",
    "\n",
    "epochs = range(len(acc))\n",
    "\n",
    "plt.plot(epochs, acc, 'r', label='Training acc')\n",
    "plt.plot(epochs, val_acc, 'b', label='Validation acc')\n",
    "plt.title('Training and validation accuracy')\n",
    "plt.legend()\n",
    "\n",
    "plt.figure()\n",
    "\n",
    "plt.plot(epochs, loss, 'r', label='Training loss')\n",
    "plt.plot(epochs, val_loss, 'b', label='Validation loss')\n",
    "plt.title('Training and validation loss')\n",
    "plt.legend()\n",
    "\n",
    "plt.show()"
   ]
  },
  {
   "cell_type": "code",
   "execution_count": null,
   "metadata": {},
   "outputs": [],
   "source": []
  }
 ],
 "metadata": {
  "kernelspec": {
   "display_name": "Python 3",
   "language": "python",
   "name": "python3"
  },
  "language_info": {
   "codemirror_mode": {
    "name": "ipython",
    "version": 3
   },
   "file_extension": ".py",
   "mimetype": "text/x-python",
   "name": "python",
   "nbconvert_exporter": "python",
   "pygments_lexer": "ipython3",
   "version": "3.6.8"
  }
 },
 "nbformat": 4,
 "nbformat_minor": 2
}
