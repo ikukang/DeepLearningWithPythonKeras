{
 "cells": [
  {
   "cell_type": "markdown",
   "metadata": {},
   "source": [
    "## 3.4 Classifying movie reviews\n",
    "\n",
    "(1) 케라스 창시자에게 배우는 딥러닝 도서의 실습 코드 입니다. <br><br>\n",
    "(2) 코드를 이해한 후, 각 입력창 마다 주석을 추가해 보았습니다. <br><br>\n",
    "(3) 필요 시 입력 창을 Add 하여 내용을 추가하였습니다.  <br><br>\n",
    "(4) 번역자의 원 코드가 있는 Github URL은 아래와 같습니다. <br><br>\n",
    "https://github.com/rickiepark/deep-learning-with-python-notebooks"
   ]
  },
  {
   "cell_type": "code",
   "execution_count": 1,
   "metadata": {},
   "outputs": [],
   "source": [
    "# 사용 상의 편의를 위한 Initial Setting \n",
    "\n",
    "# 실행결과를 한 창에 표시\n",
    "from IPython.core.interactiveshell import InteractiveShell\n",
    "InteractiveShell.ast_node_interactivity = \"all\"\n",
    "\n",
    "# numpy 소숫점 setting\n",
    "import numpy as np\n",
    "np.set_printoptions(precision=7)\n",
    "\n",
    "# pandas이용하여 grid display\n",
    "import numpy as np\n",
    "import pandas as pd\n",
    "pd.set_option('display.max_rows', None)         # 최대 표시 줄 수 제한 해제\n",
    "pd.set_option('display.max_columns', None)  # 최대 표시 컬럼 수 제한 해제\n",
    "pd.set_option('display.max_colwidth', -1)        # 컬럼내 데이터 표시 제한 해제"
   ]
  },
  {
   "cell_type": "code",
   "execution_count": 11,
   "metadata": {},
   "outputs": [
    {
     "data": {
      "text/plain": [
       "'2.3.1'"
      ]
     },
     "execution_count": 11,
     "metadata": {},
     "output_type": "execute_result"
    }
   ],
   "source": [
    "import keras\n",
    "keras.__version__"
   ]
  },
  {
   "cell_type": "markdown",
   "metadata": {},
   "source": [
    "### 이진 분류 (IMDB)\n",
    "\n",
    "IMDB는 인터넷 영화 Database 로 부터 가지고 온 양 극단의 리뷰 50000개 로 이루어진 Dataset 입니다. \n",
    "- Train Data : 25,000개,  Test Data : 25,000개\n",
    "- 각각 50%는 긍정, 50%는 부정 리뷰 임\n",
    "- 데이터는 다음과 같이 전 처리 되어 있음\n",
    "<br>\n",
    "(1) 각 리뷰의 단어가 이에 대응하는 숫자로 변환되어 있음 <br>\n",
    "(2) Train/Test Label은 긍정(1) 과 부정(0) 으로 구분되어 있음 <br>"
   ]
  },
  {
   "cell_type": "code",
   "execution_count": 12,
   "metadata": {},
   "outputs": [],
   "source": [
    "from keras.datasets import imdb\n",
    "(train_data, train_labels), (test_data, test_labels) = imdb.load_data(num_words=10000)\n",
    "\n",
    "# IMDB data를 train data/label, Test data/label 튜플로 분리\n",
    "# 리뷰에 나타는 수 많은 단어중에서 가장 자주 나타나는 단어 10,000개만  사용"
   ]
  },
  {
   "cell_type": "code",
   "execution_count": 13,
   "metadata": {},
   "outputs": [
    {
     "data": {
      "text/plain": [
       "(25000,)"
      ]
     },
     "execution_count": 13,
     "metadata": {},
     "output_type": "execute_result"
    },
    {
     "data": {
      "text/plain": [
       "(25000,)"
      ]
     },
     "execution_count": 13,
     "metadata": {},
     "output_type": "execute_result"
    },
    {
     "data": {
      "text/plain": [
       "218"
      ]
     },
     "execution_count": 13,
     "metadata": {},
     "output_type": "execute_result"
    },
    {
     "data": {
      "text/plain": [
       "189"
      ]
     },
     "execution_count": 13,
     "metadata": {},
     "output_type": "execute_result"
    },
    {
     "data": {
      "text/plain": [
       "[1,\n",
       " 14,\n",
       " 22,\n",
       " 16,\n",
       " 43,\n",
       " 530,\n",
       " 973,\n",
       " 1622,\n",
       " 1385,\n",
       " 65,\n",
       " 458,\n",
       " 4468,\n",
       " 66,\n",
       " 3941,\n",
       " 4,\n",
       " 173,\n",
       " 36,\n",
       " 256,\n",
       " 5,\n",
       " 25,\n",
       " 100,\n",
       " 43,\n",
       " 838,\n",
       " 112,\n",
       " 50,\n",
       " 670,\n",
       " 2,\n",
       " 9,\n",
       " 35,\n",
       " 480,\n",
       " 284,\n",
       " 5,\n",
       " 150,\n",
       " 4,\n",
       " 172,\n",
       " 112,\n",
       " 167,\n",
       " 2,\n",
       " 336,\n",
       " 385,\n",
       " 39,\n",
       " 4,\n",
       " 172,\n",
       " 4536,\n",
       " 1111,\n",
       " 17,\n",
       " 546,\n",
       " 38,\n",
       " 13,\n",
       " 447,\n",
       " 4,\n",
       " 192,\n",
       " 50,\n",
       " 16,\n",
       " 6,\n",
       " 147,\n",
       " 2025,\n",
       " 19,\n",
       " 14,\n",
       " 22,\n",
       " 4,\n",
       " 1920,\n",
       " 4613,\n",
       " 469,\n",
       " 4,\n",
       " 22,\n",
       " 71,\n",
       " 87,\n",
       " 12,\n",
       " 16,\n",
       " 43,\n",
       " 530,\n",
       " 38,\n",
       " 76,\n",
       " 15,\n",
       " 13,\n",
       " 1247,\n",
       " 4,\n",
       " 22,\n",
       " 17,\n",
       " 515,\n",
       " 17,\n",
       " 12,\n",
       " 16,\n",
       " 626,\n",
       " 18,\n",
       " 2,\n",
       " 5,\n",
       " 62,\n",
       " 386,\n",
       " 12,\n",
       " 8,\n",
       " 316,\n",
       " 8,\n",
       " 106,\n",
       " 5,\n",
       " 4,\n",
       " 2223,\n",
       " 5244,\n",
       " 16,\n",
       " 480,\n",
       " 66,\n",
       " 3785,\n",
       " 33,\n",
       " 4,\n",
       " 130,\n",
       " 12,\n",
       " 16,\n",
       " 38,\n",
       " 619,\n",
       " 5,\n",
       " 25,\n",
       " 124,\n",
       " 51,\n",
       " 36,\n",
       " 135,\n",
       " 48,\n",
       " 25,\n",
       " 1415,\n",
       " 33,\n",
       " 6,\n",
       " 22,\n",
       " 12,\n",
       " 215,\n",
       " 28,\n",
       " 77,\n",
       " 52,\n",
       " 5,\n",
       " 14,\n",
       " 407,\n",
       " 16,\n",
       " 82,\n",
       " 2,\n",
       " 8,\n",
       " 4,\n",
       " 107,\n",
       " 117,\n",
       " 5952,\n",
       " 15,\n",
       " 256,\n",
       " 4,\n",
       " 2,\n",
       " 7,\n",
       " 3766,\n",
       " 5,\n",
       " 723,\n",
       " 36,\n",
       " 71,\n",
       " 43,\n",
       " 530,\n",
       " 476,\n",
       " 26,\n",
       " 400,\n",
       " 317,\n",
       " 46,\n",
       " 7,\n",
       " 4,\n",
       " 2,\n",
       " 1029,\n",
       " 13,\n",
       " 104,\n",
       " 88,\n",
       " 4,\n",
       " 381,\n",
       " 15,\n",
       " 297,\n",
       " 98,\n",
       " 32,\n",
       " 2071,\n",
       " 56,\n",
       " 26,\n",
       " 141,\n",
       " 6,\n",
       " 194,\n",
       " 7486,\n",
       " 18,\n",
       " 4,\n",
       " 226,\n",
       " 22,\n",
       " 21,\n",
       " 134,\n",
       " 476,\n",
       " 26,\n",
       " 480,\n",
       " 5,\n",
       " 144,\n",
       " 30,\n",
       " 5535,\n",
       " 18,\n",
       " 51,\n",
       " 36,\n",
       " 28,\n",
       " 224,\n",
       " 92,\n",
       " 25,\n",
       " 104,\n",
       " 4,\n",
       " 226,\n",
       " 65,\n",
       " 16,\n",
       " 38,\n",
       " 1334,\n",
       " 88,\n",
       " 12,\n",
       " 16,\n",
       " 283,\n",
       " 5,\n",
       " 16,\n",
       " 4472,\n",
       " 113,\n",
       " 103,\n",
       " 32,\n",
       " 15,\n",
       " 16,\n",
       " 5345,\n",
       " 19,\n",
       " 178,\n",
       " 32]"
      ]
     },
     "execution_count": 13,
     "metadata": {},
     "output_type": "execute_result"
    }
   ],
   "source": [
    "train_data.shape\n",
    "test_data.shape\n",
    "# train_data, test_data 는 각각 25000개의 영화 리뷰로 이루어져 있음\n",
    "\n",
    "len(train_data[0])\n",
    "len(train_data[1])\n",
    "train_data[0]\n",
    "# 각각의 리뷰(ex. train_data[1])는 여러 단어로 이루어진 list이고, 개별 단어는 전처리를 통해 대응되는 숫자로 변경되어 있음"
   ]
  },
  {
   "cell_type": "code",
   "execution_count": 14,
   "metadata": {},
   "outputs": [
    {
     "data": {
      "text/plain": [
       "(25000,)"
      ]
     },
     "execution_count": 14,
     "metadata": {},
     "output_type": "execute_result"
    },
    {
     "data": {
      "text/plain": [
       "(25000,)"
      ]
     },
     "execution_count": 14,
     "metadata": {},
     "output_type": "execute_result"
    },
    {
     "data": {
      "text/plain": [
       "1"
      ]
     },
     "execution_count": 14,
     "metadata": {},
     "output_type": "execute_result"
    }
   ],
   "source": [
    "train_labels.shape\n",
    "test_labels.shape\n",
    "# train_labels, test_labels 는 각각 25000개의 영화리뷰 결과 (부정 : 0,  긍정 : 1)\n",
    "\n",
    "train_labels[0]\n",
    "# train_labels[0]의 값은 '0' 이므로, '부정' 임"
   ]
  },
  {
   "cell_type": "code",
   "execution_count": 15,
   "metadata": {},
   "outputs": [
    {
     "data": {
      "text/plain": [
       "9999"
      ]
     },
     "execution_count": 15,
     "metadata": {},
     "output_type": "execute_result"
    },
    {
     "data": {
      "text/plain": [
       "9999"
      ]
     },
     "execution_count": 15,
     "metadata": {},
     "output_type": "execute_result"
    }
   ],
   "source": [
    "max([max(sequence) for sequence in train_data])\n",
    "max([max(sequence) for sequence in test_data])\n",
    "\n",
    "# 가장  자주 등장하는 단어 10,000개로 제한되어 있으므로, train/test data의  숫자(단어를 대응되는 숫자로 전처리)는 0 ~ 9999 의 값 임"
   ]
  },
  {
   "cell_type": "markdown",
   "metadata": {},
   "source": [
    "#### 전처리된 리뷰(숫자로 구성)를 원 리뷰(영문으로 구성)로 치환"
   ]
  },
  {
   "cell_type": "code",
   "execution_count": 17,
   "metadata": {},
   "outputs": [],
   "source": [
    "word_index = imdb.get_word_index()\n",
    "# word_index는 개별 단어와 이 단어에 해당하는 숫자를 맵핑해 놓은 Dictionary 임\n",
    "\n",
    "reverse_word_index = dict([(value, key) for (key, value) in word_index.items()])\n",
    "# word_index는 ''단어:숫자\" 의 Dictionary 이나, 이를 \"숫자:단어\" 순으로 순서를 뒤집음\n",
    "\n",
    "decoded_review = ' '.join([reverse_word_index.get(i - 3, '?') for i in train_data[0]])\n",
    "# for 문을 돌면서 train_data[0]를 구성하는 각 숫자를 이에 맵핑하는 단어로 치환하여 문자열을 구성 함\n",
    "# 이때 0, 1, 2는 사전 정의된 값(index) 이므로, 해당 갯수(3) 만큼 빼고 치환을 진행\n",
    "# 가장 자주 등장하는 단어 10,000개 로 제한하였으므로, 이에 해당되지 않는 key(숫자)는 '?' 로 display 됨"
   ]
  },
  {
   "cell_type": "code",
   "execution_count": 18,
   "metadata": {},
   "outputs": [
    {
     "data": {
      "text/plain": [
       "88584"
      ]
     },
     "execution_count": 18,
     "metadata": {},
     "output_type": "execute_result"
    },
    {
     "data": {
      "text/plain": [
       "1243"
      ]
     },
     "execution_count": 18,
     "metadata": {},
     "output_type": "execute_result"
    },
    {
     "data": {
      "text/plain": [
       "'dad'"
      ]
     },
     "execution_count": 18,
     "metadata": {},
     "output_type": "execute_result"
    }
   ],
   "source": [
    "len(word_index)\n",
    "# 단어 index의 갯수는 88584 개 임\n",
    "\n",
    "word_index.get('dad')\n",
    "# word_index dictionary에서 dad'의 value는 1243 임\n",
    "\n",
    "reverse_word_index.get(1243)\n",
    "# reverse_word_index dictionary에서 1243의 value는 'dad' 임\n",
    "# word_index와  reverse_word_index의 Data 구조를 확인 할 수 있음"
   ]
  },
  {
   "cell_type": "code",
   "execution_count": 19,
   "metadata": {},
   "outputs": [
    {
     "data": {
      "text/plain": [
       "\"? this film was just brilliant casting location scenery story direction everyone's really suited the part they played and you could just imagine being there robert ? is an amazing actor and now the same being director ? father came from the same scottish island as myself so i loved the fact there was a real connection with this film the witty remarks throughout the film were great it was just brilliant so much that i bought the film as soon as it was released for ? and would recommend it to everyone to watch and the fly fishing was amazing really cried at the end it was so sad and you know what they say if you cry at a film it must have been good and this definitely was also ? to the two little boy's that played the ? of norman and paul they were just brilliant children are often left out of the ? list i think because the stars that play them all grown up are such a big profile for the whole film but these children are amazing and should be praised for what they have done don't you think the whole story was so lovely because it was true and was someone's life after all that was shared with us all\""
      ]
     },
     "execution_count": 19,
     "metadata": {},
     "output_type": "execute_result"
    }
   ],
   "source": [
    "decoded_review\n",
    "# reverse_word_index method를 이용하여 train_data[0]를 구성하는 각 숫자를 이에 맵핑하는 단어로 치환"
   ]
  },
  {
   "cell_type": "code",
   "execution_count": 10,
   "metadata": {},
   "outputs": [
    {
     "data": {
      "text/plain": [
       "\"? this film was just ? ? ? ? story ? ? really ? the ? they ? and you ? just ? ? there ? ? is an ? ? and ? the ? ? ? ? ? ? from the ? ? ? as ? so i ? the ? there was a ? ? with this film the ? ? ? the film were great it was just ? so much that i ? the film as ? as it was ? for ? and would ? it to ? to ? and the ? ? was ? really ? at the ? it was so ? and you ? what they ? if you ? at a film it ? have been good and this ? was also ? to the ? ? ? that ? the ? of ? and ? they were just ? ? are ? ? out of the ? ? i ? because the ? that ? them all ? up are ? a ? ? for the ? film but ? ? are ? and ? be ? for what they have ? don't you ? the ? story was so ? because it was ? and was ? ? ? all that was ? with ? all\""
      ]
     },
     "execution_count": 10,
     "metadata": {},
     "output_type": "execute_result"
    }
   ],
   "source": [
    "(train_data, train_labels), (test_data, test_labels) = imdb.load_data(num_words=100)\n",
    "decoded_review = ' '.join([reverse_word_index.get(i - 3, '?') for i in train_data[0]])\n",
    "decoded_review\n",
    "# 가장 자주 나타나는 100개의 단어로만 decode 한 경우, 아래와 같이 '?' 가 빈번하게 보임을 확인 할 수 있음"
   ]
  },
  {
   "cell_type": "code",
   "execution_count": 20,
   "metadata": {},
   "outputs": [
    {
     "data": {
      "text/plain": [
       "(25000,)"
      ]
     },
     "execution_count": 20,
     "metadata": {},
     "output_type": "execute_result"
    },
    {
     "data": {
      "text/plain": [
       "25000"
      ]
     },
     "execution_count": 20,
     "metadata": {},
     "output_type": "execute_result"
    }
   ],
   "source": [
    "train_data.shape\n",
    "len(train_data)"
   ]
  },
  {
   "cell_type": "code",
   "execution_count": 21,
   "metadata": {},
   "outputs": [],
   "source": [
    "import numpy as np\n",
    "\n",
    "# 전처리 하여 숫자만으로 구성된 리스트를 신경망에 바로 주입 할 수 없으므로, \n",
    "# (1)이를 Matrix(2차원 텐서)로 변환\n",
    "# (2) 각 row(숫자로 구성되어 있는 전처리된 리뷰)의 개별 숫자값을 column 값으로 하여, 해당  (row, column)의 0 값 -> 1 로 변경\n",
    "def zero_matrix(rows, dimension=10000):\n",
    "    results = np.zeros((len(rows), dimension))    # Matrix(2차원 텐서)로 변환\n",
    "    \n",
    "    for i, col in enumerate(rows):\n",
    "            results[i, col] = 1.                                       #각  row(숫자로 구성되어 있는 전처리된 리뷰)의 개별 숫자값을 column 값으로 하여, 해당  (row, column)의 0 값 -> 1 로 변경    \n",
    "\n",
    "    return results\n",
    "\n",
    "# train_data를 matrix로 변환\n",
    "x_train = zero_matrix(train_data)\n",
    "\n",
    "#  test_data를 matrix로 변환\n",
    "x_test = zero_matrix(test_data)"
   ]
  },
  {
   "cell_type": "code",
   "execution_count": 22,
   "metadata": {},
   "outputs": [
    {
     "name": "stdout",
     "output_type": "stream",
     "text": [
      "[[0. 1. 1. ... 0. 0. 0.]\n",
      " [0. 1. 1. ... 0. 0. 0.]\n",
      " [0. 1. 1. ... 0. 0. 0.]\n",
      " ...\n",
      " [0. 1. 1. ... 0. 0. 0.]\n",
      " [0. 1. 1. ... 0. 0. 0.]\n",
      " [0. 1. 1. ... 0. 0. 0.]]\n"
     ]
    },
    {
     "data": {
      "text/plain": [
       "(25000, 10000)"
      ]
     },
     "execution_count": 22,
     "metadata": {},
     "output_type": "execute_result"
    },
    {
     "name": "stdout",
     "output_type": "stream",
     "text": [
      "[[0. 1. 1. ... 0. 0. 0.]\n",
      " [0. 1. 1. ... 0. 0. 0.]\n",
      " [0. 1. 1. ... 0. 0. 0.]\n",
      " ...\n",
      " [0. 1. 1. ... 0. 0. 0.]\n",
      " [0. 1. 1. ... 0. 0. 0.]\n",
      " [0. 1. 1. ... 0. 0. 0.]]\n"
     ]
    },
    {
     "data": {
      "text/plain": [
       "(25000, 10000)"
      ]
     },
     "execution_count": 22,
     "metadata": {},
     "output_type": "execute_result"
    }
   ],
   "source": [
    "# x_train, x_test 값 및 shape 확인\n",
    "print(x_train)   \n",
    "x_train.shape\n",
    "\n",
    "print(x_test)   \n",
    "x_test.shape"
   ]
  },
  {
   "cell_type": "code",
   "execution_count": 23,
   "metadata": {},
   "outputs": [
    {
     "data": {
      "text/plain": [
       "array([0., 1., 1., ..., 0., 0., 0.])"
      ]
     },
     "execution_count": 23,
     "metadata": {},
     "output_type": "execute_result"
    },
    {
     "data": {
      "text/plain": [
       "(10000,)"
      ]
     },
     "execution_count": 23,
     "metadata": {},
     "output_type": "execute_result"
    },
    {
     "data": {
      "text/plain": [
       "array([0., 1., 1., ..., 0., 0., 0.])"
      ]
     },
     "execution_count": 23,
     "metadata": {},
     "output_type": "execute_result"
    },
    {
     "data": {
      "text/plain": [
       "(10000,)"
      ]
     },
     "execution_count": 23,
     "metadata": {},
     "output_type": "execute_result"
    }
   ],
   "source": [
    "# train, test data 확인 \n",
    "# 각 row 별로 column의 길이가 달랐으나, 각 row 마다 10,000개 컬럼으로 일치화\n",
    "# 해당  column값에 해당하는 column의 0값 -> 1로 변경 (즉, [2, 34, ....10] -> 2번째 컬럼 1, 34번째 컬럼 1 등으로 변경 함)\n",
    "\n",
    "#  결과적으로 10000개 단어로 한정하였으므로, column 값은 0 ~9999 이고, 각 row 별 10,000개 column으로 정규화 한 후\n",
    "# column 값에 해당하는 해당 번째 column을 1로 Set\n",
    "\n",
    "x_train[0]\n",
    "x_train[0].shape\n",
    "x_test[0]\n",
    "x_test[1].shape"
   ]
  },
  {
   "cell_type": "code",
   "execution_count": 24,
   "metadata": {},
   "outputs": [
    {
     "data": {
      "text/plain": [
       "array([1., 0., 0., ..., 0., 1., 0.], dtype=float32)"
      ]
     },
     "execution_count": 24,
     "metadata": {},
     "output_type": "execute_result"
    },
    {
     "data": {
      "text/plain": [
       "array([0., 1., 1., ..., 0., 0., 0.], dtype=float32)"
      ]
     },
     "execution_count": 24,
     "metadata": {},
     "output_type": "execute_result"
    }
   ],
   "source": [
    "# train_label, test_label 을 data type이 float(부동소수점 수)인 1차원 행렬(vector)로 변환\n",
    "# 각각 25000개의 영화리뷰 결과 (부정 : 0,  긍정 : 1)\n",
    "\n",
    "y_train = np.asarray(train_labels).astype('float32')\n",
    "y_test = np.asarray(test_labels).astype('float32')\n",
    "\n",
    "y_train\n",
    "y_test"
   ]
  },
  {
   "cell_type": "code",
   "execution_count": 25,
   "metadata": {},
   "outputs": [
    {
     "data": {
      "text/plain": [
       "(25000, 10000)"
      ]
     },
     "execution_count": 25,
     "metadata": {},
     "output_type": "execute_result"
    },
    {
     "data": {
      "text/plain": [
       "(25000, 10000)"
      ]
     },
     "execution_count": 25,
     "metadata": {},
     "output_type": "execute_result"
    },
    {
     "data": {
      "text/plain": [
       "(25000,)"
      ]
     },
     "execution_count": 25,
     "metadata": {},
     "output_type": "execute_result"
    },
    {
     "data": {
      "text/plain": [
       "(25000,)"
      ]
     },
     "execution_count": 25,
     "metadata": {},
     "output_type": "execute_result"
    }
   ],
   "source": [
    "# 결과적으로,\n",
    "\n",
    "# x_train data와 x_test data는 각각 25000개의 row로 이루어진 data이고\n",
    "# 각 row는 '0'과 '1' 로 이루어진 10000개의 column으로 이루어진 data 임\n",
    "x_train.shape\n",
    "x_test.shape\n",
    "\n",
    "# x_train label과 x_test label은 각각 25000개의 영화리뷰 결과 (부정 : 0,  긍정 : 1) 로 이루어진 Data 임\n",
    "y_train.shape\n",
    "y_test.shape"
   ]
  },
  {
   "cell_type": "markdown",
   "metadata": {},
   "source": [
    "### NN(Neural Network) 모델 생성"
   ]
  },
  {
   "cell_type": "code",
   "execution_count": 26,
   "metadata": {},
   "outputs": [],
   "source": [
    "from keras import models\n",
    "from keras import layers\n",
    "\n",
    "# 앞서와 마찬가지로 선형적으로 쌓는 Sequential 모델을 이용\n",
    "model = models.Sequential()\n",
    "\n",
    "# 입력층 : 입력 parameter는 10000이고, 출력 parameter는 16 임, 활성화 함수는 relu\n",
    "model.add(layers.Dense(16, activation='relu', input_shape=(10000,)))\n",
    "\n",
    "# 은닉층 : 입력 parameter는 16이고, 출력 parameter는 16 임, 활성화 함수는 relu\n",
    "model.add(layers.Dense(16, activation='relu'))\n",
    "\n",
    "# 출력층 : 입력 parameter는 16이고, 출력 parameter는 1 임, 활성화 함수는 sigmoid\n",
    "# 주로 Binary Classification의 경우는 'Sigmoid', Multi-Classification의 경우는 'Softmax' 활성화 함수 이용\n",
    "model.add(layers.Dense(1, activation='sigmoid')) "
   ]
  },
  {
   "cell_type": "code",
   "execution_count": 27,
   "metadata": {},
   "outputs": [
    {
     "name": "stdout",
     "output_type": "stream",
     "text": [
      "WARNING:tensorflow:From /usr/local/lib/python3.6/dist-packages/tensorflow/python/ops/nn_impl.py:180: add_dispatch_support.<locals>.wrapper (from tensorflow.python.ops.array_ops) is deprecated and will be removed in a future version.\n",
      "Instructions for updating:\n",
      "Use tf.where in 2.0, which has the same broadcast rule as np.where\n"
     ]
    }
   ],
   "source": [
    "# compile method를 이용하여 학습 과정을 구성\n",
    "# 옵티마이저는 Adam을 사용하고, Binary Classification 이므로 손실함수는 'binary_crossentropy'를 사용\n",
    "\n",
    "model.compile(optimizer='Adam', loss='binary_crossentropy', metrics=['accuracy'])"
   ]
  },
  {
   "cell_type": "markdown",
   "metadata": {},
   "source": [
    "### Training & Verification"
   ]
  },
  {
   "cell_type": "code",
   "execution_count": 28,
   "metadata": {},
   "outputs": [],
   "source": [
    "# 전체 25000 set의 Data에서 검증 Data로 10000 set 을 추출\n",
    "#  즉 x_train               : 5000 set\n",
    "#       partial_x_train : 15000 set\n",
    "\n",
    "x_val = x_train[:10000]\n",
    "partial_x_train = x_train[10000:]\n",
    "\n",
    "y_val = y_train[:10000]\n",
    "partial_y_train = y_train[10000:]"
   ]
  },
  {
   "cell_type": "code",
   "execution_count": 29,
   "metadata": {},
   "outputs": [
    {
     "name": "stdout",
     "output_type": "stream",
     "text": [
      "WARNING:tensorflow:From /usr/local/lib/python3.6/dist-packages/keras/backend/tensorflow_backend.py:422: The name tf.global_variables is deprecated. Please use tf.compat.v1.global_variables instead.\n",
      "\n",
      "Train on 15000 samples, validate on 10000 samples\n",
      "Epoch 1/20\n",
      "15000/15000 [==============================] - 2s 134us/step - loss: 0.5759 - accuracy: 0.7448 - val_loss: 0.4267 - val_accuracy: 0.8482\n",
      "Epoch 2/20\n",
      "15000/15000 [==============================] - 2s 103us/step - loss: 0.3218 - accuracy: 0.8979 - val_loss: 0.3060 - val_accuracy: 0.8825\n",
      "Epoch 3/20\n",
      "15000/15000 [==============================] - 2s 103us/step - loss: 0.2163 - accuracy: 0.9297 - val_loss: 0.2791 - val_accuracy: 0.8889\n",
      "Epoch 4/20\n",
      "15000/15000 [==============================] - 2s 104us/step - loss: 0.1629 - accuracy: 0.9506 - val_loss: 0.2824 - val_accuracy: 0.8860\n",
      "Epoch 5/20\n",
      "15000/15000 [==============================] - 2s 104us/step - loss: 0.1262 - accuracy: 0.9638 - val_loss: 0.2902 - val_accuracy: 0.8841\n",
      "Epoch 6/20\n",
      "15000/15000 [==============================] - 2s 105us/step - loss: 0.0976 - accuracy: 0.9750 - val_loss: 0.3093 - val_accuracy: 0.8831\n",
      "Epoch 7/20\n",
      "15000/15000 [==============================] - 2s 106us/step - loss: 0.0755 - accuracy: 0.9836 - val_loss: 0.3341 - val_accuracy: 0.8809\n",
      "Epoch 8/20\n",
      "15000/15000 [==============================] - 1s 98us/step - loss: 0.0570 - accuracy: 0.9899 - val_loss: 0.3553 - val_accuracy: 0.8805\n",
      "Epoch 9/20\n",
      "15000/15000 [==============================] - 1s 97us/step - loss: 0.0409 - accuracy: 0.9946 - val_loss: 0.3790 - val_accuracy: 0.8800\n",
      "Epoch 10/20\n",
      "15000/15000 [==============================] - 2s 103us/step - loss: 0.0294 - accuracy: 0.9972 - val_loss: 0.4048 - val_accuracy: 0.8767\n",
      "Epoch 11/20\n",
      "15000/15000 [==============================] - 2s 103us/step - loss: 0.0215 - accuracy: 0.9991 - val_loss: 0.4313 - val_accuracy: 0.8754\n",
      "Epoch 12/20\n",
      "15000/15000 [==============================] - 2s 108us/step - loss: 0.0158 - accuracy: 0.9993 - val_loss: 0.4565 - val_accuracy: 0.8744\n",
      "Epoch 13/20\n",
      "15000/15000 [==============================] - 2s 106us/step - loss: 0.0117 - accuracy: 0.9998 - val_loss: 0.4842 - val_accuracy: 0.8713\n",
      "Epoch 14/20\n",
      "15000/15000 [==============================] - 2s 106us/step - loss: 0.0086 - accuracy: 0.9999 - val_loss: 0.5083 - val_accuracy: 0.8729\n",
      "Epoch 15/20\n",
      "15000/15000 [==============================] - 2s 105us/step - loss: 0.0066 - accuracy: 0.9999 - val_loss: 0.5327 - val_accuracy: 0.8725\n",
      "Epoch 16/20\n",
      "15000/15000 [==============================] - 2s 107us/step - loss: 0.0051 - accuracy: 0.9999 - val_loss: 0.5541 - val_accuracy: 0.8720\n",
      "Epoch 17/20\n",
      "15000/15000 [==============================] - 2s 106us/step - loss: 0.0041 - accuracy: 0.9999 - val_loss: 0.5746 - val_accuracy: 0.8716\n",
      "Epoch 18/20\n",
      "15000/15000 [==============================] - 2s 104us/step - loss: 0.0034 - accuracy: 0.9999 - val_loss: 0.5934 - val_accuracy: 0.8708\n",
      "Epoch 19/20\n",
      "15000/15000 [==============================] - 2s 100us/step - loss: 0.0028 - accuracy: 1.0000 - val_loss: 0.6114 - val_accuracy: 0.8706\n",
      "Epoch 20/20\n",
      "15000/15000 [==============================] - 2s 106us/step - loss: 0.0024 - accuracy: 1.0000 - val_loss: 0.6288 - val_accuracy: 0.8704\n"
     ]
    }
   ],
   "source": [
    "# fit method를 이용해서 정해진 epoch 만큼  Training을 수행\n",
    "# 이때 Training Data(partial_x_train)과 Validation Data(x_val)을 주입하고, epoch, batch size 지정\n",
    "\n",
    "history = model.fit(partial_x_train, partial_y_train, epochs=20, batch_size=512, validation_data=(x_val, y_val))"
   ]
  },
  {
   "cell_type": "code",
   "execution_count": 30,
   "metadata": {},
   "outputs": [
    {
     "name": "stdout",
     "output_type": "stream",
     "text": [
      "Model: \"sequential_1\"\n",
      "_________________________________________________________________\n",
      "Layer (type)                 Output Shape              Param #   \n",
      "=================================================================\n",
      "dense_1 (Dense)              (None, 16)                160016    \n",
      "_________________________________________________________________\n",
      "dense_2 (Dense)              (None, 16)                272       \n",
      "_________________________________________________________________\n",
      "dense_3 (Dense)              (None, 1)                 17        \n",
      "=================================================================\n",
      "Total params: 160,305\n",
      "Trainable params: 160,305\n",
      "Non-trainable params: 0\n",
      "_________________________________________________________________\n"
     ]
    }
   ],
   "source": [
    "model.summary()\n",
    "\n",
    "#  dense_10 layer의 전체 paramenter의 수는 10000(입력) * 16(출력) + 16 = 160,016 임 (추가적으로 더하는 16은 bias)\n",
    "#  dense_11 layer의 전체 paramenter의 수는 16 * 16 + 16 = 272 임 (추가적으로 더하는 16은 bias)\n",
    "#  dense_3 layer의 전체 paramenter의 수는 16 * 1 + 1 = 17 임 (추가적으로 더하는 1은 bias)\n",
    "# 그러므로 총 paramter의 수는 160,016 + 272 + 17 = 160,305"
   ]
  },
  {
   "cell_type": "code",
   "execution_count": 31,
   "metadata": {},
   "outputs": [
    {
     "data": {
      "text/plain": [
       "dict_keys(['val_loss', 'val_accuracy', 'loss', 'accuracy'])"
      ]
     },
     "execution_count": 31,
     "metadata": {},
     "output_type": "execute_result"
    },
    {
     "data": {
      "text/plain": [
       "dict_values([[0.42666406888961794, 0.30601226983070373, 0.2791227550506592, 0.2824413288116455, 0.29018973217010496, 0.30934581084251406, 0.33408855657577513, 0.3553047766685486, 0.378989625453949, 0.4048480783462524, 0.4313274666309357, 0.45653742032051087, 0.48421209750175476, 0.5082752534866333, 0.5327225749969482, 0.5541212616920471, 0.5746112540245056, 0.5934330225944519, 0.6114479212760925, 0.6288444597244263], [0.8482000231742859, 0.8824999928474426, 0.8888999819755554, 0.8859999775886536, 0.8841000199317932, 0.8830999732017517, 0.8809000253677368, 0.8805000185966492, 0.8799999952316284, 0.8766999840736389, 0.8754000067710876, 0.8744000196456909, 0.8712999820709229, 0.8729000091552734, 0.8725000023841858, 0.871999979019165, 0.8715999722480774, 0.8708000183105469, 0.8705999851226807, 0.8704000115394592], [0.5758965683778127, 0.3217541454792023, 0.21628522926966348, 0.16286624524593354, 0.12623525365193686, 0.09761977179845174, 0.0754757174829642, 0.057003437399864194, 0.04090926062564055, 0.029415690067410467, 0.02152940209209919, 0.015797730325659117, 0.011688430349032084, 0.0086180113012592, 0.006562780769914389, 0.005144730868935585, 0.004116551058615248, 0.0033600670410941042, 0.0028079740467170876, 0.0023519954014569523], [0.7448, 0.8979333, 0.92973334, 0.9506, 0.9638, 0.975, 0.9836, 0.9899333, 0.9946, 0.9972, 0.99906665, 0.9993333, 0.9998, 0.99986666, 0.99986666, 0.99986666, 0.99993336, 0.99993336, 1.0, 1.0]])"
      ]
     },
     "execution_count": 31,
     "metadata": {},
     "output_type": "execute_result"
    }
   ],
   "source": [
    "# Training 시 생성된 정보를 저장하고 있는 history method를 이용하여 모든 val_loss, val_accuracy, loss, accuracy를 확인\n",
    "history_dict = history.history\n",
    "history_dict.keys()\n",
    "\n",
    "history_dict.values()"
   ]
  },
  {
   "cell_type": "markdown",
   "metadata": {},
   "source": [
    "### Graph Visualization"
   ]
  },
  {
   "cell_type": "code",
   "execution_count": 36,
   "metadata": {},
   "outputs": [
    {
     "data": {
      "text/plain": [
       "[<matplotlib.lines.Line2D at 0x7f26b233f5f8>]"
      ]
     },
     "execution_count": 36,
     "metadata": {},
     "output_type": "execute_result"
    },
    {
     "data": {
      "text/plain": [
       "[<matplotlib.lines.Line2D at 0x7f26aeca10b8>]"
      ]
     },
     "execution_count": 36,
     "metadata": {},
     "output_type": "execute_result"
    },
    {
     "data": {
      "text/plain": [
       "Text(0.5, 1.0, 'Training and validation loss')"
      ]
     },
     "execution_count": 36,
     "metadata": {},
     "output_type": "execute_result"
    },
    {
     "data": {
      "text/plain": [
       "Text(0.5, 0, 'Epochs')"
      ]
     },
     "execution_count": 36,
     "metadata": {},
     "output_type": "execute_result"
    },
    {
     "data": {
      "text/plain": [
       "Text(0, 0.5, 'Loss')"
      ]
     },
     "execution_count": 36,
     "metadata": {},
     "output_type": "execute_result"
    },
    {
     "data": {
      "text/plain": [
       "<matplotlib.legend.Legend at 0x7f26aed96668>"
      ]
     },
     "execution_count": 36,
     "metadata": {},
     "output_type": "execute_result"
    },
    {
     "data": {
      "image/png": "[encoded data removed]",
      "text/plain": [
       "<Figure size 432x288 with 1 Axes>"
      ]
     },
     "metadata": {
      "needs_background": "light"
     },
     "output_type": "display_data"
    }
   ],
   "source": [
    "# Training & Validation Loss Graph\n",
    "import matplotlib.pyplot as plt\n",
    "\n",
    "plt.clf()   # 그래프 초기화\n",
    "\n",
    "acc = history.history['accuracy']\n",
    "val_acc = history.history['val_accuracy']\n",
    "loss = history.history['loss']\n",
    "val_loss = history.history['val_loss']\n",
    "\n",
    "epochs = range(1, len(acc) + 1)\n",
    "\n",
    "plt.plot(epochs, loss, 'r', label='Training loss')\n",
    "plt.plot(epochs, val_loss, 'b', label='Validation loss')\n",
    "\n",
    "plt.title('Training and validation loss')\n",
    "plt.xlabel('Epochs')\n",
    "plt.ylabel('Loss')\n",
    "plt.legend()\n",
    "\n",
    "plt.show()"
   ]
  },
  {
   "cell_type": "markdown",
   "metadata": {},
   "source": [
    "위의 Graph에서, 학습이 진행되면서 Training loss는 계속 감소하나, Validation loss는 3 epoch가 지나면서 증가함을 확인 할 수 있음 <br>\n",
    "즉, 해당 모델이 3 epoch 부터 Training Data에 과도하게 최적화 되어 과적합(Overfitting)이 발생함을 알 수 있음"
   ]
  },
  {
   "cell_type": "code",
   "execution_count": 33,
   "metadata": {},
   "outputs": [
    {
     "data": {
      "text/plain": [
       "[<matplotlib.lines.Line2D at 0x7f26b6723ba8>]"
      ]
     },
     "execution_count": 33,
     "metadata": {},
     "output_type": "execute_result"
    },
    {
     "data": {
      "text/plain": [
       "[<matplotlib.lines.Line2D at 0x7f26b5df37b8>]"
      ]
     },
     "execution_count": 33,
     "metadata": {},
     "output_type": "execute_result"
    },
    {
     "data": {
      "text/plain": [
       "Text(0.5, 1.0, 'Training and validation accuracy')"
      ]
     },
     "execution_count": 33,
     "metadata": {},
     "output_type": "execute_result"
    },
    {
     "data": {
      "text/plain": [
       "Text(0.5, 0, 'Epochs')"
      ]
     },
     "execution_count": 33,
     "metadata": {},
     "output_type": "execute_result"
    },
    {
     "data": {
      "text/plain": [
       "Text(0, 0.5, 'Accuracy')"
      ]
     },
     "execution_count": 33,
     "metadata": {},
     "output_type": "execute_result"
    },
    {
     "data": {
      "text/plain": [
       "<matplotlib.legend.Legend at 0x7f26b67405c0>"
      ]
     },
     "execution_count": 33,
     "metadata": {},
     "output_type": "execute_result"
    },
    {
     "data": {
      "image/png": "[encoded data removed]",
      "text/plain": [
       "<Figure size 432x288 with 1 Axes>"
      ]
     },
     "metadata": {
      "needs_background": "light"
     },
     "output_type": "display_data"
    }
   ],
   "source": [
    "# Training & Validation Accuracy Graph\n",
    "plt.clf()   # 그래프 초기화\n",
    "\n",
    "acc = history_dict['accuracy']\n",
    "val_acc = history_dict['val_accuracy']\n",
    "\n",
    "plt.plot(epochs, acc, 'r', label='Training acc')\n",
    "plt.plot(epochs, val_acc, 'b', label='Validation acc')\n",
    "plt.title('Training and validation accuracy')\n",
    "plt.xlabel('Epochs')\n",
    "plt.ylabel('Accuracy')\n",
    "plt.legend()\n",
    "\n",
    "plt.show()"
   ]
  },
  {
   "cell_type": "markdown",
   "metadata": {},
   "source": [
    "위의 Graph에서, 학습이 진행되면서 Training accuracy는 12 epoch 부터는 거의 1에 가까움 <br>\n",
    "Validation accuracy는 3 epoch를 지나면서 역시 과적합(Overfitting)에 따라 조금씩 떨어짐을 알 수 있음  <br>"
   ]
  },
  {
   "cell_type": "code",
   "execution_count": 34,
   "metadata": {},
   "outputs": [
    {
     "name": "stdout",
     "output_type": "stream",
     "text": [
      "Epoch 1/4\n",
      "25000/25000 [==============================] - 2s 72us/step - loss: 0.4949 - accuracy: 0.8047\n",
      "Epoch 2/4\n",
      "25000/25000 [==============================] - 2s 66us/step - loss: 0.2527 - accuracy: 0.9114\n",
      "Epoch 3/4\n",
      "25000/25000 [==============================] - 2s 68us/step - loss: 0.1840 - accuracy: 0.9374\n",
      "Epoch 4/4\n",
      "25000/25000 [==============================] - 2s 67us/step - loss: 0.1475 - accuracy: 0.9515\n"
     ]
    },
    {
     "data": {
      "text/plain": [
       "<keras.callbacks.callbacks.History at 0x7f26b6cf5630>"
      ]
     },
     "execution_count": 34,
     "metadata": {},
     "output_type": "execute_result"
    },
    {
     "name": "stdout",
     "output_type": "stream",
     "text": [
      "25000/25000 [==============================] - 1s 48us/step\n"
     ]
    }
   ],
   "source": [
    "# 과적합 시점을(epoch 3 이후) 알았으니, 앞에서와 동일하게 처음부터 다시 Network를 구성\n",
    "model = models.Sequential()\n",
    "model.add(layers.Dense(16, activation='relu', input_shape=(10000,)))\n",
    "model.add(layers.Dense(16, activation='relu'))\n",
    "model.add(layers.Dense(1, activation='sigmoid'))\n",
    "\n",
    "model.compile(optimizer='Adam', loss='binary_crossentropy', metrics=['accuracy'])\n",
    "\n",
    "\n",
    "# fit method로 Training 시, epoch = 4로 Setting 하여 과적합 방지\n",
    "model.fit(x_train, y_train, epochs=4, batch_size=512)\n",
    "\n",
    "# evaluate method를 이용하여 입력 test data에 대한 loss, accuracy를 계산\n",
    "loss, accuracy = model.evaluate(x_test, y_test)"
   ]
  },
  {
   "cell_type": "code",
   "execution_count": 35,
   "metadata": {},
   "outputs": [
    {
     "name": "stdout",
     "output_type": "stream",
     "text": [
      "test_acc :  0.8817999958992004\n",
      "test_loss :  0.3046299138879776\n"
     ]
    }
   ],
   "source": [
    "# 약 88%의 정확도로 Movie Review를 정확하게 예측 함을 할 수 있음\n",
    "\n",
    "print('test_acc : ', accuracy)\n",
    "print('test_loss : ', loss)"
   ]
  }
 ],
 "metadata": {
  "kernelspec": {
   "display_name": "Python 3",
   "language": "python",
   "name": "python3"
  },
  "language_info": {
   "codemirror_mode": {
    "name": "ipython",
    "version": 3
   },
   "file_extension": ".py",
   "mimetype": "text/x-python",
   "name": "python",
   "nbconvert_exporter": "python",
   "pygments_lexer": "ipython3",
   "version": "3.6.8"
  }
 },
 "nbformat": 4,
 "nbformat_minor": 2
}
