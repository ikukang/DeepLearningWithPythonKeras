{
 "cells": [
  {
   "cell_type": "markdown",
   "metadata": {},
   "source": [
    "## 5.4-1-visualizing-object using Grad-CAM\n",
    "\n",
    "(1) 다른 Object에 대하여 Heatmap을 이용하여 활성화된 Class를 시각화(using Grad-CAM(Class Activation Map))를 실행해본 예제 임\n",
    "\n",
    "(2) MS windows에 포함되어 있는 코알라, 수국 image로 수행하였음"
   ]
  },
  {
   "cell_type": "code",
   "execution_count": 15,
   "metadata": {},
   "outputs": [
    {
     "data": {
      "text/plain": [
       "'2.3.1'"
      ]
     },
     "execution_count": 15,
     "metadata": {},
     "output_type": "execute_result"
    }
   ],
   "source": [
    "import keras\n",
    "keras.__version__"
   ]
  },
  {
   "cell_type": "code",
   "execution_count": 2,
   "metadata": {},
   "outputs": [
    {
     "name": "stdout",
     "output_type": "stream",
     "text": [
      "WARNING:tensorflow:From /usr/local/lib/python3.6/dist-packages/keras/backend/tensorflow_backend.py:4070: The name tf.nn.max_pool is deprecated. Please use tf.nn.max_pool2d instead.\n",
      "\n"
     ]
    }
   ],
   "source": [
    "from keras.applications.vgg16 import VGG16\n",
    "from keras import backend as K\n",
    "from matplotlib import pyplot as plt\n",
    "\n",
    "K.clear_session()\n",
    "\n",
    "# 지금까지는 상단의 Fully Connected Network는 제외하고 model을 생성했으나, 금번에는 모두 포함\n",
    "model = VGG16(weights='imagenet')"
   ]
  },
  {
   "cell_type": "markdown",
   "metadata": {},
   "source": [
    "## (1) Koala (코알라)"
   ]
  },
  {
   "cell_type": "code",
   "execution_count": 3,
   "metadata": {},
   "outputs": [],
   "source": [
    "# 해당 koala image를 VGG16 모델이 인식 할 수 있도록 다음의 전처리를 통해 변환 (크기 변환, 숫자 Type 변환)\n",
    "\n",
    "from keras.preprocessing import image\n",
    "from keras.applications.vgg16 import preprocess_input, decode_predictions\n",
    "import numpy as np\n",
    "\n",
    "img_path = './image/datasets/koala.jpg'\n",
    "\n",
    "# 224 × 224 인 PIL(Python Image Labrary) image객체로 변환\n",
    "img = image.load_img(img_path, target_size=(224, 224))\n",
    "\n",
    "# 해당 image 객체를 (224 * 224 * 3) 인  numpy 텐서로 변환\n",
    "x = image.img_to_array(img)\n",
    "\n",
    "# VGG16에 주입하기 위해  차원을 추가하여 (1 *224 * 224 * 3) 텐서로 변환\n",
    "x = np.expand_dims(x, axis=0)\n",
    "\n",
    "# keras.applications.vgg16.preprocess_input Method를 이용하여 전처리 (Channel 별 Color 정규화)\n",
    "x = preprocess_input(x)"
   ]
  },
  {
   "cell_type": "code",
   "execution_count": 4,
   "metadata": {},
   "outputs": [
    {
     "name": "stdout",
     "output_type": "stream",
     "text": [
      "WARNING:tensorflow:From /usr/local/lib/python3.6/dist-packages/keras/backend/tensorflow_backend.py:422: The name tf.global_variables is deprecated. Please use tf.compat.v1.global_variables instead.\n",
      "\n",
      "Predicted: [('n01882714', 'koala', 0.99999), ('n01883070', 'wombat', 5.2117684e-06), ('n01877812', 'wallaby', 2.6965424e-06), ('n02497673', 'Madagascar_cat', 1.0782513e-06), ('n02500267', 'indri', 5.7338883e-07)]\n"
     ]
    }
   ],
   "source": [
    "# VGG16 모델 주입 후, 다음과 같이 거의 100% 확률로 koala 일 가능성이 가장 높게 나타났음\n",
    "\n",
    "preds = model.predict(x)\n",
    "print('Predicted:', decode_predictions(preds, top=5)[0])"
   ]
  },
  {
   "cell_type": "code",
   "execution_count": 5,
   "metadata": {},
   "outputs": [
    {
     "data": {
      "text/plain": [
       "105"
      ]
     },
     "execution_count": 5,
     "metadata": {},
     "output_type": "execute_result"
    }
   ],
   "source": [
    "# VGG16 모델 주입 후 최종 결과 vector에서 최대 활성화 index를 확인\n",
    "# 최종 결과 Vector는 VGG16으로 예측한 10000개 Object에 대한 일치 확률 임\n",
    "np.argmax(preds[0])"
   ]
  },
  {
   "cell_type": "code",
   "execution_count": 6,
   "metadata": {},
   "outputs": [],
   "source": [
    "# Grad-CAM(Class Activaton Map) 처리 과정\n",
    "\n",
    "# African Elephant\n",
    "african_elephant_output = model.output[:, 105]\n",
    "\n",
    "# VGG16의 마지막 Convolution Layer인 block5_conv3 layer의 feature map\n",
    "last_conv_layer = model.get_layer('block5_conv3')\n",
    "\n",
    "# block5_conv3의 feature map 출력에 대한 African Elephant class의 gradient\n",
    "grads = K.gradients(african_elephant_output, last_conv_layer.output)[0]\n",
    "\n",
    "# feature map channel 별 gradient 평균 값이 담긴 vector\n",
    "pooled_grads = K.mean(grads, axis=(0, 1, 2))\n",
    "\n",
    "# Sample image가 주어졌을 때  pooled_grads와 block5_conv3의 feature map 출력 구하기\n",
    "iterate = K.function([model.input], [pooled_grads, last_conv_layer.output[0]])\n",
    "\n",
    "# 해당 elephant sample image를 주입하고 2개의 numpy array를 받음\n",
    "pooled_grads_value, conv_layer_output_value = iterate([x])\n",
    "\n",
    "for i in range(512):\n",
    "    conv_layer_output_value[:, :, i] *= pooled_grads_value[i]\n",
    "\n",
    "# 해당 feature map에서 channel axis를 따라 평균한 값이 class activaton heat map\n",
    "heatmap = np.mean(conv_layer_output_value, axis=-1)"
   ]
  },
  {
   "cell_type": "code",
   "execution_count": 7,
   "metadata": {
    "scrolled": false
   },
   "outputs": [
    {
     "data": {
      "image/png": "[encoded data removed]",
      "text/plain": [
       "<Figure size 288x288 with 1 Axes>"
      ]
     },
     "metadata": {
      "needs_background": "light"
     },
     "output_type": "display_data"
    }
   ],
   "source": [
    "# Heatmap을 0~1 사이 값으로 정규화한 최종 결과\n",
    "heatmap = np.maximum(heatmap, 0)\n",
    "heatmap /= np.max(heatmap)\n",
    "plt.matshow(heatmap)\n",
    "plt.show()"
   ]
  },
  {
   "cell_type": "code",
   "execution_count": 8,
   "metadata": {},
   "outputs": [
    {
     "data": {
      "text/plain": [
       "True"
      ]
     },
     "execution_count": 8,
     "metadata": {},
     "output_type": "execute_result"
    }
   ],
   "source": [
    "# OpenCV를 사용해 heat map에 원본 image를 겹쳐 새로운 image 생성\n",
    "\n",
    "import cv2\n",
    "\n",
    "# cv2 모듈을 사용해 원본 이미지를 로드\n",
    "img = cv2.imread(img_path)\n",
    "\n",
    "# heatmap을 원본 이미지 크기에 맞게 변경\n",
    "heatmap = cv2.resize(heatmap, (img.shape[1], img.shape[0]))\n",
    "\n",
    "# heatmap을 RGB 포맷으로 변환\n",
    "heatmap = np.uint8(255 * heatmap)\n",
    "\n",
    "# 히트맵으로 변환\n",
    "heatmap = cv2.applyColorMap(heatmap, cv2.COLORMAP_JET)\n",
    "\n",
    "# 0.4는 히트맵의 강도\n",
    "superimposed_img = heatmap * 0.4 + img\n",
    "\n",
    "# 디스크에 이미지를 저장\n",
    "cv2.imwrite('./image/datasets/koala_cam.jpg', superimposed_img)"
   ]
  },
  {
   "cell_type": "markdown",
   "metadata": {},
   "source": [
    "![elephant cam](./image/datasets/koala_cam.jpg)\n",
    "\n",
    "해당 Network(VGG16)에서는 100%의 확률로 코알라로 인지하였고, 붉은 색으로 변환된 코와 미간을 식별하여 인지 했을 것으로 판단 됨\n",
    " - 100% : koala\n",
    " - 0%     : wombat\n",
    " - 0%     : wallaby\n",
    " - 0%     : Madagascar cat\n",
    " - 0%    : indri"
   ]
  },
  {
   "cell_type": "markdown",
   "metadata": {},
   "source": [
    "![koala](./image/datasets/koala.jpg)"
   ]
  },
  {
   "cell_type": "markdown",
   "metadata": {},
   "source": [
    "## (2) hydrangeas (수국)"
   ]
  },
  {
   "cell_type": "code",
   "execution_count": 9,
   "metadata": {},
   "outputs": [],
   "source": [
    "# 해당 image를 VGG16 모델이 인식 할 수 있도록 다음의 전처리를 통해 변환 (크기 변환, 숫자 Type 변환)\n",
    "\n",
    "from keras.preprocessing import image\n",
    "from keras.applications.vgg16 import preprocess_input, decode_predictions\n",
    "import numpy as np\n",
    "\n",
    "img_path = './image/datasets/hydrangeas.jpg'\n",
    "\n",
    "# 224 × 224 인 PIL(Python Image Labrary) image객체로 변환\n",
    "img = image.load_img(img_path, target_size=(224, 224))\n",
    "\n",
    "# 해당 image 객체를 (224 * 224 * 3) 인  numpy 텐서로 변환\n",
    "x = image.img_to_array(img)\n",
    "\n",
    "# VGG16에 주입하기 위해  차원을 추가하여 (1 *224 * 224 * 3) 텐서로 변환\n",
    "x = np.expand_dims(x, axis=0)\n",
    "\n",
    "# keras.applications.vgg16.preprocess_input Method를 이용하여 전처리 (Channel 별 Color 정규화)\n",
    "x = preprocess_input(x)"
   ]
  },
  {
   "cell_type": "code",
   "execution_count": 10,
   "metadata": {},
   "outputs": [
    {
     "name": "stdout",
     "output_type": "stream",
     "text": [
      "Predicted: [('n07716358', 'zucchini', 0.20848839), ('n07718472', 'cucumber', 0.14579606), ('n03991062', 'pot', 0.12804578), ('n07714571', 'head_cabbage', 0.12721713), ('n12768682', 'buckeye', 0.08243804)]\n"
     ]
    }
   ],
   "source": [
    "# VGG16 Model에 주입\n",
    "\n",
    "preds = model.predict(x)\n",
    "print('Predicted:', decode_predictions(preds, top=5)[0])"
   ]
  },
  {
   "cell_type": "code",
   "execution_count": 11,
   "metadata": {},
   "outputs": [
    {
     "data": {
      "text/plain": [
       "939"
      ]
     },
     "execution_count": 11,
     "metadata": {},
     "output_type": "execute_result"
    }
   ],
   "source": [
    "# VGG16 모델 주입 후 최종 결과 vector에서 최대 활성화 index를 확인\n",
    "# 최종 결과 Vector는 VGG16으로 예측한 10000개 Object에 대한 일치 확률 임\n",
    "np.argmax(preds[0])"
   ]
  },
  {
   "cell_type": "code",
   "execution_count": 12,
   "metadata": {},
   "outputs": [],
   "source": [
    "# Grad-CAM(Class Activaton Map) 처리 과정\n",
    "\n",
    "# African Elephant\n",
    "african_elephant_output = model.output[:, 939]\n",
    "\n",
    "# VGG16의 마지막 Convolution Layer인 block5_conv3 layer의 feature map\n",
    "last_conv_layer = model.get_layer('block5_conv3')\n",
    "\n",
    "# block5_conv3의 feature map 출력에 대한 African Elephant class의 gradient\n",
    "grads = K.gradients(african_elephant_output, last_conv_layer.output)[0]\n",
    "\n",
    "# feature map channel 별 gradient 평균 값이 담긴 vector\n",
    "pooled_grads = K.mean(grads, axis=(0, 1, 2))\n",
    "\n",
    "# Sample image가 주어졌을 때  pooled_grads와 block5_conv3의 feature map 출력 구하기\n",
    "iterate = K.function([model.input], [pooled_grads, last_conv_layer.output[0]])\n",
    "\n",
    "# 해당 elephant sample image를 주입하고 2개의 numpy array를 받음\n",
    "pooled_grads_value, conv_layer_output_value = iterate([x])\n",
    "\n",
    "for i in range(512):\n",
    "    conv_layer_output_value[:, :, i] *= pooled_grads_value[i]\n",
    "\n",
    "# 해당 feature map에서 channel axis를 따라 평균한 값이 class activaton heat map\n",
    "heatmap = np.mean(conv_layer_output_value, axis=-1)"
   ]
  },
  {
   "cell_type": "code",
   "execution_count": 13,
   "metadata": {
    "scrolled": false
   },
   "outputs": [
    {
     "data": {
      "image/png": "[encoded data removed]",
      "text/plain": [
       "<Figure size 288x288 with 1 Axes>"
      ]
     },
     "metadata": {
      "needs_background": "light"
     },
     "output_type": "display_data"
    }
   ],
   "source": [
    "# Heatmap을 0~1 사이 값으로 정규화한 최종 결과\n",
    "heatmap = np.maximum(heatmap, 0)\n",
    "heatmap /= np.max(heatmap)\n",
    "plt.matshow(heatmap)\n",
    "plt.show()"
   ]
  },
  {
   "cell_type": "code",
   "execution_count": 14,
   "metadata": {},
   "outputs": [
    {
     "data": {
      "text/plain": [
       "True"
      ]
     },
     "execution_count": 14,
     "metadata": {},
     "output_type": "execute_result"
    }
   ],
   "source": [
    "# OpenCV를 사용해 heat map에 원본 image를 겹쳐 새로운 image 생성\n",
    "\n",
    "import cv2\n",
    "\n",
    "# cv2 모듈을 사용해 원본 이미지를 로드\n",
    "img = cv2.imread(img_path)\n",
    "\n",
    "# heatmap을 원본 이미지 크기에 맞게 변경\n",
    "heatmap = cv2.resize(heatmap, (img.shape[1], img.shape[0]))\n",
    "\n",
    "# heatmap을 RGB 포맷으로 변환\n",
    "heatmap = np.uint8(255 * heatmap)\n",
    "\n",
    "# 히트맵으로 변환\n",
    "heatmap = cv2.applyColorMap(heatmap, cv2.COLORMAP_JET)\n",
    "\n",
    "# 0.4는 히트맵의 강도\n",
    "superimposed_img = heatmap * 0.4 + img\n",
    "\n",
    "# 디스크에 이미지를 저장\n",
    "cv2.imwrite('./image/datasets/hydrangeas_cam.jpg', superimposed_img)"
   ]
  },
  {
   "cell_type": "markdown",
   "metadata": {},
   "source": [
    "![elephant cam](./image/datasets/hydrangeas_cam.jpg)"
   ]
  },
  {
   "cell_type": "markdown",
   "metadata": {},
   "source": [
    "위의 사진과 같이, 해당 Network(VGG16)에서는 붉은색으로 변환된 수국의 꽃과 잎을 식별하여 Object를 인지하고자 하였으나, 결과는 다음과 같음<br>\n",
    "수국(hydrangeas)이 training 대상 image에 포함되어 있지 않아, training 하지 않았을 것으로 예상 함\n",
    "\n",
    "- 21% : zucchini (주키니(오이 비슷한 서양호박)) \n",
    "- 15% : cucumber (오이)\n",
    "- 13% : pot (솥, 냄비)\n",
    "- 13% : head cabbage (양배추)\n",
    "- 8% : buckeye (칠엽수 나무)"
   ]
  },
  {
   "cell_type": "markdown",
   "metadata": {},
   "source": [
    "![hydrangeas](./image/datasets/hydrangeas.jpg)"
   ]
  }
 ],
 "metadata": {
  "kernelspec": {
   "display_name": "Python 3",
   "language": "python",
   "name": "python3"
  },
  "language_info": {
   "codemirror_mode": {
    "name": "ipython",
    "version": 3
   },
   "file_extension": ".py",
   "mimetype": "text/x-python",
   "name": "python",
   "nbconvert_exporter": "python",
   "pygments_lexer": "ipython3",
   "version": "3.6.8"
  }
 },
 "nbformat": 4,
 "nbformat_minor": 2
}
