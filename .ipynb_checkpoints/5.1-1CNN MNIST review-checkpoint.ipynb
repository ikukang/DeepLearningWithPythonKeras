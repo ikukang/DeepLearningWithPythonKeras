{
 "cells": [
  {
   "cell_type": "markdown",
   "metadata": {},
   "source": [
    "## 5.1-1 \n",
    "\n",
    "(1) 5-1의 CNN으로 MNIST 손글씨 식별 모델을 저장 후, 해당 모델을 이용하여 연습한 내용입니다.  <br><br>\n",
    "(2) 이번에는 종이에 수기로 1 ~ 9 까지 작성 후, 해당 숫자를 잘 선별 할 수 있는지 확인해 보았습니다.<br><br>"
   ]
  },
  {
   "cell_type": "markdown",
   "metadata": {},
   "source": [
    "### 수기로 작성한 숫자 이미지\n",
    "![title](./image/0~9.jpg)"
   ]
  },
  {
   "cell_type": "code",
   "execution_count": 1,
   "metadata": {},
   "outputs": [],
   "source": [
    "# 사용 상의 편의를 위한 Initial Setting \n",
    "\n",
    "# 실행결과를 한 창에 표시\n",
    "# InteractiveShell.ast_node_interactivity : 'all' | 'last' | 'last_expr' | 'none' (기본값은 'last_expr')\n",
    "from IPython.core.interactiveshell import InteractiveShell\n",
    "InteractiveShell.ast_node_interactivity = \"all\"\n",
    "\n",
    "# numpy 소숫점 setting\n",
    "import numpy as np\n",
    "np.set_printoptions(precision=7)\n",
    "\n",
    "# pandas이용하여 grid display\n",
    "import numpy as np\n",
    "import pandas as pd\n",
    "pd.set_option('display.max_rows', None)         # 최대 표시 줄 수 제한 해제\n",
    "pd.set_option('display.max_columns', None)  # 최대 표시 컬럼 수 제한 해제\n",
    "pd.set_option('display.max_colwidth', -1)        # 컬럼내 데이터 표시 제한 해제"
   ]
  },
  {
   "cell_type": "code",
   "execution_count": 2,
   "metadata": {},
   "outputs": [],
   "source": [
    "# Image Control을 위해 PIL(Python Image Library) 사용\n",
    "from PIL import Image\n",
    "from PIL import ImageFilter\n",
    "import matplotlib.pyplot as plt\n",
    "import os"
   ]
  },
  {
   "cell_type": "markdown",
   "metadata": {},
   "source": [
    "# 위의 Image 중 '8' 을 선택"
   ]
  },
  {
   "cell_type": "code",
   "execution_count": 3,
   "metadata": {},
   "outputs": [],
   "source": [
    "# Test Data로 숫자 8을 선택\n",
    "image_path = './image/8.jpg'"
   ]
  },
  {
   "cell_type": "code",
   "execution_count": 4,
   "metadata": {},
   "outputs": [],
   "source": [
    "# Image Resizing : 수기로 작성한 숫자 image를 CNN에 주입 할 수 있도록 (28 * 28) 행렬의 이미지로 변환하여 저장\n",
    "image = Image.open(image_path)\n",
    "resize_image = image.resize((28,28))\n",
    "resize_image.save(image_path)"
   ]
  },
  {
   "cell_type": "code",
   "execution_count": 5,
   "metadata": {},
   "outputs": [],
   "source": [
    "# 해당 image를 흑백 (grey scale) image로 변환하여 재 저장\n",
    "image_file = Image.open(image_path) \n",
    "image_file = image_file.convert('L') \n",
    "image_file.save('result1.jpg')\n",
    "\n",
    "# 흑백 색상 반전을 위해 행렬의 각 원소를 255에서  차감 함\n",
    "img_array = np.array(image_file)\n",
    "numberOne = 255 - img_array"
   ]
  },
  {
   "cell_type": "code",
   "execution_count": 6,
   "metadata": {},
   "outputs": [
    {
     "data": {
      "text/plain": [
       "<matplotlib.image.AxesImage at 0x7f9a87f9f470>"
      ]
     },
     "execution_count": 6,
     "metadata": {},
     "output_type": "execute_result"
    },
    {
     "data": {
      "image/png": "[encoded data removed]",
      "text/plain": [
       "<Figure size 432x288 with 1 Axes>"
      ]
     },
     "metadata": {
      "needs_background": "light"
     },
     "output_type": "display_data"
    }
   ],
   "source": [
    "# 해당 Image Display\n",
    "from skimage import color\n",
    "plt.imshow(color.rgb2gray(img_array), cmap=plt.cm.gray)\n",
    "plt.show()"
   ]
  },
  {
   "cell_type": "code",
   "execution_count": 27,
   "metadata": {},
   "outputs": [],
   "source": [
    "# 5-1 예제에서 저장한 MNIST 숫자 식별 CNN 모델 불러옴\n",
    "from keras.models import load_model\n",
    "model = load_model('mnist_cnn.h5')"
   ]
  },
  {
   "cell_type": "code",
   "execution_count": 8,
   "metadata": {},
   "outputs": [
    {
     "data": {
      "text/plain": [
       "(1, 28, 28, 1)"
      ]
     },
     "execution_count": 8,
     "metadata": {},
     "output_type": "execute_result"
    },
    {
     "data": {
      "text/plain": [
       "(1, 10)"
      ]
     },
     "execution_count": 8,
     "metadata": {},
     "output_type": "execute_result"
    }
   ],
   "source": [
    "import keras\n",
    "import numpy as np\n",
    "from keras import layers\n",
    "from keras import models\n",
    "from keras.utils import to_categorical\n",
    "\n",
    "#  CNN에 주입하기 위해 2차원 행렬(28 * 28)를 4차원 텐서(10000 * 28 * 28 * 1)로 reshape 하고, 255로 나누어 정규화\n",
    "test_images = numberOne.reshape((1, 28, 28, 1))\n",
    "test_images = test_images.astype('float32') / 255\n",
    "\n",
    "# 정답 Label (8)을 one-hot encoding으로 저장\n",
    "numberTest = np.array([[0,0,0,0,0,0,0,0,1,0]])\n",
    "test_labels = numberTest\n",
    "\n",
    "# test_image, test_label shape 확인\n",
    "test_images.shape\n",
    "test_labels.shape"
   ]
  },
  {
   "cell_type": "code",
   "execution_count": 9,
   "metadata": {},
   "outputs": [
    {
     "data": {
      "text/plain": [
       "array([8])"
      ]
     },
     "execution_count": 9,
     "metadata": {},
     "output_type": "execute_result"
    },
    {
     "data": {
      "text/plain": [
       "array([8])"
      ]
     },
     "execution_count": 9,
     "metadata": {},
     "output_type": "execute_result"
    }
   ],
   "source": [
    "# predict method로 test image 식별하여 label 값과 동일한지 확인\n",
    "predicted_result = model.predict(test_images)\n",
    "predicted_labels = np.argmax(predicted_result, axis=1)\n",
    "tests_labels = np.argmax(test_labels, axis=1)\n",
    "\n",
    "predicted_labels\n",
    "tests_labels"
   ]
  },
  {
   "cell_type": "code",
   "execution_count": 10,
   "metadata": {
    "scrolled": true
   },
   "outputs": [
    {
     "data": {
      "text/plain": [
       "<Figure size 1728x1152 with 0 Axes>"
      ]
     },
     "execution_count": 10,
     "metadata": {},
     "output_type": "execute_result"
    },
    {
     "data": {
      "text/plain": [
       "<matplotlib.axes._subplots.AxesSubplot at 0x7f9a5a564b00>"
      ]
     },
     "execution_count": 10,
     "metadata": {},
     "output_type": "execute_result"
    },
    {
     "data": {
      "text/plain": [
       "<matplotlib.image.AxesImage at 0x7f9a59fc1128>"
      ]
     },
     "execution_count": 10,
     "metadata": {},
     "output_type": "execute_result"
    },
    {
     "data": {
      "text/plain": [
       "Text(0.5, 1.0, 'Predict:8  Label:8')"
      ]
     },
     "execution_count": 10,
     "metadata": {},
     "output_type": "execute_result"
    },
    {
     "data": {
      "image/png": "[encoded data removed]",
      "text/plain": [
       "<Figure size 1728x1152 with 1 Axes>"
      ]
     },
     "metadata": {
      "needs_background": "light"
     },
     "output_type": "display_data"
    }
   ],
   "source": [
    "# 해당 image display (다중 image에 대한 test 및 결과 display 시 재사용 예정)\n",
    "import numpy as np\n",
    "import random\n",
    "import matplotlib.pyplot as plt\n",
    "\n",
    "result = []\n",
    "\n",
    "for n in range(0, len(tests_labels)):\n",
    "        result.append(n)\n",
    "\n",
    "samples = result\n",
    "count = 0\n",
    "nrows = ncols = 4\n",
    "\n",
    "plt.figure(figsize=(24,16))\n",
    "\n",
    "for n in samples:\n",
    "    count += 1\n",
    "    plt.subplot(nrows, ncols, count)\n",
    "    plt.imshow(test_images[n].reshape(28, 28), cmap='Greys', interpolation='nearest')\n",
    "    tmp = \"Predict:\" + str(predicted_labels[n])+\"  Label:\"+str(tests_labels[n])\n",
    "    plt.title(tmp)\n",
    "\n",
    "plt.tight_layout()\n",
    "plt.show()"
   ]
  },
  {
   "cell_type": "markdown",
   "metadata": {},
   "source": [
    "# 위의 Image 중 '3' 을 선택"
   ]
  },
  {
   "cell_type": "code",
   "execution_count": 11,
   "metadata": {},
   "outputs": [],
   "source": [
    "# Test Data로 숫자 8을 선택\n",
    "image_path = './image/3.jpg'"
   ]
  },
  {
   "cell_type": "code",
   "execution_count": 12,
   "metadata": {},
   "outputs": [],
   "source": [
    "# Image Resizing : 수기로 작성한 숫자 image를 CNN에 주입 할 수 있도록 (28 * 28) 행렬의 이미지로 변환하여 저장\n",
    "image = Image.open(image_path)\n",
    "resize_image = image.resize((28,28))\n",
    "resize_image.save(image_path)"
   ]
  },
  {
   "cell_type": "code",
   "execution_count": 13,
   "metadata": {},
   "outputs": [],
   "source": [
    "# 해당 image를 흑백 (grey scale) image로 변환하여 재 저장\n",
    "image_file = Image.open(image_path) \n",
    "image_file = image_file.convert('L') \n",
    "image_file.save('result1.jpg')\n",
    "\n",
    "# 흑백 색상 반전을 위해 행렬의 각 원소를 255에서  차감 함\n",
    "img_array = np.array(image_file)\n",
    "numberOne = 255 - img_array"
   ]
  },
  {
   "cell_type": "code",
   "execution_count": 14,
   "metadata": {},
   "outputs": [
    {
     "data": {
      "text/plain": [
       "<matplotlib.image.AxesImage at 0x7f9a590170b8>"
      ]
     },
     "execution_count": 14,
     "metadata": {},
     "output_type": "execute_result"
    },
    {
     "data": {
      "image/png": "[encoded data removed]",
      "text/plain": [
       "<Figure size 432x288 with 1 Axes>"
      ]
     },
     "metadata": {
      "needs_background": "light"
     },
     "output_type": "display_data"
    }
   ],
   "source": [
    "# 해당 Image Display\n",
    "from skimage import color\n",
    "plt.imshow(color.rgb2gray(img_array), cmap=plt.cm.gray)\n",
    "plt.show()"
   ]
  },
  {
   "cell_type": "code",
   "execution_count": 15,
   "metadata": {},
   "outputs": [],
   "source": [
    "# 5-1 예제에서 저장한 MNIST 숫자 식별 CNN 모델 불러옴\n",
    "from keras.models import load_model\n",
    "model = load_model('mnist_cnn.h5')"
   ]
  },
  {
   "cell_type": "code",
   "execution_count": 16,
   "metadata": {},
   "outputs": [
    {
     "data": {
      "text/plain": [
       "(1, 28, 28, 1)"
      ]
     },
     "execution_count": 16,
     "metadata": {},
     "output_type": "execute_result"
    },
    {
     "data": {
      "text/plain": [
       "(1, 10)"
      ]
     },
     "execution_count": 16,
     "metadata": {},
     "output_type": "execute_result"
    }
   ],
   "source": [
    "import keras\n",
    "import numpy as np\n",
    "from keras import layers\n",
    "from keras import models\n",
    "from keras.utils import to_categorical\n",
    "\n",
    "#  CNN에 주입하기 위해 2차원 행렬(28 * 28)를 4차원 텐서(10000 * 28 * 28 * 1)로 reshape 하고, 255로 나누어 정규화\n",
    "test_images = numberOne.reshape((1, 28, 28, 1))\n",
    "test_images = test_images.astype('float32') / 255\n",
    "\n",
    "# 정답 Label (8)을 one-hot encoding으로 저장\n",
    "numberTest = np.array([[0,0,0,1,0,0,0,0,0,0]])\n",
    "test_labels = numberTest\n",
    "\n",
    "# test_image, test_label shape 확인\n",
    "test_images.shape\n",
    "test_labels.shape"
   ]
  },
  {
   "cell_type": "code",
   "execution_count": 17,
   "metadata": {},
   "outputs": [
    {
     "data": {
      "text/plain": [
       "array([3])"
      ]
     },
     "execution_count": 17,
     "metadata": {},
     "output_type": "execute_result"
    },
    {
     "data": {
      "text/plain": [
       "array([3])"
      ]
     },
     "execution_count": 17,
     "metadata": {},
     "output_type": "execute_result"
    }
   ],
   "source": [
    "# predict method로 test image 식별하여 label 값과 동일한지 확인\n",
    "predicted_result = model.predict(test_images)\n",
    "predicted_labels = np.argmax(predicted_result, axis=1)\n",
    "tests_labels = np.argmax(test_labels, axis=1)\n",
    "\n",
    "predicted_labels\n",
    "tests_labels"
   ]
  },
  {
   "cell_type": "code",
   "execution_count": 18,
   "metadata": {
    "scrolled": true
   },
   "outputs": [
    {
     "data": {
      "text/plain": [
       "<Figure size 1728x1152 with 0 Axes>"
      ]
     },
     "execution_count": 18,
     "metadata": {},
     "output_type": "execute_result"
    },
    {
     "data": {
      "text/plain": [
       "<matplotlib.axes._subplots.AxesSubplot at 0x7f9a599b4978>"
      ]
     },
     "execution_count": 18,
     "metadata": {},
     "output_type": "execute_result"
    },
    {
     "data": {
      "text/plain": [
       "<matplotlib.image.AxesImage at 0x7f9a59960390>"
      ]
     },
     "execution_count": 18,
     "metadata": {},
     "output_type": "execute_result"
    },
    {
     "data": {
      "text/plain": [
       "Text(0.5, 1.0, 'Predict:3  Label:3')"
      ]
     },
     "execution_count": 18,
     "metadata": {},
     "output_type": "execute_result"
    },
    {
     "data": {
      "image/png": "[encoded data removed]",
      "text/plain": [
       "<Figure size 1728x1152 with 1 Axes>"
      ]
     },
     "metadata": {
      "needs_background": "light"
     },
     "output_type": "display_data"
    }
   ],
   "source": [
    "# 해당 image display (다중 image에 대한 test 및 결과 display 시 재사용 예정)\n",
    "import numpy as np\n",
    "import matplotlib.pyplot as plt\n",
    "\n",
    "result = []\n",
    "\n",
    "for n in range(0, len(tests_labels)):\n",
    "        result.append(n)\n",
    "\n",
    "samples = result\n",
    "count = 0\n",
    "nrows = ncols = 4\n",
    "\n",
    "plt.figure(figsize=(24,16))\n",
    "\n",
    "for n in samples:\n",
    "    count += 1\n",
    "    plt.subplot(nrows, ncols, count)\n",
    "    plt.imshow(test_images[n].reshape(28, 28), cmap='Greys', interpolation='nearest')\n",
    "    tmp = \"Predict:\" + str(predicted_labels[n])+\"  Label:\"+str(tests_labels[n])\n",
    "    plt.title(tmp)\n",
    "\n",
    "plt.tight_layout()\n",
    "plt.show()"
   ]
  },
  {
   "cell_type": "markdown",
   "metadata": {},
   "source": [
    "# 위의 Image 중 '5' 을 선택"
   ]
  },
  {
   "cell_type": "code",
   "execution_count": 19,
   "metadata": {},
   "outputs": [],
   "source": [
    "# Test Data로 숫자 8을 선택\n",
    "image_path = './image/5.jpg'"
   ]
  },
  {
   "cell_type": "code",
   "execution_count": 20,
   "metadata": {},
   "outputs": [],
   "source": [
    "# Image Resizing : 수기로 작성한 숫자 image를 CNN에 주입 할 수 있도록 (28 * 28) 행렬의 이미지로 변환하여 저장\n",
    "image = Image.open(image_path)\n",
    "resize_image = image.resize((28,28))\n",
    "resize_image.save(image_path)"
   ]
  },
  {
   "cell_type": "code",
   "execution_count": 21,
   "metadata": {},
   "outputs": [],
   "source": [
    "# 해당 image를 흑백 (grey scale) image로 변환하여 재 저장\n",
    "image_file = Image.open(image_path) \n",
    "image_file = image_file.convert('L') \n",
    "image_file.save('result1.jpg')\n",
    "\n",
    "# 흑백 색상 반전을 위해 행렬의 각 원소를 255에서  차감 함\n",
    "img_array = np.array(image_file)\n",
    "numberOne = 255 - img_array"
   ]
  },
  {
   "cell_type": "code",
   "execution_count": 22,
   "metadata": {},
   "outputs": [
    {
     "data": {
      "text/plain": [
       "<matplotlib.image.AxesImage at 0x7f9a5993aef0>"
      ]
     },
     "execution_count": 22,
     "metadata": {},
     "output_type": "execute_result"
    },
    {
     "data": {
      "image/png": "[encoded data removed]",
      "text/plain": [
       "<Figure size 432x288 with 1 Axes>"
      ]
     },
     "metadata": {
      "needs_background": "light"
     },
     "output_type": "display_data"
    }
   ],
   "source": [
    "# 해당 Image Display\n",
    "from skimage import color\n",
    "plt.imshow(color.rgb2gray(img_array), cmap=plt.cm.gray)\n",
    "plt.show()"
   ]
  },
  {
   "cell_type": "code",
   "execution_count": 23,
   "metadata": {},
   "outputs": [],
   "source": [
    "# 5-1 예제에서 저장한 MNIST 숫자 식별 CNN 모델 불러옴\n",
    "from keras.models import load_model\n",
    "model = load_model('mnist_cnn.h5')"
   ]
  },
  {
   "cell_type": "code",
   "execution_count": 24,
   "metadata": {},
   "outputs": [
    {
     "data": {
      "text/plain": [
       "(1, 28, 28, 1)"
      ]
     },
     "execution_count": 24,
     "metadata": {},
     "output_type": "execute_result"
    },
    {
     "data": {
      "text/plain": [
       "(1, 10)"
      ]
     },
     "execution_count": 24,
     "metadata": {},
     "output_type": "execute_result"
    }
   ],
   "source": [
    "import keras\n",
    "import numpy as np\n",
    "from keras import layers\n",
    "from keras import models\n",
    "from keras.utils import to_categorical\n",
    "\n",
    "#  CNN에 주입하기 위해 2차원 행렬(28 * 28)를 4차원 텐서(10000 * 28 * 28 * 1)로 reshape 하고, 255로 나누어 정규화\n",
    "test_images = numberOne.reshape((1, 28, 28, 1))\n",
    "test_images = test_images.astype('float32') / 255\n",
    "\n",
    "# 정답 Label (8)을 one-hot encoding으로 저장\n",
    "numberTest = np.array([[0,0,0,0,0,1,0,0,0,0]])\n",
    "test_labels = numberTest\n",
    "\n",
    "# test_image, test_label shape 확인\n",
    "test_images.shape\n",
    "test_labels.shape"
   ]
  },
  {
   "cell_type": "code",
   "execution_count": 25,
   "metadata": {},
   "outputs": [
    {
     "data": {
      "text/plain": [
       "array([5])"
      ]
     },
     "execution_count": 25,
     "metadata": {},
     "output_type": "execute_result"
    },
    {
     "data": {
      "text/plain": [
       "array([5])"
      ]
     },
     "execution_count": 25,
     "metadata": {},
     "output_type": "execute_result"
    }
   ],
   "source": [
    "# predict method로 test image 식별하여 label 값과 동일한지 확인\n",
    "predicted_result = model.predict(test_images)\n",
    "predicted_labels = np.argmax(predicted_result, axis=1)\n",
    "tests_labels = np.argmax(test_labels, axis=1)\n",
    "\n",
    "predicted_labels\n",
    "tests_labels"
   ]
  },
  {
   "cell_type": "code",
   "execution_count": 26,
   "metadata": {
    "scrolled": true
   },
   "outputs": [
    {
     "data": {
      "text/plain": [
       "<Figure size 1728x1152 with 0 Axes>"
      ]
     },
     "execution_count": 26,
     "metadata": {},
     "output_type": "execute_result"
    },
    {
     "data": {
      "text/plain": [
       "<matplotlib.axes._subplots.AxesSubplot at 0x7f9a58b1be48>"
      ]
     },
     "execution_count": 26,
     "metadata": {},
     "output_type": "execute_result"
    },
    {
     "data": {
      "text/plain": [
       "<matplotlib.image.AxesImage at 0x7f9a58ada5c0>"
      ]
     },
     "execution_count": 26,
     "metadata": {},
     "output_type": "execute_result"
    },
    {
     "data": {
      "text/plain": [
       "Text(0.5, 1.0, 'Predict:5  Label:5')"
      ]
     },
     "execution_count": 26,
     "metadata": {},
     "output_type": "execute_result"
    },
    {
     "data": {
      "image/png": "[encoded data removed]",
      "text/plain": [
       "<Figure size 1728x1152 with 1 Axes>"
      ]
     },
     "metadata": {
      "needs_background": "light"
     },
     "output_type": "display_data"
    }
   ],
   "source": [
    "# 해당 image display (다중 image에 대한 test 및 결과 display 시 재사용 예정)\n",
    "import numpy as np\n",
    "import matplotlib.pyplot as plt\n",
    "\n",
    "result = []\n",
    "\n",
    "for n in range(0, len(tests_labels)):\n",
    "        result.append(n)\n",
    "\n",
    "samples = result\n",
    "count = 0\n",
    "nrows = ncols = 4\n",
    "\n",
    "plt.figure(figsize=(24,16))\n",
    "\n",
    "for n in samples:\n",
    "    count += 1\n",
    "    plt.subplot(nrows, ncols, count)\n",
    "    plt.imshow(test_images[n].reshape(28, 28), cmap='Greys', interpolation='nearest')\n",
    "    tmp = \"Predict:\" + str(predicted_labels[n])+\"  Label:\"+str(tests_labels[n])\n",
    "    plt.title(tmp)\n",
    "\n",
    "plt.tight_layout()\n",
    "plt.show()"
   ]
  }
 ],
 "metadata": {
  "kernelspec": {
   "display_name": "Python 3",
   "language": "python",
   "name": "python3"
  },
  "language_info": {
   "codemirror_mode": {
    "name": "ipython",
    "version": 3
   },
   "file_extension": ".py",
   "mimetype": "text/x-python",
   "name": "python",
   "nbconvert_exporter": "python",
   "pygments_lexer": "ipython3",
   "version": "3.6.8"
  }
 },
 "nbformat": 4,
 "nbformat_minor": 2
}
