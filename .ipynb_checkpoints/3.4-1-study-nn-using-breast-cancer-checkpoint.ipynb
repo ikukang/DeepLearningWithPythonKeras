{
 "cells": [
  {
   "cell_type": "code",
   "execution_count": 1,
   "metadata": {},
   "outputs": [],
   "source": [
    "# 사용 상의 편의를 위한 Initial Setting \n",
    "\n",
    "# 실행결과를 한 창에 표시\n",
    "from IPython.core.interactiveshell import InteractiveShell\n",
    "InteractiveShell.ast_node_interactivity = \"all\"\n",
    "\n",
    "# numpy 소숫점 setting\n",
    "import numpy as np\n",
    "np.set_printoptions(precision=7)\n",
    "\n",
    "# pandas이용하여 grid display\n",
    "import numpy as np\n",
    "import pandas as pd\n",
    "pd.set_option('display.max_rows', None)         # 최대 표시 줄 수 제한 해제\n",
    "pd.set_option('display.max_columns', None)  # 최대 표시 컬럼 수 제한 해제\n",
    "pd.set_option('display.max_colwidth', -1)        # 컬럼내 데이터 표시 제한 해제"
   ]
  },
  {
   "cell_type": "code",
   "execution_count": 2,
   "metadata": {},
   "outputs": [
    {
     "name": "stdout",
     "output_type": "stream",
     "text": [
      ".. _breast_cancer_dataset:\n",
      "\n",
      "Breast cancer wisconsin (diagnostic) dataset\n",
      "--------------------------------------------\n",
      "\n",
      "**Data Set Characteristics:**\n",
      "\n",
      "    :Number of Instances: 569\n",
      "\n",
      "    :Number of Attributes: 30 numeric, predictive attributes and the class\n",
      "\n",
      "    :Attribute Information:\n",
      "        - radius (mean of distances from center to points on the perimeter)\n",
      "        - texture (standard deviation of gray-scale values)\n",
      "        - perimeter\n",
      "        - area\n",
      "        - smoothness (local variation in radius lengths)\n",
      "        - compactness (perimeter^2 / area - 1.0)\n",
      "        - concavity (severity of concave portions of the contour)\n",
      "        - concave points (number of concave portions of the contour)\n",
      "        - symmetry \n",
      "        - fractal dimension (\"coastline approximation\" - 1)\n",
      "\n",
      "        The mean, standard error, and \"worst\" or largest (mean of the three\n",
      "        largest values) of these features were computed for each image,\n",
      "        resulting in 30 features.  For instance, field 3 is Mean Radius, field\n",
      "        13 is Radius SE, field 23 is Worst Radius.\n",
      "\n",
      "        - class:\n",
      "                - WDBC-Malignant\n",
      "                - WDBC-Benign\n",
      "\n",
      "    :Summary Statistics:\n",
      "\n",
      "    ===================================== ====== ======\n",
      "                                           Min    Max\n",
      "    ===================================== ====== ======\n",
      "    radius (mean):                        6.981  28.11\n",
      "    texture (mean):                       9.71   39.28\n",
      "    perimeter (mean):                     43.79  188.5\n",
      "    area (mean):                          143.5  2501.0\n",
      "    smoothness (mean):                    0.053  0.163\n",
      "    compactness (mean):                   0.019  0.345\n",
      "    concavity (mean):                     0.0    0.427\n",
      "    concave points (mean):                0.0    0.201\n",
      "    symmetry (mean):                      0.106  0.304\n",
      "    fractal dimension (mean):             0.05   0.097\n",
      "    radius (standard error):              0.112  2.873\n",
      "    texture (standard error):             0.36   4.885\n",
      "    perimeter (standard error):           0.757  21.98\n",
      "    area (standard error):                6.802  542.2\n",
      "    smoothness (standard error):          0.002  0.031\n",
      "    compactness (standard error):         0.002  0.135\n",
      "    concavity (standard error):           0.0    0.396\n",
      "    concave points (standard error):      0.0    0.053\n",
      "    symmetry (standard error):            0.008  0.079\n",
      "    fractal dimension (standard error):   0.001  0.03\n",
      "    radius (worst):                       7.93   36.04\n",
      "    texture (worst):                      12.02  49.54\n",
      "    perimeter (worst):                    50.41  251.2\n",
      "    area (worst):                         185.2  4254.0\n",
      "    smoothness (worst):                   0.071  0.223\n",
      "    compactness (worst):                  0.027  1.058\n",
      "    concavity (worst):                    0.0    1.252\n",
      "    concave points (worst):               0.0    0.291\n",
      "    symmetry (worst):                     0.156  0.664\n",
      "    fractal dimension (worst):            0.055  0.208\n",
      "    ===================================== ====== ======\n",
      "\n",
      "    :Missing Attribute Values: None\n",
      "\n",
      "    :Class Distribution: 212 - Malignant, 357 - Benign\n",
      "\n",
      "    :Creator:  Dr. William H. Wolberg, W. Nick Street, Olvi L. Mangasarian\n",
      "\n",
      "    :Donor: Nick Street\n",
      "\n",
      "    :Date: November, 1995\n",
      "\n",
      "This is a copy of UCI ML Breast Cancer Wisconsin (Diagnostic) datasets.\n",
      "https://goo.gl/U2Uwz2\n",
      "\n",
      "Features are computed from a digitized image of a fine needle\n",
      "aspirate (FNA) of a breast mass.  They describe\n",
      "characteristics of the cell nuclei present in the image.\n",
      "\n",
      "Separating plane described above was obtained using\n",
      "Multisurface Method-Tree (MSM-T) [K. P. Bennett, \"Decision Tree\n",
      "Construction Via Linear Programming.\" Proceedings of the 4th\n",
      "Midwest Artificial Intelligence and Cognitive Science Society,\n",
      "pp. 97-101, 1992], a classification method which uses linear\n",
      "programming to construct a decision tree.  Relevant features\n",
      "were selected using an exhaustive search in the space of 1-4\n",
      "features and 1-3 separating planes.\n",
      "\n",
      "The actual linear program used to obtain the separating plane\n",
      "in the 3-dimensional space is that described in:\n",
      "[K. P. Bennett and O. L. Mangasarian: \"Robust Linear\n",
      "Programming Discrimination of Two Linearly Inseparable Sets\",\n",
      "Optimization Methods and Software 1, 1992, 23-34].\n",
      "\n",
      "This database is also available through the UW CS ftp server:\n",
      "\n",
      "ftp ftp.cs.wisc.edu\n",
      "cd math-prog/cpo-dataset/machine-learn/WDBC/\n",
      "\n",
      ".. topic:: References\n",
      "\n",
      "   - W.N. Street, W.H. Wolberg and O.L. Mangasarian. Nuclear feature extraction \n",
      "     for breast tumor diagnosis. IS&T/SPIE 1993 International Symposium on \n",
      "     Electronic Imaging: Science and Technology, volume 1905, pages 861-870,\n",
      "     San Jose, CA, 1993.\n",
      "   - O.L. Mangasarian, W.N. Street and W.H. Wolberg. Breast cancer diagnosis and \n",
      "     prognosis via linear programming. Operations Research, 43(4), pages 570-577, \n",
      "     July-August 1995.\n",
      "   - W.H. Wolberg, W.N. Street, and O.L. Mangasarian. Machine learning techniques\n",
      "     to diagnose breast cancer from fine-needle aspirates. Cancer Letters 77 (1994) \n",
      "     163-171.\n"
     ]
    }
   ],
   "source": [
    "# 싸이킷 런의 유방암(Breast Cancer Wisconsin) 데이터 셋을 이용\n",
    "from sklearn.datasets import load_breast_cancer\n",
    "cancer = load_breast_cancer()\n",
    "\n",
    "# Breast Cancer Wisconsin의 상세 Description\n",
    "print(cancer.DESCR)"
   ]
  },
  {
   "cell_type": "code",
   "execution_count": 3,
   "metadata": {},
   "outputs": [
    {
     "data": {
      "text/plain": [
       "(569, 30)"
      ]
     },
     "execution_count": 3,
     "metadata": {},
     "output_type": "execute_result"
    },
    {
     "data": {
      "text/plain": [
       "(569,)"
      ]
     },
     "execution_count": 3,
     "metadata": {},
     "output_type": "execute_result"
    }
   ],
   "source": [
    "# Breast Cancer Data의 Shape 확인\n",
    "# 30 Column의 진단항목에 대한 개별 결과, 569 Row의 Data 건수\n",
    "cancer.data.shape\n",
    "\n",
    "# 569 Row의 결과 Data (0:악성(M), 1:양성(B))\n",
    "cancer.target.shape"
   ]
  },
  {
   "cell_type": "code",
   "execution_count": 15,
   "metadata": {},
   "outputs": [],
   "source": [
    "from keras import models\n",
    "from keras import layers\n",
    "\n",
    "# 앞서와 마찬가지로 선형적으로 쌓는 Sequential 모델을 이용\n",
    "model = models.Sequential()\n",
    "\n",
    "# 입력층 : 입력 parameter는 30이고(30가지 진단항목), 출력 parameter는 16 임, 활성화 함수는 relu\n",
    "model.add(layers.Dense(16, activation='relu', input_shape=(30,)))\n",
    "\n",
    "# 은닉층 : 입력 parameter는 16이고, 출력 parameter는 16 임, 활성화 함수는 relu\n",
    "model.add(layers.Dense(16, activation='relu'))\n",
    "\n",
    "# 출력층 : 입력 parameter는 16이고, 출력 parameter는 1 임, 활성화 함수는 sigmoid\n",
    "# 주로 Binary Classification의 경우는 'Sigmoid', Multi-Classification의 경우는 'Softmax' 활성화 함수 이용\n",
    "model.add(layers.Dense(1, activation='sigmoid'))"
   ]
  },
  {
   "cell_type": "code",
   "execution_count": 5,
   "metadata": {},
   "outputs": [
    {
     "name": "stdout",
     "output_type": "stream",
     "text": [
      "WARNING:tensorflow:From /usr/local/lib/python3.6/dist-packages/tensorflow/python/ops/nn_impl.py:180: add_dispatch_support.<locals>.wrapper (from tensorflow.python.ops.array_ops) is deprecated and will be removed in a future version.\n",
      "Instructions for updating:\n",
      "Use tf.where in 2.0, which has the same broadcast rule as np.where\n"
     ]
    }
   ],
   "source": [
    "# compile method를 이용하여 학습 과정을 구성\n",
    "# 옵티마이저는 Adagrad를 사용해 보았고, Binary Classification 이므로 손실함수는 'binary_crossentropy'를 사용\n",
    "\n",
    "model.compile(optimizer='Adagrad', loss='binary_crossentropy', metrics=['accuracy'])"
   ]
  },
  {
   "cell_type": "code",
   "execution_count": 6,
   "metadata": {},
   "outputs": [],
   "source": [
    "# 전제 569 Set의 Data 중에서 다음과 같이 분할하였음, Label도 동일 함\n",
    "#  - 150 Set : Validation Data\n",
    "#  - 250 Set : Training Data\n",
    "#  - 169 Set : Test Data\n",
    "\n",
    "x_val = cancer.data[:150]\n",
    "partial_x_train = cancer.data[150:400]\n",
    "x_test = cancer.data[401:]\n",
    "\n",
    "y_val = cancer.target[:150]\n",
    "partial_y_train = cancer.target[150:400]\n",
    "y_test = cancer.target[401:]"
   ]
  },
  {
   "cell_type": "code",
   "execution_count": 7,
   "metadata": {},
   "outputs": [
    {
     "name": "stdout",
     "output_type": "stream",
     "text": [
      "WARNING:tensorflow:From /usr/local/lib/python3.6/dist-packages/keras/backend/tensorflow_backend.py:422: The name tf.global_variables is deprecated. Please use tf.compat.v1.global_variables instead.\n",
      "\n",
      "Train on 250 samples, validate on 150 samples\n",
      "Epoch 1/50\n",
      "250/250 [==============================] - 0s 578us/step - loss: 12.3294 - accuracy: 0.5480 - val_loss: 5.5085 - val_accuracy: 0.5533\n",
      "Epoch 2/50\n",
      "250/250 [==============================] - 0s 31us/step - loss: 3.6904 - accuracy: 0.5960 - val_loss: 2.9157 - val_accuracy: 0.5533\n",
      "Epoch 3/50\n",
      "250/250 [==============================] - 0s 32us/step - loss: 1.8663 - accuracy: 0.6640 - val_loss: 0.4791 - val_accuracy: 0.7800\n",
      "Epoch 4/50\n",
      "250/250 [==============================] - 0s 31us/step - loss: 0.3713 - accuracy: 0.8840 - val_loss: 0.2851 - val_accuracy: 0.8933\n",
      "Epoch 5/50\n",
      "250/250 [==============================] - 0s 36us/step - loss: 0.3653 - accuracy: 0.9000 - val_loss: 0.2794 - val_accuracy: 0.9267\n",
      "Epoch 6/50\n",
      "250/250 [==============================] - 0s 30us/step - loss: 0.3813 - accuracy: 0.8920 - val_loss: 0.3341 - val_accuracy: 0.9000\n",
      "Epoch 7/50\n",
      "250/250 [==============================] - 0s 30us/step - loss: 0.3274 - accuracy: 0.9080 - val_loss: 0.2952 - val_accuracy: 0.8867\n",
      "Epoch 8/50\n",
      "250/250 [==============================] - 0s 31us/step - loss: 0.3485 - accuracy: 0.8760 - val_loss: 0.3725 - val_accuracy: 0.8867\n",
      "Epoch 9/50\n",
      "250/250 [==============================] - 0s 33us/step - loss: 0.3249 - accuracy: 0.9000 - val_loss: 0.2648 - val_accuracy: 0.9133\n",
      "Epoch 10/50\n",
      "250/250 [==============================] - 0s 34us/step - loss: 0.3115 - accuracy: 0.8880 - val_loss: 0.2739 - val_accuracy: 0.9067\n",
      "Epoch 11/50\n",
      "250/250 [==============================] - 0s 32us/step - loss: 0.3006 - accuracy: 0.9000 - val_loss: 0.4196 - val_accuracy: 0.8667\n",
      "Epoch 12/50\n",
      "250/250 [==============================] - 0s 32us/step - loss: 0.7165 - accuracy: 0.8160 - val_loss: 1.5630 - val_accuracy: 0.6867\n",
      "Epoch 13/50\n",
      "250/250 [==============================] - 0s 30us/step - loss: 0.4732 - accuracy: 0.8800 - val_loss: 0.2830 - val_accuracy: 0.9133\n",
      "Epoch 14/50\n",
      "250/250 [==============================] - 0s 29us/step - loss: 0.3100 - accuracy: 0.9120 - val_loss: 0.3176 - val_accuracy: 0.8933\n",
      "Epoch 15/50\n",
      "250/250 [==============================] - 0s 28us/step - loss: 0.2861 - accuracy: 0.9160 - val_loss: 0.2599 - val_accuracy: 0.9000\n",
      "Epoch 16/50\n",
      "250/250 [==============================] - 0s 29us/step - loss: 0.4188 - accuracy: 0.8800 - val_loss: 0.6402 - val_accuracy: 0.8200\n",
      "Epoch 17/50\n",
      "250/250 [==============================] - 0s 29us/step - loss: 0.3666 - accuracy: 0.9000 - val_loss: 0.2632 - val_accuracy: 0.9067\n",
      "Epoch 18/50\n",
      "250/250 [==============================] - 0s 30us/step - loss: 0.2927 - accuracy: 0.9160 - val_loss: 0.3116 - val_accuracy: 0.8667\n",
      "Epoch 19/50\n",
      "250/250 [==============================] - 0s 29us/step - loss: 0.4245 - accuracy: 0.8840 - val_loss: 0.2540 - val_accuracy: 0.8933\n",
      "Epoch 20/50\n",
      "250/250 [==============================] - 0s 29us/step - loss: 0.3748 - accuracy: 0.8680 - val_loss: 0.4363 - val_accuracy: 0.8600\n",
      "Epoch 21/50\n",
      "250/250 [==============================] - 0s 33us/step - loss: 0.6537 - accuracy: 0.8040 - val_loss: 0.7925 - val_accuracy: 0.8133\n",
      "Epoch 22/50\n",
      "250/250 [==============================] - 0s 28us/step - loss: 0.3129 - accuracy: 0.8920 - val_loss: 0.2602 - val_accuracy: 0.8933\n",
      "Epoch 23/50\n",
      "250/250 [==============================] - 0s 30us/step - loss: 0.3648 - accuracy: 0.8720 - val_loss: 0.2478 - val_accuracy: 0.9000\n",
      "Epoch 24/50\n",
      "250/250 [==============================] - 0s 29us/step - loss: 0.2537 - accuracy: 0.9080 - val_loss: 0.2462 - val_accuracy: 0.8933\n",
      "Epoch 25/50\n",
      "250/250 [==============================] - 0s 29us/step - loss: 0.2370 - accuracy: 0.8880 - val_loss: 0.3983 - val_accuracy: 0.8667\n",
      "Epoch 26/50\n",
      "250/250 [==============================] - 0s 31us/step - loss: 0.2448 - accuracy: 0.9000 - val_loss: 0.4055 - val_accuracy: 0.8600\n",
      "Epoch 27/50\n",
      "250/250 [==============================] - 0s 30us/step - loss: 0.2847 - accuracy: 0.9120 - val_loss: 0.2766 - val_accuracy: 0.8933\n",
      "Epoch 28/50\n",
      "250/250 [==============================] - 0s 28us/step - loss: 0.2360 - accuracy: 0.9200 - val_loss: 0.2591 - val_accuracy: 0.8733\n",
      "Epoch 29/50\n",
      "250/250 [==============================] - 0s 29us/step - loss: 0.2613 - accuracy: 0.9160 - val_loss: 0.3344 - val_accuracy: 0.8733\n",
      "Epoch 30/50\n",
      "250/250 [==============================] - 0s 30us/step - loss: 0.2211 - accuracy: 0.9160 - val_loss: 0.2408 - val_accuracy: 0.9133\n",
      "Epoch 31/50\n",
      "250/250 [==============================] - 0s 29us/step - loss: 0.2051 - accuracy: 0.9000 - val_loss: 0.2994 - val_accuracy: 0.8800\n",
      "Epoch 32/50\n",
      "250/250 [==============================] - 0s 28us/step - loss: 0.2675 - accuracy: 0.9000 - val_loss: 0.2267 - val_accuracy: 0.9200\n",
      "Epoch 33/50\n",
      "250/250 [==============================] - 0s 31us/step - loss: 0.2153 - accuracy: 0.9200 - val_loss: 0.3242 - val_accuracy: 0.8733\n",
      "Epoch 34/50\n",
      "250/250 [==============================] - 0s 30us/step - loss: 0.2988 - accuracy: 0.8760 - val_loss: 0.4144 - val_accuracy: 0.8600\n",
      "Epoch 35/50\n",
      "250/250 [==============================] - 0s 29us/step - loss: 0.2522 - accuracy: 0.9000 - val_loss: 0.3103 - val_accuracy: 0.8667\n",
      "Epoch 36/50\n",
      "250/250 [==============================] - 0s 30us/step - loss: 0.2917 - accuracy: 0.8960 - val_loss: 0.2195 - val_accuracy: 0.9200\n",
      "Epoch 37/50\n",
      "250/250 [==============================] - 0s 29us/step - loss: 0.1940 - accuracy: 0.9320 - val_loss: 0.2337 - val_accuracy: 0.9133\n",
      "Epoch 38/50\n",
      "250/250 [==============================] - 0s 30us/step - loss: 0.1798 - accuracy: 0.9160 - val_loss: 0.3251 - val_accuracy: 0.8733\n",
      "Epoch 39/50\n",
      "250/250 [==============================] - 0s 31us/step - loss: 0.2513 - accuracy: 0.8960 - val_loss: 0.2262 - val_accuracy: 0.9133\n",
      "Epoch 40/50\n",
      "250/250 [==============================] - 0s 31us/step - loss: 0.2250 - accuracy: 0.9040 - val_loss: 0.4863 - val_accuracy: 0.8533\n",
      "Epoch 41/50\n",
      "250/250 [==============================] - 0s 31us/step - loss: 0.3835 - accuracy: 0.8920 - val_loss: 0.3749 - val_accuracy: 0.8667\n",
      "Epoch 42/50\n",
      "250/250 [==============================] - 0s 31us/step - loss: 0.1966 - accuracy: 0.9240 - val_loss: 0.2634 - val_accuracy: 0.8800\n",
      "Epoch 43/50\n",
      "250/250 [==============================] - 0s 30us/step - loss: 0.1771 - accuracy: 0.9160 - val_loss: 0.4203 - val_accuracy: 0.8600\n",
      "Epoch 44/50\n",
      "250/250 [==============================] - 0s 31us/step - loss: 0.2489 - accuracy: 0.8960 - val_loss: 0.4154 - val_accuracy: 0.8467\n",
      "Epoch 45/50\n",
      "250/250 [==============================] - 0s 32us/step - loss: 0.3891 - accuracy: 0.8720 - val_loss: 0.2224 - val_accuracy: 0.9000\n",
      "Epoch 46/50\n",
      "250/250 [==============================] - 0s 30us/step - loss: 0.2250 - accuracy: 0.9240 - val_loss: 0.2397 - val_accuracy: 0.8933\n",
      "Epoch 47/50\n",
      "250/250 [==============================] - 0s 31us/step - loss: 0.1871 - accuracy: 0.9080 - val_loss: 0.3498 - val_accuracy: 0.8667\n",
      "Epoch 48/50\n",
      "250/250 [==============================] - 0s 33us/step - loss: 0.2095 - accuracy: 0.9320 - val_loss: 0.2247 - val_accuracy: 0.9067\n",
      "Epoch 49/50\n",
      "250/250 [==============================] - 0s 40us/step - loss: 0.1635 - accuracy: 0.9280 - val_loss: 0.3461 - val_accuracy: 0.8733\n",
      "Epoch 50/50\n",
      "250/250 [==============================] - 0s 36us/step - loss: 0.1702 - accuracy: 0.9320 - val_loss: 0.2575 - val_accuracy: 0.8800\n"
     ]
    }
   ],
   "source": [
    "# fit method를 이용해서 정해진 epoch 만큼  Training을 수행\n",
    "# 이때 Training Data(partial_x_train)과 Validation Data(x_val)을 주입하고, epoch, batch size 지정\n",
    "\n",
    "history = model.fit(partial_x_train, partial_y_train, epochs=50, batch_size=64, validation_data=(x_val, y_val))"
   ]
  },
  {
   "cell_type": "code",
   "execution_count": 8,
   "metadata": {},
   "outputs": [
    {
     "name": "stdout",
     "output_type": "stream",
     "text": [
      "Model: \"sequential_1\"\n",
      "_________________________________________________________________\n",
      "Layer (type)                 Output Shape              Param #   \n",
      "=================================================================\n",
      "dense_1 (Dense)              (None, 16)                496       \n",
      "_________________________________________________________________\n",
      "dense_2 (Dense)              (None, 16)                272       \n",
      "_________________________________________________________________\n",
      "dense_3 (Dense)              (None, 1)                 17        \n",
      "=================================================================\n",
      "Total params: 785\n",
      "Trainable params: 785\n",
      "Non-trainable params: 0\n",
      "_________________________________________________________________\n"
     ]
    }
   ],
   "source": [
    "model.summary()\n",
    "\n",
    "#  dense_1 layer의 전체 paramenter의 수는 30(입력) * 16(출력) + 16 = 496 임 (추가적으로 더하는 16은 bias)\n",
    "#  dense_2 layer의 전체 paramenter의 수는 16 * 16 + 16 = 272 임 (추가적으로 더하는 16은 bias)\n",
    "#  dense_3 layer의 전체 paramenter의 수는 16 * 1 + 1 = 17 임 (추가적으로 더하는 1은 bias)\n",
    "# 그러므로 총 paramter의 수는 496 + 272 + 17 = 785"
   ]
  },
  {
   "cell_type": "code",
   "execution_count": 9,
   "metadata": {},
   "outputs": [
    {
     "data": {
      "text/plain": [
       "dict_keys(['val_loss', 'val_accuracy', 'loss', 'accuracy'])"
      ]
     },
     "execution_count": 9,
     "metadata": {},
     "output_type": "execute_result"
    },
    {
     "data": {
      "text/plain": [
       "dict_values([[5.508493919372558, 2.9156937408447265, 0.4791220267613729, 0.2851281795899073, 0.279446551601092, 0.3340757687886556, 0.295205059448878, 0.37248541712760924, 0.2648498699069023, 0.273909862836202, 0.41956210831801094, 1.5630467009544373, 0.2830226691563924, 0.3175858638683955, 0.25986433287461597, 0.6401536444822947, 0.2632274252176285, 0.3115749172369639, 0.25401581545670826, 0.43630140046278637, 0.7924908498922983, 0.26021079301834105, 0.24776415447394054, 0.24621432840824128, 0.3983285649617513, 0.4054709633191427, 0.27659447411696114, 0.2591327726840973, 0.3344341782728831, 0.2407852550347646, 0.2994440448284149, 0.22669932146867117, 0.3241572097937266, 0.41440428972244264, 0.3102555855115255, 0.21948553780714672, 0.2337476364771525, 0.3251014331976573, 0.2262239889303843, 0.486313814719518, 0.3748764489094416, 0.2633928084373474, 0.420339678923289, 0.41541209936141965, 0.2223621686299642, 0.2396549278497696, 0.3497680221001307, 0.22467834850152332, 0.34614966611067455, 0.25753573517004646], [0.5533333420753479, 0.5533333420753479, 0.7799999713897705, 0.8933333158493042, 0.9266666769981384, 0.8999999761581421, 0.8866666555404663, 0.8866666555404663, 0.9133333563804626, 0.9066666960716248, 0.8666666746139526, 0.6866666674613953, 0.9133333563804626, 0.8933333158493042, 0.8999999761581421, 0.8199999928474426, 0.9066666960716248, 0.8666666746139526, 0.8933333158493042, 0.8600000143051147, 0.8133333325386047, 0.8933333158493042, 0.8999999761581421, 0.8933333158493042, 0.8666666746139526, 0.8600000143051147, 0.8933333158493042, 0.8733333349227905, 0.8733333349227905, 0.9133333563804626, 0.8799999952316284, 0.9200000166893005, 0.8733333349227905, 0.8600000143051147, 0.8666666746139526, 0.9200000166893005, 0.9133333563804626, 0.8733333349227905, 0.9133333563804626, 0.8533333539962769, 0.8666666746139526, 0.8799999952316284, 0.8600000143051147, 0.846666693687439, 0.8999999761581421, 0.8933333158493042, 0.8666666746139526, 0.9066666960716248, 0.8733333349227905, 0.8799999952316284], [12.32939591217041, 3.690416063308716, 1.8662664604187011, 0.37134527397155764, 0.3652745416164398, 0.38132675206661226, 0.3273907995223999, 0.34846165716648103, 0.324938321352005, 0.31147510635852815, 0.3006478238105774, 0.716515435218811, 0.4732232995033264, 0.31000315392017364, 0.2860658311843872, 0.41876041269302366, 0.3665804419517517, 0.2926749582290649, 0.4245497071743011, 0.37476602792739866, 0.6537234091758728, 0.312905816078186, 0.36475588035583495, 0.2537416620254517, 0.23703723227977752, 0.24478856921195985, 0.2847211672067642, 0.23601799941062926, 0.261266081571579, 0.22106685400009154, 0.20505017518997193, 0.26752311205863955, 0.21532192862033844, 0.2987504752874374, 0.2521784796714783, 0.291691454410553, 0.19404371798038483, 0.17977552330493926, 0.2512660948038101, 0.22502225065231324, 0.38346355271339416, 0.19664351665973664, 0.1771203829050064, 0.24888021659851073, 0.3891449625492096, 0.22498467874526978, 0.18710445261001588, 0.20952789235115052, 0.16351559019088746, 0.17023707365989685], [0.548, 0.596, 0.664, 0.884, 0.9, 0.892, 0.908, 0.876, 0.9, 0.888, 0.9, 0.816, 0.88, 0.912, 0.916, 0.88, 0.9, 0.916, 0.884, 0.868, 0.804, 0.892, 0.872, 0.908, 0.888, 0.9, 0.912, 0.92, 0.916, 0.916, 0.9, 0.9, 0.92, 0.876, 0.9, 0.896, 0.932, 0.916, 0.896, 0.904, 0.892, 0.924, 0.916, 0.896, 0.872, 0.924, 0.908, 0.932, 0.928, 0.932]])"
      ]
     },
     "execution_count": 9,
     "metadata": {},
     "output_type": "execute_result"
    }
   ],
   "source": [
    "# Training 시 생성된 정보를 저장하고 있는 history method를 이용하여 모든 val_loss, val_accuracy, loss, accuracy를 확인\n",
    "history_dict = history.history\n",
    "history_dict.keys()\n",
    "\n",
    "history_dict.values()"
   ]
  },
  {
   "cell_type": "code",
   "execution_count": 14,
   "metadata": {},
   "outputs": [
    {
     "data": {
      "text/plain": [
       "[<matplotlib.lines.Line2D at 0x7f3217a2d470>]"
      ]
     },
     "execution_count": 14,
     "metadata": {},
     "output_type": "execute_result"
    },
    {
     "data": {
      "text/plain": [
       "[<matplotlib.lines.Line2D at 0x7f3217a053c8>]"
      ]
     },
     "execution_count": 14,
     "metadata": {},
     "output_type": "execute_result"
    },
    {
     "data": {
      "text/plain": [
       "Text(0.5, 1.0, 'Training and validation loss')"
      ]
     },
     "execution_count": 14,
     "metadata": {},
     "output_type": "execute_result"
    },
    {
     "data": {
      "text/plain": [
       "Text(0.5, 0, 'Epochs')"
      ]
     },
     "execution_count": 14,
     "metadata": {},
     "output_type": "execute_result"
    },
    {
     "data": {
      "text/plain": [
       "Text(0, 0.5, 'Loss')"
      ]
     },
     "execution_count": 14,
     "metadata": {},
     "output_type": "execute_result"
    },
    {
     "data": {
      "text/plain": [
       "<matplotlib.legend.Legend at 0x7f3217a14f98>"
      ]
     },
     "execution_count": 14,
     "metadata": {},
     "output_type": "execute_result"
    },
    {
     "data": {
      "image/png": "[encoded data removed]",
      "text/plain": [
       "<Figure size 432x288 with 1 Axes>"
      ]
     },
     "metadata": {
      "needs_background": "light"
     },
     "output_type": "display_data"
    }
   ],
   "source": [
    "# Training & Validation Loss Graph\n",
    "import matplotlib.pyplot as plt\n",
    "\n",
    "plt.clf()   # 그래프 초기화\n",
    "\n",
    "acc = history.history['accuracy']\n",
    "val_acc = history.history['val_accuracy']\n",
    "loss = history.history['loss']\n",
    "val_loss = history.history['val_loss']\n",
    "\n",
    "epochs = range(1, len(acc) + 1)\n",
    "\n",
    "plt.plot(epochs, loss, 'r', label='Training loss')\n",
    "plt.plot(epochs, val_loss, 'b', label='Validation loss')\n",
    "\n",
    "plt.title('Training and validation loss')\n",
    "plt.xlabel('Epochs')\n",
    "plt.ylabel('Loss')\n",
    "plt.legend()\n",
    "\n",
    "plt.show()"
   ]
  },
  {
   "cell_type": "code",
   "execution_count": 11,
   "metadata": {},
   "outputs": [
    {
     "data": {
      "text/plain": [
       "[<matplotlib.lines.Line2D at 0x7f32302e7358>]"
      ]
     },
     "execution_count": 11,
     "metadata": {},
     "output_type": "execute_result"
    },
    {
     "data": {
      "text/plain": [
       "[<matplotlib.lines.Line2D at 0x7f324008e0b8>]"
      ]
     },
     "execution_count": 11,
     "metadata": {},
     "output_type": "execute_result"
    },
    {
     "data": {
      "text/plain": [
       "Text(0.5, 1.0, 'Training and validation accuracy')"
      ]
     },
     "execution_count": 11,
     "metadata": {},
     "output_type": "execute_result"
    },
    {
     "data": {
      "text/plain": [
       "Text(0.5, 0, 'Epochs')"
      ]
     },
     "execution_count": 11,
     "metadata": {},
     "output_type": "execute_result"
    },
    {
     "data": {
      "text/plain": [
       "Text(0, 0.5, 'Accuracy')"
      ]
     },
     "execution_count": 11,
     "metadata": {},
     "output_type": "execute_result"
    },
    {
     "data": {
      "text/plain": [
       "<matplotlib.legend.Legend at 0x7f3241322748>"
      ]
     },
     "execution_count": 11,
     "metadata": {},
     "output_type": "execute_result"
    },
    {
     "data": {
      "image/png": "[encoded data removed]",
      "text/plain": [
       "<Figure size 432x288 with 1 Axes>"
      ]
     },
     "metadata": {
      "needs_background": "light"
     },
     "output_type": "display_data"
    }
   ],
   "source": [
    "# Training & Validation Accuracy Graph\n",
    "plt.clf()   # 그래프 초기화\n",
    "\n",
    "acc = history_dict['accuracy']\n",
    "val_acc = history_dict['val_accuracy']\n",
    "\n",
    "plt.plot(epochs, acc, 'r', label='Training acc')\n",
    "plt.plot(epochs, val_acc, 'b', label='Validation acc')\n",
    "plt.title('Training and validation accuracy')\n",
    "plt.xlabel('Epochs')\n",
    "plt.ylabel('Accuracy')\n",
    "plt.legend()\n",
    "\n",
    "plt.show()"
   ]
  },
  {
   "cell_type": "code",
   "execution_count": 12,
   "metadata": {},
   "outputs": [
    {
     "name": "stdout",
     "output_type": "stream",
     "text": [
      "Epoch 1/20\n",
      "250/250 [==============================] - 0s 389us/step - loss: 5.1876 - accuracy: 0.5040\n",
      "Epoch 2/20\n",
      "250/250 [==============================] - 0s 20us/step - loss: 0.6280 - accuracy: 0.7480\n",
      "Epoch 3/20\n",
      "250/250 [==============================] - 0s 21us/step - loss: 0.5084 - accuracy: 0.7920\n",
      "Epoch 4/20\n",
      "250/250 [==============================] - 0s 19us/step - loss: 0.5546 - accuracy: 0.8120\n",
      "Epoch 5/20\n",
      "250/250 [==============================] - 0s 19us/step - loss: 0.4036 - accuracy: 0.8560\n",
      "Epoch 6/20\n",
      "250/250 [==============================] - 0s 20us/step - loss: 0.2817 - accuracy: 0.8840\n",
      "Epoch 7/20\n",
      "250/250 [==============================] - 0s 22us/step - loss: 0.3218 - accuracy: 0.8720\n",
      "Epoch 8/20\n",
      "250/250 [==============================] - 0s 21us/step - loss: 0.2694 - accuracy: 0.8960\n",
      "Epoch 9/20\n",
      "250/250 [==============================] - 0s 21us/step - loss: 0.2816 - accuracy: 0.8880\n",
      "Epoch 10/20\n",
      "250/250 [==============================] - 0s 20us/step - loss: 0.2671 - accuracy: 0.8920\n",
      "Epoch 11/20\n",
      "250/250 [==============================] - 0s 23us/step - loss: 0.2657 - accuracy: 0.8840\n",
      "Epoch 12/20\n",
      "250/250 [==============================] - 0s 21us/step - loss: 0.3134 - accuracy: 0.8880\n",
      "Epoch 13/20\n",
      "250/250 [==============================] - 0s 24us/step - loss: 0.2675 - accuracy: 0.8920\n",
      "Epoch 14/20\n",
      "250/250 [==============================] - 0s 20us/step - loss: 0.2712 - accuracy: 0.8880\n",
      "Epoch 15/20\n",
      "250/250 [==============================] - 0s 21us/step - loss: 0.2377 - accuracy: 0.8920\n",
      "Epoch 16/20\n",
      "250/250 [==============================] - 0s 20us/step - loss: 0.2334 - accuracy: 0.9000\n",
      "Epoch 17/20\n",
      "250/250 [==============================] - 0s 19us/step - loss: 0.2484 - accuracy: 0.8960\n",
      "Epoch 18/20\n",
      "250/250 [==============================] - 0s 20us/step - loss: 0.2430 - accuracy: 0.9000\n",
      "Epoch 19/20\n",
      "250/250 [==============================] - 0s 20us/step - loss: 0.2516 - accuracy: 0.9080\n",
      "Epoch 20/20\n",
      "250/250 [==============================] - 0s 20us/step - loss: 0.2350 - accuracy: 0.9120\n"
     ]
    },
    {
     "data": {
      "text/plain": [
       "<keras.callbacks.callbacks.History at 0x7f3217d86b00>"
      ]
     },
     "execution_count": 12,
     "metadata": {},
     "output_type": "execute_result"
    },
    {
     "name": "stdout",
     "output_type": "stream",
     "text": [
      "168/168 [==============================] - 0s 156us/step\n"
     ]
    }
   ],
   "source": [
    "# 7 epoch 정도 부터 Accuracy가 85~90% 사이에서 진동 함 , 앞에서와 동일하게 처음부터 다시 Network를 구성\n",
    "model = models.Sequential()\n",
    "model.add(layers.Dense(16, activation='relu', input_shape=(30,)))\n",
    "model.add(layers.Dense(16, activation='relu'))\n",
    "model.add(layers.Dense(1, activation='sigmoid'))\n",
    "\n",
    "model.compile(optimizer='Adagrad', loss='binary_crossentropy', metrics=['accuracy'])\n",
    "\n",
    "# fit method로 Training 시, epoch = 20로 Setting\n",
    "model.fit(partial_x_train, partial_y_train, epochs=20, batch_size=64)\n",
    "\n",
    "# evaluate method를 이용하여 입력 test data에 대한 loss, accuracy를 계산\n",
    "loss, accuracy = model.evaluate(x_test, y_test)"
   ]
  },
  {
   "cell_type": "code",
   "execution_count": 13,
   "metadata": {},
   "outputs": [
    {
     "name": "stdout",
     "output_type": "stream",
     "text": [
      "test_acc :  0.9285714030265808\n",
      "test_loss :  0.2139531686192467\n"
     ]
    }
   ],
   "source": [
    "print('test_acc : ', accuracy)\n",
    "print('test_loss : ', loss)"
   ]
  }
 ],
 "metadata": {
  "kernelspec": {
   "display_name": "Python 3",
   "language": "python",
   "name": "python3"
  },
  "language_info": {
   "codemirror_mode": {
    "name": "ipython",
    "version": 3
   },
   "file_extension": ".py",
   "mimetype": "text/x-python",
   "name": "python",
   "nbconvert_exporter": "python",
   "pygments_lexer": "ipython3",
   "version": "3.6.8"
  }
 },
 "nbformat": 4,
 "nbformat_minor": 2
}
