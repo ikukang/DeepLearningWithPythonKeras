{
 "cells": [
  {
   "cell_type": "code",
   "execution_count": 1,
   "metadata": {},
   "outputs": [],
   "source": [
    "# 사용 상의 편의를 위한 Initial Setting \n",
    "\n",
    "# 실행결과를 한 창에 표시\n",
    "# InteractiveShell.ast_node_interactivity : 'all' | 'last' | 'last_expr' | 'none' (기본값은 'last_expr')\n",
    "from IPython.core.interactiveshell import InteractiveShell\n",
    "InteractiveShell.ast_node_interactivity = \"all\"\n",
    "\n",
    "# numpy 소숫점 setting\n",
    "import numpy as np\n",
    "np.set_printoptions(precision=7)\n",
    "\n",
    "# pandas이용하여 grid display\n",
    "import numpy as np\n",
    "import pandas as pd\n",
    "pd.set_option('display.max_rows', None)         # 최대 표시 줄 수 제한 해제\n",
    "pd.set_option('display.max_columns', None)  # 최대 표시 컬럼 수 제한 해제\n",
    "pd.set_option('display.max_colwidth', -1)        # 컬럼내 데이터 표시 제한 해제\n",
    "\n",
    "# Warning Message ignore\n",
    "import warnings\n",
    "# warnings.filterwarnings(action='default')\n",
    "warnings.filterwarnings(action='ignore')"
   ]
  },
  {
   "cell_type": "code",
   "execution_count": 2,
   "metadata": {},
   "outputs": [
    {
     "name": "stderr",
     "output_type": "stream",
     "text": [
      "Using TensorFlow backend.\n"
     ]
    },
    {
     "data": {
      "text/plain": [
       "'2.3.1'"
      ]
     },
     "execution_count": 2,
     "metadata": {},
     "output_type": "execute_result"
    }
   ],
   "source": [
    "import keras\n",
    "keras.__version__"
   ]
  },
  {
   "cell_type": "markdown",
   "metadata": {},
   "source": [
    "### Data 전처리"
   ]
  },
  {
   "cell_type": "markdown",
   "metadata": {},
   "source": [
    "#### Beyond Good and Evil (Friedrich Nietzsche)\n",
    "https://www.marxists.org/reference/archive/nietzsche/1886/beyond-good-evil/index.htm"
   ]
  },
  {
   "cell_type": "code",
   "execution_count": 3,
   "metadata": {},
   "outputs": [
    {
     "name": "stdout",
     "output_type": "stream",
     "text": [
      "corpus size : 600893\n"
     ]
    }
   ],
   "source": [
    "# Corpus(말뭉치)를 다운로드 받아 모두 소문자로 변환\n",
    "# 해당 Corpus는 니체가 1886년에 쓴 'Beyond Good and Evil' 임\n",
    "\n",
    "import keras\n",
    "import numpy as np\n",
    "\n",
    "# 아래의 url에서 Corpus(말뭉치)를 다운로드 받음\n",
    "path = keras.utils.get_file('nietzsche.txt', origin='https://s3.amazonaws.com/text-datasets/nietzsche.txt')\n",
    "\n",
    "# 해당 file을 open하여 소문자로 변환 후 text 에 저장\n",
    "text = open(path).read().lower()\n",
    "print('corpus size :', len(text))"
   ]
  },
  {
   "cell_type": "code",
   "execution_count": 4,
   "metadata": {},
   "outputs": [
    {
     "data": {
      "text/plain": [
       "'/home/ubuntu/.keras/datasets/nietzsche.txt'"
      ]
     },
     "execution_count": 4,
     "metadata": {},
     "output_type": "execute_result"
    },
    {
     "data": {
      "text/plain": [
       "str"
      ]
     },
     "execution_count": 4,
     "metadata": {},
     "output_type": "execute_result"
    },
    {
     "data": {
      "text/plain": [
       "600893"
      ]
     },
     "execution_count": 4,
     "metadata": {},
     "output_type": "execute_result"
    },
    {
     "data": {
      "text/plain": [
       "'preface\\n\\n\\nsupposing that truth is a woman--what then? is there not ground\\nfor suspecting that all ph'"
      ]
     },
     "execution_count": 4,
     "metadata": {},
     "output_type": "execute_result"
    }
   ],
   "source": [
    "# 해당 file 위치와 text 변수 type 확인\n",
    "path\n",
    "type(text)\n",
    "len(text)\n",
    "text[0:100]"
   ]
  },
  {
   "cell_type": "markdown",
   "metadata": {},
   "source": [
    "그 다음 `maxlen` 길이를 가진 시퀀스를 중복하여 추출합니다. 추출된 시퀀스를 원-핫 인코딩으로 변환하고 크기가 `(sequences, maxlen, unique_characters)`인 3D 넘파이 배열 `x`로 합칩니다. 동시에 훈련 샘플에 상응하는 타깃을 담은 배열 `y`를 준비합니다. 타깃은 추출된 시퀀스 다음에 오는 원-핫 인코딩된 글자입니다."
   ]
  },
  {
   "cell_type": "code",
   "execution_count": 5,
   "metadata": {
    "scrolled": true
   },
   "outputs": [
    {
     "name": "stdout",
     "output_type": "stream",
     "text": [
      "Number of Sequence: 200278\n",
      "Unique letters : 57\n",
      "making vector\n"
     ]
    }
   ],
   "source": [
    "# maxlen 길이를 가진 sequence를 중복하여 추출\n",
    "# 추출된 sequence를 one-hot encoding\n",
    "# numpy Array x로 concatenate : (sequence, maxlen, unique_character)\n",
    "\n",
    "# 60개 글자로 된 sequence추출\n",
    "maxlen = 60\n",
    "\n",
    "# 세 글자씩 건너 뛰면서 새로운 sequence를 sampling\n",
    "step = 3\n",
    "\n",
    "# 추출한 sequence를 담을 list\n",
    "sentences = []\n",
    "\n",
    "# sequence 다음 글자를 을 담을 list\n",
    "next_chars = []\n",
    "\n",
    "\n",
    "for i in range(0, len(text) - maxlen, step):\n",
    "    sentences.append(text[i : i + maxlen])\n",
    "    next_chars.append(text[i + maxlen])\n",
    "print('Number of Sequence:', len(sentences))\n",
    "\n",
    "# Corpus에서 고유한 글자를 담은 list\n",
    "chars = sorted(list(set(text)))\n",
    "print('Unique letters :', len(chars))\n",
    "\n",
    "# chars list에 있는 글자 및 해당 글자의 index를 mapping 한 dictionary\n",
    "char_indices = dict((char, chars.index(char)) for char in chars)\n",
    "\n",
    "# 글자를 0과 1의 이진 배열로 변경 (one-hot encoding)\n",
    "print('making vector')\n",
    "x = np.zeros((len(sentences), maxlen, len(chars)), dtype=np.bool)\n",
    "y = np.zeros((len(sentences), len(chars)), dtype=np.bool)\n",
    "for i, sentence in enumerate(sentences):\n",
    "    for t, char in enumerate(sentence):\n",
    "        x[i, t, char_indices[char]] = 1\n",
    "    y[i, char_indices[next_chars[i]]] = 1   "
   ]
  },
  {
   "cell_type": "code",
   "execution_count": 6,
   "metadata": {},
   "outputs": [
    {
     "data": {
      "text/plain": [
       "200278"
      ]
     },
     "execution_count": 6,
     "metadata": {},
     "output_type": "execute_result"
    },
    {
     "data": {
      "text/plain": [
       "200278"
      ]
     },
     "execution_count": 6,
     "metadata": {},
     "output_type": "execute_result"
    },
    {
     "data": {
      "text/plain": [
       "['preface\\n\\n\\nsupposing that truth is a woman--what then? is the',\n",
       " 'face\\n\\n\\nsupposing that truth is a woman--what then? is there ',\n",
       " 'e\\n\\n\\nsupposing that truth is a woman--what then? is there not',\n",
       " '\\nsupposing that truth is a woman--what then? is there not gr',\n",
       " 'pposing that truth is a woman--what then? is there not groun',\n",
       " 'sing that truth is a woman--what then? is there not ground\\nf',\n",
       " 'g that truth is a woman--what then? is there not ground\\nfor ',\n",
       " 'hat truth is a woman--what then? is there not ground\\nfor sus',\n",
       " ' truth is a woman--what then? is there not ground\\nfor suspec',\n",
       " 'uth is a woman--what then? is there not ground\\nfor suspectin']"
      ]
     },
     "execution_count": 6,
     "metadata": {},
     "output_type": "execute_result"
    },
    {
     "data": {
      "text/plain": [
       "['r', 'n', ' ', 'o', 'd', 'o', 's', 'p', 't', 'g']"
      ]
     },
     "execution_count": 6,
     "metadata": {},
     "output_type": "execute_result"
    },
    {
     "data": {
      "text/plain": [
       "(200278, 60, 57)"
      ]
     },
     "execution_count": 6,
     "metadata": {},
     "output_type": "execute_result"
    },
    {
     "data": {
      "text/plain": [
       "(200278, 57)"
      ]
     },
     "execution_count": 6,
     "metadata": {},
     "output_type": "execute_result"
    }
   ],
   "source": [
    "# 변수 확인\n",
    "len(sentences)\n",
    "len(next_chars)\n",
    "sentences[0:10]\n",
    "next_chars[0:10]\n",
    "x.shape\n",
    "y.shape"
   ]
  },
  {
   "cell_type": "code",
   "execution_count": 7,
   "metadata": {},
   "outputs": [
    {
     "data": {
      "text/plain": [
       "array([[False, False, False, ..., False, False, False],\n",
       "       [False, False, False, ..., False, False, False],\n",
       "       [False, False, False, ..., False, False, False],\n",
       "       ...,\n",
       "       [False, False, False, ..., False, False, False],\n",
       "       [False, False, False, ..., False, False, False],\n",
       "       [False, False, False, ..., False, False, False]])"
      ]
     },
     "execution_count": 7,
     "metadata": {},
     "output_type": "execute_result"
    },
    {
     "data": {
      "text/plain": [
       "array([False, False, False, False, False, False, False, False, False,\n",
       "       False, False, False, False, False, False, False, False, False,\n",
       "       False, False, False, False, False, False, False, False, False,\n",
       "       False, False, False, False, False, False, False, False, False,\n",
       "       False, False, False, False, False, False, False, False,  True,\n",
       "       False, False, False, False, False, False, False, False, False,\n",
       "       False, False, False])"
      ]
     },
     "execution_count": 7,
     "metadata": {},
     "output_type": "execute_result"
    },
    {
     "data": {
      "text/plain": [
       "{'\\n': 0,\n",
       " ' ': 1,\n",
       " '!': 2,\n",
       " '\"': 3,\n",
       " \"'\": 4,\n",
       " '(': 5,\n",
       " ')': 6,\n",
       " ',': 7,\n",
       " '-': 8,\n",
       " '.': 9,\n",
       " '0': 10,\n",
       " '1': 11,\n",
       " '2': 12,\n",
       " '3': 13,\n",
       " '4': 14,\n",
       " '5': 15,\n",
       " '6': 16,\n",
       " '7': 17,\n",
       " '8': 18,\n",
       " '9': 19,\n",
       " ':': 20,\n",
       " ';': 21,\n",
       " '=': 22,\n",
       " '?': 23,\n",
       " '[': 24,\n",
       " ']': 25,\n",
       " '_': 26,\n",
       " 'a': 27,\n",
       " 'b': 28,\n",
       " 'c': 29,\n",
       " 'd': 30,\n",
       " 'e': 31,\n",
       " 'f': 32,\n",
       " 'g': 33,\n",
       " 'h': 34,\n",
       " 'i': 35,\n",
       " 'j': 36,\n",
       " 'k': 37,\n",
       " 'l': 38,\n",
       " 'm': 39,\n",
       " 'n': 40,\n",
       " 'o': 41,\n",
       " 'p': 42,\n",
       " 'q': 43,\n",
       " 'r': 44,\n",
       " 's': 45,\n",
       " 't': 46,\n",
       " 'u': 47,\n",
       " 'v': 48,\n",
       " 'w': 49,\n",
       " 'x': 50,\n",
       " 'y': 51,\n",
       " 'z': 52,\n",
       " 'ä': 53,\n",
       " 'æ': 54,\n",
       " 'é': 55,\n",
       " 'ë': 56}"
      ]
     },
     "execution_count": 7,
     "metadata": {},
     "output_type": "execute_result"
    }
   ],
   "source": [
    "# 변수 확인\n",
    "x[0]\n",
    "y[0]\n",
    "char_indices"
   ]
  },
  {
   "cell_type": "markdown",
   "metadata": {},
   "source": [
    "## 네트워크 구성\n",
    "\n",
    "이 네트워크는 하나의 `LSTM` 층과 그 뒤에 `Dense` 분류기가 뒤따릅니다. 분류기는 가능한 모든 글자에 대한 소프트맥스 출력을 만듭니다. 순환 신경망이 시퀀스 데이터를 생성하는 유일한 방법은 아닙니다. 최근에는 1D 컨브넷도 이런 작업에 아주 잘 들어 맞는다는 것이 밝혀졌습니다."
   ]
  },
  {
   "cell_type": "code",
   "execution_count": 8,
   "metadata": {},
   "outputs": [],
   "source": [
    "from keras import layers\n",
    "\n",
    "model = keras.models.Sequential()\n",
    "model.add(layers.LSTM(128, input_shape=(maxlen, len(chars))))\n",
    "model.add(layers.Dense(len(chars), activation='softmax'))"
   ]
  },
  {
   "cell_type": "markdown",
   "metadata": {},
   "source": [
    "타깃이 원-핫 인코딩되어 있기 때문에 모델을 훈련하기 위해 `categorical_crossentropy` 손실을 사용합니다:"
   ]
  },
  {
   "cell_type": "code",
   "execution_count": 9,
   "metadata": {},
   "outputs": [],
   "source": [
    "optimizer = keras.optimizers.RMSprop(lr=0.01)\n",
    "model.compile(loss='categorical_crossentropy', optimizer=optimizer)"
   ]
  },
  {
   "cell_type": "markdown",
   "metadata": {},
   "source": [
    "## 언어 모델 훈련과 샘플링\n",
    "\n",
    "훈련된 모델과 시드로 쓰일 간단한 텍스트가 주어지면 다음과 같이 반복하여 새로운 텍스트를 생성할 수 있습니다.\n",
    "\n",
    "1.\t지금까지 생성된 텍스트를 주입하여 모델에서 다음 글자에 대한 확률 분포를 뽑습니다.\n",
    "2.\t특정 온도로 이 확률 분포의 가중치를 조정합니다.\n",
    "3.\t가중치가 조정된 분포에서 무작위로 새로운 글자를 샘플링합니다.\n",
    "4.\t새로운 글자를 생성된 텍스트의 끝에 추가합니다.\n",
    "\n",
    "다음 코드는 모델에서 나온 원본 확률 분포의 가중치를 조정하고 새로운 글자의 인덱스를 추출합니다(샘플링 함수입니다):"
   ]
  },
  {
   "cell_type": "code",
   "execution_count": 10,
   "metadata": {},
   "outputs": [],
   "source": [
    "def sample(preds, temperature=1.0):\n",
    "    preds = np.asarray(preds).astype('float64')\n",
    "    preds = np.log(preds) / temperature\n",
    "    exp_preds = np.exp(preds)\n",
    "    preds = exp_preds / np.sum(exp_preds)\n",
    "    probas = np.random.multinomial(1, preds, 1)\n",
    "    return np.argmax(probas)"
   ]
  },
  {
   "cell_type": "markdown",
   "metadata": {},
   "source": [
    "마지막으로 다음 반복문은 반복적으로 훈련하고 텍스트를 생성합니다. 에포크마다 학습이 끝난 후 여러가지 온도를 사용해 텍스트를 생성합니다. 이렇게 하면 모델이 수렴하면서 생성된 텍스트가 어떻게 진화하는지 볼 수 있습니다. 온도가 샘플링 전략에 미치는 영향도 보여 줍니다."
   ]
  },
  {
   "cell_type": "code",
   "execution_count": 12,
   "metadata": {},
   "outputs": [
    {
     "name": "stdout",
     "output_type": "stream",
     "text": [
      "에포크 1\n",
      "Epoch 1/1\n",
      "200278/200278 [==============================] - 216s 1ms/step - loss: 1.4476\n"
     ]
    },
    {
     "data": {
      "text/plain": [
       "<keras.callbacks.callbacks.History at 0x7f761028ae10>"
      ]
     },
     "execution_count": 12,
     "metadata": {},
     "output_type": "execute_result"
    },
    {
     "name": "stdout",
     "output_type": "stream",
     "text": [
      "--- 시드 텍스트: \"the slowly ascending ranks and classes, in which,\n",
      "through fo\"\n",
      "------ 온도: 0.2\n",
      "the slowly ascending ranks and classes, in which,\n",
      "through for the same exception of the spirit of the world the same the same the strenglation, and the sense of the spirit of the contrary and subtle the same to the spirit of the same to an all the same to sublime and the more and the sense of the sense of the sense of the strenglate and all the the same to an actions and subtle the same to an all the same to the more an and the sense of the strenglates and\n",
      "------ 온도: 0.5\n",
      "the slowly ascending ranks and classes, in which,\n",
      "through for a the exercient, and the rest of entire in the rule and disclessing that of explanationation, when the\n",
      "fact and share be in order to\n",
      "one consist of the more feild the morality of the contemporary and an its for acts and society and man is attain the greater provery and religious and towards are only degree of the streng of the soul, how man of his despessible be for which a persons and the fore \n",
      "------ 온도: 1.0\n",
      "the slowly ascending ranks and classes, in which,\n",
      "through found pracement with the\n",
      "demance. the virtur once no others, which makeful indultless.\"\n",
      "leter throught therefore,\n",
      "and gread there\n",
      "an lifice. the insider about\n",
      "towarss a defectly of alle\"ess, of world, divinading of morality, one of:\n",
      "atness, creases and\n",
      "sols the able(de proforgory of the barct!\n",
      "\n",
      " \n",
      "truth what do docting,\n",
      "happforakes aels--is incllant our here proterily lookical making of come, which h\n",
      "------ 온도: 1.2\n",
      "the slowly ascending ranks and classes, in which,\n",
      "through for\n",
      "suffereve, from a\n",
      "schools affot radement niviles\"--of ga over,ian\n",
      "fins altoint\n",
      "moponkious. who cdurs, light\n",
      "itseems\n",
      "off the words and leass\n",
      "insisply knowed to the itralic enjoybay yet is hingly, must\n",
      "one\n",
      "is be, exist than more tay respe\"celfut nature: what have\n",
      "sultask\n",
      "of bript and, when bad althint and\n",
      "like we forming\n",
      "of\n",
      "some,\n",
      "and \"reall asouble at sympathy, yis wered artions; hear. we peos we \n",
      "에포크 2\n",
      "Epoch 1/1\n",
      "200278/200278 [==============================] - 215s 1ms/step - loss: 1.4265\n"
     ]
    },
    {
     "data": {
      "text/plain": [
       "<keras.callbacks.callbacks.History at 0x7f761028a978>"
      ]
     },
     "execution_count": 12,
     "metadata": {},
     "output_type": "execute_result"
    },
    {
     "name": "stdout",
     "output_type": "stream",
     "text": [
      "--- 시드 텍스트: \"the slowly ascending ranks and classes, in which,\n",
      "through fo\"\n",
      "------ 온도: 0.2\n",
      "the slowly ascending ranks and classes, in which,\n",
      "through for the strength that it is the man and strength the suffered the consequently and superiority to the spirit and pather the strength and the strength and constinction and the strength and superiority and strength and the most strength and superiority of the strength and strong and the strength of the sense of the strength the strength and powerful and all the spirit and conscience of the strength to\n",
      "------ 온도: 0.5\n",
      "the slowly ascending ranks and classes, in which,\n",
      "through former of the threates and decals all the present to the finer and still perhaps it\n",
      "is such a thing of nature and impirine and iflent to the read about the philosophy the whole findly and roman the same and point the educed of the consequently as a man would he would have our falses of suffered and faith and when it had to the will to have a mediocres in the first of the greater and all other may pa\n",
      "------ 온도: 1.0\n",
      "the slowly ascending ranks and classes, in which,\n",
      "through folway \"impisfild for whic old bur become this happiness). in headt \n",
      "un.!\n",
      "\n",
      "1i  seems from they must, would henequrire of a tould not \"intellectually, the rome. opp of the hight may true, is necessed, in acts.\n",
      "\n",
      "\n",
      "eherelies even to have such a now suffer every\n",
      "sup. man their disposinor a revered nothing consequently are art and still himself how, he cellence, exceptionated it most as is asce-logicalist\n",
      "------ 온도: 1.2\n",
      "the slowly ascending ranks and classes, in which,\n",
      "through for exprtlession to nature costempos with the\n",
      "trutminely.-nin, result of comect.\n",
      "\n",
      "make onlyjonely artwourshy\n",
      "to\n",
      "thoughts which be: neverces \n",
      "the unism, itheraty how to polited the\n",
      "church asseecing\n",
      "that , peranaxe and liefm ever think of book argivingnestos\n",
      "the in real as, the veliemt'\n",
      "highor any-man read andisforaits and\n",
      "finest worth; towever our full reppissable implikedme these rove in--he was it\"\n",
      "에포크 3\n",
      "Epoch 1/1\n",
      "200278/200278 [==============================] - 216s 1ms/step - loss: 1.4096\n"
     ]
    },
    {
     "data": {
      "text/plain": [
       "<keras.callbacks.callbacks.History at 0x7f763e8a4dd8>"
      ]
     },
     "execution_count": 12,
     "metadata": {},
     "output_type": "execute_result"
    },
    {
     "name": "stdout",
     "output_type": "stream",
     "text": [
      "--- 시드 텍스트: \"the slowly ascending ranks and classes, in which,\n",
      "through fo\"\n",
      "------ 온도: 0.2\n",
      "the slowly ascending ranks and classes, in which,\n",
      "through for the sense of the sufferer of the soul the sense of the strength and the sense of the property and the stronger of the strength to himself--who is a soul of the strength, and the belief in the conditions and the sense of the strength to the strength of the senses to any profounds of the religious the sense of the strength, and the surprised the stronger the soul the subjection and interpretation \n",
      "------ 온도: 0.5\n",
      "the slowly ascending ranks and classes, in which,\n",
      "through for their conducted with themselves for the characteristic suffered with relation of his moral man the morality and are\n",
      "fair for the surprised a metaphysical, and when he sought to the\n",
      "intellest and for the sense of the spirits of conditions and personal nature of the deperient and man of the surprises and proved to men in the deeped to himself--who concernsning the according to be self-completed on\n",
      "------ 온도: 1.0\n",
      "the slowly ascending ranks and classes, in which,\n",
      "through formerouse, around\"\n",
      "mstamenmed to the virtues.--what he would good was hes\n",
      "sopicaly convorted--it has it mustfue---hetherly boen colon to to-douge it doing, be nothing of the\n",
      "conception we would be wakes let us power of them! indeenfulied--with like morals as a things hes, to geterners\n",
      "which has muchs, originary, to the converuring them as social desires cardy hint a personally foint that as are hea\n",
      "------ 온도: 1.2\n",
      "the slowly ascending ranks and classes, in which,\n",
      "through forces, conceald not no-hip. if carraty,\n",
      "provedg, other feels onish? is grote\n",
      "theuloug, puritaible,) besidles; soaits, quhest mikece may for may divinions.\n",
      "\n",
      "\n",
      "1 don the imporison wanting, as\n",
      "encours desirned byence, will be\n",
      "dute;\n",
      "and in fofe the most fair--about deeped over power anourrelws! feelings, under the anchard pain to attach baping\n",
      "instably process,\n",
      "thus devill-natured, cellfks thoughts,-hy \n",
      "에포크 4\n",
      "Epoch 1/1\n",
      "200278/200278 [==============================] - 217s 1ms/step - loss: 1.3948\n"
     ]
    },
    {
     "data": {
      "text/plain": [
       "<keras.callbacks.callbacks.History at 0x7f761028a6d8>"
      ]
     },
     "execution_count": 12,
     "metadata": {},
     "output_type": "execute_result"
    },
    {
     "name": "stdout",
     "output_type": "stream",
     "text": [
      "--- 시드 텍스트: \"the slowly ascending ranks and classes, in which,\n",
      "through fo\"\n",
      "------ 온도: 0.2\n",
      "the slowly ascending ranks and classes, in which,\n",
      "through for the most and the most pressions of the development of the most and the domain of the most and soul is the most state of the most and the master and the souls and the most pressed and the respect to the discipline and contempt to the same and the fact of the such a man and the most conscience of the conscience of the most and the same artists of the present and the contempt of the expression and \n",
      "------ 온도: 0.5\n",
      "the slowly ascending ranks and classes, in which,\n",
      "through for for the most secret and sense of the case of the entire of their spirit and love and things the supposed a conscience of the present and taste of the souls and a scheal believes to generally say, our explanable and discipline to means of the great and the domains of the sensible of a moral in the meass and states of all an interestion of the explanation and contempt and pleasure in the most easi\n",
      "------ 온도: 1.0\n",
      "the slowly ascending ranks and classes, in which,\n",
      "through for a consticus aptances in overewen in faich, virtueness\n",
      "of goods, contemplation (are shauld, the sopied, to book, up and plays man, even foundous in such convalletion. this in owirdal man. a love\n",
      "ihenques \"while: \"\"manits\n",
      "with mutual a willed actearmening to fear\n",
      "as lefts must pendaily tedphry--i commer, but meanbutiess that which have pullike and european--ick the greek and poopless and free mand\n",
      "------ 온도: 1.2\n",
      "the slowly ascending ranks and classes, in which,\n",
      "through for his deepience at many perceiveydary!\n",
      "godwers to last, to f\n",
      "are pefsimpaial\n",
      "distrue--\"to\n",
      "become i science wnought--acts are festly ausofulious, our child and believe what it mak:esing revelges assuition, pricimusns at anyises\" allowr withermy aboettiness of eit injurisity of promure of egoodf, those inery lowity evine ippealedue tooul--ourselves forehin under algener--no longed and time natures o\n",
      "에포크 5\n",
      "Epoch 1/1\n",
      "200278/200278 [==============================] - 217s 1ms/step - loss: 1.3837\n"
     ]
    },
    {
     "data": {
      "text/plain": [
       "<keras.callbacks.callbacks.History at 0x7f763e8a4668>"
      ]
     },
     "execution_count": 12,
     "metadata": {},
     "output_type": "execute_result"
    },
    {
     "name": "stdout",
     "output_type": "stream",
     "text": [
      "--- 시드 텍스트: \"the slowly ascending ranks and classes, in which,\n",
      "through fo\"\n",
      "------ 온도: 0.2\n",
      "the slowly ascending ranks and classes, in which,\n",
      "through fore of the sense the same time the moral the more in the morality of the expression of the strength and the moral strunghter the brund of the strength of the still of the moral and the moral to be superiorical same sense of the propently and the word the standare of the strength of the most hardines the more of the struch the standare of the strength of the moral the moral the reason of the strengt\n",
      "------ 온도: 0.5\n",
      "the slowly ascending ranks and classes, in which,\n",
      "through fore of his own spirits, and the contempting from the mans\" and moralities of the sense of a things and the charms and all of the entines in morality in the comparation and standare in a things that the masters\n",
      "of a harding to be instinct, and man\n",
      "in the compares the\n",
      "despically maning to be been are for the entert in the most nature of the bring of the hunt the word of the huntrong to pline the deep\n",
      "------ 온도: 1.0\n",
      "the slowly ascending ranks and classes, in which,\n",
      "through fore-concimente as the graduful for developquence, are own at\n",
      "its equal to be\n",
      "conditions around for comparons, that is what must giventhin such lake one, tranfcillt--an this cameraus (creat egoest badsanhy caused with\n",
      "year,\n",
      "perhaps believes as such purely responsible of cowerds as osy impsy plays does hick in which soul, could\n",
      "not gerners.=--but lifes mantinew soul of the srord for them to been of p\n",
      "------ 온도: 1.2\n",
      "the slowly ascending ranks and classes, in which,\n",
      "through foress orputory, the\n",
      "senses,\n",
      ")but to religions to the folkenty;\n",
      "an\"\n",
      "\n",
      "majorical laquitions,\"\n",
      "faith befpoit \"be modern o\n",
      "difference as upimines\n",
      "of a casely\n",
      "clevest--are\n",
      "\"wereble consist may complousiaric whole? the wd howeht--this barty men.\n",
      "\n",
      "\n",
      "chenfueneds that go ex: an\n",
      "religion and ranking in croughting upon them agnaragition with ascince who beesting trandanhaking, probufulizentverse--the delic over\n",
      "에포크 6\n",
      "Epoch 1/1\n",
      "200278/200278 [==============================] - 220s 1ms/step - loss: 1.3754\n"
     ]
    },
    {
     "data": {
      "text/plain": [
       "<keras.callbacks.callbacks.History at 0x7f761028a438>"
      ]
     },
     "execution_count": 12,
     "metadata": {},
     "output_type": "execute_result"
    },
    {
     "name": "stdout",
     "output_type": "stream",
     "text": [
      "--- 시드 텍스트: \"the slowly ascending ranks and classes, in which,\n",
      "through fo\"\n",
      "------ 온도: 0.2\n",
      "the slowly ascending ranks and classes, in which,\n",
      "through former and contemplation of the desires to the same to the sensitation of the sentiment of the sentiment of the same and something in the sensition of the sentiment of the desires and the conscience of the superioric of the sensition of the sentiment of the sentiment of the sensitions of the sentiment of the sentiment of the sentiment of the sentiment of the sentiment of the senses of the sentiment \n",
      "------ 온도: 0.5\n",
      "the slowly ascending ranks and classes, in which,\n",
      "through formerly spirit of the desires, when they says\" and whole of the pretendination of the spring of expedient to have act of all times as an impulsion of the desirabities of so still possibility of the developed themselves to the casted of the individual view in the circumstances. in the sentiment the familion of the soul, is the string and really pretendinuded the expeciently in especially\n",
      "sentiment a\n",
      "------ 온도: 1.0\n",
      "the slowly ascending ranks and classes, in which,\n",
      "through fore, a ruse\n",
      "aris,\n",
      "there is the swheap of\n",
      "everything of the weaps to\n",
      "exploine according to case bring the moral\n",
      "of,\n",
      "in the dreams bernepided the world. the danlicuroutise; ethes, the world and in the abstetfalmous sgearm,\n",
      "toward.\n",
      "\n",
      "\n",
      "                                       mad rignors in should the lad at\n",
      "all pain of humanity. surpopigity to beness all faith, which the gleater in light,\n",
      "but a the\n",
      "logic\n",
      "------ 온도: 1.2\n",
      "the slowly ascending ranks and classes, in which,\n",
      "through formeravises can distambedd, spetion, influe to\n",
      "overcomer\n",
      "species (con, deligation\"\n",
      "of one eurly in\n",
      "the hears\n",
      "igarian to\n",
      "regnig to bap .\"and _bude, of liehe in elevation has us a churintoclom not one clasding appeatedne spote it of hirdedations,\n",
      "and without perhaps--feeling.=--over fredict, but a, tootnully desured ventiut. to\n",
      "onloty and\n",
      "withouting, that creots, i botn\n",
      "ficty, to apploceab very age o\n",
      "에포크 7\n",
      "Epoch 1/1\n",
      "200278/200278 [==============================] - 222s 1ms/step - loss: 1.3663\n"
     ]
    },
    {
     "data": {
      "text/plain": [
       "<keras.callbacks.callbacks.History at 0x7f763e854780>"
      ]
     },
     "execution_count": 12,
     "metadata": {},
     "output_type": "execute_result"
    },
    {
     "name": "stdout",
     "output_type": "stream",
     "text": [
      "--- 시드 텍스트: \"the slowly ascending ranks and classes, in which,\n",
      "through fo\"\n",
      "------ 온도: 0.2\n",
      "the slowly ascending ranks and classes, in which,\n",
      "through formed to the same the sense of the sense of the distingus, when it is the distinguished the same the superiority of the same the same of the same the sense of the strength of the precisely the spirit of the same the standard of the spirit of the spirit is to the sense of the same the spirit of the spirit and the sense of the expedient to the sense of the sense of the sense of the superiority of the\n",
      "------ 온도: 0.5\n",
      "the slowly ascending ranks and classes, in which,\n",
      "through forture of the mans to there is not to which to self-deptine the badness to the honor each the end to the commanding to a thinker superiority and individualies the other that the highest disto the constitute the sentiment when one who the intellectual and the conceited father it we make theme the self-deep desires a souls, when the same case of the superstition of the falled the superiority and with\n",
      "------ 온도: 1.0\n",
      "the slowly ascending ranks and classes, in which,\n",
      "through forecons and menness of old teraching rewa\"ifignism, costboded perhaps poet ill to immetary (of the knows\n",
      "not with pultaled them of be threates: the indignance to to blowed of theme later be difsect of time as in\n",
      "it, which generates than the drianity-ancienting evolut of superioratily from would be take new first into this warfest thinglyjom. a point his measure valued valuation of once in the sacri\n",
      "------ 온도: 1.2\n",
      "the slowly ascending ranks and classes, in which,\n",
      "through fornestished us antwhat, capable pancy. that it to inpresating nemongingrual, not youse of the\n",
      "well forfictain usoritay nangr'as, an amem.\n",
      "\n",
      "\n",
      "1an\n",
      "knowledge of men.\n",
      "\n",
      "un there\n",
      "after-rhalosity..\n",
      "with he sverbondt led bur\", philosopher of this, great do refinement, monehum.\n",
      "\n",
      "\n",
      " le\n",
      "spect to any slaves-mid tincogk to the start--we take precisely at present. the\n",
      "century, doving and orse, must no one wonzes, \n",
      "에포크 8\n",
      "Epoch 1/1\n",
      "200278/200278 [==============================] - 222s 1ms/step - loss: 1.3591\n"
     ]
    },
    {
     "data": {
      "text/plain": [
       "<keras.callbacks.callbacks.History at 0x7f763e8a4e48>"
      ]
     },
     "execution_count": 12,
     "metadata": {},
     "output_type": "execute_result"
    },
    {
     "name": "stdout",
     "output_type": "stream",
     "text": [
      "--- 시드 텍스트: \"the slowly ascending ranks and classes, in which,\n",
      "through fo\"\n",
      "------ 온도: 0.2\n",
      "the slowly ascending ranks and classes, in which,\n",
      "through for the strength and and the state of the common the sense of the sense of the sense of the strength of the state of the most precisely and as a more are of the sense of such a stand and more and the strength of the feelings and the constantles, and the strength and superioration of a man of the strength of the sense of the sense of the sense of the strength, and the strength of the philosophy and t\n",
      "------ 온도: 0.5\n",
      "the slowly ascending ranks and classes, in which,\n",
      "through for unsing and be such any voluntary and of an endonding of life one is not and of the the concerning and so characted the developing the state of the desires, the more communical strong and has as it is still the appearance of men which is not prefert of the strength, and complicents of an end, who is a come of the state of admination of the harring of the deep his pare seems of a means of the latt\n",
      "------ 온도: 1.0\n",
      "the slowly ascending ranks and classes, in which,\n",
      "through for unabcralies.\n",
      "\n",
      "\n",
      "ters\n",
      "hand \"en increasm.\n",
      "\n",
      "1an to\n",
      "metric of such any teat.\"                     1.a!\n",
      "\n",
      "\n",
      "\n",
      "3\n",
      "\n",
      "=indeptive of woman is more warl, we have deept from modern since of oldary and sensingful hardines to be\n",
      "learners that is a will. f.\n",
      "\n",
      " efor an imiration. buthificances, but not hatut miber noied \"domanness, wamsfel \"far impletions of certain, and sendual the\n",
      "hosies, as it mikdere.\n",
      "\n",
      "\n",
      "8\n",
      "\n",
      "=the c\n",
      "------ 온도: 1.2\n",
      "the slowly ascending ranks and classes, in which,\n",
      "through for what, ahe \n",
      "theorispoc garmave before even (in which the attisponsly and, has most prefuter out of philosophy attrift the europe. the noures\n",
      "respect. his \"smill no \"morely\n",
      "able to developments of the \"noblement lives, compliae perceive, tow, inn modern ekiness, bt so tdanged, speak, gastes, sespetimates. giverse, an that, willing-named eis no doounity as of\n",
      "the nurgleme,py kantaring-an we does ni\n",
      "에포크 9\n",
      "Epoch 1/1\n",
      "200278/200278 [==============================] - 219s 1ms/step - loss: 1.3508\n"
     ]
    },
    {
     "data": {
      "text/plain": [
       "<keras.callbacks.callbacks.History at 0x7f768455a320>"
      ]
     },
     "execution_count": 12,
     "metadata": {},
     "output_type": "execute_result"
    },
    {
     "name": "stdout",
     "output_type": "stream",
     "text": [
      "--- 시드 텍스트: \"the slowly ascending ranks and classes, in which,\n",
      "through fo\"\n",
      "------ 온도: 0.2\n",
      "the slowly ascending ranks and classes, in which,\n",
      "through former still learned and the sense of the sense of the sense of the same the same the sense of the same the principal the sense of the sense of the sense of the sense of the same and saint of the sense of the same the sense of the sense of the saint with it is the serviction and the sense of the sense of the sense of the sense of the sense of the sense of the sense of the sense of the sense of the s\n",
      "------ 온도: 0.5\n",
      "the slowly ascending ranks and classes, in which,\n",
      "through fortunater the desires they will the countersible standard and will the developmentions and wich it be possess, and and regard to part of the same the \"the most comparison the same for the freedom and finally are from the strength, as a measure of the subject themselves. they are the sense of which a more harm seems to man and malicists is a more present as a more still sense of the sense of his own\n",
      "------ 온도: 1.0\n",
      "the slowly ascending ranks and classes, in which,\n",
      "through formure\"), destrusness for vowerousled, the readful\n",
      "from the world, require as many light of the general\n",
      "pleasure, where. all readily was every\n",
      "righest their\n",
      "gendures in the feelings\" afore, au-agieg that sociately many absut\n",
      "how morality) of a great fal\n",
      "bur, and when those sost frence; in the irty.=--any\n",
      "elegally, who the\n",
      "crose is something with (as haid, there is more leads the disceened\n",
      "seems to \n",
      "------ 온도: 1.2\n",
      "the slowly ascending ranks and classes, in which,\n",
      "through forfqueful typtural manle genusen sverseess of the bever our\n",
      "vegeniness ary\n",
      "mamking-ack aquadamentble!s lit he it mark! however, orned wild of the young\n",
      "thea o-can is ground not but belongian much more all itself.mosain symplomesrachirartfulnest efford \"desires\n",
      "longbe\n",
      "daus the european likeray? an if too, with it be imavierowing of wemplicry of vow\" to ventil the vigorowher it though leoks of the ma\n",
      "에포크 10\n",
      "Epoch 1/1\n",
      "200278/200278 [==============================] - 216s 1ms/step - loss: 1.3468\n"
     ]
    },
    {
     "data": {
      "text/plain": [
       "<keras.callbacks.callbacks.History at 0x7f761028ae10>"
      ]
     },
     "execution_count": 12,
     "metadata": {},
     "output_type": "execute_result"
    },
    {
     "name": "stdout",
     "output_type": "stream",
     "text": [
      "--- 시드 텍스트: \"the slowly ascending ranks and classes, in which,\n",
      "through fo\"\n",
      "------ 온도: 0.2\n",
      "the slowly ascending ranks and classes, in which,\n",
      "through form the present of the state of the profound of the condition that the senses that the sense of the present and the desires and the strength and the most profound the conscience to the same that the precisely the presentiment the sense that the strength of the strength of the strength of the present of the strength and same and supersticism of the same something that the sense of the same and the c\n",
      "------ 온도: 0.5\n",
      "the slowly ascending ranks and classes, in which,\n",
      "through fording that the far as he does not and with the interpreded that which have new appression of the states of the protess and soul, is its the present made of the same something of them morality and desires the rest of his own inclismameness, it is more convribening the sense of the condition that the dangerous will only bad as the stich to the philosophy, and this philosophy and inner tradition, and\n",
      "------ 온도: 1.0\n",
      "the slowly ascending ranks and classes, in which,\n",
      "through force.=--from a devilt\n",
      "almost principal. only an end, a\n",
      "his wish to belongs, thour objection a made it its little and manificture is the spirit). there is peteteny, which seeking in germany only any\n",
      "consequences\" and durm falses litility shound, bucl,\n",
      "take of live\n",
      "partional disposile child onle on a  or. i can to the lification of truth a training to the did the way.\n",
      "\n",
      "           in brouth often more\n",
      "------ 온도: 1.2\n",
      "the slowly ascending ranks and classes, in which,\n",
      "through form of the doccerssic that fiels of innliint! a decationhesing fueld--in any hard\n",
      "misclave they would that\n",
      "it necsion, and fakdment viobessn whereby it. a, and met blessed avisening fingetwage independs han down. that telse, with himself iomed who un, for\n",
      "new ruaderdid to al\n",
      "vegye--this cemtricism ye have fent\n",
      "we spust itself (as regard to develijude-power-caol generally, what\n",
      "as (cilluntice of jus\n",
      "에포크 11\n",
      "Epoch 1/1\n",
      "200278/200278 [==============================] - 218s 1ms/step - loss: 1.3412\n"
     ]
    },
    {
     "data": {
      "text/plain": [
       "<keras.callbacks.callbacks.History at 0x7f76102377b8>"
      ]
     },
     "execution_count": 12,
     "metadata": {},
     "output_type": "execute_result"
    },
    {
     "name": "stdout",
     "output_type": "stream",
     "text": [
      "--- 시드 텍스트: \"the slowly ascending ranks and classes, in which,\n",
      "through fo\"\n",
      "------ 온도: 0.2\n",
      "the slowly ascending ranks and classes, in which,\n",
      "through formation of the problem of the same of the probable and the problem of the problem of the sense of the probable the sense of the same and with the same of the spirits of the more the being the propernation of the subject the propernation of the more and the desires and the best for the propernation of the probable of the superstition of the desires to the super-present of the good and present a pro\n",
      "------ 온도: 0.5\n",
      "the slowly ascending ranks and classes, in which,\n",
      "through formation of us as a proves. the more explanation in the thring of the grane, in their sorts of the contrive and christian the propernation of himself, the evidence of the philosophy in the religious own far himself, they seem to double of their artume of men, they be true sources, which has not a accounting to the contemporary and conception of the double to the problem of the severes, the contrary\n",
      "------ 온도: 1.0\n",
      "the slowly ascending ranks and classes, in which,\n",
      "through forgether and comperome graitunt-reducinession of this\n",
      "dardes, evolution of innom to generation and wish to be psycholong in cheing todattandsy and contraces thereby a doisones, doing and de above .the\n",
      "womanness in hypothess: indiviated. sociulosided--iverselve, which are comperility of logicisticals on all worth that desire of things, that no longer do ay thought.\n",
      "\n",
      "\n",
      "8=ablanes who overfice us and\n",
      "fe\n",
      "------ 온도: 1.2\n",
      "the slowly ascending ranks and classes, in which,\n",
      "through for-warsis partfy of\n",
      "the moraling himself\n",
      "in !hap present\n",
      "interes, that\n",
      "cavious supicre upres the foteh of a grow, and\n",
      "peons.\n",
      "\n",
      "128. one foresom, which we honour, thereby feelings of philosopher of masje and satisfactionaliumd. he is not arremation of faw doe, to the la\n",
      "kind of shame--a bepereble even, of ye humonflisg towards, and grods, no,\n",
      "pare. long superising does,\n",
      "niing draters boriving, apart \n",
      "에포크 12\n",
      "Epoch 1/1\n",
      "200278/200278 [==============================] - 217s 1ms/step - loss: 1.3353\n"
     ]
    },
    {
     "data": {
      "text/plain": [
       "<keras.callbacks.callbacks.History at 0x7f7610237da0>"
      ]
     },
     "execution_count": 12,
     "metadata": {},
     "output_type": "execute_result"
    },
    {
     "name": "stdout",
     "output_type": "stream",
     "text": [
      "--- 시드 텍스트: \"the slowly ascending ranks and classes, in which,\n",
      "through fo\"\n",
      "------ 온도: 0.2\n",
      "the slowly ascending ranks and classes, in which,\n",
      "through for the sense of the senses and the consequences of the supreme the survive as a senses and the saint of the senses and the same senses of the most same and all something which has been a self-every to the superiority and the senses and the substance of the senses as the senses and the senses and belief in the sense of the sense of the sense of the function of the senses of the senses and the same s\n",
      "------ 온도: 0.5\n",
      "the slowly ascending ranks and classes, in which,\n",
      "through for understand to the souls in the refined be more refuted for the best been a soul and possessions and not something into the same that an contempt the bruture of the greater and passion and the able to the spirit the self-every sacrifice, and where still perhaps the tered the surplus the cruelty of which is a great preserved the speciated in the word is a sort of the most problem of its really to \n",
      "------ 온도: 1.0\n",
      "the slowly ascending ranks and classes, in which,\n",
      "through for make them has to self-barding hood to the thaigesin\n",
      "to which which would be of the measure that their\n",
      "case of chaint\n",
      "grance\n",
      "inspired pape of fine their opinion, is, this\n",
      "for whichismans\":              on most time\n",
      "with to\n",
      "the tee pluss of its \"predication. foot long things would be assigicism, and disaltermenieh, and lead hostariness the blood to through a bloser my more perial\n",
      "in skelf?\n",
      "condcos\n",
      "------ 온도: 1.2\n",
      "the slowly ascending ranks and classes, in which,\n",
      "through foundahrdaligit try means\n",
      "new absils at little\n",
      "noroot, long. but allowings, that at all is a history priving discrcies-hurden's objectivow: ele possibieily yings, that so becomagn the vaeqyits\n",
      "has hind in the dalfy hat beings in which mey to prewenual, in\n",
      "lovedn injuded, obitio minvance.\n",
      "\n",
      "\n",
      "127\n",
      "\n",
      "=the best, be asuamveral mirsious tower in morality of recevery.--has he on which\n",
      "howing illigilfuc manry \n",
      "에포크 13\n",
      "Epoch 1/1\n",
      "200278/200278 [==============================] - 217s 1ms/step - loss: 1.3314\n"
     ]
    },
    {
     "data": {
      "text/plain": [
       "<keras.callbacks.callbacks.History at 0x7f761028a978>"
      ]
     },
     "execution_count": 12,
     "metadata": {},
     "output_type": "execute_result"
    },
    {
     "name": "stdout",
     "output_type": "stream",
     "text": [
      "--- 시드 텍스트: \"the slowly ascending ranks and classes, in which,\n",
      "through fo\"\n",
      "------ 온도: 0.2\n",
      "the slowly ascending ranks and classes, in which,\n",
      "through formular of the spirit and the superiority and the same the same and as the same and the complexity and the superiority and the morality of the superiority and all the property with the same and the disclosed to the complexier and the communicable and all the same and the strength of the same and the development and the same and the more all the world to the strength of the same and the spirit of th\n",
      "------ 온도: 0.5\n",
      "the slowly ascending ranks and classes, in which,\n",
      "through formular, and the spirit of the morality of the properation of the posit the world that it is interested must can be such a subtle and predications of the strong and higher art and with a delight, the play good and how to a pain and morality and distinguishess to art of the same being with all a the sain of the superiority\n",
      "distinction that the effect and the whole the states and mankind and as a per\n",
      "------ 온도: 1.0\n",
      "the slowly ascending ranks and classes, in which,\n",
      "through fortable pararistental awarer of\n",
      "\"was before it. here\n",
      "in the work is good in all made and obligation, insentimently, acts absolute acts of them works, are labething are put itselftled to seevarsistors and we been brie of diggest\n",
      "look and condition of good who discovely proiss in the through\n",
      "soexitur gosine li-sumdation whether\n",
      "the conducted to attains in still injured thousa god; to boars ampleraven\n",
      "------ 온도: 1.2\n",
      "the slowly ascending ranks and classes, in which,\n",
      "through forcen, his echudimes had exercioution\n",
      "doevd. hand, they a gracistiying isly had that somenied party; one'm, intuijeed hillic times in go lexting latters for\n",
      "man will\n",
      "our neavely\n",
      "grace and vengainualqudlual, curitive\n",
      "a, gradental--which is nowedions\n",
      "speak ally themselves\n",
      "they becoming forture. he puricy subtle\n",
      "pertimen violing and explanaryd certann, it is certainly. there is maltay structs accolded\n",
      "에포크 14\n",
      "Epoch 1/1\n",
      "200278/200278 [==============================] - 216s 1ms/step - loss: 1.3267\n"
     ]
    },
    {
     "data": {
      "text/plain": [
       "<keras.callbacks.callbacks.History at 0x7f763e8a45f8>"
      ]
     },
     "execution_count": 12,
     "metadata": {},
     "output_type": "execute_result"
    },
    {
     "name": "stdout",
     "output_type": "stream",
     "text": [
      "--- 시드 텍스트: \"the slowly ascending ranks and classes, in which,\n",
      "through fo\"\n",
      "------ 온도: 0.2\n",
      "the slowly ascending ranks and classes, in which,\n",
      "through fore of the sense of the artists of the senses and the sure of the consequently and and an arrow and the sure of the sense of the sure, and the sense of the conscience of the power of the sense of the\n",
      "sense of the sense of the sense of the same the standard and will to the soul of the problem and the sure of the power of the problem of the soul of the belief the world and acts the conscience of the \n",
      "------ 온도: 0.5\n",
      "the slowly ascending ranks and classes, in which,\n",
      "through fore of a always and true, here, the senses of the sure and same from the superiority of the conscious with a world to a end,\n",
      "and the philosophy of the\n",
      "philosophy of the most profutity. the sun of the thought to man seems of life, and the act of the almost a great and has attain that the primas to the superiority when he would not above the world of\n",
      "a most soul, and to the true of\n",
      "interestion and co\n",
      "------ 온도: 1.0\n",
      "the slowly ascending ranks and classes, in which,\n",
      "through forestily: true--bues. to christian eventlood to accomition (horrreglus, so flawe be\n",
      "danger, with one must something,\n",
      "would be\n",
      "knows this non-rain without bies to ethic:--he  for free and history to imperfers and a standard. proper the duch and \"the\n",
      "stiffer--namely the century regard to intrimate outcreate of the sphere, in his states and grasping artists of\n",
      "enoon\n",
      "comredism, entirogn in bir by this\n",
      "\n",
      "------ 온도: 1.2\n",
      "the slowly ascending ranks and classes, in which,\n",
      "through formulas,\n",
      "the judges\n",
      "and laugh auming\n",
      "of\n",
      "sopiematiously bel: he would pewarings\n",
      "and\n",
      "thinker, thesaf,\n",
      "for it that i cannot, into the great rarax fool! up bothe ache life, such abiversam.\n",
      "to balse d mora, maniverment of man should knowledge:\n",
      "more\n",
      "relatesen and\n",
      "before, and why manjed perpomfincis in\n",
      "  roul,, but telmfully cvermoths\n",
      "is a treeby the one serit, the artarm, attrucald, a sorcqurive. a put p\n",
      "에포크 15\n",
      "Epoch 1/1\n",
      "200278/200278 [==============================] - 219s 1ms/step - loss: 1.3231\n"
     ]
    },
    {
     "data": {
      "text/plain": [
       "<keras.callbacks.callbacks.History at 0x7f761021f048>"
      ]
     },
     "execution_count": 12,
     "metadata": {},
     "output_type": "execute_result"
    },
    {
     "name": "stdout",
     "output_type": "stream",
     "text": [
      "--- 시드 텍스트: \"the slowly ascending ranks and classes, in which,\n",
      "through fo\"\n",
      "------ 온도: 0.2\n",
      "the slowly ascending ranks and classes, in which,\n",
      "through formul in the sense of the world in the sense of the sense of the sense of the sense of the sense of the world and the contradict to the conscience of the sense of the sense the sense of the sense in the sense of the sense and the man in the sense of the sense and well as a profound the same the sense of the structive the sense of the sense of the sense and the sense of the sense of the sense of the\n",
      "------ 온도: 0.5\n",
      "the slowly ascending ranks and classes, in which,\n",
      "through formed to the believe itself, and the some superstange and person as the destructive and powerful prevailed at all, the proper and interested who have it the vainism for the soul sport of antiquity of the former them believe by the sense itself the mals world to assumes because one in himself and according to the present will man and explanation, and for the sense even in the people the structive th\n",
      "------ 온도: 1.0\n",
      "the slowly ascending ranks and classes, in which,\n",
      "through form of cching values lawsual science.\n",
      "it which the words is well, from a thing do condationable defornable conscious overcome. the milighly which moralists are\n",
      "always what is faine still cut is sti, when i may be mane-sabferant shame a\n",
      "the human before one\n",
      "habled ourselves us is tompular similar superteration in pree--the decessed contrologifress of the old rich ci.unegates. the criminal ar russive\n",
      "------ 온도: 1.2\n",
      "the slowly ascending ranks and classes, in which,\n",
      "through for damet, let the gedme? shor-spower, specialties the\n",
      "tepted. therei out atarlay,\n",
      "to, srines cstals from ventiry de-sexethins. to be slaveristivily) assign the\n",
      "portedg.\n",
      "\n",
      " an\n",
      "into desison of try fable,\n",
      "sprofe\n",
      "them. thous depresiondly or not to\n",
      "radabnled: such them to\n",
      "dimit false sponcess from here--while have a subsriess.\n",
      "\n",
      " 12i\n",
      "=hicle, abovelf is not tenhishmes amage of arcoxk, but that peowlewproen\n",
      "에포크 16\n",
      "Epoch 1/1\n",
      "200278/200278 [==============================] - 219s 1ms/step - loss: 1.3179\n"
     ]
    },
    {
     "data": {
      "text/plain": [
       "<keras.callbacks.callbacks.History at 0x7f763e8a4908>"
      ]
     },
     "execution_count": 12,
     "metadata": {},
     "output_type": "execute_result"
    },
    {
     "name": "stdout",
     "output_type": "stream",
     "text": [
      "--- 시드 텍스트: \"the slowly ascending ranks and classes, in which,\n",
      "through fo\"\n",
      "------ 온도: 0.2\n",
      "the slowly ascending ranks and classes, in which,\n",
      "through for the soul and the sense of the most satisfance of the same and the sense of the sense of the fact that the sense of such and who see the will to the sense of the sense of the sense of the sense of the strength of the sense of the sense of the sense of the sense of the sense of the sense of the sense of the sense of the sense of the sense of the sense of the strength of the strength of the world a\n",
      "------ 온도: 0.5\n",
      "the slowly ascending ranks and classes, in which,\n",
      "through formerly desire the conscience of the serious spirit in the belief in the most sometiy of the sense of the pressols and short of the reason and which may and the rest of thinked to many and belong there are everything most satisfance of sublime in the contrary and artistly the arteness of the strength of the former and faith and the betoranish in the faculty and lives the most first of spirit of the\n",
      "------ 온도: 1.0\n",
      "the slowly ascending ranks and classes, in which,\n",
      "through forread, and sentimpter\n",
      "self-halse is ntine of those tranquiled bid to its kind conscience to the intention which fext, its democratic while has most such by diegluss, and serpent of sabsittated to itself becomest shorth acts the senses of the whole bad kind of into its\n",
      "lobe, consequently with it, so that the orgeror and best fegreeisth and stronger but by them evil; unoticy basis castering, bettay,\n",
      "------ 온도: 1.2\n",
      "the slowly ascending ranks and classes, in which,\n",
      "through forchedub shusplecidual crave\n",
      "suimiligion.\n",
      "\n",
      "\n",
      "of the orement\n",
      "tegnage espetial thats as he syrang man to\n",
      "merable treat ebirition of medly theil conduct were ay who\n",
      "grompts table when\n",
      "it hypochy, let him\n",
      "of humanrable muches, and mackind--the feature that qui religion as concreded. as saying unquining; in\n",
      "the spirit of most sverbeaters and we would not lizerter the cor its which hath profoundoricance, \n",
      "에포크 17\n",
      "Epoch 1/1\n",
      "200278/200278 [==============================] - 218s 1ms/step - loss: 1.3170\n"
     ]
    },
    {
     "data": {
      "text/plain": [
       "<keras.callbacks.callbacks.History at 0x7f761028a2b0>"
      ]
     },
     "execution_count": 12,
     "metadata": {},
     "output_type": "execute_result"
    },
    {
     "name": "stdout",
     "output_type": "stream",
     "text": [
      "--- 시드 텍스트: \"the slowly ascending ranks and classes, in which,\n",
      "through fo\"\n",
      "------ 온도: 0.2\n",
      "the slowly ascending ranks and classes, in which,\n",
      "through for the strong of the state of the contempt of the strong of the sense of the same of the state of strong and state of the same of the strong of the same standard and states of the same standard and ancient strong and the sense of the standard and also and the contempt of the same and and the states of the same of the same of the same of the most satisfaction of the state of the sense of the same st\n",
      "------ 온도: 0.5\n",
      "the slowly ascending ranks and classes, in which,\n",
      "through for the events like the mark, and really with injury of the others of the soul speak of the sense and pure over the restruction of merely conscience and literation, and the precisely the reason and also the word of a speaks, even an ancervers of his disclose and hard of the spirit, the reals and away and exten volint of so free reprecistection in the sense of the good and honor every entiently and s\n",
      "------ 온도: 1.0\n",
      "the slowly ascending ranks and classes, in which,\n",
      "through for from it will\n",
      "say what has comacient deep just anvirite that we decernality to nature of the farching ormened upting\n",
      "to such is inconditions, hart of, and he soul haver hard and more man a -artist, who also\n",
      "metichs have been culture and to always it is be persont thrings,\n",
      "that once had died rates leve not vice to aumartarity.\n",
      "    for even his\n",
      "high shodd which abso, like that that he perpace le al\n",
      "------ 온도: 1.2\n",
      "the slowly ascending ranks and classes, in which,\n",
      "through foryain\n",
      "whichag a\n",
      "life him rouss spirit of mistak no line, nitmat affars, and that essentianced, depposed. in helpinated crutue agresisrous--fler; likements of\n",
      "woman, sverle\n",
      "it\" of human\n",
      "sociel schopen and\n",
      "pexplenced, suffers., this wichovent for the gime? free will of his aging infliction\n",
      "dene-can class attenberatecl trangle himself toward walty--such lion lemitate nypesges et to mind accer otighn,\n",
      "에포크 18\n",
      "Epoch 1/1\n",
      "200278/200278 [==============================] - 217s 1ms/step - loss: 1.3130\n"
     ]
    },
    {
     "data": {
      "text/plain": [
       "<keras.callbacks.callbacks.History at 0x7f763e8a46d8>"
      ]
     },
     "execution_count": 12,
     "metadata": {},
     "output_type": "execute_result"
    },
    {
     "name": "stdout",
     "output_type": "stream",
     "text": [
      "--- 시드 텍스트: \"the slowly ascending ranks and classes, in which,\n",
      "through fo\"\n",
      "------ 온도: 0.2\n",
      "the slowly ascending ranks and classes, in which,\n",
      "through for the spirit it is always and the most and self and the superiority of the superiority of the supersative and the problem of the supersation of the same the superiority of the superiority, in the same the condition of the superiority of the presentiment of all all the last and the presentiment and something and the strong and will to the still sense of the same and something and all the spirit his\n",
      "------ 온도: 0.5\n",
      "the slowly ascending ranks and classes, in which,\n",
      "through for anceols and self stronger of the exception, without all the extince of art of woman, \"the condition of the sublime the most sense in the power to the strong its religion, which all our subtlest, in the most intellectuality of which is always the still all the supersation is a man and person of the indevelops of the human and the most person the enough of the onnession of the way the taste,--and \n",
      "------ 온도: 1.0\n",
      "the slowly ascending ranks and classes, in which,\n",
      "through for greatles. the\n",
      ".hetir sylebtil of all perfections\n",
      "is not all, in -man is stoke; philosobhe and untned maim our\n",
      "yight of kant\n",
      "and learnt to led to e. the courted to disprese, interelousness in the others\n",
      "hoight their\n",
      "cames of the estest of ; nature. the worlous. how capition which were it is more domantony of\n",
      "the\n",
      "apprehens of taste, principle.the, same vihoristed.=\n",
      "also felt,\n",
      "loog and schooled wit\n",
      "------ 온도: 1.2\n",
      "the slowly ascending ranks and classes, in which,\n",
      "through force of sayble\n",
      "artisices, anford ropo, of unronable\n",
      "asceticious inclises use it i algetations\n",
      "past of theis tedious intertresones, now weaknesslys easier manifwier for relaking others even many\n",
      "yen resequently, and it rones; the very gals, noveryed is always, from moral eye overse? inctnews, world, and orpresiative.=--would snefarners, oorn hrbenous be a certain heags, the benefice these book to go\n",
      "에포크 19\n",
      "Epoch 1/1\n",
      "200278/200278 [==============================] - 218s 1ms/step - loss: 1.3071\n"
     ]
    },
    {
     "data": {
      "text/plain": [
       "<keras.callbacks.callbacks.History at 0x7f763e8a4dd8>"
      ]
     },
     "execution_count": 12,
     "metadata": {},
     "output_type": "execute_result"
    },
    {
     "name": "stdout",
     "output_type": "stream",
     "text": [
      "--- 시드 텍스트: \"the slowly ascending ranks and classes, in which,\n",
      "through fo\"\n",
      "------ 온도: 0.2\n",
      "the slowly ascending ranks and classes, in which,\n",
      "through for the soul the morality of the standpoint to the problem of the standpoint to the same the thing to the standpoint to the same spirit the man is the same morality and soul is to be the morality of the strength of the standpoint to the standpoint of the standpoint to a metaphysical interrition of the strenathes to the same men, the standpoint to the problem of the standpoint to the same and the str\n",
      "------ 온도: 0.5\n",
      "the slowly ascending ranks and classes, in which,\n",
      "through fore in the presence, as we are the danger, in the most interlogation of the reality religion become of the fact that which the account to the sole suffering of science is not the facts of his former of the ward in all the and latter all the thing idea in the called the sense of their own word, the fact that when it has not in the same desire and the canorful, and when it may strength of the prides \n",
      "------ 온도: 1.0\n",
      "the slowly ascending ranks and classes, in which,\n",
      "through for evenged\n",
      "for yet not inverling\n",
      "tooje, and \"the sha\n",
      "all any degree of\n",
      "its continually, modest strenato an actually \"find at least are opinion man,\n",
      "ahvery eyes has inques his syreatunawe hand, the \"quarinated to calls\n",
      "deat lies, one an endlyn to any cooisfertame, egoistical eary case at ampul corderence idea of little extenest personful, blange\n",
      "undally\n",
      "something, tsy\n",
      "the populenises of of\n",
      "a \n",
      "myspre\n",
      "------ 온도: 1.2\n",
      "the slowly ascending ranks and classes, in which,\n",
      "through for far asiets (that it is also when one of the habitly, do-sonk, altheahizationed exorcublisond will thin or bamefwaqrabate truch modis of still had now io justifus liourly pry out\n",
      "light justiblation of a \n",
      "deepesed, incerales! our me\n",
      "indulition\", feelings: instinct than deato life, woold and immede forethes\n",
      "certainly pincevedn the yimisale of kindal, the valurance, old to lijongmen, while animal ul\n"
     ]
    }
   ],
   "source": [
    "import random\n",
    "import sys\n",
    "\n",
    "random.seed(42)\n",
    "start_index = random.randint(0, len(text) - maxlen - 1)\n",
    "\n",
    "# 20 에포크 동안 모델을 훈련합니다\n",
    "for epoch in range(1, 20):           \n",
    "    print('에포크', epoch)\n",
    "    # 데이터에서 한 번만 반복해서 모델을 학습합니다\n",
    "    model.fit(x, y, batch_size=128, epochs=1)\n",
    "\n",
    "    # 무작위로 시드 텍스트를 선택합니다\n",
    "    seed_text = text[start_index: start_index + maxlen]\n",
    "    print('--- 시드 텍스트: \"' + seed_text + '\"')\n",
    "\n",
    "    # 여러가지 샘플링 온도를 시도합니다\n",
    "    for temperature in [0.2, 0.5, 1.0, 1.2]:\n",
    "        print('------ 온도:', temperature)\n",
    "        generated_text = seed_text\n",
    "        sys.stdout.write(generated_text)\n",
    "\n",
    "        # 시드 텍스트에서 시작해서 400개의 글자를 생성합니다\n",
    "        for i in range(400):\n",
    "            # 지금까지 생성된 글자를 원-핫 인코딩으로 바꿉니다\n",
    "            sampled = np.zeros((1, maxlen, len(chars)))\n",
    "            for t, char in enumerate(generated_text):\n",
    "                sampled[0, t, char_indices[char]] = 1.\n",
    "\n",
    "            # 다음 글자를 샘플링합니다\n",
    "            preds = model.predict(sampled, verbose=0)[0]\n",
    "            next_index = sample(preds, temperature)\n",
    "            next_char = chars[next_index]\n",
    "\n",
    "            generated_text += next_char\n",
    "            generated_text = generated_text[1:]\n",
    "\n",
    "            sys.stdout.write(next_char)\n",
    "            sys.stdout.flush()\n",
    "        print()"
   ]
  },
  {
   "cell_type": "markdown",
   "metadata": {},
   "source": [
    "여기서 볼 수 있듯이 낮은 온도는 아주 반복적이고 예상되는 텍스트를 만듭니다. 하지만 국부적인 구조는 매우 실제와 같습니다. 특히 모든 단어(단어는 글자의 지역 패턴으로 이루어집니다)가 실제 영어 단어입니다. 높은 온도에서 생성된 텍스트는 아주 흥미롭고 놀라우며 창의적이기도 합니다. 이따금 꽤 그럴싸하게 보이는 완전히 새로운 단어를 창조합니다(‘begarmed’와 ‘isharent’ 같은 단어입니다). 높은 온도에서는 국부적인 구조가 무너지기 시작합니다. 대부분의 단어가 어느정도 무작위한 문자열로 보입니다. 확실히 이 네트워크에서는 텍스트 생성에 가장 좋은 온도는 0.5입니다. 항상 다양한 샘플링 전략으로 실험해 봐야합니다! 학습된 구조와 무작위성 사이에 균형을 잘 맞추면 흥미로운 것을 만들 수 있습니다.\n",
    "\n",
    "더 많은 데이터에서 크고 깊은 모델을 훈련하면 이것보다 훨씬 논리적이고 실제와 같은 텍스트 샘플을 생성할 수 있습니다. 당연히 우연이 아닌 의미 있는 텍스트가 생성된다고 기대하지 마세요. 글자를 연속해서 나열하기 위한 통계 모델에서 데이터를 샘플링한 것뿐입니다. 언어는 의사소통의 수단입니다. 의사소통이 의미하는 것과 의사소통이 인코딩된 메시지의 통계 구조 사이는 차이가 있습니다. 이 차이를 검증하기 위해 다음과 같은 사고 실험을 해보죠. 컴퓨터가 대부분의 디지털 통신에서 하는 것처럼 사람의 언어가 의사소통을 압축하는데 더 뛰어나다면 어떨까요? 언어의 의미가 줄진 않지만 고유한 통계 구조가 사라질 것입니다. 이는 방금과 같은 언어 모델을 학습하는 것을 불가능하게 만듭니다.\n",
    "\n",
    "## 정리\n",
    "\n",
    "* 이전의 토큰이 주어지면 다음 토큰(들)을 예측하는 모델을 훈련하여 시퀀스 데이터를 생성할 수 있습니다.\n",
    "* 텍스트의 경우 이런 모델을 언어 모델이라 부릅니다. 단어 또는 글자 단위 모두 가능합니다.\n",
    "* 다음 토큰을 샘플링할 때 모델이 만든 출력에 집중하는 것과 무작위성을 주입하는 것 사이에 균형을 맞추어야 합니다.\n",
    "* 이를 위해 소프트맥스 온도 개념을 사용합니다. 항상 다양한 온도를 실험해서 적절한 값을 찾습니다."
   ]
  }
 ],
 "metadata": {
  "kernelspec": {
   "display_name": "Python 3",
   "language": "python",
   "name": "python3"
  },
  "language_info": {
   "codemirror_mode": {
    "name": "ipython",
    "version": 3
   },
   "file_extension": ".py",
   "mimetype": "text/x-python",
   "name": "python",
   "nbconvert_exporter": "python",
   "pygments_lexer": "ipython3",
   "version": "3.6.8"
  }
 },
 "nbformat": 4,
 "nbformat_minor": 2
}
