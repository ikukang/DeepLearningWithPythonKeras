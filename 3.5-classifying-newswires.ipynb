{
 "cells": [
  {
   "cell_type": "markdown",
   "metadata": {},
   "source": [
    "## 3.5 Classifying Newswires\n",
    "\n",
    "(1) 케라스 창시자에게 배우는 딥러닝 도서의 실습 코드 입니다. <br><br>\n",
    "(2) 코드를 이해한 후, 각 입력창 마다 주석을 추가해 보았습니다. <br><br>\n",
    "(3) 필요 시 입력 창을 Add 하여 내용을 추가하였습니다.  <br><br>\n",
    "(4) 번역자의 원 코드가 있는 Github URL은 아래와 같습니다. <br><br>\n",
    "https://github.com/rickiepark/deep-learning-with-python-notebooks"
   ]
  },
  {
   "cell_type": "code",
   "execution_count": 1,
   "metadata": {},
   "outputs": [],
   "source": [
    "# 사용 상의 편의를 위한 Initial Setting \n",
    "\n",
    "# 실행결과를 한 창에 표시\n",
    "from IPython.core.interactiveshell import InteractiveShell\n",
    "InteractiveShell.ast_node_interactivity = \"all\"\n",
    "\n",
    "# numpy 소숫점 setting\n",
    "import numpy as np\n",
    "np.set_printoptions(precision=7)\n",
    "\n",
    "# pandas이용하여 grid display\n",
    "import numpy as np\n",
    "import pandas as pd\n",
    "pd.set_option('display.max_rows', None)         # 최대 표시 줄 수 제한 해제\n",
    "pd.set_option('display.max_columns', None)  # 최대 표시 컬럼 수 제한 해제\n",
    "pd.set_option('display.max_colwidth', -1)        # 컬럼내 데이터 표시 제한 해제"
   ]
  },
  {
   "cell_type": "code",
   "execution_count": 2,
   "metadata": {},
   "outputs": [
    {
     "name": "stderr",
     "output_type": "stream",
     "text": [
      "Using TensorFlow backend.\n",
      "/usr/local/lib/python3.6/dist-packages/tensorflow/python/framework/dtypes.py:516: FutureWarning: Passing (type, 1) or '1type' as a synonym of type is deprecated; in a future version of numpy, it will be understood as (type, (1,)) / '(1,)type'.\n",
      "  _np_qint8 = np.dtype([(\"qint8\", np.int8, 1)])\n",
      "/usr/local/lib/python3.6/dist-packages/tensorflow/python/framework/dtypes.py:517: FutureWarning: Passing (type, 1) or '1type' as a synonym of type is deprecated; in a future version of numpy, it will be understood as (type, (1,)) / '(1,)type'.\n",
      "  _np_quint8 = np.dtype([(\"quint8\", np.uint8, 1)])\n",
      "/usr/local/lib/python3.6/dist-packages/tensorflow/python/framework/dtypes.py:518: FutureWarning: Passing (type, 1) or '1type' as a synonym of type is deprecated; in a future version of numpy, it will be understood as (type, (1,)) / '(1,)type'.\n",
      "  _np_qint16 = np.dtype([(\"qint16\", np.int16, 1)])\n",
      "/usr/local/lib/python3.6/dist-packages/tensorflow/python/framework/dtypes.py:519: FutureWarning: Passing (type, 1) or '1type' as a synonym of type is deprecated; in a future version of numpy, it will be understood as (type, (1,)) / '(1,)type'.\n",
      "  _np_quint16 = np.dtype([(\"quint16\", np.uint16, 1)])\n",
      "/usr/local/lib/python3.6/dist-packages/tensorflow/python/framework/dtypes.py:520: FutureWarning: Passing (type, 1) or '1type' as a synonym of type is deprecated; in a future version of numpy, it will be understood as (type, (1,)) / '(1,)type'.\n",
      "  _np_qint32 = np.dtype([(\"qint32\", np.int32, 1)])\n",
      "/usr/local/lib/python3.6/dist-packages/tensorflow/python/framework/dtypes.py:525: FutureWarning: Passing (type, 1) or '1type' as a synonym of type is deprecated; in a future version of numpy, it will be understood as (type, (1,)) / '(1,)type'.\n",
      "  np_resource = np.dtype([(\"resource\", np.ubyte, 1)])\n",
      "/usr/local/lib/python3.6/dist-packages/tensorboard/compat/tensorflow_stub/dtypes.py:541: FutureWarning: Passing (type, 1) or '1type' as a synonym of type is deprecated; in a future version of numpy, it will be understood as (type, (1,)) / '(1,)type'.\n",
      "  _np_qint8 = np.dtype([(\"qint8\", np.int8, 1)])\n",
      "/usr/local/lib/python3.6/dist-packages/tensorboard/compat/tensorflow_stub/dtypes.py:542: FutureWarning: Passing (type, 1) or '1type' as a synonym of type is deprecated; in a future version of numpy, it will be understood as (type, (1,)) / '(1,)type'.\n",
      "  _np_quint8 = np.dtype([(\"quint8\", np.uint8, 1)])\n",
      "/usr/local/lib/python3.6/dist-packages/tensorboard/compat/tensorflow_stub/dtypes.py:543: FutureWarning: Passing (type, 1) or '1type' as a synonym of type is deprecated; in a future version of numpy, it will be understood as (type, (1,)) / '(1,)type'.\n",
      "  _np_qint16 = np.dtype([(\"qint16\", np.int16, 1)])\n",
      "/usr/local/lib/python3.6/dist-packages/tensorboard/compat/tensorflow_stub/dtypes.py:544: FutureWarning: Passing (type, 1) or '1type' as a synonym of type is deprecated; in a future version of numpy, it will be understood as (type, (1,)) / '(1,)type'.\n",
      "  _np_quint16 = np.dtype([(\"quint16\", np.uint16, 1)])\n",
      "/usr/local/lib/python3.6/dist-packages/tensorboard/compat/tensorflow_stub/dtypes.py:545: FutureWarning: Passing (type, 1) or '1type' as a synonym of type is deprecated; in a future version of numpy, it will be understood as (type, (1,)) / '(1,)type'.\n",
      "  _np_qint32 = np.dtype([(\"qint32\", np.int32, 1)])\n",
      "/usr/local/lib/python3.6/dist-packages/tensorboard/compat/tensorflow_stub/dtypes.py:550: FutureWarning: Passing (type, 1) or '1type' as a synonym of type is deprecated; in a future version of numpy, it will be understood as (type, (1,)) / '(1,)type'.\n",
      "  np_resource = np.dtype([(\"resource\", np.ubyte, 1)])\n"
     ]
    },
    {
     "data": {
      "text/plain": [
       "'2.3.1'"
      ]
     },
     "execution_count": 2,
     "metadata": {},
     "output_type": "execute_result"
    }
   ],
   "source": [
    "# keras 버전 확인\n",
    "import keras\n",
    "keras.__version__"
   ]
  },
  {
   "cell_type": "markdown",
   "metadata": {},
   "source": [
    "### 다중 분류 (Reuter Dataset)\n",
    "Reuter Dataset은 46개의 배타적인 Topic으로 이루어진 Reuter News Dataset 입니다.\n",
    "- Train Data : 8982개, Test Data2246개\n",
    "- 데이터는 다음과 같이 전 처리 되어 있음\n",
    "<br>\n",
    "(1) 각 리뷰의 단어가 이에 대응하는 정수로 변환되어 있음 <br>\n",
    "(2) Train/Test Label은 0 ~ 45 까지 정수(총 46가지 Topic) 으로 구분되어 있음 <br>"
   ]
  },
  {
   "cell_type": "code",
   "execution_count": 3,
   "metadata": {},
   "outputs": [],
   "source": [
    "from keras.datasets import reuters\n",
    "(train_data, train_labels), (test_data, test_labels) = reuters.load_data(num_words=10000)\n",
    "\n",
    "#  train data/label, test data/label을  구분 관리하고, 자주 사용하는 단어 10000개로 한정"
   ]
  },
  {
   "cell_type": "code",
   "execution_count": 4,
   "metadata": {},
   "outputs": [
    {
     "data": {
      "text/plain": [
       "8982"
      ]
     },
     "execution_count": 4,
     "metadata": {},
     "output_type": "execute_result"
    },
    {
     "data": {
      "text/plain": [
       "8982"
      ]
     },
     "execution_count": 4,
     "metadata": {},
     "output_type": "execute_result"
    },
    {
     "data": {
      "text/plain": [
       "2246"
      ]
     },
     "execution_count": 4,
     "metadata": {},
     "output_type": "execute_result"
    },
    {
     "data": {
      "text/plain": [
       "2246"
      ]
     },
     "execution_count": 4,
     "metadata": {},
     "output_type": "execute_result"
    },
    {
     "data": {
      "text/plain": [
       "(8982,)"
      ]
     },
     "execution_count": 4,
     "metadata": {},
     "output_type": "execute_result"
    },
    {
     "data": {
      "text/plain": [
       "(8982,)"
      ]
     },
     "execution_count": 4,
     "metadata": {},
     "output_type": "execute_result"
    },
    {
     "data": {
      "text/plain": [
       "(2246,)"
      ]
     },
     "execution_count": 4,
     "metadata": {},
     "output_type": "execute_result"
    },
    {
     "data": {
      "text/plain": [
       "(2246,)"
      ]
     },
     "execution_count": 4,
     "metadata": {},
     "output_type": "execute_result"
    }
   ],
   "source": [
    "len(train_data)\n",
    "len(train_labels)\n",
    "len(test_data)\n",
    "len(test_labels)\n",
    "\n",
    "train_data.shape\n",
    "train_labels.shape\n",
    "test_data.shape\n",
    "test_labels.shape\n",
    "\n",
    "# 8982 건의 training Data / Label, 2246 건의 test Data / Label"
   ]
  },
  {
   "cell_type": "code",
   "execution_count": 5,
   "metadata": {},
   "outputs": [
    {
     "data": {
      "text/plain": [
       "3"
      ]
     },
     "execution_count": 5,
     "metadata": {},
     "output_type": "execute_result"
    },
    {
     "data": {
      "text/plain": [
       "[1,\n",
       " 245,\n",
       " 273,\n",
       " 207,\n",
       " 156,\n",
       " 53,\n",
       " 74,\n",
       " 160,\n",
       " 26,\n",
       " 14,\n",
       " 46,\n",
       " 296,\n",
       " 26,\n",
       " 39,\n",
       " 74,\n",
       " 2979,\n",
       " 3554,\n",
       " 14,\n",
       " 46,\n",
       " 4689,\n",
       " 4329,\n",
       " 86,\n",
       " 61,\n",
       " 3499,\n",
       " 4795,\n",
       " 14,\n",
       " 61,\n",
       " 451,\n",
       " 4329,\n",
       " 17,\n",
       " 12]"
      ]
     },
     "execution_count": 5,
     "metadata": {},
     "output_type": "execute_result"
    }
   ],
   "source": [
    "train_labels[0]\n",
    "# 해당되는 Topic을 0 ~ 45 사이의  정수값으로 display\n",
    "\n",
    "train_data[10] \n",
    "# 기사 리뷰의 내용을 0 ~ 9999 사이의 정수로 변환하여 display"
   ]
  },
  {
   "cell_type": "code",
   "execution_count": 6,
   "metadata": {},
   "outputs": [],
   "source": [
    "word_index = reuters.get_word_index()\n",
    "# word_index는 개별 단어와 이 단어에 해당하는 숫자를 맵핑해 놓은 Dictionary 임\n",
    "\n",
    "reverse_word_index = dict([(value, key) for (key, value) in word_index.items()])\n",
    "# word_index는 ''단어:숫자\" 의 Dictionary 이나, 이를 \"숫자:단어\" 순으로 순서를 뒤집음\n",
    "\n",
    "decoded_newswire = ' '.join([reverse_word_index.get(i - 3, '?') for i in train_data[10]])\n",
    "# for 문을 돌면서 train_data[10]를 구성하는 각 숫자를 이에 맵핑하는 단어로 치환하여 문자열을 구성 함\n",
    "# 이때 0, 1, 2는 사전 정의된 값(index) 이므로, 해당 갯수(3) 만큼 빼고 치환을 진행\n",
    "# 가장 자주 등장하는 단어 10,000개 로 제한하였으므로, 이에 해당되지 않는 key(숫자)는 '?' 로 display 됨"
   ]
  },
  {
   "cell_type": "code",
   "execution_count": 7,
   "metadata": {},
   "outputs": [
    {
     "data": {
      "text/plain": [
       "'? period ended december 31 shr profit 11 cts vs loss 24 cts net profit 224 271 vs loss 511 349 revs 7 258 688 vs 7 200 349 reuter 3'"
      ]
     },
     "execution_count": 7,
     "metadata": {},
     "output_type": "execute_result"
    }
   ],
   "source": [
    "decoded_newswire\n",
    "# reverse_word_index method를 이용하여 train_data[10]를 구성하는 각 숫자를 이에 맵핑하는 단어로 치환"
   ]
  },
  {
   "cell_type": "code",
   "execution_count": 8,
   "metadata": {},
   "outputs": [
    {
     "data": {
      "text/plain": [
       "3"
      ]
     },
     "execution_count": 8,
     "metadata": {},
     "output_type": "execute_result"
    }
   ],
   "source": [
    "train_labels[10]\n",
    "# 10번 기사에 해당되는 Topic은 3 임"
   ]
  },
  {
   "cell_type": "code",
   "execution_count": 9,
   "metadata": {},
   "outputs": [],
   "source": [
    "import numpy as np\n",
    "\n",
    "# 전처리 하여 숫자만으로 구성된 리스트를 신경망에 바로 주입 할 수 없으므로, \n",
    "# (1)이를 Matrix(2차원 텐서)로 변환\n",
    "# (2) 각 row(숫자로 구성되어 있는 전처리된 리뷰)의 개별 숫자값을 column 값으로 하여, 해당  (row, column)의 0 값 -> 1 로 변경\n",
    "def zero_matrix(rows, dimension=10000):\n",
    "    results = np.zeros((len(rows), dimension))    # Matrix(2차원 텐서)로 변환\n",
    "    \n",
    "    for i, col in enumerate(rows):\n",
    "            results[i, col] = 1.                                       #각  row(숫자로 구성되어 있는 전처리된 리뷰)의 개별 숫자값을 column 값으로 하여, 해당  (row, column)의 0 값 -> 1 로 변경    \n",
    "\n",
    "    return results\n",
    "\n",
    "# train_data를 matrix로 변환\n",
    "x_train = zero_matrix(train_data)\n",
    "\n",
    "#  test_data를 matrix로 변환\n",
    "x_test = zero_matrix(test_data)"
   ]
  },
  {
   "cell_type": "code",
   "execution_count": 10,
   "metadata": {},
   "outputs": [
    {
     "data": {
      "text/plain": [
       "array([[0., 1., 1., ..., 0., 0., 0.],\n",
       "       [0., 1., 1., ..., 0., 0., 0.],\n",
       "       [0., 1., 1., ..., 0., 0., 0.],\n",
       "       ...,\n",
       "       [0., 1., 1., ..., 0., 0., 0.],\n",
       "       [0., 1., 1., ..., 0., 0., 0.],\n",
       "       [0., 1., 1., ..., 0., 0., 0.]])"
      ]
     },
     "execution_count": 10,
     "metadata": {},
     "output_type": "execute_result"
    },
    {
     "data": {
      "text/plain": [
       "array([[0., 1., 1., ..., 0., 0., 0.],\n",
       "       [0., 1., 1., ..., 0., 0., 0.],\n",
       "       [0., 1., 1., ..., 0., 0., 0.],\n",
       "       ...,\n",
       "       [0., 1., 0., ..., 0., 0., 0.],\n",
       "       [0., 1., 1., ..., 0., 0., 0.],\n",
       "       [0., 1., 1., ..., 0., 0., 0.]])"
      ]
     },
     "execution_count": 10,
     "metadata": {},
     "output_type": "execute_result"
    },
    {
     "data": {
      "text/plain": [
       "(8982, 10000)"
      ]
     },
     "execution_count": 10,
     "metadata": {},
     "output_type": "execute_result"
    },
    {
     "data": {
      "text/plain": [
       "(2246, 10000)"
      ]
     },
     "execution_count": 10,
     "metadata": {},
     "output_type": "execute_result"
    }
   ],
   "source": [
    "#  NN에 주입하기 위해,\n",
    "# train 행렬 : 8982 * 10000\n",
    "# test   행렬 : 2246 * 10000  으로 정규화\n",
    "\n",
    "x_train\n",
    "x_test\n",
    "\n",
    "x_train.shape\n",
    "x_test.shape"
   ]
  },
  {
   "cell_type": "code",
   "execution_count": 11,
   "metadata": {},
   "outputs": [],
   "source": [
    "# label 값을 one-hot encoding 행렬로 변경하는 function\n",
    "# 금번 예제에서는 해당 function을 사용하지 않고, 바로 아래의 to_categorical function을 사용 함\n",
    "\n",
    "def to_one_hot(labels, dimension=46):\n",
    "    results = np.zeros((len(labels), dimension))\n",
    "    for i, label in enumerate(labels):\n",
    "        results[i, label] = 1.\n",
    "    return results\n",
    "\n",
    "# 훈련 레이블 벡터 변환\n",
    "one_hot_train_labels = to_one_hot(train_labels)\n",
    "# 테스트 레이블 벡터 변환\n",
    "one_hot_test_labels = to_one_hot(test_labels)"
   ]
  },
  {
   "cell_type": "code",
   "execution_count": 12,
   "metadata": {},
   "outputs": [],
   "source": [
    "# NN에 주입하기 위해 train_label과  test_label을 one-hot encoding 행렬로 변경하는 function 사용 (to_categorical)\n",
    "\n",
    "from keras.utils.np_utils import to_categorical\n",
    "\n",
    "one_hot_train_labels = to_categorical(train_labels)\n",
    "one_hot_test_labels = to_categorical(test_labels)"
   ]
  },
  {
   "cell_type": "markdown",
   "metadata": {},
   "source": [
    "### NN(Neural Network) 모델 생성"
   ]
  },
  {
   "cell_type": "code",
   "execution_count": 13,
   "metadata": {},
   "outputs": [],
   "source": [
    "# 기존의 IMDB Binary Classification (긍정/부정)과 기본적으로 동일한 방식이나, Multi Classification 이므로, 출력 parameter가 46개로 늘어남\n",
    "# 출력의 dimension이 커졌으므로, 중간 층의 parameter의 갯수를 충분히 늘려주지 않으면, 정보의 유실(누락)이 발생 될 수 있음\n",
    "# 그러므로 중간 paramter의 갯수를 128개로 구성\n",
    "\n",
    "from keras import models\n",
    "from keras import layers\n",
    "\n",
    "# 앞서와 마찬가지로 선형적으로 쌓는 Sequential 모델을 이용\n",
    "model = models.Sequential()\n",
    "\n",
    "# 입력층 : 입력 parameter는 10000이고, 출력 parameter는 128 임, 활성화 함수는 relu\n",
    "model.add(layers.Dense(128, activation='relu', input_shape=(10000,)))\n",
    "\n",
    "# 은닉층 : 입력 parameter는 128이고, 출력 parameter는 128 임, 활성화 함수는 relu\n",
    "model.add(layers.Dense(128, activation='relu'))\n",
    "\n",
    "# 출력층 : 입력 parameter는 128이고, 출력 parameter는 46 임, 활성화 함수는 softmax\n",
    "# 주로 Binary Classification의 경우는 'Sigmoid', Multi-Classification의 경우는 'Softmax' 활성화 함수 이용 -> 각각의 review가 46개 중 어떤 topic인지 확률을 계산\n",
    "model.add(layers.Dense(46, activation='softmax'))"
   ]
  },
  {
   "cell_type": "code",
   "execution_count": 14,
   "metadata": {},
   "outputs": [],
   "source": [
    "# compile method를 이용하여 학습 과정을 구성\n",
    "# 옵티마이저는 rmsprop 사용하고, Multi-Classification 이므로 손실함수는 'categorical_crossentropy'를 사용\n",
    "\n",
    "model.compile(optimizer='rmsprop', loss='categorical_crossentropy', metrics=['accuracy'])"
   ]
  },
  {
   "cell_type": "markdown",
   "metadata": {},
   "source": [
    "### Training 검증"
   ]
  },
  {
   "cell_type": "code",
   "execution_count": 15,
   "metadata": {},
   "outputs": [
    {
     "data": {
      "text/plain": [
       "(1000, 10000)"
      ]
     },
     "execution_count": 15,
     "metadata": {},
     "output_type": "execute_result"
    },
    {
     "data": {
      "text/plain": [
       "(7982, 10000)"
      ]
     },
     "execution_count": 15,
     "metadata": {},
     "output_type": "execute_result"
    },
    {
     "data": {
      "text/plain": [
       "(1000, 46)"
      ]
     },
     "execution_count": 15,
     "metadata": {},
     "output_type": "execute_result"
    },
    {
     "data": {
      "text/plain": [
       "(7982, 46)"
      ]
     },
     "execution_count": 15,
     "metadata": {},
     "output_type": "execute_result"
    }
   ],
   "source": [
    "# 전체 10000 set의 Data에서 검증 Data로 1000 set 을 추출\n",
    "#  x_train               :  1000 set\n",
    "#   partial_x_train : 7982 set\n",
    "\n",
    "x_val = x_train[:1000]\n",
    "partial_x_train = x_train[1000:]\n",
    "\n",
    "y_val = one_hot_train_labels[:1000]\n",
    "partial_y_train = one_hot_train_labels[1000:]\n",
    "\n",
    "# x_val, partial_x_train 의 shape 확인\n",
    "x_val.shape\n",
    "partial_x_train.shape\n",
    "y_val.shape\n",
    "partial_y_train.shape\n"
   ]
  },
  {
   "cell_type": "code",
   "execution_count": 16,
   "metadata": {
    "scrolled": false
   },
   "outputs": [
    {
     "name": "stdout",
     "output_type": "stream",
     "text": [
      "WARNING:tensorflow:From /usr/local/lib/python3.6/dist-packages/keras/backend/tensorflow_backend.py:422: The name tf.global_variables is deprecated. Please use tf.compat.v1.global_variables instead.\n",
      "\n",
      "Train on 7982 samples, validate on 1000 samples\n",
      "Epoch 1/20\n",
      "7982/7982 [==============================] - 1s 167us/step - loss: 2.1238 - accuracy: 0.5584 - val_loss: 1.4226 - val_accuracy: 0.6770\n",
      "Epoch 2/20\n",
      "7982/7982 [==============================] - 1s 131us/step - loss: 1.0884 - accuracy: 0.7610 - val_loss: 1.1328 - val_accuracy: 0.7660\n",
      "Epoch 3/20\n",
      "7982/7982 [==============================] - 1s 132us/step - loss: 0.7686 - accuracy: 0.8341 - val_loss: 0.9935 - val_accuracy: 0.7790\n",
      "Epoch 4/20\n",
      "7982/7982 [==============================] - 1s 133us/step - loss: 0.5572 - accuracy: 0.8821 - val_loss: 0.9905 - val_accuracy: 0.7740\n",
      "Epoch 5/20\n",
      "7982/7982 [==============================] - 1s 124us/step - loss: 0.4054 - accuracy: 0.9132 - val_loss: 0.9299 - val_accuracy: 0.7860\n",
      "Epoch 6/20\n",
      "7982/7982 [==============================] - 1s 126us/step - loss: 0.3094 - accuracy: 0.9325 - val_loss: 0.8833 - val_accuracy: 0.8110\n",
      "Epoch 7/20\n",
      "7982/7982 [==============================] - 1s 119us/step - loss: 0.2482 - accuracy: 0.9430 - val_loss: 0.8942 - val_accuracy: 0.8230\n",
      "Epoch 8/20\n",
      "7982/7982 [==============================] - 1s 122us/step - loss: 0.2112 - accuracy: 0.9470 - val_loss: 0.9060 - val_accuracy: 0.8140\n",
      "Epoch 9/20\n",
      "7982/7982 [==============================] - 1s 116us/step - loss: 0.1734 - accuracy: 0.9521 - val_loss: 0.9525 - val_accuracy: 0.8040\n",
      "Epoch 10/20\n",
      "7982/7982 [==============================] - 1s 124us/step - loss: 0.1575 - accuracy: 0.9555 - val_loss: 1.0314 - val_accuracy: 0.7910\n",
      "Epoch 11/20\n",
      "7982/7982 [==============================] - 1s 124us/step - loss: 0.1495 - accuracy: 0.9569 - val_loss: 0.9852 - val_accuracy: 0.8010\n",
      "Epoch 12/20\n",
      "7982/7982 [==============================] - 1s 124us/step - loss: 0.1370 - accuracy: 0.9565 - val_loss: 0.9977 - val_accuracy: 0.8120\n",
      "Epoch 13/20\n",
      "7982/7982 [==============================] - 1s 120us/step - loss: 0.1312 - accuracy: 0.9562 - val_loss: 1.0800 - val_accuracy: 0.7930\n",
      "Epoch 14/20\n",
      "7982/7982 [==============================] - 1s 114us/step - loss: 0.1237 - accuracy: 0.9573 - val_loss: 1.0694 - val_accuracy: 0.7970\n",
      "Epoch 15/20\n",
      "7982/7982 [==============================] - 1s 114us/step - loss: 0.1238 - accuracy: 0.9568 - val_loss: 1.0046 - val_accuracy: 0.8110\n",
      "Epoch 16/20\n",
      "7982/7982 [==============================] - 1s 114us/step - loss: 0.1163 - accuracy: 0.9578 - val_loss: 1.0387 - val_accuracy: 0.8000\n",
      "Epoch 17/20\n",
      "7982/7982 [==============================] - 1s 115us/step - loss: 0.1140 - accuracy: 0.9592 - val_loss: 1.1315 - val_accuracy: 0.7960\n",
      "Epoch 18/20\n",
      "7982/7982 [==============================] - 1s 115us/step - loss: 0.1141 - accuracy: 0.9569 - val_loss: 1.0561 - val_accuracy: 0.8020\n",
      "Epoch 19/20\n",
      "7982/7982 [==============================] - 1s 110us/step - loss: 0.1041 - accuracy: 0.9575 - val_loss: 1.1040 - val_accuracy: 0.7970\n",
      "Epoch 20/20\n",
      "7982/7982 [==============================] - 1s 113us/step - loss: 0.1110 - accuracy: 0.9575 - val_loss: 1.0968 - val_accuracy: 0.8000\n"
     ]
    }
   ],
   "source": [
    "# fit method를 이용해서 정해진 epoch 만큼  Training을 수행\n",
    "# 이때 Training Data(partial_x_train)과 Validation Data(x_val)을 주입하고, epoch, batch size 지정\n",
    "\n",
    "history = model.fit(partial_x_train, partial_y_train, epochs=20, batch_size=512, validation_data=(x_val, y_val))"
   ]
  },
  {
   "cell_type": "code",
   "execution_count": 17,
   "metadata": {},
   "outputs": [
    {
     "name": "stdout",
     "output_type": "stream",
     "text": [
      "Model: \"sequential_1\"\n",
      "_________________________________________________________________\n",
      "Layer (type)                 Output Shape              Param #   \n",
      "=================================================================\n",
      "dense_1 (Dense)              (None, 128)               1280128   \n",
      "_________________________________________________________________\n",
      "dense_2 (Dense)              (None, 128)               16512     \n",
      "_________________________________________________________________\n",
      "dense_3 (Dense)              (None, 46)                5934      \n",
      "=================================================================\n",
      "Total params: 1,302,574\n",
      "Trainable params: 1,302,574\n",
      "Non-trainable params: 0\n",
      "_________________________________________________________________\n"
     ]
    }
   ],
   "source": [
    "model.summary()\n",
    "\n",
    "#  dense_1 layer의 전체 paramenter의 수는 10000(입력) * 128(출력) + 128 = 1,280,128 임 (추가적으로 더하는 128은 bias)\n",
    "#  dense_2 layer의 전체 paramenter의 수는 128 * 128 + 128 = 16,512 임 (추가적으로 더하는 128은 bias)\n",
    "#  dense_3 layer의 전체 paramenter의 수는 128 * 46 + 46 = 5,934 임 (추가적으로 더하는 46은 bias)\n",
    "# 그러므로 총 paramter의 수는 1,280,128 + 16,512 + 5,934 = 1,302,574"
   ]
  },
  {
   "cell_type": "markdown",
   "metadata": {},
   "source": [
    "### Graph Visualization"
   ]
  },
  {
   "cell_type": "code",
   "execution_count": 29,
   "metadata": {},
   "outputs": [
    {
     "data": {
      "text/plain": [
       "[<matplotlib.lines.Line2D at 0x7f88e89a05c0>]"
      ]
     },
     "execution_count": 29,
     "metadata": {},
     "output_type": "execute_result"
    },
    {
     "data": {
      "text/plain": [
       "[<matplotlib.lines.Line2D at 0x7f893a29eda0>]"
      ]
     },
     "execution_count": 29,
     "metadata": {},
     "output_type": "execute_result"
    },
    {
     "data": {
      "text/plain": [
       "Text(0.5, 1.0, 'Training and validation loss')"
      ]
     },
     "execution_count": 29,
     "metadata": {},
     "output_type": "execute_result"
    },
    {
     "data": {
      "text/plain": [
       "Text(0.5, 0, 'Epochs')"
      ]
     },
     "execution_count": 29,
     "metadata": {},
     "output_type": "execute_result"
    },
    {
     "data": {
      "text/plain": [
       "Text(0, 0.5, 'Loss')"
      ]
     },
     "execution_count": 29,
     "metadata": {},
     "output_type": "execute_result"
    },
    {
     "data": {
      "text/plain": [
       "<matplotlib.legend.Legend at 0x7f88e8a07f60>"
      ]
     },
     "execution_count": 29,
     "metadata": {},
     "output_type": "execute_result"
    },
    {
     "data": {
      "image/png": "[encoded data removed]",
      "text/plain": [
       "<Figure size 432x288 with 1 Axes>"
      ]
     },
     "metadata": {
      "needs_background": "light"
     },
     "output_type": "display_data"
    }
   ],
   "source": [
    "# Training & Validation Loss Graph\n",
    "import matplotlib.pyplot as plt\n",
    "\n",
    "loss = history.history['loss']\n",
    "val_loss = history.history['val_loss']\n",
    "\n",
    "epochs = range(1, len(loss) + 1)\n",
    "\n",
    "plt.plot(epochs, loss, 'r', label='Training loss')\n",
    "plt.plot(epochs, val_loss, 'b', label='Validation loss')\n",
    "plt.title('Training and validation loss')\n",
    "plt.xlabel('Epochs')\n",
    "plt.ylabel('Loss')\n",
    "plt.legend()\n",
    "\n",
    "plt.show()"
   ]
  },
  {
   "cell_type": "code",
   "execution_count": 19,
   "metadata": {},
   "outputs": [
    {
     "data": {
      "text/plain": [
       "[<matplotlib.lines.Line2D at 0x7f8939dc9a90>]"
      ]
     },
     "execution_count": 19,
     "metadata": {},
     "output_type": "execute_result"
    },
    {
     "data": {
      "text/plain": [
       "[<matplotlib.lines.Line2D at 0x7f8939f53438>]"
      ]
     },
     "execution_count": 19,
     "metadata": {},
     "output_type": "execute_result"
    },
    {
     "data": {
      "text/plain": [
       "Text(0.5, 1.0, 'Training and validation accuracy')"
      ]
     },
     "execution_count": 19,
     "metadata": {},
     "output_type": "execute_result"
    },
    {
     "data": {
      "text/plain": [
       "Text(0.5, 0, 'Epochs')"
      ]
     },
     "execution_count": 19,
     "metadata": {},
     "output_type": "execute_result"
    },
    {
     "data": {
      "text/plain": [
       "Text(0, 0.5, 'Accuracy')"
      ]
     },
     "execution_count": 19,
     "metadata": {},
     "output_type": "execute_result"
    },
    {
     "data": {
      "text/plain": [
       "<matplotlib.legend.Legend at 0x7f8939dc9fd0>"
      ]
     },
     "execution_count": 19,
     "metadata": {},
     "output_type": "execute_result"
    },
    {
     "data": {
      "image/png": "[encoded data removed]",
      "text/plain": [
       "<Figure size 432x288 with 1 Axes>"
      ]
     },
     "metadata": {
      "needs_background": "light"
     },
     "output_type": "display_data"
    }
   ],
   "source": [
    "# Training & Validation Accuracy Graph\n",
    "plt.clf()   # 그래프 초기화\n",
    "\n",
    "acc = history.history['accuracy']\n",
    "val_acc = history.history['val_accuracy']\n",
    "\n",
    "plt.plot(epochs, acc, 'r', label='Training acc')\n",
    "plt.plot(epochs, val_acc, 'b', label='Validation acc')\n",
    "plt.title('Training and validation accuracy')\n",
    "plt.xlabel('Epochs')\n",
    "plt.ylabel('Accuracy')\n",
    "plt.legend()\n",
    "\n",
    "plt.show()"
   ]
  },
  {
   "cell_type": "code",
   "execution_count": 27,
   "metadata": {},
   "outputs": [
    {
     "name": "stdout",
     "output_type": "stream",
     "text": [
      "Train on 7982 samples, validate on 1000 samples\n",
      "Epoch 1/8\n",
      "7982/7982 [==============================] - 1s 155us/step - loss: 2.2399 - accuracy: 0.5554 - val_loss: 1.4389 - val_accuracy: 0.6500\n",
      "Epoch 2/8\n",
      "7982/7982 [==============================] - 1s 136us/step - loss: 1.1193 - accuracy: 0.7547 - val_loss: 1.0857 - val_accuracy: 0.7570\n",
      "Epoch 3/8\n",
      "7982/7982 [==============================] - 1s 133us/step - loss: 0.7728 - accuracy: 0.8371 - val_loss: 0.9988 - val_accuracy: 0.7870\n",
      "Epoch 4/8\n",
      "7982/7982 [==============================] - 1s 122us/step - loss: 0.5666 - accuracy: 0.8824 - val_loss: 0.9164 - val_accuracy: 0.8090\n",
      "Epoch 5/8\n",
      "7982/7982 [==============================] - 1s 124us/step - loss: 0.4254 - accuracy: 0.9113 - val_loss: 0.8595 - val_accuracy: 0.8130\n",
      "Epoch 6/8\n",
      "7982/7982 [==============================] - 1s 124us/step - loss: 0.3153 - accuracy: 0.9346 - val_loss: 0.8885 - val_accuracy: 0.8090\n",
      "Epoch 7/8\n",
      "7982/7982 [==============================] - 1s 118us/step - loss: 0.2560 - accuracy: 0.9412 - val_loss: 0.8544 - val_accuracy: 0.8230\n",
      "Epoch 8/8\n",
      "7982/7982 [==============================] - 1s 127us/step - loss: 0.2081 - accuracy: 0.9480 - val_loss: 0.8997 - val_accuracy: 0.8170\n"
     ]
    },
    {
     "data": {
      "text/plain": [
       "<keras.callbacks.callbacks.History at 0x7f88e8d31358>"
      ]
     },
     "execution_count": 27,
     "metadata": {},
     "output_type": "execute_result"
    },
    {
     "name": "stdout",
     "output_type": "stream",
     "text": [
      "2246/2246 [==============================] - 0s 62us/step\n"
     ]
    }
   ],
   "source": [
    "# 위의 그래프에서 epoch = 8를 초과하면 과적합이 발생함을 알 수 있으므로, epoch=8로 Network을 다시 구성\n",
    "model = models.Sequential()\n",
    "model.add(layers.Dense(128, activation='relu', input_shape=(10000,)))\n",
    "model.add(layers.Dense(128, activation='relu'))\n",
    "model.add(layers.Dense(46, activation='softmax'))\n",
    "\n",
    "model.compile(optimizer='rmsprop', loss='categorical_crossentropy', metrics=['accuracy'])\n",
    "\n",
    "# fit method로 Training 시, epoch = 8로 Setting 하여 과적합 방지\n",
    "model.fit(partial_x_train, partial_y_train, epochs=8, batch_size=512, validation_data=(x_val, y_val))\n",
    "\n",
    "# evaluate method를 이용하여  test data에 대한 loss, accuracy를 계산\n",
    "loss, accuracy = model.evaluate(x_test, one_hot_test_labels)"
   ]
  },
  {
   "cell_type": "code",
   "execution_count": 28,
   "metadata": {},
   "outputs": [
    {
     "name": "stdout",
     "output_type": "stream",
     "text": [
      "test_acc :  0.7934104800224304\n",
      "test_loss :  0.9902362655765333\n"
     ]
    }
   ],
   "source": [
    "# 약 79%의 정확도로 Reuter Review Topic을 분류 함을 할 수 있음\n",
    "\n",
    "print('test_acc : ', accuracy)\n",
    "print('test_loss : ', loss)"
   ]
  },
  {
   "cell_type": "code",
   "execution_count": 22,
   "metadata": {},
   "outputs": [
    {
     "data": {
      "text/plain": [
       "0.18744434550311664"
      ]
     },
     "execution_count": 22,
     "metadata": {},
     "output_type": "execute_result"
    }
   ],
   "source": [
    "# 균형 잡힌 이진 분류 문제에서 완전히 무작위로 분류하면 50%의 정확도를 달성합니다. \n",
    "# 해당 문제는 불균형한 데이터셋을 사용하므로 무작위로 분류하면 19% 정도를 달성합니다.\n",
    "\n",
    "import copy\n",
    "\n",
    "test_labels_copy = copy.copy(test_labels)\n",
    "np.random.shuffle(test_labels_copy)\n",
    "float(np.sum(np.array(test_labels) == np.array(test_labels_copy))) / len(test_labels)"
   ]
  },
  {
   "cell_type": "code",
   "execution_count": 23,
   "metadata": {},
   "outputs": [
    {
     "data": {
      "text/plain": [
       "(46,)"
      ]
     },
     "execution_count": 23,
     "metadata": {},
     "output_type": "execute_result"
    },
    {
     "data": {
      "text/plain": [
       "0.9999998"
      ]
     },
     "execution_count": 23,
     "metadata": {},
     "output_type": "execute_result"
    },
    {
     "data": {
      "text/plain": [
       "3"
      ]
     },
     "execution_count": 23,
     "metadata": {},
     "output_type": "execute_result"
    },
    {
     "name": "stdout",
     "output_type": "stream",
     "text": [
      "[1.5151149e-04 3.1164759e-03 1.4903626e-04 7.1528304e-01 2.3366521e-01\n",
      " 2.9578744e-04 4.4080062e-04 7.7400000e-05 5.8550253e-03 5.5775908e-04\n",
      " 1.7444938e-04 6.5247086e-03 5.1165983e-04 6.8140490e-04 2.6166433e-04\n",
      " 3.3618670e-04 2.8238466e-03 3.1241949e-03 8.9606747e-04 3.5444722e-03\n",
      " 6.4621018e-03 2.1347022e-03 2.3084012e-05 1.8938388e-03 3.5755965e-04\n",
      " 5.8360712e-04 3.9477498e-05 6.4476379e-05 2.6670384e-04 9.9176227e-04\n",
      " 8.1375847e-04 1.9546236e-04 5.6852127e-04 8.0541620e-05 1.2800881e-03\n",
      " 7.9689031e-05 2.3303770e-03 4.5176046e-05 1.4079096e-04 2.4325131e-03\n",
      " 1.1584949e-04 4.3263953e-04 4.2786021e-05 7.4736017e-05 2.5511692e-05\n",
      " 5.3429761e-05]\n"
     ]
    }
   ],
   "source": [
    "# softmax function을 사용했으므로, 아래의 0번째 test data 예측 결과(확률)의 sum은 1 이 됨\n",
    "# 해당 0번째 Reuter Review는 4번째 Topic일 가능성이 가장 높음\n",
    "\n",
    "predictions = model.predict(x_test)\n",
    "predictions[0].shape\n",
    "np.sum(predictions[0])\n",
    "np.argmax(predictions[0])\n",
    "print(predictions[0])"
   ]
  },
  {
   "cell_type": "code",
   "execution_count": 24,
   "metadata": {},
   "outputs": [
    {
     "name": "stdout",
     "output_type": "stream",
     "text": [
      "Train on 7982 samples, validate on 1000 samples\n",
      "Epoch 1/20\n",
      "7982/7982 [==============================] - 1s 114us/step - loss: 2.6591 - accuracy: 0.4976 - val_loss: 1.9767 - val_accuracy: 0.5890\n",
      "Epoch 2/20\n",
      "7982/7982 [==============================] - 1s 100us/step - loss: 1.6513 - accuracy: 0.6218 - val_loss: 1.5101 - val_accuracy: 0.6400\n",
      "Epoch 3/20\n",
      "7982/7982 [==============================] - 1s 99us/step - loss: 1.2954 - accuracy: 0.6854 - val_loss: 1.3601 - val_accuracy: 0.6960\n",
      "Epoch 4/20\n",
      "7982/7982 [==============================] - 1s 100us/step - loss: 1.1090 - accuracy: 0.7350 - val_loss: 1.3087 - val_accuracy: 0.7100\n",
      "Epoch 5/20\n",
      "7982/7982 [==============================] - 1s 98us/step - loss: 0.9866 - accuracy: 0.7524 - val_loss: 1.2774 - val_accuracy: 0.7130\n",
      "Epoch 6/20\n",
      "7982/7982 [==============================] - 1s 100us/step - loss: 0.8952 - accuracy: 0.7736 - val_loss: 1.2769 - val_accuracy: 0.7160\n",
      "Epoch 7/20\n",
      "7982/7982 [==============================] - 1s 100us/step - loss: 0.8212 - accuracy: 0.7927 - val_loss: 1.2795 - val_accuracy: 0.7200\n",
      "Epoch 8/20\n",
      "7982/7982 [==============================] - 1s 105us/step - loss: 0.7558 - accuracy: 0.8036 - val_loss: 1.3138 - val_accuracy: 0.7200\n",
      "Epoch 9/20\n",
      "7982/7982 [==============================] - 1s 97us/step - loss: 0.7009 - accuracy: 0.8122 - val_loss: 1.3342 - val_accuracy: 0.7290\n",
      "Epoch 10/20\n",
      "7982/7982 [==============================] - 1s 99us/step - loss: 0.6565 - accuracy: 0.8232 - val_loss: 1.4107 - val_accuracy: 0.7180\n",
      "Epoch 11/20\n",
      "7982/7982 [==============================] - 1s 97us/step - loss: 0.6182 - accuracy: 0.8353 - val_loss: 1.4108 - val_accuracy: 0.7210\n",
      "Epoch 12/20\n",
      "7982/7982 [==============================] - 1s 98us/step - loss: 0.5866 - accuracy: 0.8399 - val_loss: 1.4665 - val_accuracy: 0.7200\n",
      "Epoch 13/20\n",
      "7982/7982 [==============================] - 1s 98us/step - loss: 0.5570 - accuracy: 0.8444 - val_loss: 1.5095 - val_accuracy: 0.7200\n",
      "Epoch 14/20\n",
      "7982/7982 [==============================] - 1s 101us/step - loss: 0.5290 - accuracy: 0.8512 - val_loss: 1.5746 - val_accuracy: 0.7160\n",
      "Epoch 15/20\n",
      "7982/7982 [==============================] - 1s 99us/step - loss: 0.5096 - accuracy: 0.8581 - val_loss: 1.6361 - val_accuracy: 0.7190\n",
      "Epoch 16/20\n",
      "7982/7982 [==============================] - 1s 98us/step - loss: 0.4832 - accuracy: 0.8631 - val_loss: 1.6917 - val_accuracy: 0.7160\n",
      "Epoch 17/20\n",
      "7982/7982 [==============================] - 1s 104us/step - loss: 0.4665 - accuracy: 0.8722 - val_loss: 1.7838 - val_accuracy: 0.7250\n",
      "Epoch 18/20\n",
      "7982/7982 [==============================] - 1s 99us/step - loss: 0.4506 - accuracy: 0.8755 - val_loss: 1.8224 - val_accuracy: 0.7130\n",
      "Epoch 19/20\n",
      "7982/7982 [==============================] - 1s 100us/step - loss: 0.4312 - accuracy: 0.8775 - val_loss: 1.8629 - val_accuracy: 0.7170\n",
      "Epoch 20/20\n",
      "7982/7982 [==============================] - 1s 99us/step - loss: 0.4165 - accuracy: 0.8815 - val_loss: 1.9686 - val_accuracy: 0.7110\n"
     ]
    },
    {
     "data": {
      "text/plain": [
       "<keras.callbacks.callbacks.History at 0x7f893adcc3c8>"
      ]
     },
     "execution_count": 24,
     "metadata": {},
     "output_type": "execute_result"
    }
   ],
   "source": [
    "# 해당 Multi-Classification과 같이 출력 paramter가 다중 값의 경우(Reuter Review는 46개 Topic), \n",
    "# 중간 은닉층(Hidden Layer)의 parameter는 해당 갯수보다 많아야 함\n",
    "\n",
    "# 아래와 같이 중간 은닉층의 parameter(4) 갯수가 출력 parameter(46) 갯수보다 적은 경우, 정보의 병목으로 정확도가 감소 함\n",
    "# 해당 예제의 경우 79% -> 71%로 감소\n",
    "\n",
    "# 원문\n",
    "# 검증 정확도의 최고 값은 약 71%로 8% 정도 감소되었습니다. 이런 손실의 대부분 원인은 많은 정보(46개 클래스의 분할 초평면을 \n",
    "# 복원하기에 충분한 정보)를 중간층의 저차원 표현 공간으로 압축하려고 했기 때문입니다. \n",
    "# 이 네트워크는 필요한 정보 대부분을 4차원 표현 안에 구겨 넣었지만 전부는 넣지 못했습니다.\n",
    "\n",
    "model = models.Sequential()\n",
    "model.add(layers.Dense(64, activation='relu', input_shape=(10000,)))\n",
    "model.add(layers.Dense(4, activation='relu'))\n",
    "model.add(layers.Dense(46, activation='softmax'))\n",
    "\n",
    "model.compile(optimizer='rmsprop', loss='categorical_crossentropy', metrics=['accuracy'])\n",
    "\n",
    "model.fit(partial_x_train, partial_y_train, epochs=20, batch_size=128, validation_data=(x_val, y_val))"
   ]
  }
 ],
 "metadata": {
  "kernelspec": {
   "display_name": "Python 3",
   "language": "python",
   "name": "python3"
  },
  "language_info": {
   "codemirror_mode": {
    "name": "ipython",
    "version": 3
   },
   "file_extension": ".py",
   "mimetype": "text/x-python",
   "name": "python",
   "nbconvert_exporter": "python",
   "pygments_lexer": "ipython3",
   "version": "3.6.8"
  }
 },
 "nbformat": 4,
 "nbformat_minor": 2
}
