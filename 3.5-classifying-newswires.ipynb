{
 "cells": [
  {
   "cell_type": "markdown",
   "metadata": {},
   "source": [
    "## 3.5 Classifying Newswires\n",
    "\n",
    "(1) 케라스 창시자에게 배우는 딥러닝 도서의 실습 코드 입니다. <br><br>\n",
    "(2) 코드를 이해한 후, 각 입력창 마다 주석을 추가해 보았습니다. <br><br>\n",
    "(3) 필요 시 입력 창을 Add 하여 내용을 추가하였습니다.  <br><br>\n",
    "(4) 번역자의 원 코드가 있는 Github URL은 아래와 같습니다. <br><br>\n",
    "https://github.com/rickiepark/deep-learning-with-python-notebooks"
   ]
  },
  {
   "cell_type": "code",
   "execution_count": 1,
   "metadata": {},
   "outputs": [],
   "source": [
    "# 사용 상의 편의를 위한 Initial Setting \n",
    "\n",
    "# 실행결과를 한 창에 표시\n",
    "from IPython.core.interactiveshell import InteractiveShell\n",
    "InteractiveShell.ast_node_interactivity = \"all\"\n",
    "\n",
    "# numpy 소숫점 setting\n",
    "import numpy as np\n",
    "np.set_printoptions(precision=7)\n",
    "\n",
    "# pandas이용하여 grid display\n",
    "import numpy as np\n",
    "import pandas as pd\n",
    "pd.set_option('display.max_rows', None)         # 최대 표시 줄 수 제한 해제\n",
    "pd.set_option('display.max_columns', None)  # 최대 표시 컬럼 수 제한 해제\n",
    "pd.set_option('display.max_colwidth', -1)        # 컬럼내 데이터 표시 제한 해제"
   ]
  },
  {
   "cell_type": "code",
   "execution_count": 26,
   "metadata": {},
   "outputs": [
    {
     "data": {
      "text/plain": [
       "'2.3.1'"
      ]
     },
     "execution_count": 26,
     "metadata": {},
     "output_type": "execute_result"
    }
   ],
   "source": [
    "# keras 버전 확인\n",
    "import keras\n",
    "keras.__version__"
   ]
  },
  {
   "cell_type": "markdown",
   "metadata": {},
   "source": [
    "### 다중 분류 (Reuter Dataset)\n",
    "Reuter Dataset은 46개의 배타적인 Topic으로 이루어진 Reuter News Dataset 입니다.\n",
    "- Train Data : 8982개, Test Data2246개\n",
    "- 데이터는 다음과 같이 전 처리 되어 있음\n",
    "<br>\n",
    "(1) 각 리뷰의 단어가 이에 대응하는 정수로 변환되어 있음 <br>\n",
    "(2) Train/Test Label은 0 ~ 45 까지 정수(총 46가지 Topic) 으로 구분되어 있음 <br>"
   ]
  },
  {
   "cell_type": "code",
   "execution_count": 3,
   "metadata": {},
   "outputs": [],
   "source": [
    "from keras.datasets import reuters\n",
    "(train_data, train_labels), (test_data, test_labels) = reuters.load_data(num_words=10000)\n",
    "\n",
    "#  train data/label, test data/label을  구분 관리하고, 자주 사용하는 단어 10000개로 한정"
   ]
  },
  {
   "cell_type": "code",
   "execution_count": 4,
   "metadata": {},
   "outputs": [
    {
     "data": {
      "text/plain": [
       "8982"
      ]
     },
     "execution_count": 4,
     "metadata": {},
     "output_type": "execute_result"
    },
    {
     "data": {
      "text/plain": [
       "8982"
      ]
     },
     "execution_count": 4,
     "metadata": {},
     "output_type": "execute_result"
    },
    {
     "data": {
      "text/plain": [
       "2246"
      ]
     },
     "execution_count": 4,
     "metadata": {},
     "output_type": "execute_result"
    },
    {
     "data": {
      "text/plain": [
       "2246"
      ]
     },
     "execution_count": 4,
     "metadata": {},
     "output_type": "execute_result"
    },
    {
     "data": {
      "text/plain": [
       "(8982,)"
      ]
     },
     "execution_count": 4,
     "metadata": {},
     "output_type": "execute_result"
    },
    {
     "data": {
      "text/plain": [
       "(8982,)"
      ]
     },
     "execution_count": 4,
     "metadata": {},
     "output_type": "execute_result"
    },
    {
     "data": {
      "text/plain": [
       "(2246,)"
      ]
     },
     "execution_count": 4,
     "metadata": {},
     "output_type": "execute_result"
    },
    {
     "data": {
      "text/plain": [
       "(2246,)"
      ]
     },
     "execution_count": 4,
     "metadata": {},
     "output_type": "execute_result"
    }
   ],
   "source": [
    "len(train_data)\n",
    "len(train_labels)\n",
    "len(test_data)\n",
    "len(test_labels)\n",
    "\n",
    "train_data.shape\n",
    "train_labels.shape\n",
    "test_data.shape\n",
    "test_labels.shape\n",
    "\n",
    "# 8982 건의 training Data / Label, 2246 건의 test Data / Label"
   ]
  },
  {
   "cell_type": "code",
   "execution_count": 5,
   "metadata": {},
   "outputs": [
    {
     "data": {
      "text/plain": [
       "3"
      ]
     },
     "execution_count": 5,
     "metadata": {},
     "output_type": "execute_result"
    },
    {
     "data": {
      "text/plain": [
       "[1,\n",
       " 245,\n",
       " 273,\n",
       " 207,\n",
       " 156,\n",
       " 53,\n",
       " 74,\n",
       " 160,\n",
       " 26,\n",
       " 14,\n",
       " 46,\n",
       " 296,\n",
       " 26,\n",
       " 39,\n",
       " 74,\n",
       " 2979,\n",
       " 3554,\n",
       " 14,\n",
       " 46,\n",
       " 4689,\n",
       " 4329,\n",
       " 86,\n",
       " 61,\n",
       " 3499,\n",
       " 4795,\n",
       " 14,\n",
       " 61,\n",
       " 451,\n",
       " 4329,\n",
       " 17,\n",
       " 12]"
      ]
     },
     "execution_count": 5,
     "metadata": {},
     "output_type": "execute_result"
    }
   ],
   "source": [
    "train_labels[0]\n",
    "# 해당되는 Topic을 0 ~ 45 사이의  정수값으로 display\n",
    "\n",
    "train_data[10] \n",
    "# 기사 리뷰의 내용을 0 ~ 9999 사이의 정수로 변환하여 display"
   ]
  },
  {
   "cell_type": "code",
   "execution_count": 6,
   "metadata": {},
   "outputs": [],
   "source": [
    "word_index = reuters.get_word_index()\n",
    "# word_index는 개별 단어와 이 단어에 해당하는 숫자를 맵핑해 놓은 Dictionary 임\n",
    "\n",
    "reverse_word_index = dict([(value, key) for (key, value) in word_index.items()])\n",
    "# word_index는 ''단어:숫자\" 의 Dictionary 이나, 이를 \"숫자:단어\" 순으로 순서를 뒤집음\n",
    "\n",
    "decoded_newswire = ' '.join([reverse_word_index.get(i - 3, '?') for i in train_data[10]])\n",
    "# for 문을 돌면서 train_data[10]를 구성하는 각 숫자를 이에 맵핑하는 단어로 치환하여 문자열을 구성 함\n",
    "# 이때 0, 1, 2는 사전 정의된 값(index) 이므로, 해당 갯수(3) 만큼 빼고 치환을 진행\n",
    "# 가장 자주 등장하는 단어 10,000개 로 제한하였으므로, 이에 해당되지 않는 key(숫자)는 '?' 로 display 됨"
   ]
  },
  {
   "cell_type": "code",
   "execution_count": 7,
   "metadata": {},
   "outputs": [
    {
     "data": {
      "text/plain": [
       "'? period ended december 31 shr profit 11 cts vs loss 24 cts net profit 224 271 vs loss 511 349 revs 7 258 688 vs 7 200 349 reuter 3'"
      ]
     },
     "execution_count": 7,
     "metadata": {},
     "output_type": "execute_result"
    }
   ],
   "source": [
    "decoded_newswire\n",
    "# reverse_word_index method를 이용하여 train_data[10]를 구성하는 각 숫자를 이에 맵핑하는 단어로 치환"
   ]
  },
  {
   "cell_type": "code",
   "execution_count": 8,
   "metadata": {},
   "outputs": [
    {
     "data": {
      "text/plain": [
       "3"
      ]
     },
     "execution_count": 8,
     "metadata": {},
     "output_type": "execute_result"
    }
   ],
   "source": [
    "train_labels[10]\n",
    "# 10번 기사에 해당되는 Topic은 3 임"
   ]
  },
  {
   "cell_type": "code",
   "execution_count": 9,
   "metadata": {},
   "outputs": [],
   "source": [
    "import numpy as np\n",
    "\n",
    "# 전처리 하여 숫자만으로 구성된 리스트를 신경망에 바로 주입 할 수 없으므로, \n",
    "# (1)이를 Matrix(2차원 텐서)로 변환\n",
    "# (2) 각 row(숫자로 구성되어 있는 전처리된 리뷰)의 개별 숫자값을 column 값으로 하여, 해당  (row, column)의 0 값 -> 1 로 변경\n",
    "def zero_matrix(rows, dimension=10000):\n",
    "    results = np.zeros((len(rows), dimension))    # Matrix(2차원 텐서)로 변환\n",
    "    \n",
    "    for i, col in enumerate(rows):\n",
    "            results[i, col] = 1.                                       #각  row(숫자로 구성되어 있는 전처리된 리뷰)의 개별 숫자값을 column 값으로 하여, 해당  (row, column)의 0 값 -> 1 로 변경    \n",
    "\n",
    "    return results\n",
    "\n",
    "# train_data를 matrix로 변환\n",
    "x_train = zero_matrix(train_data)\n",
    "\n",
    "#  test_data를 matrix로 변환\n",
    "x_test = zero_matrix(test_data)"
   ]
  },
  {
   "cell_type": "code",
   "execution_count": 10,
   "metadata": {},
   "outputs": [
    {
     "data": {
      "text/plain": [
       "array([[0., 1., 1., ..., 0., 0., 0.],\n",
       "       [0., 1., 1., ..., 0., 0., 0.],\n",
       "       [0., 1., 1., ..., 0., 0., 0.],\n",
       "       ...,\n",
       "       [0., 1., 1., ..., 0., 0., 0.],\n",
       "       [0., 1., 1., ..., 0., 0., 0.],\n",
       "       [0., 1., 1., ..., 0., 0., 0.]])"
      ]
     },
     "execution_count": 10,
     "metadata": {},
     "output_type": "execute_result"
    },
    {
     "data": {
      "text/plain": [
       "array([[0., 1., 1., ..., 0., 0., 0.],\n",
       "       [0., 1., 1., ..., 0., 0., 0.],\n",
       "       [0., 1., 1., ..., 0., 0., 0.],\n",
       "       ...,\n",
       "       [0., 1., 0., ..., 0., 0., 0.],\n",
       "       [0., 1., 1., ..., 0., 0., 0.],\n",
       "       [0., 1., 1., ..., 0., 0., 0.]])"
      ]
     },
     "execution_count": 10,
     "metadata": {},
     "output_type": "execute_result"
    },
    {
     "data": {
      "text/plain": [
       "(8982, 10000)"
      ]
     },
     "execution_count": 10,
     "metadata": {},
     "output_type": "execute_result"
    },
    {
     "data": {
      "text/plain": [
       "(2246, 10000)"
      ]
     },
     "execution_count": 10,
     "metadata": {},
     "output_type": "execute_result"
    }
   ],
   "source": [
    "#  NN에 주입하기 위해,\n",
    "# train 행렬 : 8982 * 10000\n",
    "# test   행렬 : 2246 * 10000  으로 정규화\n",
    "\n",
    "x_train\n",
    "x_test\n",
    "\n",
    "x_train.shape\n",
    "x_test.shape"
   ]
  },
  {
   "cell_type": "code",
   "execution_count": 11,
   "metadata": {},
   "outputs": [],
   "source": [
    "# label 값을 one-hot encoding 행렬로 변경하는 function\n",
    "# 금번 예제에서는 해당 function을 사용하지 않고, 바로 아래의 to_categorical function을 사용 함\n",
    "\n",
    "def to_one_hot(labels, dimension=46):\n",
    "    results = np.zeros((len(labels), dimension))\n",
    "    for i, label in enumerate(labels):\n",
    "        results[i, label] = 1.\n",
    "    return results\n",
    "\n",
    "# 훈련 레이블 벡터 변환\n",
    "one_hot_train_labels = to_one_hot(train_labels)\n",
    "# 테스트 레이블 벡터 변환\n",
    "one_hot_test_labels = to_one_hot(test_labels)"
   ]
  },
  {
   "cell_type": "code",
   "execution_count": 12,
   "metadata": {},
   "outputs": [],
   "source": [
    "# NN에 주입하기 위해 train_label과  test_label을 one-hot encoding 행렬로 변경하는 function 사용 (to_categorical)\n",
    "\n",
    "from keras.utils.np_utils import to_categorical\n",
    "\n",
    "one_hot_train_labels = to_categorical(train_labels)\n",
    "one_hot_test_labels = to_categorical(test_labels)"
   ]
  },
  {
   "cell_type": "markdown",
   "metadata": {},
   "source": [
    "### NN(Neural Network) 모델 생성"
   ]
  },
  {
   "cell_type": "code",
   "execution_count": 13,
   "metadata": {},
   "outputs": [],
   "source": [
    "# 기존의 IMDB Binary Classification (긍정/부정)과 기본적으로 동일한 방식이나, Multi Classification 이므로, 출력 parameter가 46개로 늘어남\n",
    "# 출력의 dimension이 커졌으므로, 중간 층의 parameter의 갯수를 충분히 늘려주지 않으면, 정보의 유실(누락)이 발생 될 수 있음\n",
    "# 그러므로 중간 paramter의 갯수를 128개로 구성\n",
    "\n",
    "from keras import models\n",
    "from keras import layers\n",
    "\n",
    "# 앞서와 마찬가지로 선형적으로 쌓는 Sequential 모델을 이용\n",
    "model = models.Sequential()\n",
    "\n",
    "# 입력층 : 입력 parameter는 10000이고, 출력 parameter는 128 임, 활성화 함수는 relu\n",
    "model.add(layers.Dense(128, activation='relu', input_shape=(10000,)))\n",
    "\n",
    "# 은닉층 : 입력 parameter는 128이고, 출력 parameter는 128 임, 활성화 함수는 relu\n",
    "model.add(layers.Dense(128, activation='relu'))\n",
    "\n",
    "# 출력층 : 입력 parameter는 128이고, 출력 parameter는 46 임, 활성화 함수는 softmax\n",
    "# 주로 Binary Classification의 경우는 'Sigmoid', Multi-Classification의 경우는 'Softmax' 활성화 함수 이용 -> 각각의 review가 46개 중 어떤 topic인지 확률을 계산\n",
    "model.add(layers.Dense(46, activation='softmax'))"
   ]
  },
  {
   "cell_type": "code",
   "execution_count": 14,
   "metadata": {},
   "outputs": [],
   "source": [
    "# compile method를 이용하여 학습 과정을 구성\n",
    "# 옵티마이저는 rmsprop 사용하고, Multi-Classification 이므로 손실함수는 'categorical_crossentropy'를 사용\n",
    "\n",
    "model.compile(optimizer='rmsprop', loss='categorical_crossentropy', metrics=['accuracy'])"
   ]
  },
  {
   "cell_type": "markdown",
   "metadata": {},
   "source": [
    "### Training 검증"
   ]
  },
  {
   "cell_type": "code",
   "execution_count": 15,
   "metadata": {},
   "outputs": [
    {
     "data": {
      "text/plain": [
       "(1000, 10000)"
      ]
     },
     "execution_count": 15,
     "metadata": {},
     "output_type": "execute_result"
    },
    {
     "data": {
      "text/plain": [
       "(7982, 10000)"
      ]
     },
     "execution_count": 15,
     "metadata": {},
     "output_type": "execute_result"
    },
    {
     "data": {
      "text/plain": [
       "(1000, 46)"
      ]
     },
     "execution_count": 15,
     "metadata": {},
     "output_type": "execute_result"
    },
    {
     "data": {
      "text/plain": [
       "(7982, 46)"
      ]
     },
     "execution_count": 15,
     "metadata": {},
     "output_type": "execute_result"
    }
   ],
   "source": [
    "# 전체 10000 set의 Data에서 검증 Data로 1000 set 을 추출\n",
    "#  x_train               :  1000 set\n",
    "#   partial_x_train : 7982 set\n",
    "\n",
    "x_val = x_train[:1000]\n",
    "partial_x_train = x_train[1000:]\n",
    "\n",
    "y_val = one_hot_train_labels[:1000]\n",
    "partial_y_train = one_hot_train_labels[1000:]\n",
    "\n",
    "# x_val, partial_x_train 의 shape 확인\n",
    "x_val.shape\n",
    "partial_x_train.shape\n",
    "y_val.shape\n",
    "partial_y_train.shape\n"
   ]
  },
  {
   "cell_type": "markdown",
   "metadata": {},
   "source": [
    "이제 20번의 에포크로 모델을 훈련시킵니다:"
   ]
  },
  {
   "cell_type": "code",
   "execution_count": 16,
   "metadata": {
    "scrolled": false
   },
   "outputs": [
    {
     "name": "stdout",
     "output_type": "stream",
     "text": [
      "WARNING:tensorflow:From /usr/local/lib/python3.6/dist-packages/keras/backend/tensorflow_backend.py:422: The name tf.global_variables is deprecated. Please use tf.compat.v1.global_variables instead.\n",
      "\n",
      "Train on 7982 samples, validate on 1000 samples\n",
      "Epoch 1/20\n",
      "7982/7982 [==============================] - 1s 161us/step - loss: 2.1572 - accuracy: 0.5568 - val_loss: 1.3487 - val_accuracy: 0.6980\n",
      "Epoch 2/20\n",
      "7982/7982 [==============================] - 1s 116us/step - loss: 1.0989 - accuracy: 0.7652 - val_loss: 1.1041 - val_accuracy: 0.7670\n",
      "Epoch 3/20\n",
      "7982/7982 [==============================] - 1s 111us/step - loss: 0.7845 - accuracy: 0.8339 - val_loss: 1.0294 - val_accuracy: 0.7700\n",
      "Epoch 4/20\n",
      "7982/7982 [==============================] - 1s 118us/step - loss: 0.5604 - accuracy: 0.8810 - val_loss: 0.9206 - val_accuracy: 0.8050\n",
      "Epoch 5/20\n",
      "7982/7982 [==============================] - 1s 121us/step - loss: 0.4198 - accuracy: 0.9100 - val_loss: 0.8747 - val_accuracy: 0.8220\n",
      "Epoch 6/20\n",
      "7982/7982 [==============================] - 1s 122us/step - loss: 0.3091 - accuracy: 0.9335 - val_loss: 0.8865 - val_accuracy: 0.8160\n",
      "Epoch 7/20\n",
      "7982/7982 [==============================] - 1s 126us/step - loss: 0.2581 - accuracy: 0.9456 - val_loss: 0.8895 - val_accuracy: 0.8100\n",
      "Epoch 8/20\n",
      "7982/7982 [==============================] - 1s 125us/step - loss: 0.2073 - accuracy: 0.9501 - val_loss: 0.9164 - val_accuracy: 0.8130\n",
      "Epoch 9/20\n",
      "7982/7982 [==============================] - 1s 123us/step - loss: 0.1868 - accuracy: 0.9525 - val_loss: 0.9295 - val_accuracy: 0.8190\n",
      "Epoch 10/20\n",
      "7982/7982 [==============================] - 1s 124us/step - loss: 0.1662 - accuracy: 0.9524 - val_loss: 0.9422 - val_accuracy: 0.8110\n",
      "Epoch 11/20\n",
      "7982/7982 [==============================] - 1s 123us/step - loss: 0.1543 - accuracy: 0.9543 - val_loss: 1.0433 - val_accuracy: 0.7940\n",
      "Epoch 12/20\n",
      "7982/7982 [==============================] - 1s 125us/step - loss: 0.1351 - accuracy: 0.9550 - val_loss: 1.1055 - val_accuracy: 0.7940\n",
      "Epoch 13/20\n",
      "7982/7982 [==============================] - 1s 124us/step - loss: 0.1404 - accuracy: 0.9551 - val_loss: 0.9986 - val_accuracy: 0.8080\n",
      "Epoch 14/20\n",
      "7982/7982 [==============================] - 1s 127us/step - loss: 0.1282 - accuracy: 0.9560 - val_loss: 1.0098 - val_accuracy: 0.8110\n",
      "Epoch 15/20\n",
      "7982/7982 [==============================] - 1s 115us/step - loss: 0.1270 - accuracy: 0.9557 - val_loss: 1.0402 - val_accuracy: 0.8150\n",
      "Epoch 16/20\n",
      "7982/7982 [==============================] - 1s 126us/step - loss: 0.1196 - accuracy: 0.9579 - val_loss: 1.1207 - val_accuracy: 0.7950\n",
      "Epoch 17/20\n",
      "7982/7982 [==============================] - 1s 125us/step - loss: 0.1207 - accuracy: 0.9568 - val_loss: 1.1238 - val_accuracy: 0.8010\n",
      "Epoch 18/20\n",
      "7982/7982 [==============================] - 1s 112us/step - loss: 0.1093 - accuracy: 0.9569 - val_loss: 1.1448 - val_accuracy: 0.7820\n",
      "Epoch 19/20\n",
      "7982/7982 [==============================] - 1s 119us/step - loss: 0.1131 - accuracy: 0.9563 - val_loss: 1.0927 - val_accuracy: 0.8080\n",
      "Epoch 20/20\n",
      "7982/7982 [==============================] - 1s 122us/step - loss: 0.1079 - accuracy: 0.9559 - val_loss: 1.1067 - val_accuracy: 0.8050\n"
     ]
    }
   ],
   "source": [
    "# fit method를 이용해서 정해진 epoch 만큼  Training을 수행\n",
    "# 이때 Training Data(partial_x_train)과 Validation Data(x_val)을 주입하고, epoch, batch size 지정\n",
    "\n",
    "history = model.fit(partial_x_train, partial_y_train, epochs=20, batch_size=512, validation_data=(x_val, y_val))"
   ]
  },
  {
   "cell_type": "code",
   "execution_count": 17,
   "metadata": {},
   "outputs": [
    {
     "name": "stdout",
     "output_type": "stream",
     "text": [
      "Model: \"sequential_1\"\n",
      "_________________________________________________________________\n",
      "Layer (type)                 Output Shape              Param #   \n",
      "=================================================================\n",
      "dense_1 (Dense)              (None, 128)               1280128   \n",
      "_________________________________________________________________\n",
      "dense_2 (Dense)              (None, 128)               16512     \n",
      "_________________________________________________________________\n",
      "dense_3 (Dense)              (None, 46)                5934      \n",
      "=================================================================\n",
      "Total params: 1,302,574\n",
      "Trainable params: 1,302,574\n",
      "Non-trainable params: 0\n",
      "_________________________________________________________________\n"
     ]
    }
   ],
   "source": [
    "model.summary()\n",
    "\n",
    "#  dense_1 layer의 전체 paramenter의 수는 10000(입력) * 128(출력) + 128 = 1,280,128 임 (추가적으로 더하는 128은 bias)\n",
    "#  dense_2 layer의 전체 paramenter의 수는 128 * 128 + 128 = 16,512 임 (추가적으로 더하는 128은 bias)\n",
    "#  dense_3 layer의 전체 paramenter의 수는 128 * 46 + 46 = 5,934 임 (추가적으로 더하는 46은 bias)\n",
    "# 그러므로 총 paramter의 수는 1,280,128 + 16,512 + 5,934 = 1,302,574"
   ]
  },
  {
   "cell_type": "markdown",
   "metadata": {},
   "source": [
    "### Graph Visualization"
   ]
  },
  {
   "cell_type": "code",
   "execution_count": 25,
   "metadata": {},
   "outputs": [
    {
     "data": {
      "text/plain": [
       "[<matplotlib.lines.Line2D at 0x7f380f888d68>]"
      ]
     },
     "execution_count": 25,
     "metadata": {},
     "output_type": "execute_result"
    },
    {
     "data": {
      "text/plain": [
       "[<matplotlib.lines.Line2D at 0x7f380fa05c88>]"
      ]
     },
     "execution_count": 25,
     "metadata": {},
     "output_type": "execute_result"
    },
    {
     "data": {
      "text/plain": [
       "Text(0.5, 1.0, 'Training and validation loss')"
      ]
     },
     "execution_count": 25,
     "metadata": {},
     "output_type": "execute_result"
    },
    {
     "data": {
      "text/plain": [
       "Text(0.5, 0, 'Epochs')"
      ]
     },
     "execution_count": 25,
     "metadata": {},
     "output_type": "execute_result"
    },
    {
     "data": {
      "text/plain": [
       "Text(0, 0.5, 'Loss')"
      ]
     },
     "execution_count": 25,
     "metadata": {},
     "output_type": "execute_result"
    },
    {
     "data": {
      "text/plain": [
       "<matplotlib.legend.Legend at 0x7f380f877710>"
      ]
     },
     "execution_count": 25,
     "metadata": {},
     "output_type": "execute_result"
    },
    {
     "data": {
      "image/png": "[encoded data removed]",
      "text/plain": [
       "<Figure size 432x288 with 1 Axes>"
      ]
     },
     "metadata": {
      "needs_background": "light"
     },
     "output_type": "display_data"
    }
   ],
   "source": [
    "# Training & Validation Loss Graph\n",
    "import matplotlib.pyplot as plt\n",
    "\n",
    "loss = history.history['loss']\n",
    "val_loss = history.history['val_loss']\n",
    "\n",
    "epochs = range(1, len(loss) + 1)\n",
    "\n",
    "plt.plot(epochs, loss, 'r', label='Training loss')\n",
    "plt.plot(epochs, val_loss, 'b', label='Validation loss')\n",
    "plt.title('Training and validation loss')\n",
    "plt.xlabel('Epochs')\n",
    "plt.ylabel('Loss')\n",
    "plt.legend()\n",
    "\n",
    "plt.show()"
   ]
  },
  {
   "cell_type": "code",
   "execution_count": 19,
   "metadata": {},
   "outputs": [
    {
     "data": {
      "text/plain": [
       "[<matplotlib.lines.Line2D at 0x7f380ffe1be0>]"
      ]
     },
     "execution_count": 19,
     "metadata": {},
     "output_type": "execute_result"
    },
    {
     "data": {
      "text/plain": [
       "[<matplotlib.lines.Line2D at 0x7f380fa37438>]"
      ]
     },
     "execution_count": 19,
     "metadata": {},
     "output_type": "execute_result"
    },
    {
     "data": {
      "text/plain": [
       "Text(0.5, 1.0, 'Training and validation accuracy')"
      ]
     },
     "execution_count": 19,
     "metadata": {},
     "output_type": "execute_result"
    },
    {
     "data": {
      "text/plain": [
       "Text(0.5, 0, 'Epochs')"
      ]
     },
     "execution_count": 19,
     "metadata": {},
     "output_type": "execute_result"
    },
    {
     "data": {
      "text/plain": [
       "Text(0, 0.5, 'Accuracy')"
      ]
     },
     "execution_count": 19,
     "metadata": {},
     "output_type": "execute_result"
    },
    {
     "data": {
      "text/plain": [
       "<matplotlib.legend.Legend at 0x7f380fffc470>"
      ]
     },
     "execution_count": 19,
     "metadata": {},
     "output_type": "execute_result"
    },
    {
     "data": {
      "image/png": "[encoded data removed]",
      "text/plain": [
       "<Figure size 432x288 with 1 Axes>"
      ]
     },
     "metadata": {
      "needs_background": "light"
     },
     "output_type": "display_data"
    }
   ],
   "source": [
    "# Training & Validation Accuracy Graph\n",
    "plt.clf()   # 그래프 초기화\n",
    "\n",
    "acc = history.history['accuracy']\n",
    "val_acc = history.history['val_accuracy']\n",
    "\n",
    "plt.plot(epochs, acc, 'r', label='Training acc')\n",
    "plt.plot(epochs, val_acc, 'b', label='Validation acc')\n",
    "plt.title('Training and validation accuracy')\n",
    "plt.xlabel('Epochs')\n",
    "plt.ylabel('Accuracy')\n",
    "plt.legend()\n",
    "\n",
    "plt.show()"
   ]
  },
  {
   "cell_type": "code",
   "execution_count": 20,
   "metadata": {},
   "outputs": [
    {
     "name": "stdout",
     "output_type": "stream",
     "text": [
      "Train on 7982 samples, validate on 1000 samples\n",
      "Epoch 1/9\n",
      "7982/7982 [==============================] - 1s 137us/step - loss: 2.2597 - accuracy: 0.5535 - val_loss: 1.4231 - val_accuracy: 0.6820\n",
      "Epoch 2/9\n",
      "7982/7982 [==============================] - 1s 126us/step - loss: 1.1308 - accuracy: 0.7554 - val_loss: 1.1497 - val_accuracy: 0.7480\n",
      "Epoch 3/9\n",
      "7982/7982 [==============================] - 1s 119us/step - loss: 0.7910 - accuracy: 0.8310 - val_loss: 1.0185 - val_accuracy: 0.7710\n",
      "Epoch 4/9\n",
      "7982/7982 [==============================] - 1s 110us/step - loss: 0.5656 - accuracy: 0.8840 - val_loss: 0.9176 - val_accuracy: 0.8100\n",
      "Epoch 5/9\n",
      "7982/7982 [==============================] - 1s 112us/step - loss: 0.4184 - accuracy: 0.9142 - val_loss: 0.9410 - val_accuracy: 0.7900\n",
      "Epoch 6/9\n",
      "7982/7982 [==============================] - 1s 112us/step - loss: 0.3161 - accuracy: 0.9317 - val_loss: 0.8719 - val_accuracy: 0.8190\n",
      "Epoch 7/9\n",
      "7982/7982 [==============================] - 1s 120us/step - loss: 0.2493 - accuracy: 0.9434 - val_loss: 0.9900 - val_accuracy: 0.7900\n",
      "Epoch 8/9\n",
      "7982/7982 [==============================] - 1s 117us/step - loss: 0.2094 - accuracy: 0.9495 - val_loss: 0.9382 - val_accuracy: 0.8170\n",
      "Epoch 9/9\n",
      "7982/7982 [==============================] - 1s 117us/step - loss: 0.1806 - accuracy: 0.9518 - val_loss: 0.9337 - val_accuracy: 0.8120\n"
     ]
    },
    {
     "data": {
      "text/plain": [
       "<keras.callbacks.callbacks.History at 0x7f380fd25128>"
      ]
     },
     "execution_count": 20,
     "metadata": {},
     "output_type": "execute_result"
    },
    {
     "name": "stdout",
     "output_type": "stream",
     "text": [
      "2246/2246 [==============================] - 0s 74us/step\n"
     ]
    }
   ],
   "source": [
    "# 위의 그래프에서 epoch = 9를 초과하면 과적합이 발생함을 알 수 있으므로, epoch=9로 Network을 다시 구성\n",
    "model = models.Sequential()\n",
    "model.add(layers.Dense(128, activation='relu', input_shape=(10000,)))\n",
    "model.add(layers.Dense(128, activation='relu'))\n",
    "model.add(layers.Dense(46, activation='softmax'))\n",
    "\n",
    "model.compile(optimizer='rmsprop', loss='categorical_crossentropy', metrics=['accuracy'])\n",
    "\n",
    "# fit method로 Training 시, epoch = 9로 Setting 하여 과적합 방지\n",
    "model.fit(partial_x_train, partial_y_train, epochs=9, batch_size=512, validation_data=(x_val, y_val))\n",
    "\n",
    "# evaluate method를 이용하여  test data에 대한 loss, accuracy를 계산\n",
    "loss, accuracy = model.evaluate(x_test, one_hot_test_labels)"
   ]
  },
  {
   "cell_type": "code",
   "execution_count": 21,
   "metadata": {},
   "outputs": [
    {
     "name": "stdout",
     "output_type": "stream",
     "text": [
      "test_acc :  0.7951914668083191\n",
      "test_loss :  1.0462050854045157\n"
     ]
    }
   ],
   "source": [
    "# 약 79%의 정확도로 Reuter Review Topic을 분류 함을 할 수 있음\n",
    "\n",
    "print('test_acc : ', accuracy)\n",
    "print('test_loss : ', loss)"
   ]
  },
  {
   "cell_type": "code",
   "execution_count": 22,
   "metadata": {},
   "outputs": [
    {
     "data": {
      "text/plain": [
       "0.1861086375779163"
      ]
     },
     "execution_count": 22,
     "metadata": {},
     "output_type": "execute_result"
    }
   ],
   "source": [
    "# 균형 잡힌 이진 분류 문제에서 완전히 무작위로 분류하면 50%의 정확도를 달성합니다. \n",
    "# 해당 문제는 불균형한 데이터셋을 사용하므로 무작위로 분류하면 19% 정도를 달성합니다.\n",
    "\n",
    "import copy\n",
    "\n",
    "test_labels_copy = copy.copy(test_labels)\n",
    "np.random.shuffle(test_labels_copy)\n",
    "float(np.sum(np.array(test_labels) == np.array(test_labels_copy))) / len(test_labels)"
   ]
  },
  {
   "cell_type": "code",
   "execution_count": 23,
   "metadata": {},
   "outputs": [
    {
     "data": {
      "text/plain": [
       "(46,)"
      ]
     },
     "execution_count": 23,
     "metadata": {},
     "output_type": "execute_result"
    },
    {
     "data": {
      "text/plain": [
       "1.0"
      ]
     },
     "execution_count": 23,
     "metadata": {},
     "output_type": "execute_result"
    },
    {
     "data": {
      "text/plain": [
       "3"
      ]
     },
     "execution_count": 23,
     "metadata": {},
     "output_type": "execute_result"
    },
    {
     "name": "stdout",
     "output_type": "stream",
     "text": [
      "[2.9881277e-05 2.1023050e-06 4.8972794e-07 9.8022366e-01 1.8250022e-02\n",
      " 1.5146040e-07 3.3415498e-07 4.5198899e-06 4.4008903e-04 2.3844930e-07\n",
      " 2.7554961e-06 7.2252064e-05 1.4697527e-05 4.5061843e-05 2.2416943e-06\n",
      " 1.3219079e-07 1.1789749e-04 5.9760614e-06 2.3286012e-07 3.8386273e-04\n",
      " 1.6838485e-04 9.4709168e-05 3.1091975e-07 3.2256423e-06 6.2844748e-08\n",
      " 1.1070010e-05 2.4861981e-07 5.5050140e-07 1.5894567e-06 2.7219357e-05\n",
      " 1.4339257e-05 4.7607978e-06 2.7333317e-07 4.8131949e-07 5.5345640e-06\n",
      " 4.0012227e-07 3.0840805e-05 1.1050070e-06 1.6095052e-07 3.4813955e-05\n",
      " 2.7063069e-07 1.9778268e-07 2.6282523e-06 2.1034499e-08 2.1031170e-08\n",
      " 2.5575949e-07]\n"
     ]
    }
   ],
   "source": [
    "# softmax function을 사용했으므로, 아래의 0번째 test data 예측 결과(확률)의 sum은 1 이 됨\n",
    "# 해당 0번째 Reuter Review는 4번째 Topic일 가능성이 가장 높음\n",
    "\n",
    "predictions = model.predict(x_test)\n",
    "predictions[0].shape\n",
    "np.sum(predictions[0])\n",
    "np.argmax(predictions[0])\n",
    "print(predictions[0])"
   ]
  },
  {
   "cell_type": "code",
   "execution_count": 24,
   "metadata": {},
   "outputs": [
    {
     "name": "stdout",
     "output_type": "stream",
     "text": [
      "Train on 7982 samples, validate on 1000 samples\n",
      "Epoch 1/20\n",
      "7982/7982 [==============================] - 1s 115us/step - loss: 2.8381 - accuracy: 0.4696 - val_loss: 2.0470 - val_accuracy: 0.5750\n",
      "Epoch 2/20\n",
      "7982/7982 [==============================] - 1s 100us/step - loss: 1.7344 - accuracy: 0.5990 - val_loss: 1.6609 - val_accuracy: 0.5870\n",
      "Epoch 3/20\n",
      "7982/7982 [==============================] - 1s 103us/step - loss: 1.4684 - accuracy: 0.6294 - val_loss: 1.5709 - val_accuracy: 0.6290\n",
      "Epoch 4/20\n",
      "7982/7982 [==============================] - 1s 106us/step - loss: 1.3348 - accuracy: 0.6631 - val_loss: 1.5294 - val_accuracy: 0.6430\n",
      "Epoch 5/20\n",
      "7982/7982 [==============================] - 1s 107us/step - loss: 1.2185 - accuracy: 0.6824 - val_loss: 1.4869 - val_accuracy: 0.6620\n",
      "Epoch 6/20\n",
      "7982/7982 [==============================] - 1s 103us/step - loss: 1.0827 - accuracy: 0.7197 - val_loss: 1.4386 - val_accuracy: 0.6750\n",
      "Epoch 7/20\n",
      "7982/7982 [==============================] - 1s 103us/step - loss: 0.9682 - accuracy: 0.7606 - val_loss: 1.4153 - val_accuracy: 0.6880\n",
      "Epoch 8/20\n",
      "7982/7982 [==============================] - 1s 109us/step - loss: 0.8723 - accuracy: 0.7815 - val_loss: 1.3991 - val_accuracy: 0.7120\n",
      "Epoch 9/20\n",
      "7982/7982 [==============================] - 1s 103us/step - loss: 0.7998 - accuracy: 0.8019 - val_loss: 1.3964 - val_accuracy: 0.7050\n",
      "Epoch 10/20\n",
      "7982/7982 [==============================] - 1s 106us/step - loss: 0.7364 - accuracy: 0.8192 - val_loss: 1.4161 - val_accuracy: 0.7090\n",
      "Epoch 11/20\n",
      "7982/7982 [==============================] - 1s 102us/step - loss: 0.6820 - accuracy: 0.8300 - val_loss: 1.4423 - val_accuracy: 0.7090\n",
      "Epoch 12/20\n",
      "7982/7982 [==============================] - 1s 102us/step - loss: 0.6361 - accuracy: 0.8386 - val_loss: 1.4814 - val_accuracy: 0.7200\n",
      "Epoch 13/20\n",
      "7982/7982 [==============================] - 1s 103us/step - loss: 0.5997 - accuracy: 0.8436 - val_loss: 1.6645 - val_accuracy: 0.7020\n",
      "Epoch 14/20\n",
      "7982/7982 [==============================] - 1s 104us/step - loss: 0.5671 - accuracy: 0.8483 - val_loss: 1.5722 - val_accuracy: 0.7120\n",
      "Epoch 15/20\n",
      "7982/7982 [==============================] - 1s 104us/step - loss: 0.5367 - accuracy: 0.8555 - val_loss: 1.6242 - val_accuracy: 0.7150\n",
      "Epoch 16/20\n",
      "7982/7982 [==============================] - 1s 103us/step - loss: 0.5093 - accuracy: 0.8621 - val_loss: 1.6943 - val_accuracy: 0.7000\n",
      "Epoch 17/20\n",
      "7982/7982 [==============================] - 1s 107us/step - loss: 0.4848 - accuracy: 0.8693 - val_loss: 1.6733 - val_accuracy: 0.7030\n",
      "Epoch 18/20\n",
      "7982/7982 [==============================] - 1s 110us/step - loss: 0.4636 - accuracy: 0.8758 - val_loss: 1.7347 - val_accuracy: 0.7060\n",
      "Epoch 19/20\n",
      "7982/7982 [==============================] - 1s 109us/step - loss: 0.4427 - accuracy: 0.8819 - val_loss: 1.8005 - val_accuracy: 0.7010\n",
      "Epoch 20/20\n",
      "7982/7982 [==============================] - 1s 109us/step - loss: 0.4224 - accuracy: 0.8849 - val_loss: 1.9761 - val_accuracy: 0.7060\n"
     ]
    },
    {
     "data": {
      "text/plain": [
       "<keras.callbacks.callbacks.History at 0x7f38107f5438>"
      ]
     },
     "execution_count": 24,
     "metadata": {},
     "output_type": "execute_result"
    }
   ],
   "source": [
    "# 해당 Multi-Classification과 같이 출력 paramter가 다중 값의 경우(Reuter Review는 46개 Topic), \n",
    "# 중간 은닉층(Hidden Layer)의 parameter는 해당 갯수보다 많아야 함\n",
    "\n",
    "# 아래와 같이 중간 은닉층의 parameter(4) 갯수가 출력 parameter(46) 갯수보다 적은 경우, 정보의 병목으로 정확도가 감소 함\n",
    "# 해당 예제의 경우 79% -> 71%로 감소\n",
    "\n",
    "# 원문\n",
    "# 검증 정확도의 최고 값은 약 71%로 8% 정도 감소되었습니다. 이런 손실의 대부분 원인은 많은 정보(46개 클래스의 분할 초평면을 \n",
    "# 복원하기에 충분한 정보)를 중간층의 저차원 표현 공간으로 압축하려고 했기 때문입니다. \n",
    "# 이 네트워크는 필요한 정보 대부분을 4차원 표현 안에 구겨 넣었지만 전부는 넣지 못했습니다.\n",
    "\n",
    "model = models.Sequential()\n",
    "model.add(layers.Dense(64, activation='relu', input_shape=(10000,)))\n",
    "model.add(layers.Dense(4, activation='relu'))\n",
    "model.add(layers.Dense(46, activation='softmax'))\n",
    "\n",
    "model.compile(optimizer='rmsprop', loss='categorical_crossentropy', metrics=['accuracy'])\n",
    "\n",
    "model.fit(partial_x_train, partial_y_train, epochs=20, batch_size=128, validation_data=(x_val, y_val))"
   ]
  }
 ],
 "metadata": {
  "kernelspec": {
   "display_name": "Python 3",
   "language": "python",
   "name": "python3"
  },
  "language_info": {
   "codemirror_mode": {
    "name": "ipython",
    "version": 3
   },
   "file_extension": ".py",
   "mimetype": "text/x-python",
   "name": "python",
   "nbconvert_exporter": "python",
   "pygments_lexer": "ipython3",
   "version": "3.6.8"
  }
 },
 "nbformat": 4,
 "nbformat_minor": 2
}
