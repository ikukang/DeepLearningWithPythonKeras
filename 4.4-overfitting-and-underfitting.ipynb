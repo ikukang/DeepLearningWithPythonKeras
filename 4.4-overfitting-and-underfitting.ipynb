{
 "cells": [
  {
   "cell_type": "markdown",
   "metadata": {},
   "source": [
    "## 4.4 Overfitting\n",
    "\n",
    "(1) 케라스 창시자에게 배우는 딥러닝 도서의 실습 코드 입니다. <br><br>\n",
    "(2) 코드를 이해한 후, 각 입력창 마다 주석을 추가해 보았습니다. <br><br>\n",
    "(3) 필요 시 입력 창을 Add 하여 내용을 추가하였습니다.  <br><br>\n",
    "(4) 번역자의 원 코드가 있는 Github URL은 아래와 같습니다. <br><br>\n",
    "https://github.com/rickiepark/deep-learning-with-python-notebooks"
   ]
  },
  {
   "cell_type": "code",
   "execution_count": 1,
   "metadata": {},
   "outputs": [],
   "source": [
    "# 사용 상의 편의를 위한 Initial Setting \n",
    "\n",
    "# 실행결과를 한 창에 표시\n",
    "from IPython.core.interactiveshell import InteractiveShell\n",
    "InteractiveShell.ast_node_interactivity = \"all\"\n",
    "\n",
    "# numpy 소숫점 setting\n",
    "import numpy as np\n",
    "np.set_printoptions(precision=7)\n",
    "\n",
    "# pandas이용하여 grid display\n",
    "import numpy as np\n",
    "import pandas as pd\n",
    "pd.set_option('display.max_rows', None)         # 최대 표시 줄 수 제한 해제\n",
    "pd.set_option('display.max_columns', None)  # 최대 표시 컬럼 수 제한 해제\n",
    "pd.set_option('display.max_colwidth', -1)        # 컬럼내 데이터 표시 제한 해제"
   ]
  },
  {
   "cell_type": "code",
   "execution_count": 29,
   "metadata": {},
   "outputs": [
    {
     "data": {
      "text/plain": [
       "'2.3.1'"
      ]
     },
     "execution_count": 29,
     "metadata": {},
     "output_type": "execute_result"
    }
   ],
   "source": [
    "import keras\n",
    "keras.__version__"
   ]
  },
  {
   "cell_type": "code",
   "execution_count": 3,
   "metadata": {},
   "outputs": [],
   "source": [
    "# 기계학습에서는 항상 과적합(Overfitting)이 문제가 되고 있고, 기계학습을 마스터 하려면 반드시 과적합에 대한 제어를 할 수 있어야 함\n",
    "# 기 진행했었던 IMDB(Internet Movie Database)를 다시 이용하여 과대적합 또는 과소적합에 대하여 검토 하고자 함\n",
    "\n",
    "# (8)번 문서에서 진행했었던 IMDB Binary Classification 문제 임\n",
    "from keras.datasets import imdb\n",
    "import numpy as np\n",
    "\n",
    "(train_data, train_labels), (test_data, test_labels) = imdb.load_data(num_words=10000)\n",
    "\n",
    "# 전처리 하여 숫자만으로 구성된 리스트를 신경망에 바로 주입 할 수 없으므로, \n",
    "# (1)이를 Matrix(2차원 텐서)로 변환\n",
    "# (2) 각 row(숫자로 구성되어 있는 전처리된 리뷰)의 개별 숫자값을 column 값으로 하여, 해당  (row, column)의 0 값 -> 1 로 변경\n",
    "def zero_matrix(rows, dimension=10000):\n",
    "    results = np.zeros((len(rows), dimension))    # Matrix(2차원 텐서)로 변환\n",
    "    \n",
    "    for i, col in enumerate(rows):\n",
    "            results[i, col] = 1.                                       #각  row(숫자로 구성되어 있는 전처리된 리뷰)의 개별 숫자값을 column 값으로 하여, 해당  (row, column)의 0 값 -> 1 로 변경    \n",
    "\n",
    "    return results\n",
    "\n",
    "# train_data를 matrix로 변환\n",
    "x_train = zero_matrix(train_data)\n",
    "\n",
    "#  test_data를 matrix로 변환\n",
    "x_test = zero_matrix(test_data)\n",
    "\n",
    "y_train = np.asarray(train_labels).astype('float32')\n",
    "y_test = np.asarray(test_labels).astype('float32')"
   ]
  },
  {
   "cell_type": "markdown",
   "metadata": {},
   "source": [
    "## 과적합을 늦추고 완화하기 위한 방안\n",
    "## 1. Network parameter 축소 (Network 크기 축소)"
   ]
  },
  {
   "cell_type": "code",
   "execution_count": 4,
   "metadata": {},
   "outputs": [
    {
     "name": "stdout",
     "output_type": "stream",
     "text": [
      "WARNING:tensorflow:From /usr/local/lib/python3.6/dist-packages/tensorflow/python/ops/nn_impl.py:180: add_dispatch_support.<locals>.wrapper (from tensorflow.python.ops.array_ops) is deprecated and will be removed in a future version.\n",
      "Instructions for updating:\n",
      "Use tf.where in 2.0, which has the same broadcast rule as np.where\n"
     ]
    }
   ],
   "source": [
    "# 기존과 동일하게 3개 Layer로 NN을 쌓고, 입/출력 parameter는 16으로 진행 (original_model)\n",
    "\n",
    "from keras import models\n",
    "from keras import layers\n",
    "\n",
    "original_model = models.Sequential()\n",
    "original_model.add(layers.Dense(16, activation='relu', input_shape=(10000,)))\n",
    "original_model.add(layers.Dense(16, activation='relu'))\n",
    "original_model.add(layers.Dense(1, activation='sigmoid'))\n",
    "\n",
    "original_model.compile(optimizer='rmsprop', loss='binary_crossentropy', metrics=['acc'])"
   ]
  },
  {
   "cell_type": "code",
   "execution_count": 5,
   "metadata": {},
   "outputs": [],
   "source": [
    "# network 크기 축소를 위해 입/출력 parameter를 6으로 변경하여 진행 (smaller_model)\n",
    "\n",
    "smaller_model = models.Sequential()\n",
    "smaller_model.add(layers.Dense(6, activation='relu', input_shape=(10000,)))\n",
    "smaller_model.add(layers.Dense(6, activation='relu'))\n",
    "smaller_model.add(layers.Dense(1, activation='sigmoid'))\n",
    "\n",
    "smaller_model.compile(optimizer='rmsprop', loss='binary_crossentropy', metrics=['acc'])"
   ]
  },
  {
   "cell_type": "markdown",
   "metadata": {},
   "source": [
    "원본 네트워크와 축소된 네트워크의 검증 손실을 비교해 보죠. 점으로 표현된 것이 작은 네트워크이고 덧셈 기호가 원래 네트워크 입니다(검증 손실이 작은 것이 좋은 모델입니다)."
   ]
  },
  {
   "cell_type": "code",
   "execution_count": 6,
   "metadata": {},
   "outputs": [
    {
     "name": "stdout",
     "output_type": "stream",
     "text": [
      "WARNING:tensorflow:From /usr/local/lib/python3.6/dist-packages/keras/backend/tensorflow_backend.py:422: The name tf.global_variables is deprecated. Please use tf.compat.v1.global_variables instead.\n",
      "\n",
      "Train on 25000 samples, validate on 25000 samples\n",
      "Epoch 1/20\n",
      "25000/25000 [==============================] - 4s 142us/step - loss: 0.4520 - acc: 0.8194 - val_loss: 0.3329 - val_acc: 0.8806\n",
      "Epoch 2/20\n",
      "25000/25000 [==============================] - 3s 110us/step - loss: 0.2579 - acc: 0.9090 - val_loss: 0.2938 - val_acc: 0.8834\n",
      "Epoch 3/20\n",
      "25000/25000 [==============================] - 3s 107us/step - loss: 0.2001 - acc: 0.9268 - val_loss: 0.2945 - val_acc: 0.8828\n",
      "Epoch 4/20\n",
      "25000/25000 [==============================] - 3s 112us/step - loss: 0.1664 - acc: 0.9401 - val_loss: 0.3460 - val_acc: 0.8646\n",
      "Epoch 5/20\n",
      "25000/25000 [==============================] - 3s 113us/step - loss: 0.1464 - acc: 0.9465 - val_loss: 0.3345 - val_acc: 0.8715\n",
      "Epoch 6/20\n",
      "25000/25000 [==============================] - 3s 112us/step - loss: 0.1275 - acc: 0.9546 - val_loss: 0.3392 - val_acc: 0.8745\n",
      "Epoch 7/20\n",
      "25000/25000 [==============================] - 3s 115us/step - loss: 0.1146 - acc: 0.9598 - val_loss: 0.3581 - val_acc: 0.8726\n",
      "Epoch 8/20\n",
      "25000/25000 [==============================] - 3s 105us/step - loss: 0.1014 - acc: 0.9653 - val_loss: 0.3792 - val_acc: 0.8696\n",
      "Epoch 9/20\n",
      "25000/25000 [==============================] - 3s 116us/step - loss: 0.0918 - acc: 0.9686 - val_loss: 0.4058 - val_acc: 0.8691\n",
      "Epoch 10/20\n",
      "25000/25000 [==============================] - 3s 117us/step - loss: 0.0834 - acc: 0.9718 - val_loss: 0.4336 - val_acc: 0.8662\n",
      "Epoch 11/20\n",
      "25000/25000 [==============================] - 3s 106us/step - loss: 0.0763 - acc: 0.9744 - val_loss: 0.4614 - val_acc: 0.8620\n",
      "Epoch 12/20\n",
      "25000/25000 [==============================] - 3s 116us/step - loss: 0.0671 - acc: 0.9783 - val_loss: 0.4981 - val_acc: 0.8604\n",
      "Epoch 13/20\n",
      "25000/25000 [==============================] - 3s 113us/step - loss: 0.0585 - acc: 0.9822 - val_loss: 0.5244 - val_acc: 0.8596\n",
      "Epoch 14/20\n",
      "25000/25000 [==============================] - 3s 116us/step - loss: 0.0532 - acc: 0.9836 - val_loss: 0.5751 - val_acc: 0.8524\n",
      "Epoch 15/20\n",
      "25000/25000 [==============================] - 3s 111us/step - loss: 0.0470 - acc: 0.9856 - val_loss: 0.5970 - val_acc: 0.8551\n",
      "Epoch 16/20\n",
      "25000/25000 [==============================] - 3s 120us/step - loss: 0.0431 - acc: 0.9860 - val_loss: 0.6508 - val_acc: 0.8480\n",
      "Epoch 17/20\n",
      "25000/25000 [==============================] - 3s 117us/step - loss: 0.0364 - acc: 0.9888 - val_loss: 0.6736 - val_acc: 0.8530\n",
      "Epoch 18/20\n",
      "25000/25000 [==============================] - 3s 117us/step - loss: 0.0329 - acc: 0.9904 - val_loss: 0.7071 - val_acc: 0.8493\n",
      "Epoch 19/20\n",
      "25000/25000 [==============================] - 3s 109us/step - loss: 0.0283 - acc: 0.9917 - val_loss: 0.7381 - val_acc: 0.8493\n",
      "Epoch 20/20\n",
      "25000/25000 [==============================] - 3s 119us/step - loss: 0.0238 - acc: 0.9939 - val_loss: 0.8572 - val_acc: 0.8352\n"
     ]
    }
   ],
   "source": [
    "# original network에서 validation loss는 아래와 같음\n",
    "original_hist = original_model.fit(x_train, y_train, epochs=20, batch_size=512, validation_data=(x_test, y_test))"
   ]
  },
  {
   "cell_type": "code",
   "execution_count": 7,
   "metadata": {},
   "outputs": [
    {
     "name": "stdout",
     "output_type": "stream",
     "text": [
      "Train on 25000 samples, validate on 25000 samples\n",
      "Epoch 1/20\n",
      "25000/25000 [==============================] - 3s 114us/step - loss: 0.5053 - acc: 0.8119 - val_loss: 0.4115 - val_acc: 0.8560\n",
      "Epoch 2/20\n",
      "25000/25000 [==============================] - 3s 110us/step - loss: 0.3230 - acc: 0.9008 - val_loss: 0.3248 - val_acc: 0.8814\n",
      "Epoch 3/20\n",
      "25000/25000 [==============================] - 3s 109us/step - loss: 0.2461 - acc: 0.9198 - val_loss: 0.2912 - val_acc: 0.8878\n",
      "Epoch 4/20\n",
      "25000/25000 [==============================] - 3s 109us/step - loss: 0.2031 - acc: 0.9316 - val_loss: 0.2792 - val_acc: 0.8897\n",
      "Epoch 5/20\n",
      "25000/25000 [==============================] - 3s 109us/step - loss: 0.1766 - acc: 0.9404 - val_loss: 0.2835 - val_acc: 0.8875\n",
      "Epoch 6/20\n",
      "25000/25000 [==============================] - 3s 110us/step - loss: 0.1565 - acc: 0.9484 - val_loss: 0.2977 - val_acc: 0.8815\n",
      "Epoch 7/20\n",
      "25000/25000 [==============================] - 3s 109us/step - loss: 0.1403 - acc: 0.9538 - val_loss: 0.3022 - val_acc: 0.8813\n",
      "Epoch 8/20\n",
      "25000/25000 [==============================] - 3s 108us/step - loss: 0.1274 - acc: 0.9578 - val_loss: 0.3188 - val_acc: 0.8784\n",
      "Epoch 9/20\n",
      "25000/25000 [==============================] - 3s 107us/step - loss: 0.1163 - acc: 0.9629 - val_loss: 0.3322 - val_acc: 0.8770\n",
      "Epoch 10/20\n",
      "25000/25000 [==============================] - 3s 107us/step - loss: 0.1069 - acc: 0.9656 - val_loss: 0.3483 - val_acc: 0.8741\n",
      "Epoch 11/20\n",
      "25000/25000 [==============================] - 3s 107us/step - loss: 0.0975 - acc: 0.9685 - val_loss: 0.3708 - val_acc: 0.8702\n",
      "Epoch 12/20\n",
      "25000/25000 [==============================] - 3s 106us/step - loss: 0.0901 - acc: 0.9718 - val_loss: 0.4075 - val_acc: 0.8638\n",
      "Epoch 13/20\n",
      "25000/25000 [==============================] - 3s 109us/step - loss: 0.0825 - acc: 0.9745 - val_loss: 0.4062 - val_acc: 0.8670\n",
      "Epoch 14/20\n",
      "25000/25000 [==============================] - 3s 109us/step - loss: 0.0760 - acc: 0.9774 - val_loss: 0.4306 - val_acc: 0.8646\n",
      "Epoch 15/20\n",
      "25000/25000 [==============================] - 3s 109us/step - loss: 0.0695 - acc: 0.9793 - val_loss: 0.4730 - val_acc: 0.8590\n",
      "Epoch 16/20\n",
      "25000/25000 [==============================] - 3s 111us/step - loss: 0.0635 - acc: 0.9822 - val_loss: 0.4745 - val_acc: 0.8614\n",
      "Epoch 17/20\n",
      "25000/25000 [==============================] - 3s 112us/step - loss: 0.0584 - acc: 0.9832 - val_loss: 0.5015 - val_acc: 0.8585\n",
      "Epoch 18/20\n",
      "25000/25000 [==============================] - 3s 108us/step - loss: 0.0538 - acc: 0.9844 - val_loss: 0.5226 - val_acc: 0.8577\n",
      "Epoch 19/20\n",
      "25000/25000 [==============================] - 3s 108us/step - loss: 0.0485 - acc: 0.9866 - val_loss: 0.5700 - val_acc: 0.8531\n",
      "Epoch 20/20\n",
      "25000/25000 [==============================] - 3s 107us/step - loss: 0.0446 - acc: 0.9886 - val_loss: 0.5989 - val_acc: 0.8507\n"
     ]
    }
   ],
   "source": [
    "# smaller network에서 validation loss는 아래와 같음\n",
    "smaller_model_hist = smaller_model.fit(x_train, y_train, epochs=20, batch_size=512, validation_data=(x_test, y_test))"
   ]
  },
  {
   "cell_type": "code",
   "execution_count": 8,
   "metadata": {},
   "outputs": [],
   "source": [
    "#  1~20 까지 epoch 동안 original model validation loss, smaller model validation loss를 변수에 담음\n",
    "epochs = range(1, 21)\n",
    "original_val_loss = original_hist.history['val_loss']\n",
    "smaller_model_val_loss = smaller_model_hist.history['val_loss']"
   ]
  },
  {
   "cell_type": "code",
   "execution_count": 35,
   "metadata": {},
   "outputs": [],
   "source": [
    "import matplotlib.pyplot as plt"
   ]
  },
  {
   "cell_type": "code",
   "execution_count": 36,
   "metadata": {
    "scrolled": true
   },
   "outputs": [
    {
     "data": {
      "text/plain": [
       "[<matplotlib.lines.Line2D at 0x7fa2d23c7668>]"
      ]
     },
     "execution_count": 36,
     "metadata": {},
     "output_type": "execute_result"
    },
    {
     "data": {
      "text/plain": [
       "[<matplotlib.lines.Line2D at 0x7fa2d28c9400>]"
      ]
     },
     "execution_count": 36,
     "metadata": {},
     "output_type": "execute_result"
    },
    {
     "data": {
      "text/plain": [
       "Text(0.5, 0, 'Epochs')"
      ]
     },
     "execution_count": 36,
     "metadata": {},
     "output_type": "execute_result"
    },
    {
     "data": {
      "text/plain": [
       "Text(0, 0.5, 'Validation loss')"
      ]
     },
     "execution_count": 36,
     "metadata": {},
     "output_type": "execute_result"
    },
    {
     "data": {
      "text/plain": [
       "<matplotlib.legend.Legend at 0x7fa2d23c7dd8>"
      ]
     },
     "execution_count": 36,
     "metadata": {},
     "output_type": "execute_result"
    },
    {
     "data": {
      "image/png": "[encoded data removed]",
      "text/plain": [
       "<Figure size 432x288 with 1 Axes>"
      ]
     },
     "metadata": {
      "needs_background": "light"
     },
     "output_type": "display_data"
    }
   ],
   "source": [
    "# original model과 small model의 validation loss를 그래프로 그림\n",
    "# smaller model이 더 나중에 overfitting이 발생하고, overfitting 시에도 덜 급격하게 loss가 증가함을 알 수 있음\n",
    "\n",
    "plt.plot(epochs, original_val_loss, 'b', label='Original model')\n",
    "plt.plot(epochs, smaller_model_val_loss, 'r', label='Smaller model')\n",
    "plt.xlabel('Epochs')\n",
    "plt.ylabel('Validation loss')\n",
    "plt.legend()\n",
    "\n",
    "plt.show()"
   ]
  },
  {
   "cell_type": "code",
   "execution_count": 10,
   "metadata": {},
   "outputs": [],
   "source": [
    "# 테스트를 위해 network 크기를 1024로 대폭 늘려서 Layer를 쌓음 (나머지 조건은 모두 동일)\n",
    "bigger_model = models.Sequential()\n",
    "bigger_model.add(layers.Dense(1024, activation='relu', input_shape=(10000,)))\n",
    "bigger_model.add(layers.Dense(1024, activation='relu'))\n",
    "bigger_model.add(layers.Dense(1, activation='sigmoid'))\n",
    "\n",
    "bigger_model.compile(optimizer='rmsprop', loss='binary_crossentropy', metrics=['acc'])"
   ]
  },
  {
   "cell_type": "code",
   "execution_count": 11,
   "metadata": {},
   "outputs": [
    {
     "name": "stdout",
     "output_type": "stream",
     "text": [
      "Train on 25000 samples, validate on 25000 samples\n",
      "Epoch 1/20\n",
      "25000/25000 [==============================] - 23s 906us/step - loss: 0.5142 - acc: 0.7856 - val_loss: 0.3956 - val_acc: 0.8138\n",
      "Epoch 2/20\n",
      "25000/25000 [==============================] - 22s 892us/step - loss: 0.2218 - acc: 0.9122 - val_loss: 0.3340 - val_acc: 0.8633\n",
      "Epoch 3/20\n",
      "25000/25000 [==============================] - 22s 892us/step - loss: 0.1238 - acc: 0.9552 - val_loss: 0.3302 - val_acc: 0.8864\n",
      "Epoch 4/20\n",
      "25000/25000 [==============================] - 22s 889us/step - loss: 0.0811 - acc: 0.9825 - val_loss: 0.4030 - val_acc: 0.8840\n",
      "Epoch 5/20\n",
      "25000/25000 [==============================] - 22s 868us/step - loss: 0.0947 - acc: 0.9846 - val_loss: 0.4272 - val_acc: 0.8820\n",
      "Epoch 6/20\n",
      "25000/25000 [==============================] - 22s 877us/step - loss: 0.0015 - acc: 0.9998 - val_loss: 0.9470 - val_acc: 0.8418\n",
      "Epoch 7/20\n",
      "25000/25000 [==============================] - 22s 868us/step - loss: 4.0430e-04 - acc: 0.9999 - val_loss: 0.8524 - val_acc: 0.8784\n",
      "Epoch 8/20\n",
      "25000/25000 [==============================] - 22s 879us/step - loss: 8.3982e-06 - acc: 1.0000 - val_loss: 0.9780 - val_acc: 0.8827\n",
      "Epoch 9/20\n",
      "25000/25000 [==============================] - 22s 868us/step - loss: 0.2387 - acc: 0.9870 - val_loss: 0.7047 - val_acc: 0.8816\n",
      "Epoch 10/20\n",
      "25000/25000 [==============================] - 22s 885us/step - loss: 6.7482e-04 - acc: 1.0000 - val_loss: 0.7923 - val_acc: 0.8825\n",
      "Epoch 11/20\n",
      "25000/25000 [==============================] - 22s 876us/step - loss: 5.0788e-06 - acc: 1.0000 - val_loss: 0.8788 - val_acc: 0.8819\n",
      "Epoch 12/20\n",
      "25000/25000 [==============================] - 22s 866us/step - loss: 1.1880e-06 - acc: 1.0000 - val_loss: 0.9891 - val_acc: 0.8816\n",
      "Epoch 13/20\n",
      "25000/25000 [==============================] - 22s 871us/step - loss: 2.5214e-07 - acc: 1.0000 - val_loss: 1.1126 - val_acc: 0.8820\n",
      "Epoch 14/20\n",
      "25000/25000 [==============================] - 22s 871us/step - loss: 6.1169e-08 - acc: 1.0000 - val_loss: 1.2123 - val_acc: 0.8820\n",
      "Epoch 15/20\n",
      "25000/25000 [==============================] - 22s 870us/step - loss: 2.1105e-08 - acc: 1.0000 - val_loss: 1.2728 - val_acc: 0.8821\n",
      "Epoch 16/20\n",
      "25000/25000 [==============================] - 22s 881us/step - loss: 1.1455e-08 - acc: 1.0000 - val_loss: 1.3062 - val_acc: 0.8822\n",
      "Epoch 17/20\n",
      "25000/25000 [==============================] - 22s 862us/step - loss: 7.8509e-09 - acc: 1.0000 - val_loss: 1.3282 - val_acc: 0.8822\n",
      "Epoch 18/20\n",
      "25000/25000 [==============================] - 22s 873us/step - loss: 6.0098e-09 - acc: 1.0000 - val_loss: 1.3449 - val_acc: 0.8822\n",
      "Epoch 19/20\n",
      "25000/25000 [==============================] - 22s 884us/step - loss: 4.9082e-09 - acc: 1.0000 - val_loss: 1.3582 - val_acc: 0.8820\n",
      "Epoch 20/20\n",
      "25000/25000 [==============================] - 22s 876us/step - loss: 4.1539e-09 - acc: 1.0000 - val_loss: 1.3691 - val_acc: 0.8820\n"
     ]
    }
   ],
   "source": [
    "# bigger network에서 validation loss는 아래와 같음\n",
    "bigger_model_hist = bigger_model.fit(x_train, y_train, epochs=20, batch_size=512, validation_data=(x_test, y_test))"
   ]
  },
  {
   "cell_type": "code",
   "execution_count": 12,
   "metadata": {},
   "outputs": [
    {
     "data": {
      "text/plain": [
       "[<matplotlib.lines.Line2D at 0x7fa2d3e4cf98>]"
      ]
     },
     "execution_count": 12,
     "metadata": {},
     "output_type": "execute_result"
    },
    {
     "data": {
      "text/plain": [
       "[<matplotlib.lines.Line2D at 0x7fa2d3e9cda0>]"
      ]
     },
     "execution_count": 12,
     "metadata": {},
     "output_type": "execute_result"
    },
    {
     "data": {
      "text/plain": [
       "Text(0.5, 0, 'Epochs')"
      ]
     },
     "execution_count": 12,
     "metadata": {},
     "output_type": "execute_result"
    },
    {
     "data": {
      "text/plain": [
       "Text(0, 0.5, 'Validation loss')"
      ]
     },
     "execution_count": 12,
     "metadata": {},
     "output_type": "execute_result"
    },
    {
     "data": {
      "text/plain": [
       "<matplotlib.legend.Legend at 0x7fa2d3e583c8>"
      ]
     },
     "execution_count": 12,
     "metadata": {},
     "output_type": "execute_result"
    },
    {
     "data": {
      "image/png": "[encoded data removed]",
      "text/plain": [
       "<Figure size 432x288 with 1 Axes>"
      ]
     },
     "metadata": {
      "needs_background": "light"
     },
     "output_type": "display_data"
    }
   ],
   "source": [
    "# bigger network model은 validation loss가 급격하게 변화하는 구간이 발생되고, overfitting이 급격하게 증가 함\n",
    "bigger_model_val_loss = bigger_model_hist.history['val_loss']\n",
    "\n",
    "plt.plot(epochs, original_val_loss, 'b', label='Original model')\n",
    "plt.plot(epochs, bigger_model_val_loss, 'r', label='Bigger model')\n",
    "plt.xlabel('Epochs')\n",
    "plt.ylabel('Validation loss')\n",
    "plt.legend()\n",
    "\n",
    "plt.show()"
   ]
  },
  {
   "cell_type": "code",
   "execution_count": 13,
   "metadata": {},
   "outputs": [
    {
     "data": {
      "text/plain": [
       "[<matplotlib.lines.Line2D at 0x7fa2d3d70c18>]"
      ]
     },
     "execution_count": 13,
     "metadata": {},
     "output_type": "execute_result"
    },
    {
     "data": {
      "text/plain": [
       "[<matplotlib.lines.Line2D at 0x7fa2d3dc1a90>]"
      ]
     },
     "execution_count": 13,
     "metadata": {},
     "output_type": "execute_result"
    },
    {
     "data": {
      "text/plain": [
       "Text(0.5, 0, 'Epochs')"
      ]
     },
     "execution_count": 13,
     "metadata": {},
     "output_type": "execute_result"
    },
    {
     "data": {
      "text/plain": [
       "Text(0, 0.5, 'Training loss')"
      ]
     },
     "execution_count": 13,
     "metadata": {},
     "output_type": "execute_result"
    },
    {
     "data": {
      "text/plain": [
       "<matplotlib.legend.Legend at 0x7fa2d3d70f98>"
      ]
     },
     "execution_count": 13,
     "metadata": {},
     "output_type": "execute_result"
    },
    {
     "data": {
      "image/png": "[encoded data removed]",
      "text/plain": [
       "<Figure size 432x288 with 1 Axes>"
      ]
     },
     "metadata": {
      "needs_background": "light"
     },
     "output_type": "display_data"
    }
   ],
   "source": [
    "# bigger network model은 training loss가 급격하게 감소하는 것 처럼 보이나, 중간에 튀는 구간이 발생하는 등 불안정 하게 보임\n",
    "# 결과적으로 overfitting에 매우 민감하므로, training loss와 validation loss 간 큰 차이가 날 것으로 보임\n",
    "\n",
    "original_train_loss = original_hist.history['loss']\n",
    "bigger_model_train_loss = bigger_model_hist.history['loss']\n",
    "\n",
    "plt.plot(epochs, original_train_loss, 'b', label='Original model')\n",
    "plt.plot(epochs, bigger_model_train_loss, 'r', label='Bigger model')\n",
    "plt.xlabel('Epochs')\n",
    "plt.ylabel('Training loss')\n",
    "plt.legend()\n",
    "\n",
    "plt.show()"
   ]
  },
  {
   "cell_type": "markdown",
   "metadata": {},
   "source": [
    "## 2. Regularization 추가 (가중치 규제 추가)"
   ]
  },
  {
   "cell_type": "markdown",
   "metadata": {},
   "source": [
    "### l2(0.0002) 모델과 비교"
   ]
  },
  {
   "cell_type": "code",
   "execution_count": 14,
   "metadata": {},
   "outputs": [],
   "source": [
    "# L2 Norm Regularization\n",
    "# l2(0.001) : 가중치 행렬의 모든 원소를 제곱하여 더한 후 0.001을 곱하여 Network의  전체 Loss에 더함 (training 시에만 추가하여 진행)\n",
    "\n",
    "from keras import regularizers\n",
    "\n",
    "l2_model = models.Sequential()\n",
    "l2_model.add(layers.Dense(16, kernel_regularizer=regularizers.l2(0.001), activation='relu', input_shape=(10000,)))\n",
    "l2_model.add(layers.Dense(16, kernel_regularizer=regularizers.l2(0.001), activation='relu'))\n",
    "l2_model.add(layers.Dense(1, activation='sigmoid'))"
   ]
  },
  {
   "cell_type": "code",
   "execution_count": 15,
   "metadata": {},
   "outputs": [],
   "source": [
    "# 동일한 조건으로 학습 진행\n",
    "l2_model.compile(optimizer='rmsprop', loss='binary_crossentropy', metrics=['acc'])"
   ]
  },
  {
   "cell_type": "code",
   "execution_count": 16,
   "metadata": {},
   "outputs": [
    {
     "name": "stdout",
     "output_type": "stream",
     "text": [
      "Train on 25000 samples, validate on 25000 samples\n",
      "Epoch 1/20\n",
      "25000/25000 [==============================] - 3s 119us/step - loss: 0.5243 - acc: 0.8064 - val_loss: 0.3980 - val_acc: 0.8761\n",
      "Epoch 2/20\n",
      "25000/25000 [==============================] - 3s 118us/step - loss: 0.3276 - acc: 0.9015 - val_loss: 0.3547 - val_acc: 0.8764\n",
      "Epoch 3/20\n",
      "25000/25000 [==============================] - 3s 111us/step - loss: 0.2745 - acc: 0.9194 - val_loss: 0.3351 - val_acc: 0.8832\n",
      "Epoch 4/20\n",
      "25000/25000 [==============================] - 3s 103us/step - loss: 0.2509 - acc: 0.9270 - val_loss: 0.3402 - val_acc: 0.8828\n",
      "Epoch 5/20\n",
      "25000/25000 [==============================] - 3s 108us/step - loss: 0.2344 - acc: 0.9331 - val_loss: 0.3361 - val_acc: 0.8851\n",
      "Epoch 6/20\n",
      "25000/25000 [==============================] - 3s 106us/step - loss: 0.2269 - acc: 0.9350 - val_loss: 0.3403 - val_acc: 0.8830\n",
      "Epoch 7/20\n",
      "25000/25000 [==============================] - 3s 117us/step - loss: 0.2176 - acc: 0.9414 - val_loss: 0.3541 - val_acc: 0.8797\n",
      "Epoch 8/20\n",
      "25000/25000 [==============================] - 3s 106us/step - loss: 0.2148 - acc: 0.9407 - val_loss: 0.3636 - val_acc: 0.8764\n",
      "Epoch 9/20\n",
      "25000/25000 [==============================] - 3s 108us/step - loss: 0.2077 - acc: 0.9456 - val_loss: 0.3627 - val_acc: 0.8787\n",
      "Epoch 10/20\n",
      "25000/25000 [==============================] - 3s 120us/step - loss: 0.2026 - acc: 0.9466 - val_loss: 0.3730 - val_acc: 0.8738\n",
      "Epoch 11/20\n",
      "25000/25000 [==============================] - 3s 118us/step - loss: 0.1999 - acc: 0.9477 - val_loss: 0.3829 - val_acc: 0.8729\n",
      "Epoch 12/20\n",
      "25000/25000 [==============================] - 3s 112us/step - loss: 0.1969 - acc: 0.9489 - val_loss: 0.3803 - val_acc: 0.8754\n",
      "Epoch 13/20\n",
      "25000/25000 [==============================] - 3s 106us/step - loss: 0.1908 - acc: 0.9511 - val_loss: 0.3963 - val_acc: 0.8707\n",
      "Epoch 14/20\n",
      "25000/25000 [==============================] - 3s 104us/step - loss: 0.1915 - acc: 0.9498 - val_loss: 0.3913 - val_acc: 0.8732\n",
      "Epoch 15/20\n",
      "25000/25000 [==============================] - 3s 112us/step - loss: 0.1898 - acc: 0.9509 - val_loss: 0.4044 - val_acc: 0.8713\n",
      "Epoch 16/20\n",
      "25000/25000 [==============================] - 3s 109us/step - loss: 0.1803 - acc: 0.9560 - val_loss: 0.4034 - val_acc: 0.8716\n",
      "Epoch 17/20\n",
      "25000/25000 [==============================] - 3s 107us/step - loss: 0.1807 - acc: 0.9566 - val_loss: 0.4118 - val_acc: 0.8692\n",
      "Epoch 18/20\n",
      "25000/25000 [==============================] - 2s 95us/step - loss: 0.1789 - acc: 0.9559 - val_loss: 0.4167 - val_acc: 0.8691\n",
      "Epoch 19/20\n",
      "25000/25000 [==============================] - 3s 104us/step - loss: 0.1770 - acc: 0.9572 - val_loss: 0.4192 - val_acc: 0.8701\n",
      "Epoch 20/20\n",
      "25000/25000 [==============================] - 3s 103us/step - loss: 0.1689 - acc: 0.9599 - val_loss: 0.4324 - val_acc: 0.8654\n"
     ]
    }
   ],
   "source": [
    "l2_model_hist = l2_model.fit(x_train, y_train, epochs=20, batch_size=512, validation_data=(x_test, y_test))"
   ]
  },
  {
   "cell_type": "code",
   "execution_count": 17,
   "metadata": {},
   "outputs": [
    {
     "data": {
      "text/plain": [
       "[<matplotlib.lines.Line2D at 0x7fa2d34eb4a8>]"
      ]
     },
     "execution_count": 17,
     "metadata": {},
     "output_type": "execute_result"
    },
    {
     "data": {
      "text/plain": [
       "[<matplotlib.lines.Line2D at 0x7fa2d354c4e0>]"
      ]
     },
     "execution_count": 17,
     "metadata": {},
     "output_type": "execute_result"
    },
    {
     "data": {
      "text/plain": [
       "Text(0.5, 0, 'Epochs')"
      ]
     },
     "execution_count": 17,
     "metadata": {},
     "output_type": "execute_result"
    },
    {
     "data": {
      "text/plain": [
       "Text(0, 0.5, 'Validation loss')"
      ]
     },
     "execution_count": 17,
     "metadata": {},
     "output_type": "execute_result"
    },
    {
     "data": {
      "text/plain": [
       "<matplotlib.legend.Legend at 0x7fa2d34ebc18>"
      ]
     },
     "execution_count": 17,
     "metadata": {},
     "output_type": "execute_result"
    },
    {
     "data": {
      "image/png": "[encoded data removed]",
      "text/plain": [
       "<Figure size 432x288 with 1 Axes>"
      ]
     },
     "metadata": {
      "needs_background": "light"
     },
     "output_type": "display_data"
    }
   ],
   "source": [
    "# Parameter 수는 동일하나, L2 Regularized Model이 Original Model에 비해 overfitting이 늦게 발생하고, 매우 완만하게 진행됨을 알 수 있음\n",
    "\n",
    "l2_model_val_loss = l2_model_hist.history['val_loss']\n",
    "\n",
    "plt.plot(epochs, original_val_loss, 'b', label='Original model')\n",
    "plt.plot(epochs, l2_model_val_loss, 'r', label='L2-regularized model')\n",
    "plt.xlabel('Epochs')\n",
    "plt.ylabel('Validation loss')\n",
    "plt.legend()\n",
    "\n",
    "plt.show()"
   ]
  },
  {
   "cell_type": "markdown",
   "metadata": {},
   "source": [
    "### l1(0.0001) 모델과 비교"
   ]
  },
  {
   "cell_type": "code",
   "execution_count": 18,
   "metadata": {},
   "outputs": [],
   "source": [
    "# L1 Norm Regularization\n",
    "# l1(0.001) : 가중치 행렬의 모든 원소의 절대값을 더한 후 0.0001을 곱하여 Network의  전체 Loss에 더함 (training 시에만 추가하여 진행)\n",
    "\n",
    "l1_model = models.Sequential()\n",
    "l1_model.add(layers.Dense(16, kernel_regularizer=regularizers.l1(0.0001), activation='relu', input_shape=(10000,)))\n",
    "l1_model.add(layers.Dense(16, kernel_regularizer=regularizers.l1(0.0001), activation='relu'))\n",
    "l1_model.add(layers.Dense(1, activation='sigmoid'))"
   ]
  },
  {
   "cell_type": "code",
   "execution_count": 19,
   "metadata": {},
   "outputs": [],
   "source": [
    "l1_model.compile(optimizer='rmsprop', loss='binary_crossentropy', metrics=['acc'])"
   ]
  },
  {
   "cell_type": "code",
   "execution_count": 20,
   "metadata": {},
   "outputs": [
    {
     "name": "stdout",
     "output_type": "stream",
     "text": [
      "Train on 25000 samples, validate on 25000 samples\n",
      "Epoch 1/20\n",
      "25000/25000 [==============================] - 3s 116us/step - loss: 0.5743 - acc: 0.8136 - val_loss: 0.4396 - val_acc: 0.8783\n",
      "Epoch 2/20\n",
      "25000/25000 [==============================] - 3s 110us/step - loss: 0.3849 - acc: 0.8908 - val_loss: 0.3777 - val_acc: 0.8852\n",
      "Epoch 3/20\n",
      "25000/25000 [==============================] - 3s 107us/step - loss: 0.3381 - acc: 0.9028 - val_loss: 0.3602 - val_acc: 0.8880\n",
      "Epoch 4/20\n",
      "25000/25000 [==============================] - 3s 107us/step - loss: 0.3199 - acc: 0.9072 - val_loss: 0.3581 - val_acc: 0.8864\n",
      "Epoch 5/20\n",
      "25000/25000 [==============================] - 3s 105us/step - loss: 0.3075 - acc: 0.9130 - val_loss: 0.3585 - val_acc: 0.8853\n",
      "Epoch 6/20\n",
      "25000/25000 [==============================] - 3s 108us/step - loss: 0.2990 - acc: 0.9160 - val_loss: 0.3604 - val_acc: 0.8858\n",
      "Epoch 7/20\n",
      "25000/25000 [==============================] - 3s 111us/step - loss: 0.2910 - acc: 0.9207 - val_loss: 0.3677 - val_acc: 0.8821\n",
      "Epoch 8/20\n",
      "25000/25000 [==============================] - 3s 113us/step - loss: 0.2838 - acc: 0.9235 - val_loss: 0.3635 - val_acc: 0.8846\n",
      "Epoch 9/20\n",
      "25000/25000 [==============================] - 3s 103us/step - loss: 0.2832 - acc: 0.9225 - val_loss: 0.3725 - val_acc: 0.8819\n",
      "Epoch 10/20\n",
      "25000/25000 [==============================] - 3s 105us/step - loss: 0.2748 - acc: 0.9261 - val_loss: 0.3757 - val_acc: 0.8808\n",
      "Epoch 11/20\n",
      "25000/25000 [==============================] - 3s 103us/step - loss: 0.2738 - acc: 0.9257 - val_loss: 0.4018 - val_acc: 0.8708\n",
      "Epoch 12/20\n",
      "25000/25000 [==============================] - 3s 107us/step - loss: 0.2701 - acc: 0.9287 - val_loss: 0.4027 - val_acc: 0.8725\n",
      "Epoch 13/20\n",
      "25000/25000 [==============================] - 3s 109us/step - loss: 0.2666 - acc: 0.9299 - val_loss: 0.3836 - val_acc: 0.8806\n",
      "Epoch 14/20\n",
      "25000/25000 [==============================] - 3s 108us/step - loss: 0.2632 - acc: 0.9319 - val_loss: 0.4051 - val_acc: 0.8708\n",
      "Epoch 15/20\n",
      "25000/25000 [==============================] - 3s 105us/step - loss: 0.2626 - acc: 0.9320 - val_loss: 0.3918 - val_acc: 0.8777\n",
      "Epoch 16/20\n",
      "25000/25000 [==============================] - 3s 102us/step - loss: 0.2578 - acc: 0.9344 - val_loss: 0.3912 - val_acc: 0.8779\n",
      "Epoch 17/20\n",
      "25000/25000 [==============================] - 3s 104us/step - loss: 0.2521 - acc: 0.9371 - val_loss: 0.4460 - val_acc: 0.8607\n",
      "Epoch 18/20\n",
      "25000/25000 [==============================] - 3s 105us/step - loss: 0.2518 - acc: 0.9370 - val_loss: 0.3979 - val_acc: 0.8772\n",
      "Epoch 19/20\n",
      "25000/25000 [==============================] - 2s 99us/step - loss: 0.2491 - acc: 0.9392 - val_loss: 0.4038 - val_acc: 0.8754\n",
      "Epoch 20/20\n",
      "25000/25000 [==============================] - 3s 104us/step - loss: 0.2437 - acc: 0.9410 - val_loss: 0.4277 - val_acc: 0.8718\n"
     ]
    }
   ],
   "source": [
    "l1_model_hist = l1_model.fit(x_train, y_train, epochs=20, batch_size=512, validation_data=(x_test, y_test))"
   ]
  },
  {
   "cell_type": "code",
   "execution_count": 21,
   "metadata": {},
   "outputs": [
    {
     "data": {
      "text/plain": [
       "[<matplotlib.lines.Line2D at 0x7fa2d318ca20>]"
      ]
     },
     "execution_count": 21,
     "metadata": {},
     "output_type": "execute_result"
    },
    {
     "data": {
      "text/plain": [
       "[<matplotlib.lines.Line2D at 0x7fa2d31e26d8>]"
      ]
     },
     "execution_count": 21,
     "metadata": {},
     "output_type": "execute_result"
    },
    {
     "data": {
      "text/plain": [
       "Text(0.5, 0, 'Epochs')"
      ]
     },
     "execution_count": 21,
     "metadata": {},
     "output_type": "execute_result"
    },
    {
     "data": {
      "text/plain": [
       "Text(0, 0.5, 'Validation loss')"
      ]
     },
     "execution_count": 21,
     "metadata": {},
     "output_type": "execute_result"
    },
    {
     "data": {
      "text/plain": [
       "<matplotlib.legend.Legend at 0x7fa2d318ce10>"
      ]
     },
     "execution_count": 21,
     "metadata": {},
     "output_type": "execute_result"
    },
    {
     "data": {
      "image/png": "[encoded data removed]",
      "text/plain": [
       "<Figure size 432x288 with 1 Axes>"
      ]
     },
     "metadata": {
      "needs_background": "light"
     },
     "output_type": "display_data"
    }
   ],
   "source": [
    "# Parameter 수는 동일하나, L1 Regularized Model이 Original Model에 비해 overfitting이 늦게 발생하고, 매우 완만하게 진행됨을 알 수 있음\n",
    "\n",
    "l1_model_val_loss = l1_model_hist.history['val_loss']\n",
    "\n",
    "plt.plot(epochs, original_val_loss, 'b', label='Original model')\n",
    "plt.plot(epochs, l1_model_val_loss, 'r', label='L1-regularized model')\n",
    "plt.xlabel('Epochs')\n",
    "plt.ylabel('Validation loss')\n",
    "plt.legend()\n",
    "\n",
    "plt.show()"
   ]
  },
  {
   "cell_type": "markdown",
   "metadata": {},
   "source": [
    "### l1_l2(l1=0.0001, l2=0.0001)모델과 비교"
   ]
  },
  {
   "cell_type": "code",
   "execution_count": 22,
   "metadata": {},
   "outputs": [],
   "source": [
    "# L1 Norm, L2 Norm Regularization\n",
    "\n",
    "l1l2_model = models.Sequential()\n",
    "l1l2_model.add(layers.Dense(16, kernel_regularizer=regularizers.l1_l2(l1=0.0001, l2=0.0001), activation='relu', input_shape=(10000,)))\n",
    "l1l2_model.add(layers.Dense(16, kernel_regularizer=regularizers.l1_l2(l1=0.0001, l2=0.0001), activation='relu'))\n",
    "l1l2_model.add(layers.Dense(1, activation='sigmoid'))"
   ]
  },
  {
   "cell_type": "code",
   "execution_count": 23,
   "metadata": {},
   "outputs": [],
   "source": [
    "l1l2_model.compile(optimizer='rmsprop', loss='binary_crossentropy', metrics=['acc'])"
   ]
  },
  {
   "cell_type": "code",
   "execution_count": 24,
   "metadata": {},
   "outputs": [
    {
     "name": "stdout",
     "output_type": "stream",
     "text": [
      "Train on 25000 samples, validate on 25000 samples\n",
      "Epoch 1/20\n",
      "25000/25000 [==============================] - 3s 113us/step - loss: 0.6099 - acc: 0.7730 - val_loss: 0.4788 - val_acc: 0.8417\n",
      "Epoch 2/20\n",
      "25000/25000 [==============================] - 3s 110us/step - loss: 0.3968 - acc: 0.8875 - val_loss: 0.3847 - val_acc: 0.8812\n",
      "Epoch 3/20\n",
      "25000/25000 [==============================] - 3s 106us/step - loss: 0.3394 - acc: 0.9018 - val_loss: 0.3771 - val_acc: 0.8778\n",
      "Epoch 4/20\n",
      "25000/25000 [==============================] - 3s 108us/step - loss: 0.3175 - acc: 0.9087 - val_loss: 0.3553 - val_acc: 0.8874\n",
      "Epoch 5/20\n",
      "25000/25000 [==============================] - 3s 109us/step - loss: 0.3047 - acc: 0.9133 - val_loss: 0.3612 - val_acc: 0.8854\n",
      "Epoch 6/20\n",
      "25000/25000 [==============================] - 3s 105us/step - loss: 0.2985 - acc: 0.9181 - val_loss: 0.3803 - val_acc: 0.8774\n",
      "Epoch 7/20\n",
      "25000/25000 [==============================] - 3s 106us/step - loss: 0.2899 - acc: 0.9220 - val_loss: 0.3655 - val_acc: 0.8838\n",
      "Epoch 8/20\n",
      "25000/25000 [==============================] - 3s 104us/step - loss: 0.2861 - acc: 0.9227 - val_loss: 0.3715 - val_acc: 0.8821\n",
      "Epoch 9/20\n",
      "25000/25000 [==============================] - 3s 103us/step - loss: 0.2816 - acc: 0.9250 - val_loss: 0.3754 - val_acc: 0.8810\n",
      "Epoch 10/20\n",
      "25000/25000 [==============================] - 3s 101us/step - loss: 0.2770 - acc: 0.9274 - val_loss: 0.3832 - val_acc: 0.8776\n",
      "Epoch 11/20\n",
      "25000/25000 [==============================] - 3s 104us/step - loss: 0.2749 - acc: 0.9274 - val_loss: 0.3901 - val_acc: 0.8797\n",
      "Epoch 12/20\n",
      "25000/25000 [==============================] - 3s 103us/step - loss: 0.2716 - acc: 0.9295 - val_loss: 0.3840 - val_acc: 0.8808\n",
      "Epoch 13/20\n",
      "25000/25000 [==============================] - 2s 99us/step - loss: 0.2678 - acc: 0.9308 - val_loss: 0.3940 - val_acc: 0.8761\n",
      "Epoch 14/20\n",
      "25000/25000 [==============================] - 3s 102us/step - loss: 0.2672 - acc: 0.9314 - val_loss: 0.4040 - val_acc: 0.8734\n",
      "Epoch 15/20\n",
      "25000/25000 [==============================] - 3s 106us/step - loss: 0.2633 - acc: 0.9352 - val_loss: 0.4258 - val_acc: 0.8668\n",
      "Epoch 16/20\n",
      "25000/25000 [==============================] - 3s 105us/step - loss: 0.2600 - acc: 0.9341 - val_loss: 0.4014 - val_acc: 0.8756\n",
      "Epoch 17/20\n",
      "25000/25000 [==============================] - 3s 105us/step - loss: 0.2565 - acc: 0.9365 - val_loss: 0.4087 - val_acc: 0.8739\n",
      "Epoch 18/20\n",
      "25000/25000 [==============================] - 3s 102us/step - loss: 0.2551 - acc: 0.9372 - val_loss: 0.4071 - val_acc: 0.8746\n",
      "Epoch 19/20\n",
      "25000/25000 [==============================] - 3s 104us/step - loss: 0.2523 - acc: 0.9389 - val_loss: 0.4073 - val_acc: 0.8790\n",
      "Epoch 20/20\n",
      "25000/25000 [==============================] - 3s 105us/step - loss: 0.2467 - acc: 0.9420 - val_loss: 0.4128 - val_acc: 0.8761\n"
     ]
    }
   ],
   "source": [
    "l1l2_model_hist = l1l2_model.fit(x_train, y_train, epochs=20, batch_size=512, validation_data=(x_test, y_test))"
   ]
  },
  {
   "cell_type": "code",
   "execution_count": 25,
   "metadata": {},
   "outputs": [
    {
     "data": {
      "text/plain": [
       "[<matplotlib.lines.Line2D at 0x7fa2d2d61240>]"
      ]
     },
     "execution_count": 25,
     "metadata": {},
     "output_type": "execute_result"
    },
    {
     "data": {
      "text/plain": [
       "[<matplotlib.lines.Line2D at 0x7fa2d2d3e0f0>]"
      ]
     },
     "execution_count": 25,
     "metadata": {},
     "output_type": "execute_result"
    },
    {
     "data": {
      "text/plain": [
       "Text(0.5, 0, 'Epochs')"
      ]
     },
     "execution_count": 25,
     "metadata": {},
     "output_type": "execute_result"
    },
    {
     "data": {
      "text/plain": [
       "Text(0, 0.5, 'Validation loss')"
      ]
     },
     "execution_count": 25,
     "metadata": {},
     "output_type": "execute_result"
    },
    {
     "data": {
      "text/plain": [
       "<matplotlib.legend.Legend at 0x7fa2d2d61908>"
      ]
     },
     "execution_count": 25,
     "metadata": {},
     "output_type": "execute_result"
    },
    {
     "data": {
      "image/png": "[encoded data removed]",
      "text/plain": [
       "<Figure size 432x288 with 1 Axes>"
      ]
     },
     "metadata": {
      "needs_background": "light"
     },
     "output_type": "display_data"
    }
   ],
   "source": [
    "# Parameter 수는 동일하나, L1,L2 Regularized Model이 Original Model에 비해 overfitting이 늦게 발생하고, 매우 완만하게 진행됨을 알 수 있음\n",
    "\n",
    "l1l2_model_val_loss = l1l2_model_hist.history['val_loss']\n",
    "\n",
    "plt.plot(epochs, original_val_loss, 'b', label='Original model')\n",
    "plt.plot(epochs, l1l2_model_val_loss, 'r', label='L1,L2-regularized model')\n",
    "plt.xlabel('Epochs')\n",
    "plt.ylabel('Validation loss')\n",
    "plt.legend()\n",
    "\n",
    "plt.show()"
   ]
  },
  {
   "cell_type": "markdown",
   "metadata": {},
   "source": [
    "## 3. Dropout 추가"
   ]
  },
  {
   "cell_type": "code",
   "execution_count": 31,
   "metadata": {},
   "outputs": [],
   "source": [
    "# 무작위로 layer의 일부 parameter를 0 으로 만들어서 대상에서 제외\n",
    "# 반드시 training 단계에서만 dropout을 수행하고, test 단계에서는 dropout 하지 않아야 함\n",
    "\n",
    "dpt_model = models.Sequential()\n",
    "dpt_model.add(layers.Dense(16, activation='relu', input_shape=(10000,)))\n",
    "dpt_model.add(layers.Dropout(0.5))\n",
    "dpt_model.add(layers.Dense(16, activation='relu'))\n",
    "dpt_model.add(layers.Dropout(0.5))\n",
    "dpt_model.add(layers.Dense(1, activation='sigmoid'))\n",
    "\n",
    "dpt_model.compile(optimizer='rmsprop', loss='binary_crossentropy', metrics=['acc'])"
   ]
  },
  {
   "cell_type": "code",
   "execution_count": 32,
   "metadata": {},
   "outputs": [
    {
     "name": "stdout",
     "output_type": "stream",
     "text": [
      "Train on 25000 samples, validate on 25000 samples\n",
      "Epoch 1/20\n",
      "25000/25000 [==============================] - 3s 108us/step - loss: 0.5959 - acc: 0.6836 - val_loss: 0.4519 - val_acc: 0.8568\n",
      "Epoch 2/20\n",
      "25000/25000 [==============================] - 3s 104us/step - loss: 0.4451 - acc: 0.8194 - val_loss: 0.3411 - val_acc: 0.8841\n",
      "Epoch 3/20\n",
      "25000/25000 [==============================] - 3s 110us/step - loss: 0.3542 - acc: 0.8713 - val_loss: 0.2954 - val_acc: 0.8896\n",
      "Epoch 4/20\n",
      "25000/25000 [==============================] - 3s 110us/step - loss: 0.2974 - acc: 0.9003 - val_loss: 0.2784 - val_acc: 0.8909\n",
      "Epoch 5/20\n",
      "25000/25000 [==============================] - 3s 109us/step - loss: 0.2603 - acc: 0.9122 - val_loss: 0.2812 - val_acc: 0.8899\n",
      "Epoch 6/20\n",
      "25000/25000 [==============================] - 3s 109us/step - loss: 0.2280 - acc: 0.9248 - val_loss: 0.2965 - val_acc: 0.8862\n",
      "Epoch 7/20\n",
      "25000/25000 [==============================] - 3s 102us/step - loss: 0.2036 - acc: 0.9328 - val_loss: 0.3122 - val_acc: 0.8865\n",
      "Epoch 8/20\n",
      "25000/25000 [==============================] - 3s 103us/step - loss: 0.1851 - acc: 0.9406 - val_loss: 0.3237 - val_acc: 0.8842\n",
      "Epoch 9/20\n",
      "25000/25000 [==============================] - 3s 104us/step - loss: 0.1672 - acc: 0.9454 - val_loss: 0.3468 - val_acc: 0.8830\n",
      "Epoch 10/20\n",
      "25000/25000 [==============================] - 3s 101us/step - loss: 0.1557 - acc: 0.9503 - val_loss: 0.3780 - val_acc: 0.8819\n",
      "Epoch 11/20\n",
      "25000/25000 [==============================] - 3s 108us/step - loss: 0.1474 - acc: 0.9518 - val_loss: 0.3963 - val_acc: 0.8815\n",
      "Epoch 12/20\n",
      "25000/25000 [==============================] - 3s 102us/step - loss: 0.1382 - acc: 0.9561 - val_loss: 0.4331 - val_acc: 0.8785\n",
      "Epoch 13/20\n",
      "25000/25000 [==============================] - 3s 103us/step - loss: 0.1323 - acc: 0.9587 - val_loss: 0.4239 - val_acc: 0.8768\n",
      "Epoch 14/20\n",
      "25000/25000 [==============================] - 3s 105us/step - loss: 0.1229 - acc: 0.9606 - val_loss: 0.4650 - val_acc: 0.8759\n",
      "Epoch 15/20\n",
      "25000/25000 [==============================] - 3s 102us/step - loss: 0.1187 - acc: 0.9630 - val_loss: 0.4814 - val_acc: 0.8748\n",
      "Epoch 16/20\n",
      "25000/25000 [==============================] - 3s 103us/step - loss: 0.1138 - acc: 0.9640 - val_loss: 0.4897 - val_acc: 0.8710\n",
      "Epoch 17/20\n",
      "25000/25000 [==============================] - 3s 106us/step - loss: 0.1127 - acc: 0.9664 - val_loss: 0.5645 - val_acc: 0.8738\n",
      "Epoch 18/20\n",
      "25000/25000 [==============================] - 3s 109us/step - loss: 0.1061 - acc: 0.9676 - val_loss: 0.5439 - val_acc: 0.8721\n",
      "Epoch 19/20\n",
      "25000/25000 [==============================] - 3s 106us/step - loss: 0.1075 - acc: 0.9676 - val_loss: 0.5723 - val_acc: 0.8699\n",
      "Epoch 20/20\n",
      "25000/25000 [==============================] - 3s 101us/step - loss: 0.0996 - acc: 0.9696 - val_loss: 0.6438 - val_acc: 0.8700\n"
     ]
    }
   ],
   "source": [
    "dpt_model_hist = dpt_model.fit(x_train, y_train, epochs=20, batch_size=512, validation_data=(x_test, y_test))"
   ]
  },
  {
   "cell_type": "code",
   "execution_count": 33,
   "metadata": {},
   "outputs": [
    {
     "data": {
      "text/plain": [
       "[<matplotlib.lines.Line2D at 0x7fa2d24f1668>]"
      ]
     },
     "execution_count": 33,
     "metadata": {},
     "output_type": "execute_result"
    },
    {
     "data": {
      "text/plain": [
       "[<matplotlib.lines.Line2D at 0x7fa2d24d3710>]"
      ]
     },
     "execution_count": 33,
     "metadata": {},
     "output_type": "execute_result"
    },
    {
     "data": {
      "text/plain": [
       "Text(0.5, 0, 'Epochs')"
      ]
     },
     "execution_count": 33,
     "metadata": {},
     "output_type": "execute_result"
    },
    {
     "data": {
      "text/plain": [
       "Text(0, 0.5, 'Validation loss')"
      ]
     },
     "execution_count": 33,
     "metadata": {},
     "output_type": "execute_result"
    },
    {
     "data": {
      "text/plain": [
       "<matplotlib.legend.Legend at 0x7fa2d24f1d68>"
      ]
     },
     "execution_count": 33,
     "metadata": {},
     "output_type": "execute_result"
    },
    {
     "data": {
      "image/png": "[encoded data removed]",
      "text/plain": [
       "<Figure size 432x288 with 1 Axes>"
      ]
     },
     "metadata": {
      "needs_background": "light"
     },
     "output_type": "display_data"
    }
   ],
   "source": [
    "# Parameter 수는 동일하나, Dropout-Regularized Model이 Original Model에 비해 overfitting이 늦게 발생하고, 약간 완만하게 진행됨을 알 수 있음\n",
    "\n",
    "dpt_model_val_loss = dpt_model_hist.history['val_loss']\n",
    "\n",
    "plt.plot(epochs, original_val_loss, 'b', label='Original model')\n",
    "plt.plot(epochs, dpt_model_val_loss, 'r', label='Dropout-regularized model')\n",
    "plt.xlabel('Epochs')\n",
    "plt.ylabel('Validation loss')\n",
    "plt.legend()\n",
    "\n",
    "plt.show()"
   ]
  },
  {
   "cell_type": "markdown",
   "metadata": {},
   "source": [
    "결과적으로 신경망에서 과대적합을 방지하기 위해 가장 널리 사용하는 방법은 다음과 같음\n",
    "\n",
    "* 훈련 데이터량을 증가\n",
    "* 네트워크의 용량을 감소\n",
    "* 가중치 규제를 추가\n",
    "* 드롭아웃을 추가"
   ]
  }
 ],
 "metadata": {
  "kernelspec": {
   "display_name": "Python 3",
   "language": "python",
   "name": "python3"
  },
  "language_info": {
   "codemirror_mode": {
    "name": "ipython",
    "version": 3
   },
   "file_extension": ".py",
   "mimetype": "text/x-python",
   "name": "python",
   "nbconvert_exporter": "python",
   "pygments_lexer": "ipython3",
   "version": "3.6.8"
  }
 },
 "nbformat": 4,
 "nbformat_minor": 2
}
